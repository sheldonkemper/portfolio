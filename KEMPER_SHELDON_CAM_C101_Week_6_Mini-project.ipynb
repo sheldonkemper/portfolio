{
  "nbformat": 4,
  "nbformat_minor": 0,
  "metadata": {
    "colab": {
      "provenance": [],
      "gpuType": "T4",
      "include_colab_link": true
    },
    "kernelspec": {
      "name": "python3",
      "display_name": "Python 3"
    },
    "language_info": {
      "name": "python"
    },
    "accelerator": "GPU"
  },
  "cells": [
    {
      "cell_type": "markdown",
      "metadata": {
        "id": "view-in-github",
        "colab_type": "text"
      },
      "source": [
        "<a href=\"https://colab.research.google.com/github/sheldonkemper/portfolio/blob/main/KEMPER_SHELDON_CAM_C101_Week_6_Mini-project.ipynb\" target=\"_parent\"><img src=\"https://colab.research.google.com/assets/colab-badge.svg\" alt=\"Open In Colab\"/></a>"
      ]
    },
    {
      "cell_type": "markdown",
      "source": [
        "# Mini-project 6.3 Customer segmentation with clustering\n",
        "\n",
        "**Welcome to your second mini-project: Customer segmentation with clustering!**\n",
        "\n",
        "Understanding and serving customers are two of the retail industry's most important strategic marketing objectives. Knowing the customer allows businesses to be more customer-centric with improvements to metrics such as marketing efficiency, enhanced product development, increased customer satisfaction, better customer retention, price optimisation, and strategic resource allocation.\n",
        "\n",
        "Customer segmentation allows a business to group customers based on demographics (e.g. age, gender, education, occupation, marital status, family size), geographics (e.g. country, transportation, preferred language), psychographics (e.g. lifestyle, values, personality, attitudes), behaviour (e.g. purchase history, brand loyalty, response to marketing activities), technographic (e.g. device type, browser type, original source), and needs (e.g. product features, service needs, delivery method). Your challenge in this project is to apply critical thinking and machine learning concepts to design and implement clustering models to perform customer segmentation and improve marketing efforts.\n",
        "\n",
        "Please set aside approximately **12 hours** to complete the mini-project by **Friday 30 August, 2024, at 5 p.m. (UK Time)**.\n",
        "\n",
        "<br></br>\n",
        "\n",
        "## **Business context**\n",
        "You are provided an e-commerce data set from a real-world organisation to perform customer segmentation with clustering models to improve marketing efforts (SAS, 2024). It is a transnational data set with customers from five continents (Oceania, North America, Europe, Africa, and Asia) and 47 countries.\n",
        "\n",
        "The data set contains 951,668 rows, each representing a product a customer ordered. The data set contains details about the customer (e.g. location, product type, loyalty member) and order (e.g. days to delivery, delivery date, order date, cost, quantity ordered, profit) based on orders between 1 January 2012 and 30 December 2016.\n",
        "\n",
        "As each customer is unique, it is critical to identify and/or create new features for customer segmentation to inform marketing efforts. The data set has 20 features you can choose from:\n",
        "- **Quantity:** The quantity the customer orders (e.g. 1, 2, 3).\n",
        "- **City:** Name of the customer's residence (e.g. Leinster, Berowra, Northbridge).\n",
        "- **Continent:** Name of the continent where the customer resides (Oceania, North America).\n",
        "- **Postal code:** Where the customer resides (e.g. 6437, 2081, 2063).   \n",
        "State province: State or province where the customer resides (e.g. Western Australia, Quebec, New South Wales).\n",
        "- **Order date:** The date the order was placed (e.g. 1 January 2012, 20 June 2014).\n",
        "- **Delivery date:** The date the order was delivered (e.g. 12 April 2014, 19 November 2016).\n",
        "- **Total revenue:** Total revenue based on ordered items in USD (e.g. 123.80, 85.10).\n",
        "- **Unit cost:** Cost per unit ordered in USD (e.g. 9.10, 56.90).\n",
        "- **Discount:** Percentage or normal total retail price (e.g. 50%, 30%).\n",
        "- **Order type label:** Method in which the order was placed (e.g. internet sale, retail sale).\n",
        "- **Customer country label:** The country where the customer resides (e.g. Australia, Canada, Switzerland).\n",
        "- **Customer birthdate:** The date the customer was born (e.g. 8 May 1978, 18 December 1987).\n",
        "- **Customer group:** Loyalty member group (e.g. internet/catalogue customers, Orion club gold members).\n",
        "- **Customer type:** Loyalty member level (e.g. internet/catalogue customers, Orion club gold members high activity).\n",
        "- **Order ID:** Unique order identifier (e.g. 1230000033).\n",
        "- **Profit:** Total profit is calculated: $Total\\:profit=(total\\:revenue-unit\\:cost)\\times quantity$ in USD (e.g. 1.20, 0.40).\n",
        "- **Days to delivery:** The number of days for delivery is calculated: $Delivery\\:days=delivery\\:date-order\\:date$ (e.g. 6, 3, 2).\n",
        "- **Loyalty number:** Loyal customer (99) versus non-loyal customer (0).\n",
        "- **Customer ID:** A unique identifier for the customer (e.g. 8818, 47793).\n",
        "\n",
        "Since we have a transnational data set, which implies customers from different continents, several metrics are important when performing customer segmentation for target marketing. From a marketing perspective, the following five metrics help to understand the nuance of the customer base, buying behaviour, preferences, and value to the business.\n",
        "- **Frequency** indicates how often a customer purchases over a given period of time. A high frequency indicates a loyal customer, a high level of satisfaction, trust or brand loyalty, and/or effective marketing efforts. Frequency based on purchases guides a business in the effectiveness of target marketing campaigns and how to target less active customers.\n",
        "- **Recency** measures how recently a customer made a purchase or placed an order. It helps predict customer churn (turnover) and engagement. A customer is a business’s most valuable asset, so securing customer retention is essential. A high recency indicates customer satisfaction and engagement.\n",
        "- **Customer lifetime value (CLV)** indicates the average or total value a customer contributes to a business over the course of their relationship. In other words, CLV is a metric of the total income a business can expect to generate from a customer as long as said customer remains a loyal client. CLV helps to prioritise marketing efforts and resources as it focuses on customers who are expected to bring the most value over time. Therefore, retaining high-value customers.\n",
        "- The **average unit cost** indicates if the customer prefers low cost or high cost items. This is related to the profitability of purchases. Customers buying products with a higher average unit cost price should be targeted differently. Customer segmentation assists in identifying these customers.\n",
        "\n",
        "You may encounter data science challenges when performing customer segmentation. Let’s focus on five examples that you may encounter in this project:\n",
        "1. **Data quality and management:** Data tends to be prone to inaccuracy, inconsistency, and incompleteness. The customer segments should be clearly defined, easily understood, and simple to incorporate into current and future strategies. Special attention should be paid to feature engineering and data preprocessing.\n",
        "2. **Relevance segmentation:** The most relevant criteria (features) should be used for customer segmentation. Choosing the wrong or irrelevant criteria might dilute the clustering. As a result, cluster characteristics might overlap.\n",
        "3. **Dynamic customer behaviour:** Customer preferences and behaviour can be seasonal, change rapidly based on new trends, or be influenced by personal and economic factors.  \n",
        "4. **Privacy and ethical concerns:** Businesses must navigate the ethical and legal implications when collecting and analysing customer data. Data scientists must be unbiased regarding gender, race, country, etc.\n",
        "5. **Actionability:** Creating segments that are too broad might ignore subtle but essential differences between customers, while segments that are too narrow might not be actionable. Creating a balance is important for marketing efficiency.\n",
        "\n",
        "How you approach these challenges underscores the importance of understanding the business scenario for effective customer segmentation. Without direct input from the marketing team or domain experts, customer segmentation must be approached with a keen awareness of the nuanced relationships between different features and their potential implications for operational integrity.\n",
        "\n",
        "Your task is to develop a robust customer segmentation to assist the e-commerce company in understanding and serving its customers better. This will help to have a more customer-centric focus, improving marketing efficiency. Therefore, you’ll explore the data, employ preprocessing and feature engineering, dimension reduction, and perform customer segmentation with clustering models.\n",
        "\n",
        "You must prepare a report that illustrates your insights to the prospective stakeholders, showing how your solution will save the business money and build trust with its stakeholders. At this stage of the project, the five main questions you need to consider are:\n",
        "1. What insights can be gained from the data, and what recommendations can be made to the company based on these insights? Clearly explain your rationale.\n",
        "2. Which features can be deleted, selected, and combined (feature creation) to effectively segment customers based on the five metrics (frequency, recency, CLV, average unit cost)?\n",
        "3. Are there more features beyond the suggested ones that would help in better segmentation\n",
        "3. Based on this data set, which statistical or ML technique is the best for determining the optimum number of clusters ($k$)?\n",
        "4. How do the clusters compare based on frequency, recency, CLV, and average unit cost?\n",
        "5. What did you deduce from the dimensional reduction analysis?\n",
        "\n",
        "<br></br>\n",
        "\n",
        "> **Disclaimer**\n",
        ">\n",
        "> Note that although a real-life data set was provided, the business context in this project is fictitious. Any resemblance to companies and persons (living or dead) is coincidental. The course designers and hosts assume no responsibility or liability for any errors or omissions in the content of the business context and data sets. The information in the data sets is provided on an 'as is' basis, with no guarantees of completeness, accuracy, usefulness, or timeliness.\n",
        "\n",
        "<br></br>\n",
        "\n",
        "## **Objective**\n",
        "By the end of this mini-project, you’ll be able to understand and apply statistical and ML methods to apply customer segmentation with clustering techniques.\n",
        "\n",
        "In the Notebook, you will:\n",
        "- explore the data set\n",
        "- preprocess the data and conduct feature engineering\n",
        "- determine the optimal number of clusters ($k$)\n",
        "- apply ML models to reduce dimensions and segment customers.\n",
        "\n",
        "You will also write a report summarising the results of your findings and recommendations.\n",
        "\n",
        "<br></br>\n",
        "\n",
        "## **Assessment criteria**\n",
        "By completing this project, you will be able to provide evidence that you can:\n",
        "- demonstrate enhanced problem-solving skills and proposed strategic solutions by systematically analysing complex organisational challenges\n",
        "- identify meaningful patterns in complex data to evidence advanced critical and statistical thinking skills\n",
        "- select statistical techniques appropriate to a solutions design approach and evidence the ability to evaluate their effectiveness\n",
        "- demonstrate enhanced data representation and improved model performance by systematically implementing relevant techniques\n",
        "- design innovative solutions through critically selecting, evaluating and implementing effective unsupervised learning techniques.\n",
        "\n",
        "<br></br>\n",
        "\n",
        "## **Project guidance**\n",
        "1. Import the required libraries and data set with the provided URL.\n",
        "2. View the DataFrame and perform data pre-processing:\n",
        "  - Identify missing values.\n",
        "  - Check for duplicate values.\n",
        "  - Determine if there are any outliers.\n",
        "  - Aggregate the data into one customer per row\n",
        "3. Perform feature engineering as follows:\n",
        "  - Create new features for frequency, recency, CLV, average unit cost, and customer age.\n",
        "  - Select the best features for analysis.\n",
        "  - Perform feature scaling and encoding if needed.\n",
        "4. Perform EDA and create visualisations to explore the data.\n",
        "5. For more efficient programming, incorporate column transformer and pipeline. Visit Python documentation to understand the usage.\n",
        "6. Select the optimum value of clusters ($k$) with the Elbow and Silhouette score methods. Motivate your choice.\n",
        "7. Perform hierarchical clustering and create a dendogram.\n",
        "8. Based on the optimum number of $k$, perform k-means clustering.\n",
        "9. View the cluster number associated with each `customer_ID`. You can create a table or DataFrame.\n",
        "10. Create boxplots to display the clusters with regard to frequency, recency, CLV, average unit cost, and CLP.\n",
        "11. Perform dimension reduction with PCA and t-SNE to reduce the data to 2D.\n",
        "12. Create a 2D visualisation to display the clusters with different colours. Use the output from the PCA and t-SNE.\n",
        "13. Document your approach and major inferences from the data analysis and describe which method provided the best results and why.\n",
        "14. When you’ve completed the activity:\n",
        "  - Download your completed Notebook as an IPYNB (Jupyter Notebook) or PY (Python) file. Save the file as follows: **LastName_FirstName_CAM_C101_Week_6_Mini-project**.\n",
        "  - Prepare a detailed report (between 800-1,000 words) that includes:\n",
        "    - an overview of your approach\n",
        "    - a description of your analysis\n",
        "    - an explanation of the insights you identified\n",
        "    - a summary of which method gave the best results in determining $k$\n",
        "    - a clear visualisation of your customer segmentation\n",
        "    - an explanation of visualisations you created.\n",
        "  - Save the document as a PDF named according to the following convention: **LastName_FirstName_CAM_C101_Week_6_Mini-project.pdf**.\n",
        "  - You can submit your files individually or as a ZIP file. If you upload a ZIP file, use the correct naming convention: **LastName_FirstName_CAM_C101_Week_6_Mini-project.zip**.\n",
        "  - Submit your Notebook and PDF document by **Friday, 30 August 2024, at 5 p.m. (UK Time)**.\n",
        "\n",
        "<br></br>\n",
        "> **Declaration**\n",
        ">\n",
        "> By submitting your project, you indicate that the work is your own and has been created with academic integrity. Refer to the Cambridge plagiarism regulations."
      ],
      "metadata": {
        "id": "O7iPqVqG7TEc"
      }
    },
    {
      "cell_type": "markdown",
      "source": [
        "> Start your activity here. Select the pen from the toolbar to add your entry."
      ],
      "metadata": {
        "id": "bljr0Oql_8Gf"
      }
    },
    {
      "cell_type": "code",
      "source": [
        "!pip install gdown"
      ],
      "metadata": {
        "id": "mn1_spG2sdfd",
        "colab": {
          "base_uri": "https://localhost:8080/"
        },
        "outputId": "de33bc71-9e0c-4222-88b9-c74f30f3bc44"
      },
      "execution_count": 5,
      "outputs": [
        {
          "output_type": "stream",
          "name": "stdout",
          "text": [
            "Requirement already satisfied: gdown in /usr/local/lib/python3.10/dist-packages (5.1.0)\n",
            "Requirement already satisfied: beautifulsoup4 in /usr/local/lib/python3.10/dist-packages (from gdown) (4.12.3)\n",
            "Requirement already satisfied: filelock in /usr/local/lib/python3.10/dist-packages (from gdown) (3.15.4)\n",
            "Requirement already satisfied: requests[socks] in /usr/local/lib/python3.10/dist-packages (from gdown) (2.32.3)\n",
            "Requirement already satisfied: tqdm in /usr/local/lib/python3.10/dist-packages (from gdown) (4.66.5)\n",
            "Requirement already satisfied: soupsieve>1.2 in /usr/local/lib/python3.10/dist-packages (from beautifulsoup4->gdown) (2.5)\n",
            "Requirement already satisfied: charset-normalizer<4,>=2 in /usr/local/lib/python3.10/dist-packages (from requests[socks]->gdown) (3.3.2)\n",
            "Requirement already satisfied: idna<4,>=2.5 in /usr/local/lib/python3.10/dist-packages (from requests[socks]->gdown) (3.7)\n",
            "Requirement already satisfied: urllib3<3,>=1.21.1 in /usr/local/lib/python3.10/dist-packages (from requests[socks]->gdown) (2.0.7)\n",
            "Requirement already satisfied: certifi>=2017.4.17 in /usr/local/lib/python3.10/dist-packages (from requests[socks]->gdown) (2024.7.4)\n",
            "Requirement already satisfied: PySocks!=1.5.7,>=1.5.6 in /usr/local/lib/python3.10/dist-packages (from requests[socks]->gdown) (1.7.1)\n"
          ]
        }
      ]
    },
    {
      "cell_type": "code",
      "source": [
        "!gdown 'https://drive.google.com/uc?export=download&id=1S5wniOV5_5htDfUFeZhlCLibvtihNLKK'"
      ],
      "metadata": {
        "id": "DQAwxOsxCUth",
        "colab": {
          "base_uri": "https://localhost:8080/"
        },
        "outputId": "8d9048da-9e10-4004-d132-84b9cbb40a5e"
      },
      "execution_count": 6,
      "outputs": [
        {
          "output_type": "stream",
          "name": "stdout",
          "text": [
            "Downloading...\n",
            "From (original): https://drive.google.com/uc?export=download&id=1S5wniOV5_5htDfUFeZhlCLibvtihNLKK\n",
            "From (redirected): https://drive.google.com/uc?export=download&id=1S5wniOV5_5htDfUFeZhlCLibvtihNLKK&confirm=t&uuid=e513e44d-1fa9-42ce-aaec-53ad57d24069\n",
            "To: /content/CUSTOMERS_CLEAN.csv\n",
            "100% 191M/191M [00:01<00:00, 104MB/s]\n"
          ]
        }
      ]
    },
    {
      "cell_type": "markdown",
      "source": [
        "# EDA"
      ],
      "metadata": {
        "id": "0ntUf3mrCVSV"
      }
    },
    {
      "cell_type": "code",
      "source": [
        "import pandas as pd\n",
        "data = pd.read_csv('/content/CUSTOMERS_CLEAN.csv')\n"
      ],
      "metadata": {
        "id": "WI8JpZtZTTeE"
      },
      "execution_count": 7,
      "outputs": []
    },
    {
      "cell_type": "code",
      "source": [
        "data.head()"
      ],
      "metadata": {
        "id": "dVWdbUoOTjBi",
        "outputId": "7fee3ff6-2771-41c6-d72f-3d54eb655679",
        "colab": {
          "base_uri": "https://localhost:8080/",
          "height": 400
        }
      },
      "execution_count": 8,
      "outputs": [
        {
          "output_type": "execute_result",
          "data": {
            "text/plain": [
              "   Quantity         City      Continent Postal_Code     State_Province  \\\n",
              "0         3     Leinster        Oceania        6437  Western Australia   \n",
              "1         2      Berowra        Oceania        2081    New South Wales   \n",
              "2         2      Berowra        Oceania        2081    New South Wales   \n",
              "3         1  Northbridge        Oceania        2063    New South Wales   \n",
              "4         1     Montréal  North America         NaN             Quebec   \n",
              "\n",
              "  Order_Date Delivery_Date Total Revenue Unit Cost Discount OrderTypeLabel  \\\n",
              "0  01JAN2012     07JAN2012       $28.50     $9.10         .  Internet Sale   \n",
              "1  01JAN2012     04JAN2012      $113.40    $56.90         .  Internet Sale   \n",
              "2  01JAN2012     04JAN2012       $41.00    $18.50         .  Internet Sale   \n",
              "3  01JAN2012     03JAN2012       $35.20    $29.60         .  Internet Sale   \n",
              "4  01JAN2012     04JAN2012       $24.70    $23.60         .  Internet Sale   \n",
              "\n",
              "  CustomerCountryLabel Customer_BirthDate              Customer_Group  \\\n",
              "0            Australia          08MAY1978  Internet/Catalog Customers   \n",
              "1            Australia          13DEC1978     Orion Club Gold members   \n",
              "2            Australia          13DEC1978     Orion Club Gold members   \n",
              "3            Australia          22JUN1997     Orion Club Gold members   \n",
              "4               Canada          28JAN1978     Orion Club Gold members   \n",
              "\n",
              "                             Customer_Type    Order ID   Profit  \\\n",
              "0               Internet/Catalog Customers  1230000033   $1.20    \n",
              "1    Orion Club Gold members high activity  1230000204  ($0.40)   \n",
              "2    Orion Club Gold members high activity  1230000204   $4.00    \n",
              "3    Orion Club Gold members high activity  1230000268   $5.60    \n",
              "4  Orion Club Gold members medium activity  1230000487   $1.10    \n",
              "\n",
              "   Days to Delivery  Loyalty Num  Customer ID  \n",
              "0                 6           99         8818  \n",
              "1                 3           99        47793  \n",
              "2                 3           99        47793  \n",
              "3                 2            0        71727  \n",
              "4                 3           99        74503  "
            ],
            "text/html": [
              "\n",
              "  <div id=\"df-8be83c82-6a51-4440-b700-c5cefd7a0b30\" class=\"colab-df-container\">\n",
              "    <div>\n",
              "<style scoped>\n",
              "    .dataframe tbody tr th:only-of-type {\n",
              "        vertical-align: middle;\n",
              "    }\n",
              "\n",
              "    .dataframe tbody tr th {\n",
              "        vertical-align: top;\n",
              "    }\n",
              "\n",
              "    .dataframe thead th {\n",
              "        text-align: right;\n",
              "    }\n",
              "</style>\n",
              "<table border=\"1\" class=\"dataframe\">\n",
              "  <thead>\n",
              "    <tr style=\"text-align: right;\">\n",
              "      <th></th>\n",
              "      <th>Quantity</th>\n",
              "      <th>City</th>\n",
              "      <th>Continent</th>\n",
              "      <th>Postal_Code</th>\n",
              "      <th>State_Province</th>\n",
              "      <th>Order_Date</th>\n",
              "      <th>Delivery_Date</th>\n",
              "      <th>Total Revenue</th>\n",
              "      <th>Unit Cost</th>\n",
              "      <th>Discount</th>\n",
              "      <th>OrderTypeLabel</th>\n",
              "      <th>CustomerCountryLabel</th>\n",
              "      <th>Customer_BirthDate</th>\n",
              "      <th>Customer_Group</th>\n",
              "      <th>Customer_Type</th>\n",
              "      <th>Order ID</th>\n",
              "      <th>Profit</th>\n",
              "      <th>Days to Delivery</th>\n",
              "      <th>Loyalty Num</th>\n",
              "      <th>Customer ID</th>\n",
              "    </tr>\n",
              "  </thead>\n",
              "  <tbody>\n",
              "    <tr>\n",
              "      <th>0</th>\n",
              "      <td>3</td>\n",
              "      <td>Leinster</td>\n",
              "      <td>Oceania</td>\n",
              "      <td>6437</td>\n",
              "      <td>Western Australia</td>\n",
              "      <td>01JAN2012</td>\n",
              "      <td>07JAN2012</td>\n",
              "      <td>$28.50</td>\n",
              "      <td>$9.10</td>\n",
              "      <td>.</td>\n",
              "      <td>Internet Sale</td>\n",
              "      <td>Australia</td>\n",
              "      <td>08MAY1978</td>\n",
              "      <td>Internet/Catalog Customers</td>\n",
              "      <td>Internet/Catalog Customers</td>\n",
              "      <td>1230000033</td>\n",
              "      <td>$1.20</td>\n",
              "      <td>6</td>\n",
              "      <td>99</td>\n",
              "      <td>8818</td>\n",
              "    </tr>\n",
              "    <tr>\n",
              "      <th>1</th>\n",
              "      <td>2</td>\n",
              "      <td>Berowra</td>\n",
              "      <td>Oceania</td>\n",
              "      <td>2081</td>\n",
              "      <td>New South Wales</td>\n",
              "      <td>01JAN2012</td>\n",
              "      <td>04JAN2012</td>\n",
              "      <td>$113.40</td>\n",
              "      <td>$56.90</td>\n",
              "      <td>.</td>\n",
              "      <td>Internet Sale</td>\n",
              "      <td>Australia</td>\n",
              "      <td>13DEC1978</td>\n",
              "      <td>Orion Club Gold members</td>\n",
              "      <td>Orion Club Gold members high activity</td>\n",
              "      <td>1230000204</td>\n",
              "      <td>($0.40)</td>\n",
              "      <td>3</td>\n",
              "      <td>99</td>\n",
              "      <td>47793</td>\n",
              "    </tr>\n",
              "    <tr>\n",
              "      <th>2</th>\n",
              "      <td>2</td>\n",
              "      <td>Berowra</td>\n",
              "      <td>Oceania</td>\n",
              "      <td>2081</td>\n",
              "      <td>New South Wales</td>\n",
              "      <td>01JAN2012</td>\n",
              "      <td>04JAN2012</td>\n",
              "      <td>$41.00</td>\n",
              "      <td>$18.50</td>\n",
              "      <td>.</td>\n",
              "      <td>Internet Sale</td>\n",
              "      <td>Australia</td>\n",
              "      <td>13DEC1978</td>\n",
              "      <td>Orion Club Gold members</td>\n",
              "      <td>Orion Club Gold members high activity</td>\n",
              "      <td>1230000204</td>\n",
              "      <td>$4.00</td>\n",
              "      <td>3</td>\n",
              "      <td>99</td>\n",
              "      <td>47793</td>\n",
              "    </tr>\n",
              "    <tr>\n",
              "      <th>3</th>\n",
              "      <td>1</td>\n",
              "      <td>Northbridge</td>\n",
              "      <td>Oceania</td>\n",
              "      <td>2063</td>\n",
              "      <td>New South Wales</td>\n",
              "      <td>01JAN2012</td>\n",
              "      <td>03JAN2012</td>\n",
              "      <td>$35.20</td>\n",
              "      <td>$29.60</td>\n",
              "      <td>.</td>\n",
              "      <td>Internet Sale</td>\n",
              "      <td>Australia</td>\n",
              "      <td>22JUN1997</td>\n",
              "      <td>Orion Club Gold members</td>\n",
              "      <td>Orion Club Gold members high activity</td>\n",
              "      <td>1230000268</td>\n",
              "      <td>$5.60</td>\n",
              "      <td>2</td>\n",
              "      <td>0</td>\n",
              "      <td>71727</td>\n",
              "    </tr>\n",
              "    <tr>\n",
              "      <th>4</th>\n",
              "      <td>1</td>\n",
              "      <td>Montréal</td>\n",
              "      <td>North America</td>\n",
              "      <td>NaN</td>\n",
              "      <td>Quebec</td>\n",
              "      <td>01JAN2012</td>\n",
              "      <td>04JAN2012</td>\n",
              "      <td>$24.70</td>\n",
              "      <td>$23.60</td>\n",
              "      <td>.</td>\n",
              "      <td>Internet Sale</td>\n",
              "      <td>Canada</td>\n",
              "      <td>28JAN1978</td>\n",
              "      <td>Orion Club Gold members</td>\n",
              "      <td>Orion Club Gold members medium activity</td>\n",
              "      <td>1230000487</td>\n",
              "      <td>$1.10</td>\n",
              "      <td>3</td>\n",
              "      <td>99</td>\n",
              "      <td>74503</td>\n",
              "    </tr>\n",
              "  </tbody>\n",
              "</table>\n",
              "</div>\n",
              "    <div class=\"colab-df-buttons\">\n",
              "\n",
              "  <div class=\"colab-df-container\">\n",
              "    <button class=\"colab-df-convert\" onclick=\"convertToInteractive('df-8be83c82-6a51-4440-b700-c5cefd7a0b30')\"\n",
              "            title=\"Convert this dataframe to an interactive table.\"\n",
              "            style=\"display:none;\">\n",
              "\n",
              "  <svg xmlns=\"http://www.w3.org/2000/svg\" height=\"24px\" viewBox=\"0 -960 960 960\">\n",
              "    <path d=\"M120-120v-720h720v720H120Zm60-500h600v-160H180v160Zm220 220h160v-160H400v160Zm0 220h160v-160H400v160ZM180-400h160v-160H180v160Zm440 0h160v-160H620v160ZM180-180h160v-160H180v160Zm440 0h160v-160H620v160Z\"/>\n",
              "  </svg>\n",
              "    </button>\n",
              "\n",
              "  <style>\n",
              "    .colab-df-container {\n",
              "      display:flex;\n",
              "      gap: 12px;\n",
              "    }\n",
              "\n",
              "    .colab-df-convert {\n",
              "      background-color: #E8F0FE;\n",
              "      border: none;\n",
              "      border-radius: 50%;\n",
              "      cursor: pointer;\n",
              "      display: none;\n",
              "      fill: #1967D2;\n",
              "      height: 32px;\n",
              "      padding: 0 0 0 0;\n",
              "      width: 32px;\n",
              "    }\n",
              "\n",
              "    .colab-df-convert:hover {\n",
              "      background-color: #E2EBFA;\n",
              "      box-shadow: 0px 1px 2px rgba(60, 64, 67, 0.3), 0px 1px 3px 1px rgba(60, 64, 67, 0.15);\n",
              "      fill: #174EA6;\n",
              "    }\n",
              "\n",
              "    .colab-df-buttons div {\n",
              "      margin-bottom: 4px;\n",
              "    }\n",
              "\n",
              "    [theme=dark] .colab-df-convert {\n",
              "      background-color: #3B4455;\n",
              "      fill: #D2E3FC;\n",
              "    }\n",
              "\n",
              "    [theme=dark] .colab-df-convert:hover {\n",
              "      background-color: #434B5C;\n",
              "      box-shadow: 0px 1px 3px 1px rgba(0, 0, 0, 0.15);\n",
              "      filter: drop-shadow(0px 1px 2px rgba(0, 0, 0, 0.3));\n",
              "      fill: #FFFFFF;\n",
              "    }\n",
              "  </style>\n",
              "\n",
              "    <script>\n",
              "      const buttonEl =\n",
              "        document.querySelector('#df-8be83c82-6a51-4440-b700-c5cefd7a0b30 button.colab-df-convert');\n",
              "      buttonEl.style.display =\n",
              "        google.colab.kernel.accessAllowed ? 'block' : 'none';\n",
              "\n",
              "      async function convertToInteractive(key) {\n",
              "        const element = document.querySelector('#df-8be83c82-6a51-4440-b700-c5cefd7a0b30');\n",
              "        const dataTable =\n",
              "          await google.colab.kernel.invokeFunction('convertToInteractive',\n",
              "                                                    [key], {});\n",
              "        if (!dataTable) return;\n",
              "\n",
              "        const docLinkHtml = 'Like what you see? Visit the ' +\n",
              "          '<a target=\"_blank\" href=https://colab.research.google.com/notebooks/data_table.ipynb>data table notebook</a>'\n",
              "          + ' to learn more about interactive tables.';\n",
              "        element.innerHTML = '';\n",
              "        dataTable['output_type'] = 'display_data';\n",
              "        await google.colab.output.renderOutput(dataTable, element);\n",
              "        const docLink = document.createElement('div');\n",
              "        docLink.innerHTML = docLinkHtml;\n",
              "        element.appendChild(docLink);\n",
              "      }\n",
              "    </script>\n",
              "  </div>\n",
              "\n",
              "\n",
              "<div id=\"df-2556b8d6-0a92-49e4-bc26-6548ee8433d9\">\n",
              "  <button class=\"colab-df-quickchart\" onclick=\"quickchart('df-2556b8d6-0a92-49e4-bc26-6548ee8433d9')\"\n",
              "            title=\"Suggest charts\"\n",
              "            style=\"display:none;\">\n",
              "\n",
              "<svg xmlns=\"http://www.w3.org/2000/svg\" height=\"24px\"viewBox=\"0 0 24 24\"\n",
              "     width=\"24px\">\n",
              "    <g>\n",
              "        <path d=\"M19 3H5c-1.1 0-2 .9-2 2v14c0 1.1.9 2 2 2h14c1.1 0 2-.9 2-2V5c0-1.1-.9-2-2-2zM9 17H7v-7h2v7zm4 0h-2V7h2v10zm4 0h-2v-4h2v4z\"/>\n",
              "    </g>\n",
              "</svg>\n",
              "  </button>\n",
              "\n",
              "<style>\n",
              "  .colab-df-quickchart {\n",
              "      --bg-color: #E8F0FE;\n",
              "      --fill-color: #1967D2;\n",
              "      --hover-bg-color: #E2EBFA;\n",
              "      --hover-fill-color: #174EA6;\n",
              "      --disabled-fill-color: #AAA;\n",
              "      --disabled-bg-color: #DDD;\n",
              "  }\n",
              "\n",
              "  [theme=dark] .colab-df-quickchart {\n",
              "      --bg-color: #3B4455;\n",
              "      --fill-color: #D2E3FC;\n",
              "      --hover-bg-color: #434B5C;\n",
              "      --hover-fill-color: #FFFFFF;\n",
              "      --disabled-bg-color: #3B4455;\n",
              "      --disabled-fill-color: #666;\n",
              "  }\n",
              "\n",
              "  .colab-df-quickchart {\n",
              "    background-color: var(--bg-color);\n",
              "    border: none;\n",
              "    border-radius: 50%;\n",
              "    cursor: pointer;\n",
              "    display: none;\n",
              "    fill: var(--fill-color);\n",
              "    height: 32px;\n",
              "    padding: 0;\n",
              "    width: 32px;\n",
              "  }\n",
              "\n",
              "  .colab-df-quickchart:hover {\n",
              "    background-color: var(--hover-bg-color);\n",
              "    box-shadow: 0 1px 2px rgba(60, 64, 67, 0.3), 0 1px 3px 1px rgba(60, 64, 67, 0.15);\n",
              "    fill: var(--button-hover-fill-color);\n",
              "  }\n",
              "\n",
              "  .colab-df-quickchart-complete:disabled,\n",
              "  .colab-df-quickchart-complete:disabled:hover {\n",
              "    background-color: var(--disabled-bg-color);\n",
              "    fill: var(--disabled-fill-color);\n",
              "    box-shadow: none;\n",
              "  }\n",
              "\n",
              "  .colab-df-spinner {\n",
              "    border: 2px solid var(--fill-color);\n",
              "    border-color: transparent;\n",
              "    border-bottom-color: var(--fill-color);\n",
              "    animation:\n",
              "      spin 1s steps(1) infinite;\n",
              "  }\n",
              "\n",
              "  @keyframes spin {\n",
              "    0% {\n",
              "      border-color: transparent;\n",
              "      border-bottom-color: var(--fill-color);\n",
              "      border-left-color: var(--fill-color);\n",
              "    }\n",
              "    20% {\n",
              "      border-color: transparent;\n",
              "      border-left-color: var(--fill-color);\n",
              "      border-top-color: var(--fill-color);\n",
              "    }\n",
              "    30% {\n",
              "      border-color: transparent;\n",
              "      border-left-color: var(--fill-color);\n",
              "      border-top-color: var(--fill-color);\n",
              "      border-right-color: var(--fill-color);\n",
              "    }\n",
              "    40% {\n",
              "      border-color: transparent;\n",
              "      border-right-color: var(--fill-color);\n",
              "      border-top-color: var(--fill-color);\n",
              "    }\n",
              "    60% {\n",
              "      border-color: transparent;\n",
              "      border-right-color: var(--fill-color);\n",
              "    }\n",
              "    80% {\n",
              "      border-color: transparent;\n",
              "      border-right-color: var(--fill-color);\n",
              "      border-bottom-color: var(--fill-color);\n",
              "    }\n",
              "    90% {\n",
              "      border-color: transparent;\n",
              "      border-bottom-color: var(--fill-color);\n",
              "    }\n",
              "  }\n",
              "</style>\n",
              "\n",
              "  <script>\n",
              "    async function quickchart(key) {\n",
              "      const quickchartButtonEl =\n",
              "        document.querySelector('#' + key + ' button');\n",
              "      quickchartButtonEl.disabled = true;  // To prevent multiple clicks.\n",
              "      quickchartButtonEl.classList.add('colab-df-spinner');\n",
              "      try {\n",
              "        const charts = await google.colab.kernel.invokeFunction(\n",
              "            'suggestCharts', [key], {});\n",
              "      } catch (error) {\n",
              "        console.error('Error during call to suggestCharts:', error);\n",
              "      }\n",
              "      quickchartButtonEl.classList.remove('colab-df-spinner');\n",
              "      quickchartButtonEl.classList.add('colab-df-quickchart-complete');\n",
              "    }\n",
              "    (() => {\n",
              "      let quickchartButtonEl =\n",
              "        document.querySelector('#df-2556b8d6-0a92-49e4-bc26-6548ee8433d9 button');\n",
              "      quickchartButtonEl.style.display =\n",
              "        google.colab.kernel.accessAllowed ? 'block' : 'none';\n",
              "    })();\n",
              "  </script>\n",
              "</div>\n",
              "\n",
              "    </div>\n",
              "  </div>\n"
            ],
            "application/vnd.google.colaboratory.intrinsic+json": {
              "type": "dataframe",
              "variable_name": "data"
            }
          },
          "metadata": {},
          "execution_count": 8
        }
      ]
    },
    {
      "cell_type": "code",
      "source": [
        "print(data.info())"
      ],
      "metadata": {
        "id": "mmiWEf7SVKq4",
        "outputId": "a90c4bbd-23ef-46ef-a940-9daddeb35990",
        "colab": {
          "base_uri": "https://localhost:8080/"
        }
      },
      "execution_count": 9,
      "outputs": [
        {
          "output_type": "stream",
          "name": "stdout",
          "text": [
            "<class 'pandas.core.frame.DataFrame'>\n",
            "RangeIndex: 951669 entries, 0 to 951668\n",
            "Data columns (total 20 columns):\n",
            " #   Column                Non-Null Count   Dtype \n",
            "---  ------                --------------   ----- \n",
            " 0   Quantity              951669 non-null  int64 \n",
            " 1   City                  951534 non-null  object\n",
            " 2   Continent             951669 non-null  object\n",
            " 3   Postal_Code           947953 non-null  object\n",
            " 4   State_Province        834477 non-null  object\n",
            " 5   Order_Date            951669 non-null  object\n",
            " 6   Delivery_Date         951669 non-null  object\n",
            " 7   Total Revenue         951669 non-null  object\n",
            " 8   Unit Cost             951669 non-null  object\n",
            " 9   Discount              951669 non-null  object\n",
            " 10  OrderTypeLabel        951669 non-null  object\n",
            " 11  CustomerCountryLabel  951669 non-null  object\n",
            " 12  Customer_BirthDate    951669 non-null  object\n",
            " 13  Customer_Group        951669 non-null  object\n",
            " 14  Customer_Type         951669 non-null  object\n",
            " 15  Order ID              951669 non-null  int64 \n",
            " 16  Profit                951669 non-null  object\n",
            " 17  Days to Delivery      951669 non-null  int64 \n",
            " 18  Loyalty Num           951669 non-null  int64 \n",
            " 19  Customer ID           951669 non-null  int64 \n",
            "dtypes: int64(5), object(15)\n",
            "memory usage: 145.2+ MB\n",
            "None\n"
          ]
        }
      ]
    },
    {
      "cell_type": "code",
      "source": [
        "print(data.isnull().sum())"
      ],
      "metadata": {
        "id": "w9B7CuQTTm9K",
        "outputId": "49c710f2-eb7e-4e1f-f050-8b043f24fc10",
        "colab": {
          "base_uri": "https://localhost:8080/"
        }
      },
      "execution_count": 10,
      "outputs": [
        {
          "output_type": "stream",
          "name": "stdout",
          "text": [
            "Quantity                     0\n",
            "City                       135\n",
            "Continent                    0\n",
            "Postal_Code               3716\n",
            "State_Province          117192\n",
            "Order_Date                   0\n",
            "Delivery_Date                0\n",
            "Total Revenue                0\n",
            "Unit Cost                    0\n",
            "Discount                     0\n",
            "OrderTypeLabel               0\n",
            "CustomerCountryLabel         0\n",
            "Customer_BirthDate           0\n",
            "Customer_Group               0\n",
            "Customer_Type                0\n",
            "Order ID                     0\n",
            "Profit                       0\n",
            "Days to Delivery             0\n",
            "Loyalty Num                  0\n",
            "Customer ID                  0\n",
            "dtype: int64\n"
          ]
        }
      ]
    },
    {
      "cell_type": "code",
      "source": [
        "print(data.duplicated().sum())"
      ],
      "metadata": {
        "id": "y76p1O-nTqFN",
        "outputId": "8d1f5d87-4ec8-4f7f-9f45-4ca271fac3c8",
        "colab": {
          "base_uri": "https://localhost:8080/"
        }
      },
      "execution_count": 11,
      "outputs": [
        {
          "output_type": "stream",
          "name": "stdout",
          "text": [
            "21\n"
          ]
        }
      ]
    },
    {
      "cell_type": "markdown",
      "source": [
        "Handle missing values (e.g., fill or drop):"
      ],
      "metadata": {
        "id": "2x5kusofVyxM"
      }
    },
    {
      "cell_type": "markdown",
      "source": [
        "**21 dulicate rows to drop**"
      ],
      "metadata": {
        "id": "_rjXpqbgdHoq"
      }
    },
    {
      "cell_type": "code",
      "source": [
        "data.drop_duplicates(inplace=True)\n",
        "print(data.duplicated().sum())"
      ],
      "metadata": {
        "id": "12znOc-sdHI_",
        "outputId": "ef9222e5-ba41-450f-fbc2-4bb112d5fc72",
        "colab": {
          "base_uri": "https://localhost:8080/"
        }
      },
      "execution_count": 12,
      "outputs": [
        {
          "output_type": "stream",
          "name": "stdout",
          "text": [
            "0\n"
          ]
        }
      ]
    },
    {
      "cell_type": "markdown",
      "source": [
        "**clean discounts**"
      ],
      "metadata": {
        "id": "mma5YBOVdbCI"
      }
    },
    {
      "cell_type": "code",
      "source": [
        "print(data['Discount'].unique())"
      ],
      "metadata": {
        "id": "qvGGfg7HYV4-",
        "outputId": "fa300a27-7bb4-4196-9c18-f049f4800df2",
        "colab": {
          "base_uri": "https://localhost:8080/"
        }
      },
      "execution_count": 13,
      "outputs": [
        {
          "output_type": "stream",
          "name": "stdout",
          "text": [
            "['   .' '50%' '40%' '30%' '60%']\n"
          ]
        }
      ]
    },
    {
      "cell_type": "code",
      "source": [
        "import numpy as np\n",
        "import pandas as pd # Make sure pandas is imported\n",
        "\n",
        "# Replace '   .' with NaN\n",
        "data['Discount'] = data['Discount'].replace('   .', np.nan)\n",
        "\n",
        "# Replace '%' with an empty string, then convert to float\n",
        "data['Discount'] = data['Discount'].astype(str).str.replace('%', '', regex=False) # Convert the column to string type before using .str\n",
        "\n",
        "# Convert the column to numeric, using errors='coerce' to handle non-numeric values\n",
        "data['Discount'] = pd.to_numeric(data['Discount'], errors='coerce')\n",
        "\n",
        "# Handle NaN values if needed, for example by filling with 0\n",
        "data['Discount'].fillna(0, inplace=True)\n",
        "\n",
        "# Normalize the discount values by dividing by 100\n",
        "data['Discount'] = data['Discount'] / 100"
      ],
      "metadata": {
        "id": "ZEJACe7tZzgW"
      },
      "execution_count": 14,
      "outputs": []
    },
    {
      "cell_type": "code",
      "source": [
        "import pandas as pd\n",
        "\n",
        "# Convert 'Order_Date' and 'Delivery_Date' to datetime\n",
        "data['Order_Date'] = pd.to_datetime(data['Order_Date'], format='%d%b%Y')\n",
        "data['Delivery_Date'] = pd.to_datetime(data['Delivery_Date'], format='%d%b%Y')\n"
      ],
      "metadata": {
        "id": "mqq2cHRtW168"
      },
      "execution_count": 15,
      "outputs": []
    },
    {
      "cell_type": "code",
      "source": [
        "# Remove dollar signs and convert to float\n",
        "data['Total Revenue'] = data['Total Revenue'].replace('[\\$,]', '', regex=True).astype(float)\n",
        "data['Unit Cost'] = data['Unit Cost'].replace('[\\$,]', '', regex=True).astype(float)\n",
        "data['Profit'] = data['Profit'].replace('[\\$,()]', '', regex=True).astype(float)\n"
      ],
      "metadata": {
        "id": "O_3jad2YV5GK"
      },
      "execution_count": 16,
      "outputs": []
    },
    {
      "cell_type": "code",
      "source": [
        "print(data['Total Revenue'].unique())"
      ],
      "metadata": {
        "id": "m1NWZ2vueJfY",
        "outputId": "b42cae46-3205-4285-96fa-3d9edf5285d3",
        "colab": {
          "base_uri": "https://localhost:8080/"
        }
      },
      "execution_count": 17,
      "outputs": [
        {
          "output_type": "stream",
          "name": "stdout",
          "text": [
            "[  28.5   113.4    41.   ...  983.     65.94 1418.8 ]\n"
          ]
        }
      ]
    },
    {
      "cell_type": "code",
      "source": [
        "data['Customer_BirthDate'] = pd.to_datetime(data['Customer_BirthDate'], format='%d%b%Y')\n"
      ],
      "metadata": {
        "id": "5sO49NMXW-sX"
      },
      "execution_count": 18,
      "outputs": []
    },
    {
      "cell_type": "code",
      "source": [
        "# Fill missing 'State_Province' with a placeholder or drop\n",
        "data['State_Province'].fillna('Unknown', inplace=True)\n",
        "\n",
        "# Fill missing 'Postal_Code' with a placeholder or drop\n",
        "data['Postal_Code'].fillna('Unknown', inplace=True)\n",
        "\n",
        "# Fill missing 'City' with a placeholder or drop\n",
        "data['City'].fillna('Unknown', inplace=True)"
      ],
      "metadata": {
        "id": "fv1UWWZ7XEJL"
      },
      "execution_count": 19,
      "outputs": []
    },
    {
      "cell_type": "code",
      "source": [
        "import seaborn as sns\n",
        "import matplotlib.pyplot as plt\n",
        "\n",
        "sns.boxplot(data['Total Revenue'])\n",
        "plt.show()\n"
      ],
      "metadata": {
        "id": "G_kzLU5dTx4I",
        "outputId": "8e5b4a5f-ab74-4652-9978-5aff03e2f9a3",
        "colab": {
          "base_uri": "https://localhost:8080/",
          "height": 411
        }
      },
      "execution_count": 20,
      "outputs": [
        {
          "output_type": "display_data",
          "data": {
            "text/plain": [
              "<Figure size 640x480 with 1 Axes>"
            ],
            "image/png": "[encoded data removed]"
          },
          "metadata": {}
        }
      ]
    },
    {
      "cell_type": "markdown",
      "source": [
        "# Feature Engineering:"
      ],
      "metadata": {
        "id": "A5tPopvuCVLu"
      }
    },
    {
      "cell_type": "markdown",
      "source": [
        "Feature Engineering:\n",
        "Create new features such as Frequency, Recency, CLV, and Average Unit Cost."
      ],
      "metadata": {
        "id": "xsy1wQXuUTzk"
      }
    },
    {
      "cell_type": "code",
      "source": [
        "data['Days_to_Delivery'] = (data['Delivery_Date'] - data['Order_Date']).dt.days"
      ],
      "metadata": {
        "id": "fhxf-MviXRyB"
      },
      "execution_count": 21,
      "outputs": []
    },
    {
      "cell_type": "code",
      "source": [
        "from datetime import datetime\n",
        "\n",
        "# Calculate Recency\n",
        "current_date = datetime.now()\n",
        "data['Recency'] = (current_date - data['Order_Date']).dt.days\n",
        "\n",
        "# Calculate Customer Age\n",
        "data['Customer_Age'] = (current_date - data['Customer_BirthDate']).dt.days // 365\n"
      ],
      "metadata": {
        "id": "LvJV6IyRXbMf"
      },
      "execution_count": 22,
      "outputs": []
    },
    {
      "cell_type": "code",
      "source": [
        "customer_data = data.groupby('Customer ID').agg({\n",
        "    'Quantity': 'sum',\n",
        "    'Total Revenue': 'sum',\n",
        "    'Profit': 'sum',\n",
        "    'Days_to_Delivery': 'mean',\n",
        "    'Recency': 'mean',\n",
        "    'Order ID': 'count',\n",
        "    'Unit Cost': 'mean',\n",
        "}).reset_index()\n",
        "\n",
        "customer_data.rename(columns={'Order ID': 'Frequency'}, inplace=True)\n"
      ],
      "metadata": {
        "id": "Cd0dxtk6UHVr"
      },
      "execution_count": 24,
      "outputs": []
    },
    {
      "cell_type": "code",
      "source": [
        "customer_data.head()"
      ],
      "metadata": {
        "id": "z7XOlnQhfZ_g",
        "outputId": "80bdb44d-d7a8-4a31-e48d-7b1150d7a133",
        "colab": {
          "base_uri": "https://localhost:8080/",
          "height": 206
        }
      },
      "execution_count": 25,
      "outputs": [
        {
          "output_type": "execute_result",
          "data": {
            "text/plain": [
              "   Customer ID  Quantity  Total Revenue  Profit  Days_to_Delivery  \\\n",
              "0            1        51        4322.70  546.90          0.571429   \n",
              "1            3        28        2821.00  267.30          0.950000   \n",
              "2            4        17         782.67  111.29          0.555556   \n",
              "3            5        29        2810.98  236.88          1.894737   \n",
              "4            6        26        1604.58  205.42          1.600000   \n",
              "\n",
              "       Recency  Frequency   Unit Cost  \n",
              "0  3552.800000         35   89.622857  \n",
              "1  3589.750000         20   90.505000  \n",
              "2  4107.000000          9   37.195556  \n",
              "3  3814.263158         19  107.947368  \n",
              "4  3474.733333         15   52.526667  "
            ],
            "text/html": [
              "\n",
              "  <div id=\"df-6a824509-21bd-42c6-af28-1394013fd63b\" class=\"colab-df-container\">\n",
              "    <div>\n",
              "<style scoped>\n",
              "    .dataframe tbody tr th:only-of-type {\n",
              "        vertical-align: middle;\n",
              "    }\n",
              "\n",
              "    .dataframe tbody tr th {\n",
              "        vertical-align: top;\n",
              "    }\n",
              "\n",
              "    .dataframe thead th {\n",
              "        text-align: right;\n",
              "    }\n",
              "</style>\n",
              "<table border=\"1\" class=\"dataframe\">\n",
              "  <thead>\n",
              "    <tr style=\"text-align: right;\">\n",
              "      <th></th>\n",
              "      <th>Customer ID</th>\n",
              "      <th>Quantity</th>\n",
              "      <th>Total Revenue</th>\n",
              "      <th>Profit</th>\n",
              "      <th>Days_to_Delivery</th>\n",
              "      <th>Recency</th>\n",
              "      <th>Frequency</th>\n",
              "      <th>Unit Cost</th>\n",
              "    </tr>\n",
              "  </thead>\n",
              "  <tbody>\n",
              "    <tr>\n",
              "      <th>0</th>\n",
              "      <td>1</td>\n",
              "      <td>51</td>\n",
              "      <td>4322.70</td>\n",
              "      <td>546.90</td>\n",
              "      <td>0.571429</td>\n",
              "      <td>3552.800000</td>\n",
              "      <td>35</td>\n",
              "      <td>89.622857</td>\n",
              "    </tr>\n",
              "    <tr>\n",
              "      <th>1</th>\n",
              "      <td>3</td>\n",
              "      <td>28</td>\n",
              "      <td>2821.00</td>\n",
              "      <td>267.30</td>\n",
              "      <td>0.950000</td>\n",
              "      <td>3589.750000</td>\n",
              "      <td>20</td>\n",
              "      <td>90.505000</td>\n",
              "    </tr>\n",
              "    <tr>\n",
              "      <th>2</th>\n",
              "      <td>4</td>\n",
              "      <td>17</td>\n",
              "      <td>782.67</td>\n",
              "      <td>111.29</td>\n",
              "      <td>0.555556</td>\n",
              "      <td>4107.000000</td>\n",
              "      <td>9</td>\n",
              "      <td>37.195556</td>\n",
              "    </tr>\n",
              "    <tr>\n",
              "      <th>3</th>\n",
              "      <td>5</td>\n",
              "      <td>29</td>\n",
              "      <td>2810.98</td>\n",
              "      <td>236.88</td>\n",
              "      <td>1.894737</td>\n",
              "      <td>3814.263158</td>\n",
              "      <td>19</td>\n",
              "      <td>107.947368</td>\n",
              "    </tr>\n",
              "    <tr>\n",
              "      <th>4</th>\n",
              "      <td>6</td>\n",
              "      <td>26</td>\n",
              "      <td>1604.58</td>\n",
              "      <td>205.42</td>\n",
              "      <td>1.600000</td>\n",
              "      <td>3474.733333</td>\n",
              "      <td>15</td>\n",
              "      <td>52.526667</td>\n",
              "    </tr>\n",
              "  </tbody>\n",
              "</table>\n",
              "</div>\n",
              "    <div class=\"colab-df-buttons\">\n",
              "\n",
              "  <div class=\"colab-df-container\">\n",
              "    <button class=\"colab-df-convert\" onclick=\"convertToInteractive('df-6a824509-21bd-42c6-af28-1394013fd63b')\"\n",
              "            title=\"Convert this dataframe to an interactive table.\"\n",
              "            style=\"display:none;\">\n",
              "\n",
              "  <svg xmlns=\"http://www.w3.org/2000/svg\" height=\"24px\" viewBox=\"0 -960 960 960\">\n",
              "    <path d=\"M120-120v-720h720v720H120Zm60-500h600v-160H180v160Zm220 220h160v-160H400v160Zm0 220h160v-160H400v160ZM180-400h160v-160H180v160Zm440 0h160v-160H620v160ZM180-180h160v-160H180v160Zm440 0h160v-160H620v160Z\"/>\n",
              "  </svg>\n",
              "    </button>\n",
              "\n",
              "  <style>\n",
              "    .colab-df-container {\n",
              "      display:flex;\n",
              "      gap: 12px;\n",
              "    }\n",
              "\n",
              "    .colab-df-convert {\n",
              "      background-color: #E8F0FE;\n",
              "      border: none;\n",
              "      border-radius: 50%;\n",
              "      cursor: pointer;\n",
              "      display: none;\n",
              "      fill: #1967D2;\n",
              "      height: 32px;\n",
              "      padding: 0 0 0 0;\n",
              "      width: 32px;\n",
              "    }\n",
              "\n",
              "    .colab-df-convert:hover {\n",
              "      background-color: #E2EBFA;\n",
              "      box-shadow: 0px 1px 2px rgba(60, 64, 67, 0.3), 0px 1px 3px 1px rgba(60, 64, 67, 0.15);\n",
              "      fill: #174EA6;\n",
              "    }\n",
              "\n",
              "    .colab-df-buttons div {\n",
              "      margin-bottom: 4px;\n",
              "    }\n",
              "\n",
              "    [theme=dark] .colab-df-convert {\n",
              "      background-color: #3B4455;\n",
              "      fill: #D2E3FC;\n",
              "    }\n",
              "\n",
              "    [theme=dark] .colab-df-convert:hover {\n",
              "      background-color: #434B5C;\n",
              "      box-shadow: 0px 1px 3px 1px rgba(0, 0, 0, 0.15);\n",
              "      filter: drop-shadow(0px 1px 2px rgba(0, 0, 0, 0.3));\n",
              "      fill: #FFFFFF;\n",
              "    }\n",
              "  </style>\n",
              "\n",
              "    <script>\n",
              "      const buttonEl =\n",
              "        document.querySelector('#df-6a824509-21bd-42c6-af28-1394013fd63b button.colab-df-convert');\n",
              "      buttonEl.style.display =\n",
              "        google.colab.kernel.accessAllowed ? 'block' : 'none';\n",
              "\n",
              "      async function convertToInteractive(key) {\n",
              "        const element = document.querySelector('#df-6a824509-21bd-42c6-af28-1394013fd63b');\n",
              "        const dataTable =\n",
              "          await google.colab.kernel.invokeFunction('convertToInteractive',\n",
              "                                                    [key], {});\n",
              "        if (!dataTable) return;\n",
              "\n",
              "        const docLinkHtml = 'Like what you see? Visit the ' +\n",
              "          '<a target=\"_blank\" href=https://colab.research.google.com/notebooks/data_table.ipynb>data table notebook</a>'\n",
              "          + ' to learn more about interactive tables.';\n",
              "        element.innerHTML = '';\n",
              "        dataTable['output_type'] = 'display_data';\n",
              "        await google.colab.output.renderOutput(dataTable, element);\n",
              "        const docLink = document.createElement('div');\n",
              "        docLink.innerHTML = docLinkHtml;\n",
              "        element.appendChild(docLink);\n",
              "      }\n",
              "    </script>\n",
              "  </div>\n",
              "\n",
              "\n",
              "<div id=\"df-c7dc14e5-2d04-44d0-894e-6d683d6cd66f\">\n",
              "  <button class=\"colab-df-quickchart\" onclick=\"quickchart('df-c7dc14e5-2d04-44d0-894e-6d683d6cd66f')\"\n",
              "            title=\"Suggest charts\"\n",
              "            style=\"display:none;\">\n",
              "\n",
              "<svg xmlns=\"http://www.w3.org/2000/svg\" height=\"24px\"viewBox=\"0 0 24 24\"\n",
              "     width=\"24px\">\n",
              "    <g>\n",
              "        <path d=\"M19 3H5c-1.1 0-2 .9-2 2v14c0 1.1.9 2 2 2h14c1.1 0 2-.9 2-2V5c0-1.1-.9-2-2-2zM9 17H7v-7h2v7zm4 0h-2V7h2v10zm4 0h-2v-4h2v4z\"/>\n",
              "    </g>\n",
              "</svg>\n",
              "  </button>\n",
              "\n",
              "<style>\n",
              "  .colab-df-quickchart {\n",
              "      --bg-color: #E8F0FE;\n",
              "      --fill-color: #1967D2;\n",
              "      --hover-bg-color: #E2EBFA;\n",
              "      --hover-fill-color: #174EA6;\n",
              "      --disabled-fill-color: #AAA;\n",
              "      --disabled-bg-color: #DDD;\n",
              "  }\n",
              "\n",
              "  [theme=dark] .colab-df-quickchart {\n",
              "      --bg-color: #3B4455;\n",
              "      --fill-color: #D2E3FC;\n",
              "      --hover-bg-color: #434B5C;\n",
              "      --hover-fill-color: #FFFFFF;\n",
              "      --disabled-bg-color: #3B4455;\n",
              "      --disabled-fill-color: #666;\n",
              "  }\n",
              "\n",
              "  .colab-df-quickchart {\n",
              "    background-color: var(--bg-color);\n",
              "    border: none;\n",
              "    border-radius: 50%;\n",
              "    cursor: pointer;\n",
              "    display: none;\n",
              "    fill: var(--fill-color);\n",
              "    height: 32px;\n",
              "    padding: 0;\n",
              "    width: 32px;\n",
              "  }\n",
              "\n",
              "  .colab-df-quickchart:hover {\n",
              "    background-color: var(--hover-bg-color);\n",
              "    box-shadow: 0 1px 2px rgba(60, 64, 67, 0.3), 0 1px 3px 1px rgba(60, 64, 67, 0.15);\n",
              "    fill: var(--button-hover-fill-color);\n",
              "  }\n",
              "\n",
              "  .colab-df-quickchart-complete:disabled,\n",
              "  .colab-df-quickchart-complete:disabled:hover {\n",
              "    background-color: var(--disabled-bg-color);\n",
              "    fill: var(--disabled-fill-color);\n",
              "    box-shadow: none;\n",
              "  }\n",
              "\n",
              "  .colab-df-spinner {\n",
              "    border: 2px solid var(--fill-color);\n",
              "    border-color: transparent;\n",
              "    border-bottom-color: var(--fill-color);\n",
              "    animation:\n",
              "      spin 1s steps(1) infinite;\n",
              "  }\n",
              "\n",
              "  @keyframes spin {\n",
              "    0% {\n",
              "      border-color: transparent;\n",
              "      border-bottom-color: var(--fill-color);\n",
              "      border-left-color: var(--fill-color);\n",
              "    }\n",
              "    20% {\n",
              "      border-color: transparent;\n",
              "      border-left-color: var(--fill-color);\n",
              "      border-top-color: var(--fill-color);\n",
              "    }\n",
              "    30% {\n",
              "      border-color: transparent;\n",
              "      border-left-color: var(--fill-color);\n",
              "      border-top-color: var(--fill-color);\n",
              "      border-right-color: var(--fill-color);\n",
              "    }\n",
              "    40% {\n",
              "      border-color: transparent;\n",
              "      border-right-color: var(--fill-color);\n",
              "      border-top-color: var(--fill-color);\n",
              "    }\n",
              "    60% {\n",
              "      border-color: transparent;\n",
              "      border-right-color: var(--fill-color);\n",
              "    }\n",
              "    80% {\n",
              "      border-color: transparent;\n",
              "      border-right-color: var(--fill-color);\n",
              "      border-bottom-color: var(--fill-color);\n",
              "    }\n",
              "    90% {\n",
              "      border-color: transparent;\n",
              "      border-bottom-color: var(--fill-color);\n",
              "    }\n",
              "  }\n",
              "</style>\n",
              "\n",
              "  <script>\n",
              "    async function quickchart(key) {\n",
              "      const quickchartButtonEl =\n",
              "        document.querySelector('#' + key + ' button');\n",
              "      quickchartButtonEl.disabled = true;  // To prevent multiple clicks.\n",
              "      quickchartButtonEl.classList.add('colab-df-spinner');\n",
              "      try {\n",
              "        const charts = await google.colab.kernel.invokeFunction(\n",
              "            'suggestCharts', [key], {});\n",
              "      } catch (error) {\n",
              "        console.error('Error during call to suggestCharts:', error);\n",
              "      }\n",
              "      quickchartButtonEl.classList.remove('colab-df-spinner');\n",
              "      quickchartButtonEl.classList.add('colab-df-quickchart-complete');\n",
              "    }\n",
              "    (() => {\n",
              "      let quickchartButtonEl =\n",
              "        document.querySelector('#df-c7dc14e5-2d04-44d0-894e-6d683d6cd66f button');\n",
              "      quickchartButtonEl.style.display =\n",
              "        google.colab.kernel.accessAllowed ? 'block' : 'none';\n",
              "    })();\n",
              "  </script>\n",
              "</div>\n",
              "\n",
              "    </div>\n",
              "  </div>\n"
            ],
            "application/vnd.google.colaboratory.intrinsic+json": {
              "type": "dataframe",
              "variable_name": "customer_data",
              "summary": "{\n  \"name\": \"customer_data\",\n  \"rows\": 68300,\n  \"fields\": [\n    {\n      \"column\": \"Customer ID\",\n      \"properties\": {\n        \"dtype\": \"number\",\n        \"std\": 27203,\n        \"min\": 1,\n        \"max\": 94254,\n        \"num_unique_values\": 68300,\n        \"samples\": [\n          86887,\n          14639,\n          58509\n        ],\n        \"semantic_type\": \"\",\n        \"description\": \"\"\n      }\n    },\n    {\n      \"column\": \"Quantity\",\n      \"properties\": {\n        \"dtype\": \"number\",\n        \"std\": 19,\n        \"min\": 1,\n        \"max\": 216,\n        \"num_unique_values\": 166,\n        \"samples\": [\n          102,\n          173,\n          69\n        ],\n        \"semantic_type\": \"\",\n        \"description\": \"\"\n      }\n    },\n    {\n      \"column\": \"Total Revenue\",\n      \"properties\": {\n        \"dtype\": \"number\",\n        \"std\": 1719.916364856371,\n        \"min\": 0.63,\n        \"max\": 18860.96,\n        \"num_unique_values\": 46982,\n        \"samples\": [\n          3937.2,\n          333.6,\n          2867.1\n        ],\n        \"semantic_type\": \"\",\n        \"description\": \"\"\n      }\n    },\n    {\n      \"column\": \"Profit\",\n      \"properties\": {\n        \"dtype\": \"number\",\n        \"std\": 193.5160673499178,\n        \"min\": 0.02,\n        \"max\": 2787.8199999999997,\n        \"num_unique_values\": 21390,\n        \"samples\": [\n          315.1,\n          457.14,\n          850.0\n        ],\n        \"semantic_type\": \"\",\n        \"description\": \"\"\n      }\n    },\n    {\n      \"column\": \"Days_to_Delivery\",\n      \"properties\": {\n        \"dtype\": \"number\",\n        \"std\": 1.4240018506920535,\n        \"min\": 0.0,\n        \"max\": 18.0,\n        \"num_unique_values\": 2568,\n        \"samples\": [\n          2.297872340425532,\n          2.8421052631578947,\n          1.3695652173913044\n        ],\n        \"semantic_type\": \"\",\n        \"description\": \"\"\n      }\n    },\n    {\n      \"column\": \"Recency\",\n      \"properties\": {\n        \"dtype\": \"number\",\n        \"std\": 333.32703004702506,\n        \"min\": 2785.0,\n        \"max\": 4609.0,\n        \"num_unique_values\": 44597,\n        \"samples\": [\n          3746.4,\n          3959.2258064516127,\n          4183.222222222223\n        ],\n        \"semantic_type\": \"\",\n        \"description\": \"\"\n      }\n    },\n    {\n      \"column\": \"Frequency\",\n      \"properties\": {\n        \"dtype\": \"number\",\n        \"std\": 11,\n        \"min\": 1,\n        \"max\": 121,\n        \"num_unique_values\": 103,\n        \"samples\": [\n          34,\n          66,\n          79\n        ],\n        \"semantic_type\": \"\",\n        \"description\": \"\"\n      }\n    },\n    {\n      \"column\": \"Unit Cost\",\n      \"properties\": {\n        \"dtype\": \"number\",\n        \"std\": 38.005258810406616,\n        \"min\": 0.5,\n        \"max\": 1463.5,\n        \"num_unique_values\": 47360,\n        \"samples\": [\n          65.4969696969697,\n          65.1,\n          45.650000000000006\n        ],\n        \"semantic_type\": \"\",\n        \"description\": \"\"\n      }\n    }\n  ]\n}"
            }
          },
          "metadata": {},
          "execution_count": 25
        }
      ]
    },
    {
      "cell_type": "markdown",
      "source": [
        "Feature Scaling:\n",
        "Normalize or standardize the features."
      ],
      "metadata": {
        "id": "dAra3FmeUOF-"
      }
    },
    {
      "cell_type": "code",
      "source": [
        "from sklearn.preprocessing import StandardScaler\n",
        "\n",
        "features = customer_data[['Frequency', 'Recency', 'Total Revenue', 'Unit Cost']]\n",
        "scaler = StandardScaler()\n",
        "scaled_features = scaler.fit_transform(features)\n",
        "\n"
      ],
      "metadata": {
        "id": "oyQRrJryUNMJ"
      },
      "execution_count": 26,
      "outputs": []
    },
    {
      "cell_type": "markdown",
      "source": [
        "# Clustering"
      ],
      "metadata": {
        "id": "djmxGQHK4PI8"
      }
    },
    {
      "cell_type": "markdown",
      "source": [
        "Determine Optimal Clusters (k):\n",
        "Use Elbow Method and Silhouette Score."
      ],
      "metadata": {
        "id": "B7k5Eh95UhLA"
      }
    },
    {
      "cell_type": "code",
      "source": [
        "from sklearn.cluster import KMeans\n",
        "import matplotlib.pyplot as plt\n",
        "from sklearn.metrics import silhouette_score\n",
        "\n",
        "# Elbow Method\n",
        "distortions = []\n",
        "for k in range(2, 11):\n",
        "    kmeans = KMeans(n_clusters=k, random_state=42)\n",
        "    kmeans.fit(scaled_features)\n",
        "    distortions.append(kmeans.inertia_)\n",
        "\n",
        "plt.plot(range(2, 11), distortions, marker='o')\n",
        "plt.xlabel('Number of clusters')\n",
        "plt.ylabel('Distortion')\n",
        "plt.title('Elbow Method for Optimal k')\n",
        "plt.show()"
      ],
      "metadata": {
        "id": "-gsZ16nHUiao",
        "outputId": "0e534023-1257-4de8-a792-92d408fb87c5",
        "colab": {
          "base_uri": "https://localhost:8080/",
          "height": 813
        }
      },
      "execution_count": 27,
      "outputs": [
        {
          "output_type": "stream",
          "name": "stderr",
          "text": [
            "/usr/local/lib/python3.10/dist-packages/sklearn/cluster/_kmeans.py:1416: FutureWarning: The default value of `n_init` will change from 10 to 'auto' in 1.4. Set the value of `n_init` explicitly to suppress the warning\n",
            "  super()._check_params_vs_input(X, default_n_init=10)\n",
            "/usr/local/lib/python3.10/dist-packages/sklearn/cluster/_kmeans.py:1416: FutureWarning: The default value of `n_init` will change from 10 to 'auto' in 1.4. Set the value of `n_init` explicitly to suppress the warning\n",
            "  super()._check_params_vs_input(X, default_n_init=10)\n",
            "/usr/local/lib/python3.10/dist-packages/sklearn/cluster/_kmeans.py:1416: FutureWarning: The default value of `n_init` will change from 10 to 'auto' in 1.4. Set the value of `n_init` explicitly to suppress the warning\n",
            "  super()._check_params_vs_input(X, default_n_init=10)\n",
            "/usr/local/lib/python3.10/dist-packages/sklearn/cluster/_kmeans.py:1416: FutureWarning: The default value of `n_init` will change from 10 to 'auto' in 1.4. Set the value of `n_init` explicitly to suppress the warning\n",
            "  super()._check_params_vs_input(X, default_n_init=10)\n",
            "/usr/local/lib/python3.10/dist-packages/sklearn/cluster/_kmeans.py:1416: FutureWarning: The default value of `n_init` will change from 10 to 'auto' in 1.4. Set the value of `n_init` explicitly to suppress the warning\n",
            "  super()._check_params_vs_input(X, default_n_init=10)\n",
            "/usr/local/lib/python3.10/dist-packages/sklearn/cluster/_kmeans.py:1416: FutureWarning: The default value of `n_init` will change from 10 to 'auto' in 1.4. Set the value of `n_init` explicitly to suppress the warning\n",
            "  super()._check_params_vs_input(X, default_n_init=10)\n",
            "/usr/local/lib/python3.10/dist-packages/sklearn/cluster/_kmeans.py:1416: FutureWarning: The default value of `n_init` will change from 10 to 'auto' in 1.4. Set the value of `n_init` explicitly to suppress the warning\n",
            "  super()._check_params_vs_input(X, default_n_init=10)\n",
            "/usr/local/lib/python3.10/dist-packages/sklearn/cluster/_kmeans.py:1416: FutureWarning: The default value of `n_init` will change from 10 to 'auto' in 1.4. Set the value of `n_init` explicitly to suppress the warning\n",
            "  super()._check_params_vs_input(X, default_n_init=10)\n",
            "/usr/local/lib/python3.10/dist-packages/sklearn/cluster/_kmeans.py:1416: FutureWarning: The default value of `n_init` will change from 10 to 'auto' in 1.4. Set the value of `n_init` explicitly to suppress the warning\n",
            "  super()._check_params_vs_input(X, default_n_init=10)\n"
          ]
        },
        {
          "output_type": "display_data",
          "data": {
            "text/plain": [
              "<Figure size 640x480 with 1 Axes>"
            ],
            "image/png": "[encoded data removed]"
          },
          "metadata": {}
        }
      ]
    },
    {
      "cell_type": "markdown",
      "source": [
        "Silhouette Score:"
      ],
      "metadata": {
        "id": "bELNbct8WSWe"
      }
    },
    {
      "cell_type": "code",
      "source": [
        "# Silhouette Score\n",
        "silhouette_scores = []\n",
        "for k in range(2, 11):\n",
        "    kmeans = KMeans(n_clusters=k, n_init=10, random_state=42)\n",
        "    labels = kmeans.fit_predict(scaled_features)\n",
        "    silhouette_scores.append(silhouette_score(scaled_features, labels))\n",
        "\n",
        "plt.plot(range(2, 11), silhouette_scores, marker='o')\n",
        "plt.xlabel('Number of clusters')\n",
        "plt.ylabel('Silhouette Score')\n",
        "plt.title('Silhouette Score for Optimal k')\n",
        "plt.show()"
      ],
      "metadata": {
        "id": "jZ7Ig29AWO97",
        "outputId": "006b3f4a-139f-435b-fc11-056686c34007",
        "colab": {
          "base_uri": "https://localhost:8080/",
          "height": 472
        }
      },
      "execution_count": 28,
      "outputs": [
        {
          "output_type": "display_data",
          "data": {
            "text/plain": [
              "<Figure size 640x480 with 1 Axes>"
            ],
            "image/png": "[encoded data removed]"
          },
          "metadata": {}
        }
      ]
    },
    {
      "cell_type": "markdown",
      "source": [
        "Hierarchical Clustering:\n",
        "\n",
        "Perform hierarchical clustering and create a dendrogram."
      ],
      "metadata": {
        "id": "e9JFXRyFUom7"
      }
    },
    {
      "cell_type": "code",
      "source": [
        "from scipy.cluster.hierarchy import dendrogram, linkage\n",
        "\n",
        "Z = linkage(scaled_features, 'ward')\n",
        "plt.figure(figsize=(10, 7))\n",
        "dendrogram(Z)\n",
        "plt.title('Hierarchical Clustering Dendrogram')\n",
        "plt.show()\n"
      ],
      "metadata": {
        "id": "9qjkUfWxUsrr"
      },
      "execution_count": null,
      "outputs": []
    },
    {
      "cell_type": "markdown",
      "source": [
        "K-Means Clustering:\n",
        "\n",
        "Apply K-Means clustering using the optimal number of clusters."
      ],
      "metadata": {
        "id": "IQY3DgupUz7B"
      }
    },
    {
      "cell_type": "code",
      "source": [
        "from sklearn.cluster import KMeans\n",
        "optimal_k = 5  # Example optimal k value based on elbow method and silhouette score\n",
        "kmeans = KMeans(n_clusters=optimal_k, random_state=42)\n",
        "customer_data['Cluster'] = kmeans.fit_predict(scaled_features)\n",
        "\n"
      ],
      "metadata": {
        "id": "g8mwo6QnU2Tb",
        "outputId": "def7cfa3-7969-46a2-d9c2-b0c357b016ea",
        "colab": {
          "base_uri": "https://localhost:8080/",
          "height": 198
        }
      },
      "execution_count": 2,
      "outputs": [
        {
          "output_type": "error",
          "ename": "NameError",
          "evalue": "name 'scaled_features' is not defined",
          "traceback": [
            "\u001b[0;31m---------------------------------------------------------------------------\u001b[0m",
            "\u001b[0;31mNameError\u001b[0m                                 Traceback (most recent call last)",
            "\u001b[0;32m<ipython-input-2-6b3885dfdb83>\u001b[0m in \u001b[0;36m<cell line: 4>\u001b[0;34m()\u001b[0m\n\u001b[1;32m      2\u001b[0m \u001b[0moptimal_k\u001b[0m \u001b[0;34m=\u001b[0m \u001b[0;36m5\u001b[0m  \u001b[0;31m# Example optimal k value based on elbow method and silhouette score\u001b[0m\u001b[0;34m\u001b[0m\u001b[0;34m\u001b[0m\u001b[0m\n\u001b[1;32m      3\u001b[0m \u001b[0mkmeans\u001b[0m \u001b[0;34m=\u001b[0m \u001b[0mKMeans\u001b[0m\u001b[0;34m(\u001b[0m\u001b[0mn_clusters\u001b[0m\u001b[0;34m=\u001b[0m\u001b[0moptimal_k\u001b[0m\u001b[0;34m,\u001b[0m \u001b[0mrandom_state\u001b[0m\u001b[0;34m=\u001b[0m\u001b[0;36m42\u001b[0m\u001b[0;34m)\u001b[0m\u001b[0;34m\u001b[0m\u001b[0;34m\u001b[0m\u001b[0m\n\u001b[0;32m----> 4\u001b[0;31m \u001b[0mcustomer_data\u001b[0m\u001b[0;34m[\u001b[0m\u001b[0;34m'Cluster'\u001b[0m\u001b[0;34m]\u001b[0m \u001b[0;34m=\u001b[0m \u001b[0mkmeans\u001b[0m\u001b[0;34m.\u001b[0m\u001b[0mfit_predict\u001b[0m\u001b[0;34m(\u001b[0m\u001b[0mscaled_features\u001b[0m\u001b[0;34m)\u001b[0m\u001b[0;34m\u001b[0m\u001b[0;34m\u001b[0m\u001b[0m\n\u001b[0m\u001b[1;32m      5\u001b[0m \u001b[0;34m\u001b[0m\u001b[0m\n",
            "\u001b[0;31mNameError\u001b[0m: name 'scaled_features' is not defined"
          ]
        }
      ]
    },
    {
      "cell_type": "markdown",
      "source": [
        "Visualize Clusters:\n",
        "\n",
        "Create visualizations using PCA and t-SNE for dimensionality reduction."
      ],
      "metadata": {
        "id": "SoZVCvpkU685"
      }
    },
    {
      "cell_type": "code",
      "source": [
        "from sklearn.decomposition import PCA\n",
        "from sklearn.manifold import TSNE\n",
        "\n",
        "pca = PCA(n_components=2)\n",
        "pca_result = pca.fit_transform(scaled_features)\n",
        "\n",
        "tsne = TSNE(n_components=2, random_state=42)\n",
        "tsne_result = tsne.fit_transform(scaled_features)\n",
        "\n",
        "plt.scatter(pca_result[:, 0], pca_result[:, 1], c=customer_data['Cluster'])\n",
        "plt.title('PCA of Customer Segments')\n",
        "plt.show()\n",
        "\n",
        "plt.scatter(tsne_result[:, 0], tsne_result[:, 1], c=customer_data['Cluster'])\n",
        "plt.title('t-SNE of Customer Segments')\n",
        "plt.show()"
      ],
      "metadata": {
        "id": "zOZhTT6CU8Uf"
      },
      "execution_count": null,
      "outputs": []
    },
    {
      "cell_type": "markdown",
      "source": [
        "# Reflect\n",
        "\n",
        "Write a brief paragraph highlighting your process and the rationale to showcase critical thinking and problem-solving.\n",
        "\n",
        "> Select the pen from the toolbar to add your entry."
      ],
      "metadata": {
        "id": "yjrtAugN6rBz"
      }
    },
    {
      "cell_type": "markdown",
      "source": [
        "### Reference:\n",
        "SAS, 2024. CUSTOMERS_CLEAN [Data set]. SAS. Last revised on 15 December 2021. [Accessed 20 February 2024]."
      ],
      "metadata": {
        "id": "ggnYxWfMMvuj"
      }
    }
  ]
}