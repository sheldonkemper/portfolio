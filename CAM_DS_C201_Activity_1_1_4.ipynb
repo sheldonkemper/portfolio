{
  "nbformat": 4,
  "nbformat_minor": 0,
  "metadata": {
    "colab": {
      "provenance": [],
      "collapsed_sections": [
        "S8hIcKU39p0A",
        "i8HHrXaZ9qHk",
        "vV7FOasW9qZA"
      ],
      "include_colab_link": true
    },
    "kernelspec": {
      "name": "python3",
      "display_name": "Python 3"
    },
    "language_info": {
      "name": "python"
    }
  },
  "cells": [
    {
      "cell_type": "markdown",
      "metadata": {
        "id": "view-in-github",
        "colab_type": "text"
      },
      "source": [
        "<a href=\"https://colab.research.google.com/github/sheldonkemper/portfolio/blob/main/CAM_DS_C201_Activity_1_1_4.ipynb\" target=\"_parent\"><img src=\"https://colab.research.google.com/assets/colab-badge.svg\" alt=\"Open In Colab\"/></a>"
      ]
    },
    {
      "cell_type": "markdown",
      "source": [
        "**First things first** - please go to 'File' and select 'Save a copy in Drive' so that you have your own version of this activity set up and ready to use.\n",
        "Remember to update the portfolio index link to your own work once completed!"
      ],
      "metadata": {
        "id": "alPuCCuao-6g"
      }
    },
    {
      "cell_type": "markdown",
      "source": [
        "# Activity 1.1.4 Regression versus classification problems\n",
        "\n",
        "## Scenario\n",
        "Read the provided five scenarios and determine whether it represents a regression or classification problem.\n",
        "\n",
        "## Objective\n",
        "Differentiate between regression and classification problems by analysing real-world scenarios, enabling a better understanding of when to apply each approach in organisational contexts.\n",
        "\n",
        "\n",
        "## Assessment criteria\n",
        "By completing this activity, you will be able to provide evidence that you can compare and contrast regression and classification problems to accurately select the appropriate solution to organisation scenarios.\n",
        "\n",
        "\n",
        "## Activity guidance\n",
        "1. Read each scenario carefully and provide your feedback in the textbox.\n",
        "2. Decide on whether regression or classification will be the best approach based on the nature of the output variable.\n",
        "3. Consider the characteristics of the data and the type of prediction required to address the scenario.\n",
        "3. Discuss your reasoning for classifying each scenario as either regression or classification. Provide a rationale for your choice.\n",
        "4. Reflect on the implications of selecting the appropriate solution for each scenario and how it contributes to organisational decision-making."
      ],
      "metadata": {
        "id": "BFbxocbj4liJ"
      }
    },
    {
      "cell_type": "markdown",
      "source": [
        "## Scenario 1: Customer churn prediction\n",
        "A telecommunications company seeks to identify which customers are at high risk of churning (cancelling their service) in the near future based on their usage patterns, billing information, and customer service interactions."
      ],
      "metadata": {
        "id": "-w5Lxu-i9osI"
      }
    },
    {
      "cell_type": "markdown",
      "source": [
        "> Select the pen from the toolbar to add your entry.\n",
        "\n",
        "\n",
        "\n",
        "\n",
        "\n"
      ],
      "metadata": {
        "id": "Y2vinn_-CTq6"
      }
    },
    {
      "cell_type": "markdown",
      "source": [
        "## Scenario 2: Sales forecasting\n",
        "A retail company wants to forecast next month's sales volume based on historical sales data, seasonality, and promotional activities."
      ],
      "metadata": {
        "id": "2IxEGkcX9pb6"
      }
    },
    {
      "cell_type": "markdown",
      "source": [
        "> Select the pen from the toolbar to add your entry."
      ],
      "metadata": {
        "id": "I7gGDA8ZCSm2"
      }
    },
    {
      "cell_type": "markdown",
      "source": [
        "## Scenario 3: Customer lifetime value prediction\n",
        "A company wants to predict the lifetime value (LTV) of customers based on their purchasing history, engagement with marketing campaigns, and demographic data."
      ],
      "metadata": {
        "id": "S8hIcKU39p0A"
      }
    },
    {
      "cell_type": "markdown",
      "source": [
        "> Select the pen from the toolbar to add your entry."
      ],
      "metadata": {
        "id": "MC_xJTVyCRlx"
      }
    },
    {
      "cell_type": "markdown",
      "source": [
        "## Scenario 4: Credit score rating\n",
        "A financial institution wants to predict the creditworthiness of its customers by assigning them to one of four categories (1, 2, 3, 4) based on their credit history, income level, and other financial indicators."
      ],
      "metadata": {
        "id": "i8HHrXaZ9qHk"
      }
    },
    {
      "cell_type": "markdown",
      "source": [
        "> Select the pen from the toolbar to add your entry."
      ],
      "metadata": {
        "id": "1R4y2cBxCPtH"
      }
    },
    {
      "cell_type": "markdown",
      "source": [
        "## Scenario 5: Predicting customer satisfaction levels\n",
        "A company wants to predict customer satisfaction on a scale from 1 to 5 based on service usage data, customer feedback, and interaction history."
      ],
      "metadata": {
        "id": "vV7FOasW9qZA"
      }
    },
    {
      "cell_type": "markdown",
      "source": [
        "> Select the pen from the toolbar to add your entry."
      ],
      "metadata": {
        "id": "8O0EhpuiCNtb"
      }
    },
    {
      "cell_type": "markdown",
      "source": [
        "## Scenario 6: Age prediction\n",
        "A social media company wants to predict the age group (e.g. 18–24, 25–34) of its users based on their activity, preferences, and interactions on the platform."
      ],
      "metadata": {
        "id": "A-Y0k_xvAMBc"
      }
    },
    {
      "cell_type": "markdown",
      "source": [
        "> Select the pen from the toolbar to add your entry."
      ],
      "metadata": {
        "id": "G7177SDpCJgy"
      }
    },
    {
      "cell_type": "markdown",
      "source": [
        "# Reflect\n",
        "\n",
        "Write a brief paragraph highlighting your process and rationale to showcase critical thinking and problem-solving.\n",
        "\n",
        "> Select the pen from the toolbar to add your entry."
      ],
      "metadata": {
        "id": "_fCGZ51I4mkI"
      }
    }
  ]
}