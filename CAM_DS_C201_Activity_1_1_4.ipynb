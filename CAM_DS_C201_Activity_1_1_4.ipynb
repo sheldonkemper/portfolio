{
  "nbformat": 4,
  "nbformat_minor": 0,
  "metadata": {
    "colab": {
      "provenance": [],
      "collapsed_sections": [
        "S8hIcKU39p0A",
        "i8HHrXaZ9qHk",
        "vV7FOasW9qZA"
      ],
      "include_colab_link": true
    },
    "kernelspec": {
      "name": "python3",
      "display_name": "Python 3"
    },
    "language_info": {
      "name": "python"
    }
  },
  "cells": [
    {
      "cell_type": "markdown",
      "metadata": {
        "id": "view-in-github",
        "colab_type": "text"
      },
      "source": [
        "<a href=\"https://colab.research.google.com/github/sheldonkemper/portfolio/blob/main/CAM_DS_C201_Activity_1_1_4.ipynb\" target=\"_parent\"><img src=\"https://colab.research.google.com/assets/colab-badge.svg\" alt=\"Open In Colab\"/></a>"
      ]
    },
    {
      "cell_type": "markdown",
      "source": [
        "**First things first** - please go to 'File' and select 'Save a copy in Drive' so that you have your own version of this activity set up and ready to use.\n",
        "Remember to update the portfolio index link to your own work once completed!"
      ],
      "metadata": {
        "id": "alPuCCuao-6g"
      }
    },
    {
      "cell_type": "markdown",
      "source": [
        "# Activity 1.1.4 Regression versus classification problems\n",
        "\n",
        "## Scenario\n",
        "Read the provided five scenarios and determine whether it represents a regression or classification problem.\n",
        "\n",
        "## Objective\n",
        "Differentiate between regression and classification problems by analysing real-world scenarios, enabling a better understanding of when to apply each approach in organisational contexts.\n",
        "\n",
        "\n",
        "## Assessment criteria\n",
        "By completing this activity, you will be able to provide evidence that you can compare and contrast regression and classification problems to accurately select the appropriate solution to organisation scenarios.\n",
        "\n",
        "\n",
        "## Activity guidance\n",
        "1. Read each scenario carefully and provide your feedback in the textbox.\n",
        "2. Decide on whether regression or classification will be the best approach based on the nature of the output variable.\n",
        "3. Consider the characteristics of the data and the type of prediction required to address the scenario.\n",
        "3. Discuss your reasoning for classifying each scenario as either regression or classification. Provide a rationale for your choice.\n",
        "4. Reflect on the implications of selecting the appropriate solution for each scenario and how it contributes to organisational decision-making."
      ],
      "metadata": {
        "id": "BFbxocbj4liJ"
      }
    },
    {
      "cell_type": "markdown",
      "source": [
        "## Scenario 1: Customer churn prediction\n",
        "A telecommunications company seeks to identify which customers are at high risk of churning (cancelling their service) in the near future based on their usage patterns, billing information, and customer service interactions."
      ],
      "metadata": {
        "id": "-w5Lxu-i9osI"
      }
    },
    {
      "cell_type": "markdown",
      "source": [
        "### Scenario 1 Analysis\n",
        "\n",
        "**Scenario**: A telecommunications company wants to identify customers at high risk of churning (cancelling their service) based on their usage patterns, billing information, and customer service interactions.\n",
        "\n",
        "**Prediction Required**: The company needs to determine which customers are likely to churn.\n",
        "\n",
        "**Nature of the Output Variable**: The output here is a binary outcome—either a customer will churn or they won't.\n",
        "\n",
        "#### Classification vs. Regression:\n",
        "\n",
        "- **Classification**: This scenario is a classic example of a classification problem. The goal is to categorize customers into one of two groups: those who are likely to churn and those who are not. The output variable is categorical (e.g., churn = \"Yes\" or \"No\").\n",
        "- **Regression**: Regression would not be suitable here because there is no continuous value being predicted. Regression is used when the outcome is a numerical value (e.g., predicting a customer's future spending amount).\n",
        "\n",
        "#### Reasoning:\n",
        "\n",
        "- Since the company wants to predict a discrete outcome (churn or no churn), the problem aligns with the use case for classification algorithms like logistic regression, decision trees, random forests, or support vector machines.\n",
        "- Classification models can handle binary outcomes effectively by learning from labeled examples of customers who have or haven't churned in the past, using features like usage patterns, billing history, and service interactions.\n",
        "\n",
        "#### Implications for Organisational Decision-Making:\n",
        "\n",
        "- **Customer Retention**: Identifying high-risk customers enables the company to take targeted actions, such as offering promotions or personalized services to retain them, which could directly impact revenue.\n",
        "- **Resource Allocation**: By focusing retention efforts on customers who are most likely to churn, the company can optimize its use of resources and improve customer satisfaction and loyalty.\n",
        "- **Strategic Planning**: Understanding churn patterns helps the company refine its service offerings, adjust pricing strategies, or improve customer support practices to enhance overall customer experience.\n",
        "\n",
        "Overall, selecting a classification approach for this scenario allows the telecommunications company to make informed decisions that directly support business objectives like reducing churn and increasing customer retention.\n",
        "\n",
        "\n",
        "\n",
        "\n",
        "\n"
      ],
      "metadata": {
        "id": "Y2vinn_-CTq6"
      }
    },
    {
      "cell_type": "markdown",
      "source": [
        "## Scenario 2: Sales forecasting\n",
        "A retail company wants to forecast next month's sales volume based on historical sales data, seasonality, and promotional activities."
      ],
      "metadata": {
        "id": "2IxEGkcX9pb6"
      }
    },
    {
      "cell_type": "markdown",
      "source": [
        "### Scenario 2 Analysis\n",
        "\n",
        "**Scenario**: A retail company aims to forecast next month's sales volume using historical sales data, seasonality, and promotional activities.\n",
        "\n",
        "**Prediction Required**: The company needs to predict the exact sales volume for the next month.\n",
        "\n",
        "**Nature of the Output Variable**: The output in this scenario is a continuous numerical value—the sales volume (e.g., number of units sold or total revenue).\n",
        "\n",
        "#### Classification vs. Regression:\n",
        "\n",
        "- **Regression**: This scenario is a perfect example of a regression problem. The objective is to predict a continuous variable (sales volume) based on various input features such as past sales data, seasonal trends, and the impact of promotional activities.\n",
        "- **Classification**: Classification would not be suitable here because there is no categorical outcome to predict. Classification is used when the desired outcome is a discrete label (e.g., predicting a product category or whether sales will be above or below a certain threshold).\n",
        "\n",
        "#### Reasoning:\n",
        "\n",
        "- Since the retail company wants to predict a continuous value (next month's sales volume), regression techniques like linear regression, time series analysis (ARIMA, SARIMA), or more complex models like Random Forest Regressor or Gradient Boosting Machines (GBMs) are appropriate.\n",
        "- These regression models can utilize historical sales data to identify patterns and relationships between sales volume and factors such as time of year (seasonality) and promotional campaigns, providing a quantitative prediction of future sales.\n",
        "\n",
        "#### Implications for Organisational Decision-Making:\n",
        "\n",
        "- **Inventory Management**: Accurate sales forecasts help the company optimize inventory levels, reducing the risk of overstocking or stockouts, which directly impacts operational efficiency and cost savings.\n",
        "- **Marketing Strategy**: By understanding the expected sales volume, the company can plan marketing and promotional activities more effectively, targeting periods where sales are forecasted to be lower to boost demand.\n",
        "- **Financial Planning**: Sales volume forecasts are crucial for financial planning and budgeting, enabling the company to allocate resources appropriately and set realistic revenue targets.\n",
        "\n",
        "Selecting a regression approach for this scenario allows the retail company to gain valuable insights into future sales trends, aiding in strategic planning and decision-making that enhances operational performance and profitability."
      ],
      "metadata": {
        "id": "I7gGDA8ZCSm2"
      }
    },
    {
      "cell_type": "markdown",
      "source": [
        "## Scenario 3: Customer lifetime value prediction\n",
        "A company wants to predict the lifetime value (LTV) of customers based on their purchasing history, engagement with marketing campaigns, and demographic data."
      ],
      "metadata": {
        "id": "S8hIcKU39p0A"
      }
    },
    {
      "cell_type": "markdown",
      "source": [
        "### Scenario 3 Analysis\n",
        "\n",
        "**Scenario**: A company wants to predict the lifetime value (LTV) of customers using their purchasing history, engagement with marketing campaigns, and demographic data.\n",
        "\n",
        "**Prediction Required**: The company needs to estimate the future total value (monetary worth) a customer will bring over their entire relationship with the company.\n",
        "\n",
        "**Nature of the Output Variable**: The output here is a continuous numerical value representing the customer’s lifetime value (LTV).\n",
        "\n",
        "#### Classification vs. Regression:\n",
        "\n",
        "- **Regression**: This scenario is a classic example of a regression problem. The goal is to predict a continuous variable—the lifetime value (LTV) of a customer. LTV is a quantitative metric that estimates the total revenue a customer will generate for the company during their relationship.\n",
        "- **Classification**: Classification would not be suitable here because the outcome is not categorical. The prediction required is not about assigning customers to categories (e.g., high value vs. low value) but about estimating a specific continuous value (LTV).\n",
        "\n",
        "#### Reasoning:\n",
        "\n",
        "- The company seeks to predict a continuous outcome (LTV), making regression the appropriate approach. Techniques such as linear regression, multiple regression, or more advanced methods like gradient boosting regression, random forest regression, or deep learning models can be employed.\n",
        "- These models can leverage the purchasing history, marketing engagement metrics, and demographic data to identify patterns and trends that influence the LTV, providing a detailed forecast for each customer.\n",
        "\n",
        "#### Implications for Organisational Decision-Making:\n",
        "\n",
        "- **Customer Segmentation and Targeting**: Understanding customer LTV allows the company to segment its customer base more effectively, targeting high-LTV customers with tailored marketing strategies to maximize revenue.\n",
        "- **Resource Allocation**: Accurate LTV predictions help the company allocate resources more efficiently, focusing on retaining high-value customers and optimizing marketing spend.\n",
        "- **Product Development and Pricing Strategies**: Insights from LTV predictions can guide product development and pricing strategies, ensuring they align with the needs and value of the most profitable customer segments.\n",
        "\n",
        "Choosing a regression approach for this scenario enables the company to make data-driven decisions that enhance customer retention, optimize marketing strategies, and ultimately drive long-term profitability and growth."
      ],
      "metadata": {
        "id": "MC_xJTVyCRlx"
      }
    },
    {
      "cell_type": "markdown",
      "source": [
        "## Scenario 4: Credit score rating\n",
        "A financial institution wants to predict the creditworthiness of its customers by assigning them to one of four categories (1, 2, 3, 4) based on their credit history, income level, and other financial indicators."
      ],
      "metadata": {
        "id": "i8HHrXaZ9qHk"
      }
    },
    {
      "cell_type": "markdown",
      "source": [
        "### Scenario 4 Analysis\n",
        "\n",
        "**Scenario**: A financial institution aims to predict the creditworthiness of its customers by assigning them to one of four categories (1, 2, 3, 4) based on their credit history, income level, and other financial indicators.\n",
        "\n",
        "**Prediction Required**: The institution needs to classify customers into one of four creditworthiness categories.\n",
        "\n",
        "**Nature of the Output Variable**: The output in this scenario is categorical, with four discrete categories representing different levels of creditworthiness (1, 2, 3, 4).\n",
        "\n",
        "#### Classification vs. Regression:\n",
        "\n",
        "- **Classification**: This scenario is a clear example of a classification problem. The goal is to categorize customers into one of four distinct creditworthiness categories. Since the outcome is discrete (categorical) and involves multiple classes, classification techniques are appropriate.\n",
        "- **Regression**: Regression would not be suitable here because the prediction isn't a continuous value. Regression is used when predicting numerical outcomes, such as a customer’s credit score as a continuous number rather than distinct categories.\n",
        "\n",
        "#### Reasoning:\n",
        "\n",
        "- The financial institution wants to predict a categorical outcome (creditworthiness categories 1, 2, 3, or 4), making classification techniques like decision trees, random forests, support vector machines (SVM), k-nearest neighbors (KNN), or multinomial logistic regression suitable for this task.\n",
        "- These models can utilize features such as credit history, income level, and other financial indicators to learn patterns and accurately classify customers into predefined creditworthiness categories.\n",
        "\n",
        "#### Implications for Organisational Decision-Making:\n",
        "\n",
        "- **Risk Assessment**: Accurate classification of customer creditworthiness allows the institution to assess risk more effectively, which is critical for making informed lending decisions and managing credit risk.\n",
        "- **Tailored Financial Products**: Based on the assigned categories, the institution can offer tailored financial products that match the risk profile and needs of each customer segment, enhancing customer satisfaction and loyalty.\n",
        "- **Regulatory Compliance**: Correctly categorizing customers based on creditworthiness is often necessary to comply with regulatory standards and guidelines, ensuring responsible lending practices.\n",
        "\n",
        "By selecting a classification approach for this scenario, the financial institution can make more precise and informed decisions regarding lending and customer segmentation, thereby reducing risk and enhancing financial performance."
      ],
      "metadata": {
        "id": "1R4y2cBxCPtH"
      }
    },
    {
      "cell_type": "markdown",
      "source": [
        "## Scenario 5: Predicting customer satisfaction levels\n",
        "A company wants to predict customer satisfaction on a scale from 1 to 5 based on service usage data, customer feedback, and interaction history."
      ],
      "metadata": {
        "id": "vV7FOasW9qZA"
      }
    },
    {
      "cell_type": "markdown",
      "source": [
        "### Scenario 5 Analysis\n",
        "\n",
        "**Scenario**: A company wants to predict customer satisfaction on a scale from 1 to 5 based on service usage data, customer feedback, and interaction history.\n",
        "\n",
        "**Prediction Required**: The company needs to predict customer satisfaction, which is rated on a scale of 1 to 5.\n",
        "\n",
        "**Nature of the Output Variable**: The output is an ordinal categorical variable, with five distinct levels representing different degrees of customer satisfaction (1, 2, 3, 4, 5).\n",
        "\n",
        "#### Classification vs. Regression:\n",
        "\n",
        "- **Classification**: This scenario is best approached as a classification problem. The outcome variable (customer satisfaction level) is discrete and ordinal, meaning it consists of categories that have a specific order but no inherent continuous value between them. Classification techniques designed for ordinal data, such as ordinal logistic regression or decision trees, are suitable for this type of prediction.\n",
        "- **Regression**: While regression could technically be used (for example, treating the satisfaction score as a continuous variable), it is not ideal because it assumes a linear relationship between satisfaction levels, which may not be appropriate given the ordinal nature of the data. The satisfaction levels have a rank order, but the difference between levels isn't necessarily uniform.\n",
        "\n",
        "#### Reasoning:\n",
        "\n",
        "- The company wants to predict a specific, discrete level of customer satisfaction (1 to 5), which makes classification the more appropriate method. In particular, an ordinal classification approach recognizes the ordered nature of the categories and can be more effective in modeling the data.\n",
        "- Classification models, especially those adapted for ordinal outcomes, can utilize features such as service usage data, customer feedback, and interaction history to learn patterns and accurately assign customers to one of the satisfaction levels.\n",
        "\n",
        "#### Implications for Organisational Decision-Making:\n",
        "\n",
        "- **Improving Customer Experience**: By predicting customer satisfaction levels, the company can identify areas where service needs improvement and take proactive steps to enhance the customer experience.\n",
        "- **Targeted Interventions**: Understanding which customers are less satisfied allows the company to engage in targeted interventions, such as personalized outreach or service recovery efforts, to improve satisfaction scores and foster customer loyalty.\n",
        "- **Performance Metrics**: Satisfaction predictions can be integrated into performance metrics to evaluate and improve service quality, customer support effectiveness, and overall customer relationship management strategies.\n",
        "\n",
        "Choosing a classification approach for this scenario allows the company to accurately predict and understand customer satisfaction levels, thereby driving strategic decisions that enhance service quality and customer retention."
      ],
      "metadata": {
        "id": "8O0EhpuiCNtb"
      }
    },
    {
      "cell_type": "markdown",
      "source": [
        "## Scenario 6: Age prediction\n",
        "A social media company wants to predict the age group (e.g. 18–24, 25–34) of its users based on their activity, preferences, and interactions on the platform."
      ],
      "metadata": {
        "id": "A-Y0k_xvAMBc"
      }
    },
    {
      "cell_type": "markdown",
      "source": [
        "### Scenario 6 Analysis\n",
        "\n",
        "**Scenario**: A social media company aims to predict the age group (e.g., 18–24, 25–34) of its users based on their activity, preferences, and interactions on the platform.\n",
        "\n",
        "**Prediction Required**: The company needs to categorize users into specific age groups.\n",
        "\n",
        "**Nature of the Output Variable**: The output is a categorical variable with multiple classes, each representing a different age group (e.g., 18–24, 25–34, etc.).\n",
        "\n",
        "#### Classification vs. Regression:\n",
        "\n",
        "- **Classification**: This scenario is a classic example of a classification problem. The goal is to assign each user to a specific age group category based on their behavior on the platform. The outcome is categorical with multiple discrete classes, making classification techniques the most appropriate choice.\n",
        "- **Regression**: Regression would not be suitable here because the prediction is not a continuous numerical value. Regression models are used when the target variable is continuous (e.g., predicting a user’s exact age rather than an age group).\n",
        "\n",
        "#### Reasoning:\n",
        "\n",
        "- Since the social media company wants to predict a categorical outcome (age group), classification models such as decision trees, random forests, k-nearest neighbors (KNN), support vector machines (SVM), or multinomial logistic regression are well-suited for this task.\n",
        "- These models can learn from patterns in user activity, preferences, and interactions to predict the most likely age group for a given user. For example, younger users might show different engagement patterns or preferences compared to older users.\n",
        "\n",
        "#### Implications for Organisational Decision-Making:\n",
        "\n",
        "- **Targeted Advertising**: By accurately predicting users' age groups, the company can offer more targeted advertising opportunities to its clients, improving ad relevance and effectiveness, which can drive higher engagement and revenue.\n",
        "- **Content Personalization**: Understanding the age demographics of its users allows the social media company to tailor content and platform features to different age groups, enhancing user experience and satisfaction.\n",
        "- **User Engagement Strategies**: Predicting age groups can inform strategies to boost user engagement by understanding the specific preferences and behaviors of different demographic segments, leading to more personalized user interactions and a stronger community.\n",
        "\n",
        "Selecting a classification approach for this scenario enables the social media company to leverage user data effectively for improved user segmentation, content delivery, and monetization strategies, ultimately enhancing user satisfaction and platform growth."
      ],
      "metadata": {
        "id": "G7177SDpCJgy"
      }
    },
    {
      "cell_type": "markdown",
      "source": [
        "# Reflect\n",
        "\n",
        "Write a brief paragraph highlighting your process and rationale to showcase critical thinking and problem-solving.\n",
        "\n",
        "In analyzing each scenario, I employed a structured approach to determine whether a regression or classification model would be most appropriate. I began by identifying the nature of the output variable—whether it was continuous or categorical—and considered the type of prediction required (numerical value versus discrete categories). For scenarios involving continuous outcomes, I chose regression techniques, which are suited for predicting numerical values, such as sales forecasts or lifetime customer value. Conversely, for scenarios requiring predictions of categorical outcomes, such as customer churn risk or age groups, I opted for classification methods. This approach ensured that each problem was matched with a model type that best aligns with the nature of the data and the business objective, reflecting a thoughtful consideration of both the characteristics of the data and the strategic needs of the organization. This critical thinking process is crucial for effectively solving real-world problems and providing actionable insights that can drive decision-making and optimize outcomes."
      ],
      "metadata": {
        "id": "_fCGZ51I4mkI"
      }
    },
    {
      "cell_type": "code",
      "source": [],
      "metadata": {
        "id": "Xc3qKt1Azl7g"
      },
      "execution_count": null,
      "outputs": []
    }
  ]
}