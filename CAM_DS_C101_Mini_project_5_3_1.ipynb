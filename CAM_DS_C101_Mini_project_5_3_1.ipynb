{
  "nbformat": 4,
  "nbformat_minor": 0,
  "metadata": {
    "colab": {
      "provenance": [],
      "collapsed_sections": [
        "X4nsHz4f6Vjh"
      ],
      "include_colab_link": true
    },
    "kernelspec": {
      "name": "python3",
      "display_name": "Python 3"
    },
    "language_info": {
      "name": "python"
    }
  },
  "cells": [
    {
      "cell_type": "markdown",
      "metadata": {
        "id": "view-in-github",
        "colab_type": "text"
      },
      "source": [
        "<a href=\"https://colab.research.google.com/github/sheldonkemper/portfolio/blob/main/CAM_DS_C101_Mini_project_5_3_1.ipynb\" target=\"_parent\"><img src=\"https://colab.research.google.com/assets/colab-badge.svg\" alt=\"Open In Colab\"/></a>"
      ]
    },
    {
      "cell_type": "markdown",
      "source": [
        "# Mini-project 5.3 Detecting the anomalous activity of a ship’s engine\n",
        "\n",
        "**Welcome to your first mini-project: Detecting the anomalous activity of a ship’s engine!**\n",
        "\n",
        "This mini-project allows you to dive deep into a real-world challenge, applying and honing the data science skills you've been cultivating so far. In this immersive exploration into detecting the anomalous activity of a ship’s engine, you can practically apply the concepts you've learned over the past few weeks.\n",
        "\n",
        "A poorly maintained ship engine in the supply chain industry can lead to inefficiencies, increased fuel consumption, higher risks of malfunctions, and potential safety hazards. Your challenge in this project is to apply critical thinking and ML concepts to design and implement a robust anomaly detection model.\n",
        "\n",
        "Please set aside approximately **12 hours** to complete the mini-project by **Monday, 20 May 2024, at 5 p.m. (UK Time)**.\n",
        "\n",
        "<br></br>\n",
        "\n",
        "## **Business context**\n",
        "You are provided with a real data set to identify anomalous activity in a ship’s engine functionality (Devabrat,  2022). As you work through this project, keep in mind that, typically speaking, anomalies would make up a minority of the data points (i.e., about 1% to 5% of the data points would be anomalies).\n",
        "\n",
        "The data set contains six important features continuously monitored to evaluate the engine's status as ‘good’ or ‘bad’. These features are:\n",
        "- **Engine rpm (revolutions per minute):** A high rpm indicates the engine is operating at a higher speed than designed for prolonged periods, which can lead to overheating, excessive wear, and eventual failure. A low rpm could signal a lack of power, issues with fuel delivery, or internal mechanical problems.\n",
        "- **Lubrication oil pressure:** Low lubrication oil pressure indicates insufficient lubrication, leading to increased friction, overheating, and engine damage. A high lubrication oil pressure could signal a blockage in the oil delivery system, potentially causing seal or gasket failure.\n",
        "- **Fuel pressure:** High fuel pressure can cause poor engine performance and incomplete combustion, indicating fuel pump or filter issues. A low fuel pressure may result in excessive fuel consumption, poor emissions, or damage to the fuel injectors.\n",
        "- **Coolant pressure:** Low coolant pressure indicates a potential leak in the cooling system or a coolant pump failure, risking engine overheating. A high coolant pressure could be a sign of a blockage in the cooling system or a failing head gasket, which can also lead to overheating.\n",
        "- **Lubrication oil temperature:** High lubrication oil temperature suggests the oil is overheating, which can degrade its lubricating properties and lead to engine damage. A low lubrication oil temperature may indicate it is not reaching its optimal operating temperature, potentially causing inadequate lubrication.\n",
        "- **Coolant temperature:** High coolant temperature signals overheating, which various issues, including a failed thermostat, coolant leak, or insufficient coolant flow can cause. A low coolant temperature could suggest the engine is not reaching its optimal operating temperature, affecting performance and efficiency.\n",
        "\n",
        "Issues with engines could lead to engine malfunctions, potential safety hazards, and downtime (e.g. delayed deliveries), resulting in the breakdown of a ship’s overall functionality, consequently impacting the business, such as affecting revenue via failure to deliver goods. By predicting timely maintenance, the business aims to increase profit by reducing downtime, reducing safety risks for the crew, limiting fuel consumption, and increasing customer satisfaction through timely deliveries.\n",
        "\n",
        "Your task is to develop a robust anomaly detection system to protect a company’s shipping fleet by evaluating engine functionality. Therefore, you’ll explore the data and:\n",
        "- employ preprocessing and feature engineering\n",
        "- perform model training, anomaly detection, post-processing, and refinement.\n",
        "\n",
        "You must prepare a report illustrating your insights to the prospective stakeholders, showing how your solution will save the business money and build trust with its stakeholders. At this stage of the project, the main question you need to consider is:\n",
        "- What insights can be gained from the data, and what recommendations can be made to the company based on these insights? For example, which features need to be monitored closely, and what are the thresholds for anomalous observations? Which statistical or ML technique is the best for anomaly detection based on **this data set**, and which feature (univariate approach) or combination of features (multivariate approach) can predict maintenance?\n",
        "\n",
        "<br></br>\n",
        "\n",
        "> **Disclaimer**\n",
        ">\n",
        "> Please note that although a real-life data set was provided, the business context in this project is fictitious. Any resemblance to companies and persons (living or dead) is coincidental. The course designers and hosts assume no responsibility or liability for any errors or omissions in the content of the business context and data sets. The information in the data sets is provided on an 'as is' basis with no guarantees of completeness, accuracy, usefulness, or timeliness.\n",
        "\n",
        "<br></br>\n",
        "\n",
        "## **Objective**\n",
        "By the end of this mini-project, you will be able to understand and apply statistical and ML methods for detecting anomalies.\n",
        "\n",
        "In the Notebook, you will:\n",
        "- explore the data set\n",
        "- preprocess the data and conduct feature engineering\n",
        "- apply statistical techniques to detect anomalies\n",
        "- use ML algorithms to detect anomalies.\n",
        "\n",
        "You will also write a report summarising the results of your findings and recommendations.\n",
        "\n",
        "<br></br>\n",
        "\n",
        "## **Assessment criteria**\n",
        "By completing this project, you will be able to provide evidence that you can:\n",
        "- demonstrate enhanced problem-solving skills and proposed strategic solutions by systematically analysing complex organisational challenges\n",
        "- identify meaningful patterns in complex data to evidence advanced critical and statistical thinking skills\n",
        "- select statistical techniques appropriate to a solutions design approach and evidence the ability to evaluate their effectiveness\n",
        "- demonstrate enhanced data representation and improved model performance by systematically implementing relevant techniques\n",
        "- design innovative solutions through critically selecting, evaluating and implementing effective unsupervised learning techniques.\n",
        "\n",
        "<br></br>\n",
        "\n",
        "## **Project guidance**\n",
        "1. Import the required libraries and data set with the provided URL.\n",
        "2. View the DataFrame and perform EDA, including identifying missing or duplicate values.\n",
        "3. Generate the descriptive statistics of the data, including:\n",
        " - observing the mean for each feature\n",
        " - identifying the median\n",
        " - idenitfying the range values beyond the 95th percentile for at least two features.\n",
        "4. Visualise the data to determine the distribution and extreme values.\n",
        "5. Perform anomaly detection with a statistical method and identify possible anomalies. Specifically:\n",
        "  - Use the interquartile range (IQR) method to identify outliers for each feature.\n",
        "  - Create a new column (corresponding to each feature) that will indicate (in binary – 0,1) if the value of that feature is an outlier as per IQR calculations.\n",
        "  - Use IQR to identify a sample as an outlier only if three or more of the features fall under an outlier category for a particular sample.\n",
        "  - Use IQR to identify a sample as an outlier only if all the features fall under an outlier category for a particular sample.\n",
        "  - Record your thoughts and oberservations.\n",
        "6. Perform anomaly detection with ML models:\n",
        "  - Perform feature scaling to prepare the data for ML algorithms.\n",
        "  - Using one-class SVM,\n",
        "    - identify possible anomalies\n",
        "    - visualise the output in 2D after performing PCA and ensure the outliers are in a different colour\n",
        "    - apply different combinations of parameter settings to improve the model's performance\n",
        "    - record your insights about the use of this method.\n",
        "  - Using Isolation Forest,\n",
        "    - identify possible anomalies\n",
        "    - visualise the output in 2D after performing PCA and ensure the outliers are in a different colour\n",
        "    - apply different combinations of parameter settings to improve the model's performance\n",
        "    - record your insights about the use of this method.\n",
        "7. Document your approach and major inferences from the data analysis and describe which method (and parameters) provided the best results and why.\n",
        "8. When you’ve completed the activity:\n",
        "  - Download your completed Notebook as an IPYNB (Jupyter Notebook) or PY (Python) file. Save the file as follows: LastName_FirstName_CAM_C101_W5_Mini-project.\n",
        "  - Prepare a detailed report (between 800-1000 words) that includes:\n",
        "    - an overview of your approach\n",
        "    - a description of your analysis\n",
        "    - an explanation of the insights you identified\n",
        "    - a summary of which method gave the best results\n",
        "    - a clear visualisation of your anomaly detection approach\n",
        "    - an explanation of whether the 2D plot describes observations are classified as outliers.\n",
        "  - Save the document as a PDF named according to the following convention: LastName_FirstName_CAM_C101_W5_Mini-project.pdf.\n",
        "  - You can submit your files individually or as a ZIP file. If you upload a ZIP file, use the correct naming convention: LastName_FirstName_CAM_C101_W5_Mini-project.zip.\n",
        "  - Submit your Notebook and PDF document by **Monday, 20 May 2024, at 5 p.m. (UK Time)**.\n",
        "\n",
        "<br></br>\n",
        "> **Declaration**\n",
        ">\n",
        "> By submitting your project, you indicate that the work is your own and has been created with academic integrity. Refer to the Cambridge plagiarism regulations."
      ],
      "metadata": {
        "id": "X4nsHz4f6Vjh"
      }
    },
    {
      "cell_type": "markdown",
      "source": [
        "> Start your activity here. Select the pen from the toolbar to add your entry."
      ],
      "metadata": {
        "id": "bljr0Oql_8Gf"
      }
    },
    {
      "cell_type": "code",
      "source": [
        "# URL to import data set from GitHub.\n",
        "# url = 'https://raw.githubusercontent.com/fourthrevlxd/cam_dsb/main/engine.csv'"
      ],
      "metadata": {
        "id": "mn1_spG2sdfd"
      },
      "execution_count": null,
      "outputs": []
    },
    {
      "cell_type": "code",
      "source": [],
      "metadata": {
        "id": "DQAwxOsxCUth"
      },
      "execution_count": null,
      "outputs": []
    },
    {
      "cell_type": "markdown",
      "source": [],
      "metadata": {
        "id": "0ntUf3mrCVSV"
      }
    },
    {
      "cell_type": "markdown",
      "source": [],
      "metadata": {
        "id": "A5tPopvuCVLu"
      }
    },
    {
      "cell_type": "markdown",
      "source": [],
      "metadata": {
        "id": "djmxGQHK4PI8"
      }
    },
    {
      "cell_type": "markdown",
      "source": [
        "# Reflect\n",
        "\n",
        "Write a brief paragraph highlighting your process and the rationale to showcase critical thinking and problem-solving.\n",
        "\n",
        "> Select the pen from the toolbar to add your entry."
      ],
      "metadata": {
        "id": "yjrtAugN6rBz"
      }
    },
    {
      "cell_type": "markdown",
      "source": [
        "### Reference:\n",
        "Devabrat, M., 2022. Predictive Maintenance on Ship's Main Engine using AI. Available at: https://dx.doi.org/10.21227/g3za-v415. [Accessed 5 March 2024]"
      ],
      "metadata": {
        "id": "ggnYxWfMMvuj"
      }
    }
  ]
}