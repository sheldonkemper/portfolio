{
  "cells": [
    {
      "cell_type": "markdown",
      "metadata": {
        "id": "view-in-github",
        "colab_type": "text"
      },
      "source": [
        "<a href=\"https://colab.research.google.com/github/sheldonkemper/portfolio/blob/main/Activity_DecisionTreesClassification.ipynb\" target=\"_parent\"><img src=\"https://colab.research.google.com/assets/colab-badge.svg\" alt=\"Open In Colab\"/></a>"
      ]
    },
    {
      "cell_type": "markdown",
      "metadata": {
        "id": "wBRvHKWGjtJ2"
      },
      "source": [
        "# **Decision Trees**\n",
        "\n",
        "## **1. Preprocessing**\n",
        "   - 1.1 Importing packages and data.\n",
        "   - 1.2 Data Exploration: Check feature descriptions, missing values, odd characters, and imbalance in the dataset. Visualizing the distribution of features, and correlation analysis.\n",
        "\n",
        "## **2. Transformations**\n",
        "   - 2.1 Handle missing values, odd characters, and split the data. Apply any other transformations that you might consider necessary (e.g. OHE, Scaling, Imputation).\n",
        "\n",
        "## **3. Basic Decision Tree Models**\n",
        "   - 3.1 Train and evaluate a Simple Decision Tree using either Gini or Entropy.\n",
        "   - 3.2 Visualise the tree.\n",
        "   - 3.3 Train and evaluate a Simple Decision Tree using both `max_depth` and `min_samples_leaf`.\n",
        "   - 3.4 Visualise the tree.\n",
        "   - 3.5 Compare performance.\n",
        "\n",
        "## **4. Ensemble Methods and Their Comparison**\n",
        "   - 4.1 Train and evaluate a Random Forest.\n",
        "   - 4.2 Train and evaluate a Simple Decision Tree using both `max_depth` and `min_samples_leaf`.\n",
        "   - 4.3 Compare performance: Compare Random Forest against the simple Decision Tree."
      ]
    },
    {
      "cell_type": "markdown",
      "metadata": {
        "id": "VUS8gAD0jtJ5"
      },
      "source": [
        "# **Activity**\n",
        "\n",
        "* You are required to implement a classification tree algorithm to solve a bank churn scenario.\n",
        "\n",
        "* Follow the steps provided above in order to solve this problem.\n",
        "\n",
        "* You are provided with all the necessary packages and helper function (if needed) to complete the exercise.\n"
      ]
    },
    {
      "cell_type": "markdown",
      "metadata": {
        "id": "oIbDfOxSjtJ6"
      },
      "source": [
        "# 1.Pre-processing\n",
        "### 1.1 Importing Packages and data\n",
        "\n"
      ]
    },
    {
      "cell_type": "code",
      "execution_count": null,
      "metadata": {
        "id": "UNSebPg4jtJ6"
      },
      "outputs": [],
      "source": [
        "# Importing Necessary Libraries\n",
        "import pandas as pd\n",
        "import numpy as np\n",
        "import matplotlib.pyplot as plt\n",
        "import seaborn as sns\n",
        "from sklearn.tree import DecisionTreeClassifier, plot_tree\n",
        "from sklearn.model_selection import train_test_split\n",
        "from sklearn.metrics import accuracy_score, roc_auc_score\n",
        "from sklearn.ensemble import RandomForestClassifier\n",
        "from sklearn.preprocessing import StandardScaler\n",
        "from sklearn.preprocessing import OneHotEncoder\n",
        "\n",
        "# Function to evaluate the model\n",
        "def evaluate_model(model, X_test, y_test):\n",
        "    predictions = model.predict(X_test)\n",
        "    print(\"ROC Score:\", roc_auc_score(y_test, predictions))\n",
        "    print(\"Accuracy Score\", accuracy_score(y_test, predictions))\n",
        "\n",
        "\n",
        "np.random.seed(0)\n",
        "\n",
        "# Load the dataset\n",
        "df = pd.read_csv(\"https://raw.githubusercontent.com/fourthrevlxd/cam_dsb/main/C2_W5_Datasets/bank_churn_data_raw.csv\", index_col=0)\n"
      ]
    },
    {
      "cell_type": "markdown",
      "metadata": {
        "id": "9oYAJec9jtJ8"
      },
      "source": [
        "### 1.2 Data Exploration\n",
        "\n",
        "* Check for: feature descriptions, missing values, data types, odd characters, and imbalance in the dataset.\n",
        "* Visualise the distribution of features, and correlation analysis.\n"
      ]
    },
    {
      "cell_type": "code",
      "execution_count": null,
      "metadata": {
        "id": "_aFz-5b5jtJ8"
      },
      "outputs": [],
      "source": []
    },
    {
      "cell_type": "markdown",
      "metadata": {
        "id": "wz4LXXG8jtJ8"
      },
      "source": [
        "# 2.Transformations\n",
        "### 2.1 Handle missing values, odd characters, and split the data. Apply any other transformations that you might consider necessary (e.g. OHE, Scaling, Imputation).\n",
        "\n",
        "* Remember the effects of applying any transformations pre/post splitting.\n",
        "\n"
      ]
    },
    {
      "cell_type": "code",
      "execution_count": null,
      "metadata": {
        "id": "_woqoTPOjtJ9"
      },
      "outputs": [],
      "source": []
    },
    {
      "cell_type": "markdown",
      "metadata": {
        "id": "FgsJYBwbjtJ9"
      },
      "source": [
        "# 3.Basic Decision Tree Models\n",
        "### 3.1 Train and evaluate a Simple Decision Tree using either Gini or Entropy.\n",
        "\n",
        "* Remember to consider metrics based on whether the dataset is imbalanced or not."
      ]
    },
    {
      "cell_type": "code",
      "execution_count": null,
      "metadata": {
        "id": "EoXIifUxjtJ9"
      },
      "outputs": [],
      "source": []
    },
    {
      "cell_type": "markdown",
      "metadata": {
        "id": "eooS-X2tjtJ-"
      },
      "source": [
        "### 3.2 Visualise the tree.\n"
      ]
    },
    {
      "cell_type": "code",
      "execution_count": null,
      "metadata": {
        "id": "-k1Be7R1jtJ-"
      },
      "outputs": [],
      "source": []
    },
    {
      "cell_type": "markdown",
      "metadata": {
        "id": "zqLBr1eFjtJ-"
      },
      "source": [
        "### 3.3 Train and evaluate a Simple Decision Tree using both `max_depth` and `min_samples_leaf`.\n"
      ]
    },
    {
      "cell_type": "code",
      "execution_count": null,
      "metadata": {
        "id": "rR3v0UcIjtJ-"
      },
      "outputs": [],
      "source": []
    },
    {
      "cell_type": "markdown",
      "metadata": {
        "id": "cl3roOJ_jtJ-"
      },
      "source": [
        "### 3.4 Visualise the tree\n"
      ]
    },
    {
      "cell_type": "code",
      "execution_count": null,
      "metadata": {
        "id": "RPP4XA_mjtJ-"
      },
      "outputs": [],
      "source": []
    },
    {
      "cell_type": "markdown",
      "metadata": {
        "id": "-Tm88bfYjtJ_"
      },
      "source": [
        "### 3.5 Compare performance"
      ]
    },
    {
      "cell_type": "code",
      "execution_count": null,
      "metadata": {
        "id": "bqrLdCj6jtJ_"
      },
      "outputs": [],
      "source": []
    },
    {
      "cell_type": "markdown",
      "metadata": {
        "id": "TtNWym_ujtJ_"
      },
      "source": [
        "# 4.Ensemble Methods and Their Comparison\n",
        "### 4.1 Train and evaluate a Random Forest\n"
      ]
    },
    {
      "cell_type": "code",
      "execution_count": null,
      "metadata": {
        "id": "9UKciBfAjtJ_"
      },
      "outputs": [],
      "source": []
    },
    {
      "cell_type": "markdown",
      "metadata": {
        "id": "9Y61F5A0jtJ_"
      },
      "source": [
        "### 4.2 Train and evaluate a Simple Decision Tree using both `max_depth` and `min_samples_leaf`\n"
      ]
    },
    {
      "cell_type": "code",
      "execution_count": null,
      "metadata": {
        "id": "JYAV6w_ejtJ_"
      },
      "outputs": [],
      "source": []
    },
    {
      "cell_type": "markdown",
      "metadata": {
        "id": "31VcsSmgjtJ_"
      },
      "source": [
        "### 4.3 Compare performance: Compare Random Forest against the simple Decision Tree"
      ]
    },
    {
      "cell_type": "code",
      "execution_count": null,
      "metadata": {
        "id": "yv2VdFxajtJ_"
      },
      "outputs": [],
      "source": []
    }
  ],
  "metadata": {
    "kernelspec": {
      "display_name": "base",
      "language": "python",
      "name": "python3"
    },
    "language_info": {
      "codemirror_mode": {
        "name": "ipython",
        "version": 3
      },
      "file_extension": ".py",
      "mimetype": "text/x-python",
      "name": "python",
      "nbconvert_exporter": "python",
      "pygments_lexer": "ipython3",
      "version": "3.10.13"
    },
    "colab": {
      "provenance": [],
      "include_colab_link": true
    }
  },
  "nbformat": 4,
  "nbformat_minor": 0
}