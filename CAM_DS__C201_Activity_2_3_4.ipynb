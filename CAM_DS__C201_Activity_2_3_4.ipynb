{
  "cells": [
    {
      "cell_type": "markdown",
      "metadata": {
        "id": "view-in-github",
        "colab_type": "text"
      },
      "source": [
        "<a href=\"https://colab.research.google.com/github/sheldonkemper/portfolio/blob/main/CAM_DS__C201_Activity_2_3_4.ipynb\" target=\"_parent\"><img src=\"https://colab.research.google.com/assets/colab-badge.svg\" alt=\"Open In Colab\"/></a>"
      ]
    },
    {
      "cell_type": "markdown",
      "source": [
        "# Activity 2.3.4: Performing manual propagation\n",
        "\n",
        "## Scenario\n",
        "A tech startup developing a recommendation engine for online retail needs its neural network created and optimised for maximum accuracy and efficiency. As a data scientist, you’ve been tasked with creating the network, initialising weights and biases, defining input variables, selecting activation functions, computing gradients, and using gradient descent to fine-tune the model. The end result will be a model with improved recommendation accuracy that drives customer engagement in the online retail sector.\n",
        "\n",
        "## Objective\n",
        "Manually complete a forward and backward pass in a neural network.\n",
        "\n",
        "You’ll complete the activity in your Notebook, where you’ll:\n",
        "- create a simple neural network\n",
        "- initialise weights and biases\n",
        "- provide input variables\n",
        "- define activation functions and their derivatives\n",
        "- compute hidden-layer gradients\n",
        "- use gradient descent to optimise weights and biases.\n",
        "\n",
        "## Assessment criteria\n",
        "By completing this activity, you'll be able to provide evidence that you can create a simple neural network and complete a forward and backward pass.\n",
        "\n",
        "## Activity guidance\n",
        "1. Import the relevant libraries, including keras.models, keras.layers, and keras.utils.\n",
        "2. Create a neural network with an input dimension of 2, one hidden layer, and one output layer.\n",
        "  - For the hidden layer, initialise the weights as a 2x2 matrix, where the rows and columns of the matrix are np.array([0.2, 0.9], [0.6, 0.6]).\n",
        "  - For the hidden layer, initialise the bias vectors as np.array([0.8, 0.9]).\n",
        "  - For the output layer, initialise the weights as a 1x2 matrix, with weights np.array([[0.9], [0.4]]).\n",
        "  - For the output layer, initialise the bias neuron as np.array([0.9]).\n",
        "3. Define the input data as the variable X made of two elements: 0.3 and 0.4.\n",
        "4. Define the ReLu function.\n",
        "5. Print the input data, hidden layer output, and final output.\n",
        "6. Define the ReLu and Sigmoid functions and also their derivatives.\n",
        "7. Assume the target for binary classification is 1 and save it in a variable called target.\n",
        "8. Compute the loss derivative with respect to the final output.\n",
        "9. Complete a backward pass through the output layer.\n",
        "10. Compute the gradients for the output layer parameters.\n",
        "11. Complete a backward pass through the hidden layer.\n",
        "12. Compute the gradients for the hidden layer parameters.\n",
        "13. Set a simple learning rate of 0.02.\n",
        "14. Update the weights and biases using gradient descent.\n",
        "15. Print the updated weights and biases."
      ],
      "metadata": {
        "id": "ltwXKT0TCvf6"
      }
    },
    {
      "cell_type": "markdown",
      "source": [
        "> Start your activity here. Select the pen from the toolbar to add your entry."
      ],
      "metadata": {
        "id": "qE2gU4Q1an1j"
      }
    },
    {
      "cell_type": "markdown",
      "source": [
        "# Reflect\n",
        "\n",
        "Write a brief paragraph highlighting your process and rationale to showcase critical thinking and problem-solving.\n",
        "\n",
        "> Select the pen from the toolbar to add your entry. When you’ve completed the activity, remember to update the link on your contents page to point to your completed Notebook."
      ],
      "metadata": {
        "id": "txtht85QD0Zq"
      }
    }
  ],
  "metadata": {
    "colab": {
      "provenance": [],
      "include_colab_link": true
    },
    "kernelspec": {
      "display_name": "Python 3",
      "name": "python3"
    }
  },
  "nbformat": 4,
  "nbformat_minor": 0
}