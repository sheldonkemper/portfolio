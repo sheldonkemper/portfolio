{
  "nbformat": 4,
  "nbformat_minor": 0,
  "metadata": {
    "colab": {
      "provenance": [],
      "collapsed_sections": [
        "cePfKzcYOpLB"
      ],
      "include_colab_link": true
    },
    "kernelspec": {
      "name": "python3",
      "display_name": "Python 3"
    },
    "language_info": {
      "name": "python"
    }
  },
  "cells": [
    {
      "cell_type": "markdown",
      "metadata": {
        "id": "view-in-github",
        "colab_type": "text"
      },
      "source": [
        "<a href=\"https://colab.research.google.com/github/sheldonkemper/portfolio/blob/main/CAM_DS_C101_Activity_1_2_5_.ipynb\" target=\"_parent\"><img src=\"https://colab.research.google.com/assets/colab-badge.svg\" alt=\"Open In Colab\"/></a>"
      ]
    },
    {
      "cell_type": "markdown",
      "source": [
        "# Activity 1.2.5: Using feature engineering as a problem-solving tool\n",
        "\n",
        "## Scenario\n",
        "As you know, **Communik8** has experienced a reduction in both new and existing customers. The Head of Sales has suggested that an analysis of customer behaviour might provide insight into the reason(s) why. To this end, the company has provided you with a list of metrics, or features, from its data to help identify factors influencing customer behaviour. Think about your own experiences as a customer and what factors might influence how, what, and when you purchase something from a vendor. For example:\n",
        "- Customer age\n",
        "- Purchase amount\n",
        "- Location\n",
        "- Loyalty membership\n",
        "- Conversion rate\n",
        "- Gender\n",
        "- Products purchased\n",
        "- Website traffic\n",
        "- Average shipping time\n",
        "- Gross profit margin\n",
        "- Repeat purchase rate\n",
        "- Cart abandonment rate\n",
        "- Inventory turnover rate\n",
        "- Customer support response time\n",
        "- Customer satisfaction score\n",
        "\n",
        "\n",
        "## Objective\n",
        "Identify features that influence customer behaviour and provide justification for your choices. In your notebook, you will:\n",
        "\n",
        "- Reflect on and identify five to seven features that you think will provide the best insights into customer behaviour.\n",
        "- Provide a rationale for why you chose these features.\n",
        "\n",
        "\n",
        "\n",
        "## Assessment criteria\n",
        "By completing this activity, you will be able to provide evidence that you can:\n",
        "- Apply critical insights to a problem.\n",
        "- Efficiently solve problems by combining real-world organisational problem(s) with data.\n",
        "\n",
        "\n",
        "## Activity guide\n",
        "1. Consider the list of features provided by Communik8.\n",
        "2. Reflect on and identify five to seven features you think will provide the best insights into customer behaviour.\n",
        "3. Document these features, followed by a rationale for each feature.\n",
        "4. Complete the reflection on this activity in your portfolio.\n"
      ],
      "metadata": {
        "id": "cePfKzcYOpLB"
      }
    },
    {
      "cell_type": "markdown",
      "source": [
        "<b>Based on the provided list and considering the context of Communik8's business as a communication service provider, here are five to seven features that I believe will provide the best insights into customer behavior:</b>\n",
        "\n",
        "1. <b>Customer Satisfaction Score:<br></b>\n",
        "   This is a direct measure of how happy customers are with Communik8's services. It can provide immediate insight into potential reasons for customer churn and difficulties in acquiring new customers.\n",
        "\n",
        "2. <b>Repeat Purchase Rate:<br></b>\n",
        "   For a communication service provider, this could indicate how often customers renew their contracts or purchase additional services. A low rate might suggest dissatisfaction or better offers from competitors.\n",
        "\n",
        "3. <b>Customer Support Response Time:<br></b>\n",
        "   In the communication industry, quick and effective customer support is crucial. Slow response times could lead to frustration and customer churn.\n",
        "\n",
        "4. <b>Website Traffic and Conversion Rate:<br></b>\n",
        "   These metrics together can provide insights into how effectively Communik8 is attracting potential customers and converting them into actual customers. Low traffic or conversion rates might indicate issues with marketing, website usability, or the attractiveness of offers.\n",
        "\n",
        "5. <b>Location:<br></b>\n",
        "   For a communication company, location is crucial as it relates to network coverage. Analyzing customer behavior based on location could reveal areas where service quality might be lacking.\n",
        "\n",
        "6. <b>Products Purchased:<br></b>\n",
        "   Understanding which products or services are most popular, and which ones might be associated with higher churn rates, can provide valuable insights for product development and marketing strategies.\n",
        "\n",
        "7. <b>Cart Abandonment Rate:<br></b>\n",
        "   A high rate could indicate issues with the purchasing process, pricing, or last-minute doubts about the service offerings.\n",
        "\n",
        "<b>Reflection:<br></b>\n",
        "These features were selected because they provide a comprehensive view of the customer journey with Communik8. The Customer Satisfaction Score and Repeat Purchase Rate offer direct insights into customer contentment and loyalty. Customer Support Response Time is crucial in the communication industry where quick problem resolution is expected. Website Traffic, Conversion Rate, and Cart Abandonment Rate together paint a picture of how effectively Communik8 is attracting and converting potential customers. Location is vital for understanding service quality issues, while Products Purchased can help identify strengths and weaknesses in the company's offerings.\n",
        "\n",
        "By analyzing these features, Communik8 can gain a holistic understanding of customer behavior, from initial attraction to long-term retention, and identify key areas for improvement. This data-driven approach should help address the current issues with customer retention and acquisition."
      ],
      "metadata": {
        "id": "txtht85QD0Zq"
      }
    },
    {
      "cell_type": "markdown",
      "source": [
        "# Reflect\n",
        "\n",
        "<b>Write a brief paragraph highlighting your process and the rationale to showcase critical thinking and problem-solving.</b>\n",
        "\n",
        "In approaching the task of identifying key features for analyzing Communik8's customer behavior, I employed a systematic process rooted in critical thinking and problem-solving. First, I considered the nature of Communik8's business as a communication service provider, which helped me contextualize the relevance of each metric. I then evaluated each feature based on its potential to provide actionable insights into customer acquisition and retention issues. My selection process prioritized metrics that offer direct indicators of customer satisfaction (like Customer Satisfaction Score), engagement (Repeat Purchase Rate), service quality (Customer Support Response Time), and the effectiveness of customer acquisition efforts (Website Traffic and Conversion Rate). I also included Location and Products Purchased to capture the spatial aspect of service quality and product-specific insights respectively. This holistic approach ensures a comprehensive view of the customer journey, from initial interaction to long-term loyalty. By focusing on these diverse yet interconnected metrics, I aimed to provide Communik8 with a robust framework for understanding and addressing their current challenges in customer retention and acquisition. This process demonstrates my ability to synthesize information, prioritize factors based on their potential impact, and develop a strategic approach to problem-solving in a business context."
      ],
      "metadata": {
        "id": "lUXX1q1IdSNr"
      }
    }
  ]
}