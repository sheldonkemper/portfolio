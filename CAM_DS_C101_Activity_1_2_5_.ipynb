{
  "nbformat": 4,
  "nbformat_minor": 0,
  "metadata": {
    "colab": {
      "provenance": [],
      "collapsed_sections": [
        "cePfKzcYOpLB"
      ],
      "include_colab_link": true
    },
    "kernelspec": {
      "name": "python3",
      "display_name": "Python 3"
    },
    "language_info": {
      "name": "python"
    }
  },
  "cells": [
    {
      "cell_type": "markdown",
      "metadata": {
        "id": "view-in-github",
        "colab_type": "text"
      },
      "source": [
        "<a href=\"https://colab.research.google.com/github/sheldonkemper/portfolio/blob/main/CAM_DS_C101_Activity_1_2_5_.ipynb\" target=\"_parent\"><img src=\"https://colab.research.google.com/assets/colab-badge.svg\" alt=\"Open In Colab\"/></a>"
      ]
    },
    {
      "cell_type": "markdown",
      "source": [
        " **First things first** - please go to 'File' and select 'Save a copy in Drive' so that you have your own version of this activity set up and ready to use.\n",
        "\n",
        "Remember to update the portfolio index link to your own work once completed!"
      ],
      "metadata": {
        "id": "QXcaLNTZYOhZ"
      }
    },
    {
      "cell_type": "markdown",
      "source": [
        "# Activity 1.2.5: Using feature engineering as a problem-solving tool\n",
        "\n",
        "## Scenario\n",
        "As you know, **Communik8** has experienced a reduction in both new and existing customers. The Head of Sales has suggested that an analysis of customer behaviour might provide insight into the reason(s) why. To this end, the company has provided you with a list of metrics, or features, from its data to help identify factors influencing customer behaviour. Think about your own experiences as a customer and what factors might influence how, what, and when you purchase something from a vendor. For example:\n",
        "- Customer age\n",
        "- Purchase amount\n",
        "- Location\n",
        "- Loyalty membership\n",
        "- Conversion rate\n",
        "- Gender\n",
        "- Products purchased\n",
        "- Website traffic\n",
        "- Average shipping time\n",
        "- Gross profit margin\n",
        "- Repeat purchase rate\n",
        "- Cart abandonment rate\n",
        "- Inventory turnover rate\n",
        "- Customer support response time\n",
        "- Customer satisfaction score\n",
        "\n",
        "\n",
        "## Objective\n",
        "Identify features that influence customer behaviour and provide justification for your choices. In your notebook, you will:\n",
        "\n",
        "- Reflect on and identify five to seven features that you think will provide the best insights into customer behaviour.\n",
        "- Provide a rationale for why you chose these features.\n",
        "\n",
        "\n",
        "\n",
        "## Assessment criteria\n",
        "By completing this activity, you will be able to provide evidence that you can:\n",
        "- Apply critical insights to a problem.\n",
        "- Efficiently solve problems by combining real-world organisational problem(s) with data.\n",
        "\n",
        "\n",
        "## Activity guide\n",
        "1. Consider the list of features provided by Communik8.\n",
        "2. Reflect on and identify five to seven features you think will provide the best insights into customer behaviour.\n",
        "3. Document these features, followed by a rationale for each feature.\n",
        "4. Complete the reflection on this activity in your portfolio.\n"
      ],
      "metadata": {
        "id": "cePfKzcYOpLB"
      }
    },
    {
      "cell_type": "markdown",
      "source": [
        "> Start your activity here. Select the pen from the toolbar to add your entry."
      ],
      "metadata": {
        "id": "txtht85QD0Zq"
      }
    },
    {
      "cell_type": "markdown",
      "source": [
        "# Reflect\n",
        "\n",
        "Write a brief paragraph highlighting your process and the rationale to showcase critical thinking and problem-solving.\n",
        "\n",
        "> Select the pen from the toolbar to add your entry. When you have completed the activity, remember to update the link on your contents page to point to your completed Notebook."
      ],
      "metadata": {
        "id": "lUXX1q1IdSNr"
      }
    }
  ]
}