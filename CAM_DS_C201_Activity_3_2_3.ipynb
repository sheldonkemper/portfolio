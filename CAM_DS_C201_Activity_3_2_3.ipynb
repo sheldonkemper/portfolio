{
  "nbformat": 4,
  "nbformat_minor": 0,
  "metadata": {
    "colab": {
      "provenance": [],
      "collapsed_sections": [
        "LIrag9UBW4Gx"
      ],
      "include_colab_link": true
    },
    "kernelspec": {
      "name": "python3",
      "display_name": "Python 3"
    },
    "language_info": {
      "name": "python"
    }
  },
  "cells": [
    {
      "cell_type": "markdown",
      "metadata": {
        "id": "view-in-github",
        "colab_type": "text"
      },
      "source": [
        "<a href=\"https://colab.research.google.com/github/sheldonkemper/portfolio/blob/main/CAM_DS_C201_Activity_3_2_3.ipynb\" target=\"_parent\"><img src=\"https://colab.research.google.com/assets/colab-badge.svg\" alt=\"Open In Colab\"/></a>"
      ]
    },
    {
      "cell_type": "markdown",
      "source": [
        "# Activity 3.2.3 Experimenting with hyperparameter tuning\n",
        "\n",
        "## Scenario\n",
        "Hopkins et al. (1999) created the Spambase data set donated to the UCI Machine Learning Repository. The data set contains 4,601 emails marked as spam or non-spam by a postmaster or individuals. Fifty-seven features aid in classifying emails as spam (e.g. word frequencies and email characteristics). The Spambase data set is used for developing and benchmarking spam detection models, providing a base for analysing the effectiveness of various machine learning techniques in distinguishing between spam and legitimate emails.\n",
        "\n",
        "As a data professional, you were tasked by your company to develop a neural network with TensorFlow that can classify emails as spam or non-spam. You were tasked to develop a model based on the Spambase data set.\n",
        "\n",
        "\n",
        "\n",
        "## Objective\n",
        "In this portfolio activity, you’ll continue to work with the model you created in Activity 3.1.5 by applying model tuning and grid search to classify emails as spam or non-spam.\n",
        "\n",
        "You will complete the activity in your Notebook, where you’ll:\n",
        "- add an extra four layers to the model you created previously\n",
        "- create a new model pipeline\n",
        "- employ different batch sizes and epochs to evaluate the impact on the accuracy\n",
        "- present your insights based on the performance of the model.\n",
        "\n",
        "\n",
        "## Assessment criteria\n",
        "By completing this activity, you will be able to provide evidence that you can critically select appropriate strategies to demonstrate expertise in model tuning techniques.\n",
        "\n",
        "\n",
        "## Activity guidance\n",
        "1. Continue to work on the model you created in **Activity 3.1.5**.\n",
        "2. Add 4 hidden layers with the ReLU activation and 16 neurons for the fourth layer.\n",
        "3. Compile the model with `binary_crossentropy` as loss, Adam optimiser, and print the accuracy of the model.\n",
        "4. Train and evaluate the model again.\n",
        "5. Jot down whether the final evaluation changed? Was there any improvement in the model? If not, train and evaluate again. Does the final evaluation change? Does it improve?\n",
        "6. Create a vector of different `batch_sizes=np.array([16, 32, 64])` and `loop` through it, retraining the model each time, and print the performances. Use the same model and number of epochs.\n",
        "7. Create a vector of different `epochs=np.array([10, 20, 30])` and `loop` through it, retraining the model each time and using the batch size. Jot down which model gave you the highest accuracy."
      ],
      "metadata": {
        "id": "LIrag9UBW4Gx"
      }
    },
    {
      "cell_type": "markdown",
      "source": [
        "> Start your activity here. Select the pen from the toolbar to add your entry."
      ],
      "metadata": {
        "id": "N-dwQn8pfPDy"
      }
    },
    {
      "cell_type": "code",
      "source": [
        "# Start your activity here:\n",
        "\n",
        "# URL to import data set from GitHub.\n",
        "url = 'https://raw.githubusercontent.com/fourthrevlxd/cam_dsb/main/spamdata.csv'"
      ],
      "metadata": {
        "id": "b-rDvxDllBhU"
      },
      "execution_count": null,
      "outputs": []
    },
    {
      "cell_type": "code",
      "source": [],
      "metadata": {
        "id": "cqYWpHKPlBax"
      },
      "execution_count": null,
      "outputs": []
    },
    {
      "cell_type": "code",
      "source": [],
      "metadata": {
        "id": "sMgjjpiylBUj"
      },
      "execution_count": null,
      "outputs": []
    },
    {
      "cell_type": "markdown",
      "source": [],
      "metadata": {
        "id": "7Sn4MGNHlSu3"
      }
    },
    {
      "cell_type": "markdown",
      "source": [],
      "metadata": {
        "id": "3umqhsD3lSpV"
      }
    },
    {
      "cell_type": "markdown",
      "source": [
        "# Reflect\n",
        "\n",
        "Write a brief paragraph highlighting your process and the rationale to showcase critical thinking and problem-solving.\n",
        "\n",
        "> Select the pen from the toolbar to add your entry."
      ],
      "metadata": {
        "id": "qjSjrsKPXtOr"
      }
    },
    {
      "cell_type": "markdown",
      "source": [
        "# References\n",
        "\n",
        "Hopkins, M., Reeber, E., Forman, G., Suermondt, J., 1999. Spambase. [online]. Available at: https://archive.ics.uci.edu/dataset/94. [Accessed 5 March 2024]."
      ],
      "metadata": {
        "id": "4PPpUhWdek8D"
      }
    }
  ]
}