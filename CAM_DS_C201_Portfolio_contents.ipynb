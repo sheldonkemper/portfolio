{
  "cells": [
    {
      "cell_type": "markdown",
      "metadata": {
        "colab_type": "text",
        "id": "view-in-github"
      },
      "source": [
        "<a href=\"https://colab.research.google.com/github/sheldonkemper/portfolio/blob/main/CAM_DS_C201_Portfolio_contents.ipynb\" target=\"_parent\"><img src=\"https://colab.research.google.com/assets/colab-badge.svg\" alt=\"Open In Colab\"/></a>"
      ]
    },
    {
      "cell_type": "markdown",
      "metadata": {
        "id": "axIrbJi9dOZy"
      },
      "source": [
        "**First things first** - please go to 'File' and select 'Save a copy in Drive' so that you have your own version of this activity set up and ready to use.\n",
        "Remember to update the portfolio index link to your own work once completed!"
      ]
    },
    {
      "cell_type": "markdown",
      "metadata": {
        "id": "lYMJ8-W6YqQn"
      },
      "source": [
        "# Welcome to Course 201: Solving business problems with supervised learning\n",
        "\n",
        "Throughout this course, you will learn to:\n",
        "1. Enhance problem-solving skills through analysing diverse organisational scenarios and accurately identifying key issues.\n",
        "2. Inform data-driven decision-making with regression, classification, boosting algorithms, and ensemble techniques.\n",
        "3. Develop accurate predictions across diverse organisational scenarios by building and testing advanced ML models.\n",
        "4. Leverage deep learning across a range of data types to extract valuable insights from complex data.\n",
        "5. Propose and present effective solutions to organisational problems using data preprocessing, model selection, and insightful analysis technique\n",
        "\n",
        "This will be the index page for your portfolio. For each activity in the Course, you will need to save a copy of the provided template, complete it, and update the link in this index to direct your tutors, peers, and potential employers to your own work.\n",
        "\n",
        "You will also complete reflections relating to each demonstration and activity throughout the course in this section of your portfolio.\n",
        "\n",
        "Here is a link to the [Orientation content](https://colab.research.google.com/drive/1bAE7vviDHiU1bQipsB5hFvF-IyCiPMdd?usp=sharing), if you need a recap on how to use Colab."
      ]
    },
    {
      "cell_type": "markdown",
      "metadata": {
        "id": "rAPm4UtcZXEv"
      },
      "source": [
        "# Week 1: Exploring supervised learning fundamentals\n",
        "\n",
        "**Throughout the week, you will learn to:**\n",
        "1. Synthesise the principles of supervised learning and distinguish them from other paradigms.\n",
        "2. Compare and contrast regression and classification problems to accurately select the appropriate solution to organisational scenarios.\n",
        "3. Critically select and apply a range of techniques to complex data.\n",
        "4. Enhance model performance through the application of advanced ML functions.\n",
        "\n"
      ]
    },
    {
      "cell_type": "markdown",
      "metadata": {
        "id": "j3R7MU-OaHr9"
      },
      "source": [
        "[**Activity 1.1.4** Regression versus classification problems](CAM_DS_C201_Activity_1_1_4.ipynb)"
      ]
    },
    {
      "cell_type": "markdown",
      "metadata": {
        "id": "fgyAk341aH_l"
      },
      "source": [
        "[**Demonstration 1.2.1** Finding the line of best fit](https://colab.research.google.com/drive/1ipP2YtfefS36oKTE_IDDyCp0T93LezCq?usp=sharing)\n"
      ]
    },
    {
      "cell_type": "markdown",
      "metadata": {
        "id": "hB13zfrOaH8_"
      },
      "source": [
        "[**Demonstration 1.2.2** Understanding the process of gradient descent](https://colab.research.google.com/drive/1BDVXm_YY73j3JREML6bgW4Xmogn2Wipe)"
      ]
    },
    {
      "cell_type": "markdown",
      "metadata": {
        "id": "igqckX0Hob_5"
      },
      "source": [
        "[**Demonstration 1.2.3** Dealing with non-linear relationships](https://colab.research.google.com/drive/1Y3ZjN5ZITw54bSJOeTBFHSKTDAZotu1K?usp=sharing)"
      ]
    },
    {
      "cell_type": "markdown",
      "metadata": {
        "id": "6HXe1h8Q3-Ab"
      },
      "source": [
        "[**Demonstration 1.3.1** Exploring logistic regression](https://colab.research.google.com/drive/1U3KrD5qbilw9qGDb4D2eF0_8g_N-BSfX?usp=drive_link)"
      ]
    },
    {
      "cell_type": "markdown",
      "metadata": {
        "id": "GVfJ-2a2ob6R"
      },
      "source": [
        "[**Demonstration 1.3.2** Confusion matrix](https://colab.research.google.com/drive/1X6TBLEovJTB1mxWTxG5p4UlihlzB_RLR?usp=drive_link)"
      ]
    },
    {
      "cell_type": "markdown",
      "metadata": {
        "id": "Dp4j-v4KoNja"
      },
      "source": [
        "[**Demonstration 1.3.3** Activation functions](https://colab.research.google.com/drive/1vwcMyE_g0tBTPP3YzD3TR11PxCS8fA0n?usp=sharing)\n"
      ]
    },
    {
      "cell_type": "markdown",
      "metadata": {
        "id": "gOjzVuhMZjal"
      },
      "source": [
        "## Week 1 Reflection\n",
        "Now that you've completed Week 1, it's time to reflect on your learning.\n",
        "\n",
        "**Reflection prompts:**\n",
        "1. What was the most interesting part of this week's learning? Why?\n",
        "2. What did you find the most challenging? Why?\n",
        "3. What, so far, will be the most applicable to your current or future career? Why?\n",
        "\n",
        "> Type your reflection here:"
      ]
    },
    {
      "cell_type": "markdown",
      "metadata": {
        "id": "5mt7ZWO9ZjXc"
      },
      "source": [
        "# Week 2: Deciphering patterns with neural networks\n",
        "\n",
        "**Throughout the week, you will learn to:**\n",
        "1. Synthesise the essentials of neural networks, and define their role in model architecture.\n",
        "2. Critically analyse data flow, activation functions, and weights, and apply these to complex data sets.\n",
        "3. Differentiate between shallow and deep networks, perform forward propagation, and optimise models using backward propagation.\n",
        "4. Define the value of frameworks for effective model development."
      ]
    },
    {
      "cell_type": "markdown",
      "metadata": {
        "id": "QUATEQcnaZbs"
      },
      "source": [
        "[**Demonstration 2.1.2** Implementing a Rosenblatt perceptron](https://colab.research.google.com/drive/1goqB0YF4o0eHijyTqL0Ul8BvwQSfj2vU#scrollTo=gEegCj7ghIf1)"
      ]
    },
    {
      "cell_type": "markdown",
      "metadata": {
        "id": "ezr6L0KoaZY1"
      },
      "source": [
        "[**Demonstration 2.2.3** Neural networks as universal functional approximators](https://colab.research.google.com/drive/150yE6mqX-PWLIFKvDjTmpBkxgk4qQ88l)"
      ]
    },
    {
      "cell_type": "markdown",
      "metadata": {
        "id": "vYmI-m4bVTy0"
      },
      "source": [
        "[**Demonstration 2.3.1** Manually completing forward propagation in Python](https://colab.research.google.com/drive/17nKCxZcZK18zqspQw5P0usUN-f3oRK6R#scrollTo=8xKfr95ag99r)"
      ]
    },
    {
      "cell_type": "markdown",
      "metadata": {
        "id": "wV1ysfw-Vq-o"
      },
      "source": [
        "[**Demonstration 2.3.3** Manually complete a backward pass in Python](https://colab.research.google.com/drive/1r-i160ztypsYW1FqE3_N5FKIMFzCKd9j#scrollTo=gEegCj7ghIf1)"
      ]
    },
    {
      "cell_type": "markdown",
      "metadata": {
        "id": "Q7FU-fntV6jd"
      },
      "source": [
        "[**Activity 2.3.4** Performing manual propagation](CAM_DS__C201_Activity_2_3_4.ipynb)"
      ]
    },
    {
      "cell_type": "markdown",
      "metadata": {
        "id": "-KYpoXh-WZKb"
      },
      "source": [
        "[**Demonstration 2.3.5a** Implementing regression with a neural network](https://colab.research.google.com/drive/1HqbqVt3vmkT_GHI1NQBmM2Xeg3FZnPy6?usp=sharing)"
      ]
    },
    {
      "cell_type": "markdown",
      "metadata": {
        "id": "Y6GWs96jWqMP"
      },
      "source": [
        "[**Demonstration 2.3.5b** Implementing classification with a neural network](https://colab.research.google.com/drive/1S67JXfWuCywCWlLgajhPGulIDzkTfDzk?usp=drive_link)"
      ]
    },
    {
      "cell_type": "markdown",
      "metadata": {
        "id": "4SjDBYe6aZ5T"
      },
      "source": [
        "## Week 2 Reflection\n",
        "Now that you've completed Week 2, it's time to reflect on your learning.\n",
        "\n",
        "**Reflection prompts:**\n",
        "1. What was the most interesting part of this week's learning? Why?\n",
        "2. What did you find the most challenging? Why?\n",
        "3. What, so far, will be the most applicable to your current or future career? Why?\n",
        "\n",
        "> Type your reflection here:"
      ]
    },
    {
      "cell_type": "markdown",
      "metadata": {
        "id": "iCf85TyjZZzT"
      },
      "source": [
        "# Week 3: Mastering TensorFlow to optimise supervised learning models\n",
        "\n",
        "**Throughout the week, you will learn to:**\n",
        "1. Synthesise and apply the TensorFlow life cycle from creation to evaluation.\n",
        "2. Critically select appropriate strategies to demonstrate expertise in model-tuning techniques.\n",
        "3. Clearly communicate informed decisions for model enhancement, supported by accurate interpretation of evaluation metrics."
      ]
    },
    {
      "cell_type": "markdown",
      "metadata": {
        "id": "Ns8KBTvSTITG"
      },
      "source": [
        "[**Demonstration 3.1.2** Defining layers in TensorFlow](https://colab.research.google.com/drive/13_AbPM4ZGY3TYoC5tL1XP2PE8woWS-3N#scrollTo=CH4oCNCzp7kD)"
      ]
    },
    {
      "cell_type": "markdown",
      "metadata": {
        "id": "KdX2fvDt_zPP"
      },
      "source": [
        "[**Demonstration 3.1.4** Compiling, fitting, and evaluating model pipeline](https://colab.research.google.com/drive/184FHYANjT6z1Q67BvUj7BSRvVCWbXyD3#scrollTo=LIrag9UBW4Gx)"
      ]
    },
    {
      "cell_type": "markdown",
      "metadata": {
        "id": "Po5p8jgsZZtu"
      },
      "source": [
        "[**Activity 3.1.5** Building a basic neural network](CAM_DS_C201_Activity_3_1_5.ipynb)"
      ]
    },
    {
      "cell_type": "markdown",
      "metadata": {
        "id": "jjIWQHmf_zMq"
      },
      "source": [
        "[**Demonstration 3.2.1** Exploring and tuning hyperparameters](https://colab.research.google.com/drive/16HiOIdljIYKsmjecy2ETnQv2OO2bInjs#scrollTo=cbtFdN5VQsms)"
      ]
    },
    {
      "cell_type": "markdown",
      "metadata": {
        "id": "U7cYU_xx_zHm"
      },
      "source": [
        "[**Demonstration 3.2.1** Tuning a model to limit overfitting](https://colab.research.google.com/drive/14UY28Iq1HtnSZnqCD1O13C7NWM1HrYUh)"
      ]
    },
    {
      "cell_type": "markdown",
      "metadata": {
        "id": "1IDcb_QH_zFF"
      },
      "source": [
        "[**Activity 3.2.3** Experimenting with hyperparameter tuning](CAM_DS_C201_Activity_3_2_3.ipynb)"
      ]
    },
    {
      "cell_type": "markdown",
      "metadata": {
        "id": "YuEN2z6o_y_k"
      },
      "source": [
        "[**Demonstration 3.3.2** Training with batch processing](https://colab.research.google.com/drive/11nyla4yTBeh_HpXs0OI2tDvo7GaOUg8o#scrollTo=cbtFdN5VQsms)"
      ]
    },
    {
      "cell_type": "markdown",
      "metadata": {
        "id": "Hp5Mz_dFAYyL"
      },
      "source": [
        "[**Demonstration 3.3.4** Exploring a classification example](https://colab.research.google.com/drive/1O7ZigMV3nonyche3vhGULP3lQJYcAGY5#scrollTo=cbtFdN5VQsms)"
      ]
    },
    {
      "cell_type": "markdown",
      "metadata": {
        "id": "VndKHbWaAYrj"
      },
      "source": [
        "[**Demonstration 3.3.5** Exploring a regression example](https://colab.research.google.com/drive/1mubmqz2Ium2e9hx8t4Mrrp5_1NkTUQ3U#scrollTo=cbtFdN5VQsms)"
      ]
    },
    {
      "cell_type": "markdown",
      "metadata": {
        "id": "cwqwqyPAahhz"
      },
      "source": [
        "[**Activity 3.3.6** Exploring evaluation metrics](CAM_DS_C201_Activity_3_3_6.ipynb)"
      ]
    },
    {
      "cell_type": "markdown",
      "metadata": {
        "id": "soiZFePlahqw"
      },
      "source": [
        "## Week 3 Reflection\n",
        "Now that you've completed Week 3, it's time to reflect on your learning.\n",
        "\n",
        "**Reflection prompts:**\n",
        "1. What was the most interesting part of this week's learning? Why?\n",
        "2. What did you find the most challenging? Why?\n",
        "3. What, so far, will be the most applicable to your current or future career? Why?\n",
        "\n",
        "> Type your reflection here:"
      ]
    },
    {
      "cell_type": "markdown",
      "metadata": {
        "id": "LvJVjC12ZZrA"
      },
      "source": [
        "# Week 4: Optimising model generalisation\n",
        "\n",
        "**Throughout the week, you will learn to:**\n",
        "1. Define the impact of optimisation algorithms on training efficiency and model convergence.\n",
        "2. Effectively analyse model bias and variance to improve generalisation.\n",
        "3. Identify, diagnose, and implement solutions for overfitting and underfitting issues in complex models.\n",
        "4. Efficiently control model training, preventing overfitting and optimising performance using a range of strategies."
      ]
    },
    {
      "cell_type": "markdown",
      "metadata": {
        "id": "ieVFleErahed"
      },
      "source": [
        "[**Demonstration 4.1.3** Comparing RMSProp and Adam](https://colab.research.google.com/drive/1tQKAAIMjZYJHnOQtwf1E22wUtAGLbhOM?usp=sharing)"
      ]
    },
    {
      "cell_type": "markdown",
      "metadata": {
        "id": "ru_20ZR8ZZoQ"
      },
      "source": [
        "[**Activity 4.1.4** Comparing optimisers](CAM_DS_C201_Activity_4_1_4,_4_2_4_4_3_3.ipynb)"
      ]
    },
    {
      "cell_type": "markdown",
      "metadata": {
        "id": "Z0yTxKAyZcCS"
      },
      "source": [
        "[**Demonstration 4.2.1** Balancing bias and variance](https://colab.research.google.com/drive/1QK3h-RD2f7K7iu0dgx0My_bmbBIevUZa?usp=sharing)"
      ]
    },
    {
      "cell_type": "markdown",
      "metadata": {
        "id": "3-nM2dEZaCqP"
      },
      "source": [
        "[**Demonstration 4.2.2** Underfitting and overfitting](https://colab.research.google.com/drive/1JJK4PKUIxYOHVthbP7CNMJn1TyJmBdPz?usp=sharing)"
      ]
    },
    {
      "cell_type": "markdown",
      "metadata": {
        "id": "0irSbN_caUTm"
      },
      "source": [
        "[**Demonstration 4.2.3** Implementing regularisation](https://colab.research.google.com/drive/1Tmg39NmmFiXkTyZr0MUiTxJi1mLmd8Jb?usp=sharing)"
      ]
    },
    {
      "cell_type": "markdown",
      "metadata": {
        "id": "aywwZWwLi2z_"
      },
      "source": [
        "[**Activity 4.2.4** Implementing regularisation techniques](https://colab.research.google.com/drive/1rqL8pXK0Y-8fqv96p8GFEr3Fsior-Ldu#scrollTo=BIx3ZNRnSKU0)"
      ]
    },
    {
      "cell_type": "markdown",
      "metadata": {
        "id": "D6wrk27bkAhH"
      },
      "source": [
        "[**Demonstration 4.3.2** Implementing early stopping](https://colab.research.google.com/drive/1O8KOOMEl7tllpIWqVB1OuPT_EJhBckig?usp=sharing)"
      ]
    },
    {
      "cell_type": "markdown",
      "metadata": {
        "id": "ZaWG74vrkh_c"
      },
      "source": [
        "[**Activity 4.3.3** Implementing early stopping](https://colab.research.google.com/drive/1rqL8pXK0Y-8fqv96p8GFEr3Fsior-Ldu#scrollTo=ODgB6_siS-di)"
      ]
    },
    {
      "cell_type": "markdown",
      "metadata": {
        "id": "nvB-6oTXamJY"
      },
      "source": [
        "## Week 4 Reflection\n",
        "Now that you've completed Week 4, it's time to reflect on your learning.\n",
        "\n",
        "**Reflection prompts:**\n",
        "1. What was the most interesting part of this week's learning? Why?\n",
        "2. What did you find the most challenging? Why?\n",
        "3. What, so far, will be the most applicable to your current or future career? Why?\n",
        "\n",
        "> Type your reflection here:"
      ]
    },
    {
      "cell_type": "markdown",
      "metadata": {
        "id": "XYcPGSGxZZlS"
      },
      "source": [
        "# Week 5: Mastering decision trees and ensemble techniques\n",
        "\n",
        "**Throughout the week, you will learn to:**\n",
        "1. Propose solutions to organisational challenges, informing the decision-making process with efficient ML modelling.\n",
        "2. Skillfully employ decision trees to tackle complex regression challenges.\n",
        "3. Navigate data partitioning, intricate feature engineering, and advanced validation strategies to train models effectively.\n",
        "4. Enhance model performance and outcomes by accurately implementing advanced ensemble techniques."
      ]
    },
    {
      "cell_type": "markdown",
      "metadata": {
        "id": "EPydYtuLao1k"
      },
      "source": [
        "[**Demonstration 5.2.1.1** Data pre-processing](https://colab.research.google.com/drive/1kotFKhJ8ozEe2d6vxRJIloDJ930g8WJt#scrollTo=ySy_7FMqKKtp)"
      ]
    },
    {
      "cell_type": "markdown",
      "metadata": {
        "id": "sVtohl0Naoy4"
      },
      "source": [
        "[**Demonstration 5.2.1.2** Basic decision tree models](https://colab.research.google.com/drive/1kotFKhJ8ozEe2d6vxRJIloDJ930g8WJt#scrollTo=F9y8XpYjVX2f)"
      ]
    },
    {
      "cell_type": "markdown",
      "metadata": {
        "id": "5RvCCqzHrfAK"
      },
      "source": [
        "[**Demonstration 5.2.1.3** Transformations](https://colab.research.google.com/drive/1kotFKhJ8ozEe2d6vxRJIloDJ930g8WJt#scrollTo=_FbTLA1iVX2h)"
      ]
    },
    {
      "cell_type": "markdown",
      "metadata": {
        "id": "QYt849Udr5iV"
      },
      "source": [
        "[**Demonstration 5.2.1.4** Early stopping](https://colab.research.google.com/drive/1kotFKhJ8ozEe2d6vxRJIloDJ930g8WJt#scrollTo=PdpZ2kVjVX2i)"
      ]
    },
    {
      "cell_type": "markdown",
      "metadata": {
        "id": "xnJkEBs5sW1z"
      },
      "source": [
        "[**Activity 5.2.2** Taking a stepped approach to model training](Activity_DecisionTreesClassification.ipynb)"
      ]
    },
    {
      "cell_type": "markdown",
      "metadata": {
        "id": "t7KdEGfAty9b"
      },
      "source": [
        "[**Demonstration 5.3.1** Ensemble methods and their comparisons](https://colab.research.google.com/drive/1kotFKhJ8ozEe2d6vxRJIloDJ930g8WJt#scrollTo=jH-RWBP9VX2i)"
      ]
    },
    {
      "cell_type": "markdown",
      "metadata": {
        "id": "ZAibmd_ouYrx"
      },
      "source": [
        "[**Activity 5.3.3** Ensemble methods and their comparison](https://colab.research.google.com/drive/1R_NQqiGqE8Dg_MMiCbGgsbXSz8ZdFSAP#scrollTo=TtNWym_ujtJ_)"
      ]
    },
    {
      "cell_type": "markdown",
      "metadata": {
        "id": "FjpEwMSbapRz"
      },
      "source": [
        "## Week 5 Reflection\n",
        "Now that you've completed Week 5, it's time to reflect on your learning.\n",
        "\n",
        "**Reflection prompts:**\n",
        "1. What was the most interesting part of this week's learning? Why?\n",
        "2. What did you find the most challenging? Why?\n",
        "3. What, so far, will be the most applicable to your current or future career? Why?\n",
        "\n",
        "> Type your reflection here:"
      ]
    },
    {
      "cell_type": "markdown",
      "metadata": {
        "id": "j2EA1trjZ4Kx"
      },
      "source": [
        "# Week 6: Applying advanced modelling techniques\n",
        "\n",
        "**Throughout the week, you will learn to:**\n",
        "1. Refine models for optimal performance using advanced model tuning techniques.\n",
        "2. Demonstrate mastery of advanced boosting techniques.\n",
        "3. Enhance model interpretability with SHAP.\n",
        "4. Analyse an organisational scenario and evidence the ability to solve a business problem by applying advanced supervised learning techniques."
      ]
    },
    {
      "cell_type": "markdown",
      "metadata": {
        "id": "Q_aF9Uj-Z4AT"
      },
      "source": [
        "[**Demonstration 6.1.1** Pre-pruning hyperparameters](https://colab.research.google.com/drive/1fEHZT6bZiv_oUn-qB8fFPTwBMn2Uzxqz)"
      ]
    },
    {
      "cell_type": "markdown",
      "metadata": {
        "id": "mRM6h4r6ZXmv"
      },
      "source": [
        "[**Demonstration 6.1.2** Post-pruning](https://colab.research.google.com/drive/1t8DNpskw6TJtsxpXyfatGN8apCrd3rKj#scrollTo=cbtFdN5VQsms)"
      ]
    },
    {
      "cell_type": "markdown",
      "metadata": {
        "id": "VMFX-JWMwLKN"
      },
      "source": [
        "[**Demonstration 6.2.1** AdaBoost](https://colab.research.google.com/drive/1qTaJnwcrwZqUuU-ZgjrAZe1v7Dslcb_Y)"
      ]
    },
    {
      "cell_type": "markdown",
      "metadata": {
        "id": "sSlAXQpKwe2V"
      },
      "source": [
        "[**Activity 6.2.2** AdaBoost](6_2_2_Activity_AdaBoost.ipynb)"
      ]
    },
    {
      "cell_type": "markdown",
      "metadata": {
        "id": "If-yOrCkwt1Q"
      },
      "source": [
        "[**Demonstration 6.2.3** Gradient boosting](https://colab.research.google.com/drive/1C0X3-g_E_50nh67ikKVoBxDbenSTMf12)"
      ]
    },
    {
      "cell_type": "markdown",
      "metadata": {
        "id": "GsbS39zYxNfC"
      },
      "source": [
        "[**Activity 6.2.4** Gradient Boosting](hActivity_6_2_4_Gradient_Boosting.ipynb)"
      ]
    },
    {
      "cell_type": "markdown",
      "metadata": {
        "id": "YlZGIVmzxcq1"
      },
      "source": [
        "[**Demonstration 6.2.5** XGBoost & SHAP values](https://colab.research.google.com/drive/1ZgwlclpeRUBSByxeRlo_vzpNSRrBIwKB#scrollTo=EU-vciBMTr2Q)"
      ]
    },
    {
      "cell_type": "markdown",
      "metadata": {
        "id": "ACvjdX0jy9C7"
      },
      "source": [
        "[**Activity 6.2.7** Advanced Modelling Techniques](hActivity_6_2_7_Advanced_Modelling_Techniques.ipynb)"
      ]
    },
    {
      "cell_type": "markdown",
      "metadata": {
        "id": "FSXh5KEzSaks"
      },
      "source": [
        "[**Mini-project 6.3** Applying supervised learning to predict student dropout](KEMPER_SHELDON_CAM_C201_Week_6_Mini-project.ipynb)"
      ]
    },
    {
      "cell_type": "markdown",
      "metadata": {
        "id": "kD85-5NWasFh"
      },
      "source": [
        "## Week 6 Reflection\n",
        "Now that you've completed Week 6, it's time to reflect on your learning.\n",
        "\n",
        "**Reflection prompts:**\n",
        "1. What was the most interesting part of this week's learning? Why?\n",
        "2. What did you find the most challenging? Why?\n",
        "3. What, so far, will be the most applicable to your current or future career? Why?\n",
        "\n",
        "> Type your reflection here:"
      ]
    },
    {
      "cell_type": "markdown",
      "metadata": {
        "id": "mJBIoULleDO9"
      },
      "source": [
        "# Course 201: Reflection\n",
        "Now that you have completed Course 201, it's time to reflect on your learning.\n",
        "\n",
        "**Reflection prompts:**\n",
        "1. What are the key concepts and skills you have learned in this course? Why?\n",
        "2. How do you foresee applying the concepts and skills you acquired in real-world situations or future endeavors? Why?\n",
        "3. Can you identify any challenges you faced during this course and explain how you overcame them?\n",
        "4. How has this course influenced your perspective or understanding of solving business problems with supervised learning? Why?\n",
        "\n",
        "> Type your reflection here:"
      ]
    }
  ],
  "metadata": {
    "colab": {
      "include_colab_link": true,
      "provenance": []
    },
    "kernelspec": {
      "display_name": "Python 3",
      "name": "python3"
    },
    "language_info": {
      "name": "python"
    }
  },
  "nbformat": 4,
  "nbformat_minor": 0
}
