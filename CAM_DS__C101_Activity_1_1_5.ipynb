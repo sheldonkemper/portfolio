{
  "cells": [
    {
      "cell_type": "markdown",
      "metadata": {
        "id": "view-in-github",
        "colab_type": "text"
      },
      "source": [
        "<a href=\"https://colab.research.google.com/github/sheldonkemper/portfolio/blob/main/CAM_DS__C101_Activity_1_1_5.ipynb\" target=\"_parent\"><img src=\"https://colab.research.google.com/assets/colab-badge.svg\" alt=\"Open In Colab\"/></a>"
      ]
    },
    {
      "cell_type": "markdown",
      "metadata": {
        "id": "ltwXKT0TCvf6"
      },
      "source": [
        "# Activity 1.1.5: Using statistical thinking to analyse and define a business problem from a given scenario.\n",
        "\n",
        "## Scenario\n",
        "**Communik8** is a telecommunications company with both online and physical stores. It provides mobile contracts and sells handsets. Recently, the company has experienced a sizeable reduction in new customers and a decrease in the retention of existing customers.\n",
        "\n",
        "With the primary goal of improving business performance, the company needs to identify critical reasons for this recent decline. The company would like to make sense of its customer data and transform it into actionable insights.\n",
        "\n",
        "The management team at Communik8 has provided recent customer feedback to your team of data scientists and would like initial feedback on the main issues that can be identified from this data.\n",
        "\n",
        "## Objective\n",
        "The goal is to explore and analyse an organisational scenario to identify key problems.\n",
        "\n",
        "## Assessment criteria\n",
        "By completing this activity, you will be able to provide evidence that you can:\n",
        "* Note common themes and sentiments expressed by customers without performing any in-depth analysis.\n",
        "* Formulate your own business problem statement.\n",
        "\n",
        "\n",
        "## Activity guide\n",
        "1. Analyse the customer comments and categorise the comments into themes (e.g.  customer service, delivery, billing and payment, and so on).\n",
        "2. Using the themes you identified as guidance, define the problems Communik8's customers are experiencing. (e.g. delays in delivery, website functionality, and so on)\n",
        "3. Identify how solving these problems will help the company achieve its objectives and goals and outline the consequences of not achieving these goals. (e.g. improved customer satisfaction, customer retention, loss of revenue, and so on)\n",
        "4. Write a problem statement based on the themes, problems, and solutions you identified.\n",
        "\n",
        "* What challenges did you face when completing this activity?\n",
        "* In one sentence, what was your key learning from this activity?"
      ]
    },
    {
      "cell_type": "markdown",
      "metadata": {
        "id": "qE2gU4Q1an1j"
      },
      "source": [
        "Total complaints - 8 <br>\n",
        "1.  Categories\n",
        "\n",
        " *   Customer service - 3\n",
        " *   Delivery - 1\n",
        " *   Billing and payment - 2\n",
        " *   Technical - 2\n",
        "\n",
        "2.   Define the Problem\n",
        "From the information provided by Communik8's it appears they have challenges with retaining customers and increasing their market share. The inital analysis has identified that retaining customers is a challenge, specifically due to the way customer services handles enquiries and complaints. There appears to be technical issues with their website,logistics, billing system and mobile coverage, which affect both exisitng and new customers.\n",
        "\n",
        "3.   Solving the problem\n",
        "First and formost Communik8' will need to review their techical assets such as their website, mobile coverage, billing and logisitc systems. By improving these systems they can ensure exisitng customers make less complaints and new customers can be added. Next they will need to review their policies and procedure around handling customer enquires and complaints to ensure customers feel heard and valued.\n",
        "\n",
        "4. Problem Statement\n",
        "\n",
        "Communik8 is facing significant challenges in customer retention and market share growth due to a variety of operational issues. An analysis of customer complaints reveals that out of 8 total complaints:\n",
        "\n",
        "- 37.5% (3) are related to customer service\n",
        "- 25% (2) are due to technical issues\n",
        "- 25% (2) stem from billing and payment problems\n",
        "- 12.5% (1) is associated with delivery\n",
        "\n",
        "These complaints indicate systemic problems across multiple areas of the business, including customer service practices, technical infrastructure, billing systems, and logistics. The high proportion of customer service complaints suggests a critical need for improvement in how customer inquiries and issues are handled. Additionally, the technical and billing issues point to potential problems with the company's website, mobile coverage, and payment processing systems.\n",
        "\n",
        "These operational deficiencies are not only affecting existing customer satisfaction and retention but also potentially deterring new customers, thereby impacting Communik8's ability to increase its market share. The company needs to address these issues comprehensively to improve customer experience, reduce churn, and create a solid foundation for growth.\n",
        "\n",
        "To resolve these challenges, Communik8 must prioritize:\n",
        "\n",
        "1. Overhauling its customer service protocols and training\n",
        "2. Upgrading and optimizing its technical infrastructure, including the website and mobile coverage\n",
        "3. Streamlining and improving its billing and payment systems\n",
        "4. Enhancing its logistics and delivery processes\n",
        "\n",
        "By focusing on these areas, Communik8 can aim to reduce customer complaints, improve satisfaction, increase retention rates, and ultimately position itself for sustainable growth in the market.\n",
        "\n"
      ]
    },
    {
      "cell_type": "markdown",
      "metadata": {
        "id": "txtht85QD0Zq"
      },
      "source": [
        "# Reflect\n",
        "\n",
        "Write a brief paragraph highlighting your process and the rationale to showcase critical thinking and problem-solving.\n",
        "\n",
        "I found this exercise challenging as I had very little information to go one. I was given a brief scenario that included data for approximatly 8 complaints. I was then asked to analyse the data and produce a problem statement. Further to this I was given very little guidance related to creating a problem statement, for example, how it should be structured.\n",
        "\n",
        "With these challenges in mind, I first read the scenario to understand the business challenges. I then reviewed the data provided to identify the categories of complaints. By doing a count of the complaints I was better positioned to identify the reoccurence of issues.\n",
        "\n",
        "Next I put into words the challenges faced by the company and then the proposed solution.\n",
        "\n",
        "After completing these exercises I was able to produce a problem statment. However to achieve this I needed to research online more information about problem statement to supplement my knowledge."
      ]
    }
  ],
  "metadata": {
    "colab": {
      "provenance": [],
      "include_colab_link": true
    },
    "kernelspec": {
      "display_name": "Python 3",
      "name": "python3"
    }
  },
  "nbformat": 4,
  "nbformat_minor": 0
}