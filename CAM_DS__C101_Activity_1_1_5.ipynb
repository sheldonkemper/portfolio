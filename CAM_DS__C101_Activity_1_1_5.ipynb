{
  "cells": [
    {
      "cell_type": "markdown",
      "metadata": {
        "id": "view-in-github",
        "colab_type": "text"
      },
      "source": [
        "<a href=\"https://colab.research.google.com/github/sheldonkemper/portfolio/blob/main/CAM_DS__C101_Activity_1_1_5.ipynb\" target=\"_parent\"><img src=\"https://colab.research.google.com/assets/colab-badge.svg\" alt=\"Open In Colab\"/></a>"
      ]
    },
    {
      "cell_type": "markdown",
      "metadata": {
        "id": "ltwXKT0TCvf6"
      },
      "source": [
        "# Activity 1.1.5: Using statistical thinking to analyse and define a business problem from a given scenario.\n",
        "\n",
        "## Scenario\n",
        "**Communik8** is a telecommunications company with both online and physical stores. It provides mobile contracts and sells handsets. Recently, the company has experienced a sizeable reduction in new customers and a decrease in the retention of existing customers.\n",
        "\n",
        "With the primary goal of improving business performance, the company needs to identify critical reasons for this recent decline. The company would like to make sense of its customer data and transform it into actionable insights.\n",
        "\n",
        "The management team at Communik8 has provided recent customer feedback to your team of data scientists and would like initial feedback on the main issues that can be identified from this data.\n",
        "\n",
        "## Objective\n",
        "The goal is to explore and analyse an organisational scenario to identify key problems.\n",
        "\n",
        "## Assessment criteria\n",
        "By completing this activity, you will be able to provide evidence that you can:\n",
        "* Note common themes and sentiments expressed by customers without performing any in-depth analysis.\n",
        "* Formulate your own business problem statement.\n",
        "\n",
        "\n",
        "## Activity guide\n",
        "1. Analyse the customer comments and categorise the comments into themes (e.g.  customer service, delivery, billing and payment, and so on).\n",
        "2. Using the themes you identified as guidance, define the problems Communik8's customers are experiencing. (e.g. delays in delivery, website functionality, and so on)\n",
        "3. Identify how solving these problems will help the company achieve its objectives and goals and outline the consequences of not achieving these goals. (e.g. improved customer satisfaction, customer retention, loss of revenue, and so on)\n",
        "4. Write a problem statement based on the themes, problems, and solutions you identified.\n",
        "\n",
        "* What challenges did you face when completing this activity?\n",
        "* In one sentence, what was your key learning from this activity?"
      ]
    },
    {
      "cell_type": "markdown",
      "metadata": {
        "id": "qE2gU4Q1an1j"
      },
      "source": [
        "## Analysis of Communik8\n",
        "\n",
        "Total complaints provided - 8 <br>\n",
        "1.  <b>Categories</b><br>\n",
        " *   Customer service - 3\n",
        " *   Delivery - 1\n",
        " *   Billing and payment - 2\n",
        " *   Technical - 2\n",
        "\n",
        "2.   <b>Define the Problem</b><br>\n",
        "From the information provided by Communik8's it appears they have challenges with retaining customers and increasing their market share. The inital analysis has identified that retaining customers is a challenge, specifically due to the way customer services handles enquiries and complaints. There appears to be technical issues with their website,logistics, billing system and mobile coverage, which affect both exisitng and new customers.\n",
        "\n",
        "\n",
        "3.   <b>Solving the problem</b><br>\n",
        "First and formost Communik8' will need to review their techical assets such as their website, mobile coverage, billing and logisitc systems. By improving these systems they can ensure exisitng customers make less complaints and new customers can be added. Next they will need to review their policies and procedure around handling customer enquires and complaints to ensure customers feel heard and valued.\n",
        "\n",
        "\n",
        "4. <b>Problem Statement</b><br>\n",
        "Communik8 is facing significant challenges in customer retention and market share growth due to a variety of operational issues. An analysis of customer complaints reveals that out of 8 total complaints:\n",
        "\n",
        "- 37.5% (3) are related to customer service\n",
        "- 25% (2) are due to technical issues\n",
        "- 25% (2) stem from billing and payment problems\n",
        "- 12.5% (1) is associated with delivery\n",
        "\n",
        "These complaints indicate systemic problems across multiple areas of the business, including customer service practices, technical infrastructure, billing systems, and logistics. The high proportion of customer service complaints suggests a critical need for improvement in how customer inquiries and issues are handled. Additionally, the technical and billing issues point to potential problems with the company's website, mobile coverage, and payment processing systems.\n",
        "\n",
        "These operational deficiencies are not only affecting existing customer satisfaction and retention but also potentially deterring new customers, thereby impacting Communik8's ability to increase its market share. The company needs to address these issues comprehensively to improve customer experience, reduce churn, and create a solid foundation for growth.\n",
        "\n",
        "To resolve these challenges, Communik8 must prioritize:\n",
        "\n",
        "1. Overhauling its customer service protocols and training\n",
        "2. Upgrading and optimizing its technical infrastructure, including the website and mobile coverage\n",
        "3. Streamlining and improving its billing and payment systems\n",
        "4. Enhancing its logistics and delivery processes\n",
        "\n",
        "By focusing on these areas, Communik8 can aim to reduce customer complaints, improve satisfaction, increase retention rates, and ultimately position itself for sustainable growth in the market.\n",
        "\n"
      ]
    },
    {
      "cell_type": "markdown",
      "metadata": {
        "id": "txtht85QD0Zq"
      },
      "source": [
        "# Reflect\n",
        "\n",
        "<b>Write a brief paragraph highlighting your process and the rationale to showcase critical thinking and problem-solving.</b>\n",
        "\n",
        "\n",
        "This exercise presented a significant challenge due to the limited information provided. The scenario included data for approximately 8 complaints, and I was tasked with analyzing this data to produce a problem statement. The lack of specific guidance on structuring a problem statement added to the complexity of the task.\n",
        "\n",
        "To approach this challenge, I followed these steps:\n",
        "\n",
        "1. Carefully read the scenario to grasp the business challenges.\n",
        "2. Reviewed the provided data, identifying categories of complaints.\n",
        "3. Conducted a count of complaints to recognize recurring issues.\n",
        "4. Articulated the company's challenges based on this analysis.\n",
        "5. Proposed potential solutions to address these challenges.\n",
        "\n",
        "These steps allowed me to formulate a problem statement. However, to ensure a comprehensive and well-structured result, I supplemented my existing knowledge by conducting additional research on problem statement formulation.\n",
        "\n",
        "This process not only helped me complete the task but also enhanced my understanding of problem analysis and statement creation in a business context. It highlighted the importance of critical thinking and resourcefulness when working with limited information, skills that are valuable in real-world business scenarios."
      ]
    }
  ],
  "metadata": {
    "colab": {
      "provenance": [],
      "include_colab_link": true
    },
    "kernelspec": {
      "display_name": "Python 3",
      "name": "python3"
    }
  },
  "nbformat": 4,
  "nbformat_minor": 0
}