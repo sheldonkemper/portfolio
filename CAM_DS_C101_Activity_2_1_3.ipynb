{
  "cells": [
    {
      "cell_type": "markdown",
      "metadata": {
        "colab_type": "text",
        "id": "view-in-github"
      },
      "source": [
        "<a href=\"https://colab.research.google.com/github/sheldonkemper/portfolio/blob/main/CAM_DS_C101_Activity_2_1_3.ipynb\" target=\"_parent\"><img src=\"https://colab.research.google.com/assets/colab-badge.svg\" alt=\"Open In Colab\"/></a>"
      ]
    },
    {
      "cell_type": "markdown",
      "metadata": {
        "id": "4AYGiZG61SUq"
      },
      "source": [
        "# 2.1.3 Activity: Applying hypothesis testing to organisational scenarios\n",
        "\n",
        "## Scenario\n",
        "You are a self-employed data scientist, with a portfolio of clients. Across five use cases, you will apply hypothesis testing to make recommendations to each organisation.\n",
        "\n",
        "\n",
        "## Objective\n",
        "The goal is to apply hypothesis testing to a selection of real-world scenarios to validate assumptions about business challenges and to guide strategic decision-making.\n",
        "\n",
        "\n",
        "## Assessment criteria\n",
        "By completing this activity, you will be able to provide evidence that you can:\n",
        "- demonstrate proficiency in hypothesis testing using Python for data-driven decision-making\n",
        "- interprete results and deduce meaningful conclusions\n",
        "- provide a brief, but informative summary to the stakeholder(s).\n",
        "\n",
        "\n",
        "## Activity guide\n",
        "1. Study the example before you start with **Scenario 1**.\n",
        "2. Complete the text entry for each scenario, restating the problem statement as a hypothesis.\n",
        "3. Add your hypotheses to the hypothesis variables in the code, and then run the code cell.\n",
        "4. Interpret the results.\n",
        "5. Write a sentence to explain your results to the organisation.\n",
        "6. For Scenario 5, you will select which test to use, write the code, and then apply the above steps to complete the activity.\n"
      ]
    },
    {
      "cell_type": "markdown",
      "metadata": {
        "id": "TzpPhgTcZZCO"
      },
      "source": [
        "## Activity example\n",
        "\n",
        "We want to determine whether a cosmetics salesperson’s annual salary is high enough to meet repayments on a loan. The base salary is not very high, but this income is supplemented by commission on sales. We need to explore whether the applicant’s salary plus the commission will meet affordability (the ability to repay the loan) across various affordability testing aspects.\n",
        "Full affordability tests are recorded on applicants' credit files, so we will do a quick initial statistical test to work out if the commission does make enough of a difference, as this will not leave a credit footprint.\n",
        "\n",
        "We want to know what the average annual commission is, as this will have a significant impact on the applicant's ability to make loan repayments, and have established that an average rate of £501 would meet the requirements. The applicant has indicated that, on average, they make approximately £550 in commission a month, which would be sufficient. However, sales could fluctuate, which would reduce the commission.\n",
        "\n",
        "We want to test how fluctuations in commission will affect affordability, and a one-tailed t-test performed on a year’s worth of actual data (12 months' of commission by month), plus some additional randomised figures to represent potential future fluctuations will reveal how significant differences in earnings through commission may affect affordability.\n",
        "\n",
        "\n",
        "### Activity steps\n",
        "1. State the hypotheses:\n",
        "  - $H_0$: The mean commission for a cosmetics salesperson is less than or equal to £500 per month.\n",
        "  - $H_a$: The mean commission for a cosmetics salesperson is greater than £500 per month.\n",
        "2. Add your hypotheses to the hypothesis variables in the code, then run the code cell.\n",
        "3. Provide short feedback to the stakeholder(s).\n"
      ]
    },
    {
      "cell_type": "code",
      "execution_count": 1,
      "metadata": {
        "colab": {
          "base_uri": "https://localhost:8080/"
        },
        "id": "hmxUFYnXAtGc",
        "outputId": "41985fbf-dfe9-4a5f-a0bd-23d326850868"
      },
      "outputs": [
        {
          "ename": "ModuleNotFoundError",
          "evalue": "No module named 'scipy'",
          "output_type": "error",
          "traceback": [
            "\u001b[0;31m---------------------------------------------------------------------------\u001b[0m",
            "\u001b[0;31mModuleNotFoundError\u001b[0m                       Traceback (most recent call last)",
            "Cell \u001b[0;32mIn[1], line 1\u001b[0m\n\u001b[0;32m----> 1\u001b[0m \u001b[38;5;28;01mimport\u001b[39;00m \u001b[38;5;21;01mscipy\u001b[39;00m\u001b[38;5;21;01m.\u001b[39;00m\u001b[38;5;21;01mstats\u001b[39;00m \u001b[38;5;28;01mas\u001b[39;00m \u001b[38;5;21;01mstats\u001b[39;00m\n\u001b[1;32m      3\u001b[0m \u001b[38;5;66;03m# Sample data for monthly commission for a year (in GBP).\u001b[39;00m\n\u001b[1;32m      4\u001b[0m monthly_commission \u001b[38;5;241m=\u001b[39m [\n\u001b[1;32m      5\u001b[0m     \u001b[38;5;241m480\u001b[39m, \u001b[38;5;241m520\u001b[39m, \u001b[38;5;241m540\u001b[39m, \u001b[38;5;241m490\u001b[39m, \u001b[38;5;241m510\u001b[39m, \u001b[38;5;241m525\u001b[39m, \u001b[38;5;241m515\u001b[39m, \u001b[38;5;241m505\u001b[39m, \u001b[38;5;241m500\u001b[39m, \u001b[38;5;241m480\u001b[39m, \u001b[38;5;241m515\u001b[39m, \u001b[38;5;241m530\u001b[39m,\n\u001b[1;32m      6\u001b[0m     \u001b[38;5;241m520\u001b[39m, \u001b[38;5;241m530\u001b[39m, \u001b[38;5;241m540\u001b[39m, \u001b[38;5;241m525\u001b[39m, \u001b[38;5;241m550\u001b[39m, \u001b[38;5;241m460\u001b[39m, \u001b[38;5;241m570\u001b[39m, \u001b[38;5;241m490\u001b[39m, \u001b[38;5;241m545\u001b[39m, \u001b[38;5;241m535\u001b[39m, \u001b[38;5;241m540\u001b[39m, \u001b[38;5;241m545\u001b[39m,\n\u001b[1;32m      7\u001b[0m     \u001b[38;5;241m550\u001b[39m, \u001b[38;5;241m555\u001b[39m, \u001b[38;5;241m560\u001b[39m, \u001b[38;5;241m565\u001b[39m, \u001b[38;5;241m470\u001b[39m, \u001b[38;5;241m575\u001b[39m, \u001b[38;5;241m580\u001b[39m, \u001b[38;5;241m485\u001b[39m, \u001b[38;5;241m590\u001b[39m, \u001b[38;5;241m595\u001b[39m, \u001b[38;5;241m500\u001b[39m, \u001b[38;5;241m505\u001b[39m\n\u001b[1;32m      8\u001b[0m ]\n",
            "\u001b[0;31mModuleNotFoundError\u001b[0m: No module named 'scipy'"
          ]
        }
      ],
      "source": [
        "import scipy.stats as stats\n",
        "\n",
        "# Sample data for monthly commission for a year (in GBP).\n",
        "monthly_commission = [\n",
        "    480, 520, 540, 490, 510, 525, 515, 505, 500, 480, 515, 530,\n",
        "    520, 530, 540, 525, 550, 460, 570, 490, 545, 535, 540, 545,\n",
        "    550, 555, 560, 565, 470, 575, 580, 485, 590, 595, 500, 505\n",
        "]\n",
        "\n",
        "# Perform a one-tailed t-test.\n",
        "t_statistic, p_value = stats.ttest_1samp(monthly_commission, popmean=500, alternative='greater')\n",
        "\n",
        "# Set the significance level (alpha) at 0.05.\n",
        "alpha = 0.05\n",
        "\n",
        "# Define the null and alternative hypotheses.\n",
        "null_hypothesis = \"The mean commission is less than or equal to £500 per month.\"\n",
        "alternative_hypothesis = \"The mean commission is greater than £500 per month.\"\n",
        "\n",
        "# Print the hypotheses, test results and interpretation.\n",
        "print(\"Null Hypothesis:\", null_hypothesis)\n",
        "print(\"Alternative Hypothesis:\", alternative_hypothesis)\n",
        "print(\"Significance Level (alpha):\", alpha)\n",
        "print(\"T-Statistic:\", t_statistic)\n",
        "print(\"P-Value:\", p_value)\n",
        "\n",
        "if p_value < alpha:\n",
        "    print(\"Reject the null hypothesis.\")\n",
        "else:\n",
        "    print(\"Fail to reject the null hypothesis.\")\n"
      ]
    },
    {
      "cell_type": "markdown",
      "metadata": {
        "id": "DoOyJ3Jm8-zS"
      },
      "source": [
        "### Reporting results\n",
        "\n",
        "The initial suitability test performed on your average commission for last year, along with potential future earnings from commission, shows that you are likely to be accepted for a loan after the full affordability tests are completed. As a reminder, the full credit check will leave a record on your credit file. Would you like to proceed with the application?"
      ]
    },
    {
      "cell_type": "markdown",
      "metadata": {
        "id": "EVAhQPyWa-eA"
      },
      "source": [
        "## Scenario 1: Product price comparison\n",
        "\n",
        "- **Problem statement:** A retail company wants to determine whether there is a significant difference in the average price of a product between two different stores (Store A – the business; and Store B – the competitor).\n",
        "- **Objective:** Test whether the average price of the product differs significantly between Store A and Store B.\n",
        "- **Statistical test:** Independent two-sample t-test.\n",
        "- **Reason for test selection:** An independent two-sample t-test is used to assess whether there is a significant difference between two continuous variables (prices, Store A and Store B). The assumptions for a t-test (independent in this case) are met, including normality and homoscedasticity.\n",
        "- **Value to the organisation:** This information can influence pricing strategies and competitive analysis, leading to informed decisions about product pricing and placement.\n",
        "\n",
        "### Activity steps\n",
        "1. State the hypotheses.\n",
        "2. Create Python code to test the hypotheses.\n",
        "3. Provide a short feedback to the stakeholder(s)."
      ]
    },
    {
      "cell_type": "markdown",
      "metadata": {
        "id": "rceP5lEBa4Kv"
      },
      "source": [
        "> State your hypotheses here. Select the pen from the toolbar to add your entry."
      ]
    },
    {
      "cell_type": "code",
      "execution_count": null,
      "metadata": {
        "colab": {
          "base_uri": "https://localhost:8080/"
        },
        "id": "-kawWQUVa1BR",
        "outputId": "7831be57-8e53-4183-95b0-8ff6427c7174"
      },
      "outputs": [
        {
          "ename": "",
          "evalue": "",
          "output_type": "error",
          "traceback": [
            "\u001b[1;31mRunning cells with 'Python 3' requires the ipykernel package.\n",
            "\u001b[1;31mRun the following command to install 'ipykernel' into the Python environment. \n",
            "\u001b[1;31mCommand: '/usr/bin/python3 -m pip install ipykernel -U --user --force-reinstall'"
          ]
        }
      ],
      "source": [
        "# Start your coding here.\n",
        "# Import the necessary library.\n",
        "import scipy.stats as stats\n",
        "\n",
        "# Sample data for prices at Store A and Store B.\n",
        "store_A_prices = [50, 55, 60, 45, 48, 52, 57, 59, 53, 50, 58, 54, 51, 56, 55]\n",
        "store_B_prices = [55, 52, 58, 54, 50, 56, 53, 59, 55, 57, 60, 58, 53, 55, 57]\n",
        "\n",
        "# Perform the independent two-sample t-test.\n",
        "t_statistic, p_value = stats.ttest_ind(store_A_prices, store_B_prices)\n",
        "\n",
        "# Set the significance level (alpha) at 0.05.\n",
        "alpha = 0.05\n",
        "\n",
        "# Add the null and alternative hypotheses between the \"\".\n",
        "null_hypothesis = \"\"\n",
        "alternative_hypothesis = \"\"\n",
        "\n",
        "# Print the hypotheses, test results, and interpretation.\n",
        "print(\"Null Hypothesis:\", null_hypothesis)\n",
        "print(\"Alternative Hypothesis:\", alternative_hypothesis)\n",
        "print(\"Significance Level (alpha):\", alpha)\n",
        "print(\"T-Statistic:\", t_statistic)\n",
        "print(\"P-Value:\", p_value)\n",
        "\n",
        "if p_value < alpha:\n",
        "    print(\"Reject the null hypothesis.\")\n",
        "else:\n",
        "    print(\"Fail to reject the null hypothesis.\")\n"
      ]
    },
    {
      "cell_type": "markdown",
      "metadata": {
        "id": "txtht85QD0Zq"
      },
      "source": [
        "### Reporting results\n",
        "> Select the pen in the cell menu to type into this text cell.\n",
        "\n",
        "Add a short report for the client, with a recommendation based on your findings. *This should be 2–3 sentences, and should not include the statistical test numbers*.\n",
        "\n"
      ]
    },
    {
      "cell_type": "markdown",
      "metadata": {
        "id": "tgzsLTeMne6G"
      },
      "source": [
        "## Scenario 2: Employee productivity\n",
        "\n",
        "- **Problem statement:** The HR department of a company wants to determine whether there is a significant difference in the average productivity levels of employees across three different departments (sales, marketing, and finance).\n",
        "- **Objective:** Test whether the average productivity levels vary significantly across the three departments.\n",
        "- **Statistical test:** One-way ANOVA to determine if there is a significant difference in average productivity levels across three different departments: sales, marketing, and finance.\n",
        "- **Reason for test selection:** One-way ANOVA compares the means of productivity levels across more than two groups (departments). ANOVA determines whether there is a significant difference in means, which is important for identifying which department(s) may require specific attention or improvements (independent in this case) are met, including normality and homoscedasticity.\n",
        "- **Value to the organisation:** Identifying which department might need targeted improvements should lead to better resource allocation and increased efficiency.\n",
        "\n",
        "### Activity steps\n",
        "1. State the hypotheses.\n",
        "2. Create Python code to test the hypotheses.\n",
        "3. Provide a short feedback to the stakeholder(s)."
      ]
    },
    {
      "cell_type": "markdown",
      "metadata": {
        "id": "Tw0yUGbvbzi4"
      },
      "source": [
        "> State your hypotheses here. Select the pen from the toolbar to add your entry."
      ]
    },
    {
      "cell_type": "code",
      "execution_count": null,
      "metadata": {
        "id": "oqmaWfu27G3Z"
      },
      "outputs": [
        {
          "ename": "",
          "evalue": "",
          "output_type": "error",
          "traceback": [
            "\u001b[1;31mRunning cells with 'Python 3' requires the ipykernel package.\n",
            "\u001b[1;31mRun the following command to install 'ipykernel' into the Python environment. \n",
            "\u001b[1;31mCommand: '/usr/bin/python3 -m pip install ipykernel -U --user --force-reinstall'"
          ]
        }
      ],
      "source": [
        "import scipy.stats as stats\n",
        "\n",
        "# Sample data for productivity in three departments.\n",
        "sales_productivity = [100, 110, 105, 120, 115, 108, 112, 107, 118, 103, 105, 115, 110]\n",
        "marketing_productivity = [90, 95, 88, 92, 85, 87, 93, 89, 94, 91, 86, 92, 91]\n",
        "finance_productivity = [80, 75, 82, 78, 85, 86, 81, 79, 83, 87, 84, 79, 82]\n",
        "\n",
        "# Perform one-way ANOVA.\n",
        "f_statistic, p_value = stats.f_oneway(sales_productivity, marketing_productivity, finance_productivity)\n",
        "\n",
        "# Set the significance level (alpha) at 0.05.\n",
        "alpha = 0.05\n",
        "\n",
        "# Add the null and alternative hypotheses between the \"\".\n",
        "null_hypothesis = \"\"\n",
        "alternative_hypothesis = \"\"\n",
        "\n",
        "# Print the hypotheses, test results, and interpretation.\n",
        "print(\"Null Hypothesis:\", null_hypothesis)\n",
        "print(\"Alternative Hypothesis:\", alternative_hypothesis)\n",
        "print(\"Significance Level (alpha):\", alpha)\n",
        "print(\"F-Statistic:\", f_statistic)\n",
        "print(\"P-Value:\", p_value)\n",
        "\n",
        "if p_value < alpha:\n",
        "    print(\"Reject the null hypothesis.\")\n",
        "else:\n",
        "    print(\"Fail to reject the null hypothesis.\")\n"
      ]
    },
    {
      "cell_type": "markdown",
      "metadata": {
        "id": "f6lC_2tUbq_y"
      },
      "source": [
        "### Reporting results\n",
        "> Select the pen in the cell menu to type into this text cell.\n",
        "\n",
        "Add a short report for the client, with a recommendation based on your findings. *This should be 2–3 sentences, and should not include the statistical test numbers*.\n",
        "\n"
      ]
    },
    {
      "cell_type": "markdown",
      "metadata": {
        "id": "CkZ8NHjwtsM8"
      },
      "source": [
        "## Scenario 3: Market research\n",
        "\n",
        "- **Problem statement:** A marketing research firm is investigating whether there is a relationship between customers’ age groups (18–25, 26–35, and 36–45) and their preferred social media platforms (Facebook, Twitter, and Instagram).\n",
        "- **Objective:** Test whether the age group and the choice of social media platform are independent of each other.\n",
        "- **Statistical test:** Chi-square test for independence.\n",
        "- **Reason for test selection:** The chi-square test for independence is suitable for categorical data (age groups and social media platforms) and to determine whether the variables are independent or related. This test assesses whether there is an association between the two variables without the need for specific assumptions about data distribution.\n",
        "- **Value to the organisation:** Identifying whether age groups and preferred social media platforms are independent or related is valuable for targeted marketing campaigns tailored to specific age groups and platforms.\n",
        "\n",
        "\n",
        "### Activity steps\n",
        "1. State the hypotheses.\n",
        "2. Create Python code to test the hypotheses.\n",
        "3. Provide a short feedback to the stakeholder(s)."
      ]
    },
    {
      "cell_type": "markdown",
      "metadata": {
        "id": "Ejfuy-Qab1Gx"
      },
      "source": [
        "> State your hypotheses here. Select the pen from the toolbar to add your entry."
      ]
    },
    {
      "cell_type": "code",
      "execution_count": null,
      "metadata": {
        "id": "MMJWrW_wGsL4"
      },
      "outputs": [
        {
          "ename": "",
          "evalue": "",
          "output_type": "error",
          "traceback": [
            "\u001b[1;31mRunning cells with 'Python 3' requires the ipykernel package.\n",
            "\u001b[1;31mRun the following command to install 'ipykernel' into the Python environment. \n",
            "\u001b[1;31mCommand: '/usr/bin/python3 -m pip install ipykernel -U --user --force-reinstall'"
          ]
        }
      ],
      "source": [
        "import scipy.stats as stats\n",
        "import pandas as pd\n",
        "\n",
        "# Sample data as a Pandas DataFrame.\n",
        "data = pd.DataFrame({\n",
        "    'Age Group': ['18-25', '26-35', '36-45', '18-25', '26-35'],\n",
        "    'Social Media Platform': ['Facebook', 'Twitter', 'Instagram', 'Instagram', 'Facebook']\n",
        "})\n",
        "\n",
        "# Create a contingency table.\n",
        "contingency_table = pd.crosstab(data['Age Group'], data['Social Media Platform'])\n",
        "\n",
        "# Perform chi-square test for independence.\n",
        "chi2, p, _, _ = stats.chi2_contingency(contingency_table)\n",
        "\n",
        "# Set the significance level (alpha) at 0.05.\n",
        "alpha = 0.05\n",
        "\n",
        "# Add the null and alternative hypotheses between the \"\".\n",
        "null_hypothesis = \"\"\n",
        "alternative_hypothesis = \"\"\n",
        "\n",
        "# Print the hypotheses, test results, and interpretation.\n",
        "print(\"Null Hypothesis:\", null_hypothesis)\n",
        "print(\"Alternative Hypothesis:\", alternative_hypothesis)\n",
        "print(\"Significance Level (alpha):\", alpha)\n",
        "print(\"Chi-Square Statistic:\", chi2)\n",
        "print(\"P-Value:\", p)\n",
        "\n",
        "if p < alpha:\n",
        "    print(\"Reject the null hypothesis.\")\n",
        "else:\n",
        "    print(\"Fail to reject the null hypothesis.\")\n"
      ]
    },
    {
      "cell_type": "markdown",
      "metadata": {
        "id": "mqBeowSxcBoB"
      },
      "source": [
        "### Reporting results\n",
        "> Select the pen in the cell menu to type into this text cell.\n",
        "\n",
        "Add a short report for the client, with a recommendation based on your findings. *This should be 2–3 sentences, and should not include the statistical test numbers*.\n",
        "\n"
      ]
    },
    {
      "cell_type": "markdown",
      "metadata": {
        "id": "3PPHNTs5wmEM"
      },
      "source": [
        "## Scenario 4: Product quality control\n",
        "\n",
        "- **Problem statement:** A manufacturing company is evaluating whether there is a significant difference in product quality (measured as 'defective' or 'non-defective') among three production lines (Line A, Line B, Line C).\n",
        "- **Objective:** Test whether the proportion of defective products differs across the three production lines.\n",
        "- **Statistical test:** Chi-square test for proportions.\n",
        "- **Reason for test selection:** This scenario involves comparing proportions (defective versus non-defective) among production lines, making the chi-square test for proportions appropriate. It will test whether the proportion of defective products significantly differs among the production lines, regardless of data distribution.\n",
        "- **Value to the organisation:** Identifying variations in product quality aids quality control and process improvement within the manufacturing process.\n",
        "\n",
        "### Activity steps\n",
        "1. State the hypotheses.\n",
        "2. Create Python code to test the hypotheses.\n",
        "3. Provide a short feedback to the stakeholder(s)."
      ]
    },
    {
      "cell_type": "markdown",
      "metadata": {
        "id": "-3Oy4Ikeb1_H"
      },
      "source": [
        "> State your hypotheses here. Select the pen from the toolbar to add your entry."
      ]
    },
    {
      "cell_type": "code",
      "execution_count": null,
      "metadata": {
        "id": "-wS7AVayH0yi"
      },
      "outputs": [
        {
          "ename": "",
          "evalue": "",
          "output_type": "error",
          "traceback": [
            "\u001b[1;31mRunning cells with 'Python 3' requires the ipykernel package.\n",
            "\u001b[1;31mRun the following command to install 'ipykernel' into the Python environment. \n",
            "\u001b[1;31mCommand: '/usr/bin/python3 -m pip install ipykernel -U --user --force-reinstall'"
          ]
        }
      ],
      "source": [
        "import scipy.stats as stats\n",
        "\n",
        "# Sample data for three production lines.\n",
        "line_A_defective = 20\n",
        "line_A_non_defective = 180\n",
        "line_B_defective = 30\n",
        "line_B_non_defective = 170\n",
        "line_C_defective = 10\n",
        "line_C_non_defective = 190\n",
        "\n",
        "# Create a 2x3 contingency table.\n",
        "contingency_table = [[line_A_defective, line_B_defective, line_C_defective],\n",
        "                     [line_A_non_defective, line_B_non_defective, line_C_non_defective]]\n",
        "\n",
        "# Perform chi-square test for proportions.\n",
        "chi2, p, _, _ = stats.chi2_contingency(contingency_table)\n",
        "\n",
        "# Set the significance level (alpha) at 0.05.\n",
        "alpha = 0.05\n",
        "\n",
        "# Add the null and alternative hypotheses between the \"\".\n",
        "null_hypothesis = \"\"\n",
        "alternative_hypothesis = \"\"\n",
        "\n",
        "# Print the hypotheses, test results, and interpretation.\n",
        "print(\"Null Hypothesis:\", null_hypothesis)\n",
        "print(\"Alternative Hypothesis:\", alternative_hypothesis)\n",
        "print(\"Significance Level (alpha):\", alpha)\n",
        "print(\"Chi-Square Statistic:\", chi2)\n",
        "print(\"P-Value:\", p)\n",
        "\n",
        "if p < alpha:\n",
        "    print(\"Reject the null hypothesis.\")\n",
        "else:\n",
        "    print(\"Fail to reject the null hypothesis.\")\n"
      ]
    },
    {
      "cell_type": "markdown",
      "metadata": {
        "id": "U4cr0qLhcD95"
      },
      "source": [
        "### Reporting results\n",
        "> Select the pen in the cell menu to type into this text cell.\n",
        "\n",
        "Add a short report for the client, with a recommendation based on your findings. *This should be 2–3 sentences, and should not include the statistical test numbers*.\n",
        "\n"
      ]
    },
    {
      "cell_type": "markdown",
      "metadata": {
        "id": "fgXOk8VRx_bN"
      },
      "source": [
        "## Scenario 5:  Determining product lines\n",
        "\n",
        "For this scenario, you will select the appropriate test and write the code for that test.\n",
        "\n",
        "- **Problem statement:** An online bookstore wants to determine which books to add to its product line. It needs to determine whether to spend the budget on fiction or non-fiction books, based on which category will likely generate the most revenue.\n",
        "- **Objective:** Select an appropriate test to determine how to spend the budget.\n",
        "- **Statistical test:** Which test is correct for this scenario? Select one of the tests used for the previous scenarios, and apply it to the data provided.\n",
        "- **Reason for test selection:** Justify why you have selected this test.\n",
        "- **Value to the organisation:** Why would the information from this test add value to the organisation?\n",
        "\n",
        "\n",
        "### Activity steps\n",
        "1. State the hypotheses.\n",
        "2. Create Python code to test the hypotheses.\n",
        "3. Provide a short feedback to the stakeholder(s)."
      ]
    },
    {
      "cell_type": "markdown",
      "metadata": {
        "id": "SaGcwb09b2z2"
      },
      "source": [
        "> State your hypotheses here. Select the pen from the toolbar to add your entry."
      ]
    },
    {
      "cell_type": "code",
      "execution_count": null,
      "metadata": {
        "id": "mgtRHgJ6x_bO"
      },
      "outputs": [
        {
          "ename": "",
          "evalue": "",
          "output_type": "error",
          "traceback": [
            "\u001b[1;31mRunning cells with 'Python 3' requires the ipykernel package.\n",
            "\u001b[1;31mRun the following command to install 'ipykernel' into the Python environment. \n",
            "\u001b[1;31mCommand: '/usr/bin/python3 -m pip install ipykernel -U --user --force-reinstall'"
          ]
        }
      ],
      "source": [
        "# Import relevant libraries.\n",
        "\n",
        "\n",
        "# Sample data for revenue of fiction and non-fiction books.\n",
        "fiction_revenue = [500, 550, 600, 520, 480, 530, 560,\n",
        "                   540, 570, 590, 545, 525, 510, 525,\n",
        "                   515, 550, 570, 580, 535, 520, 510,\n",
        "                   540, 560, 575, 590]\n",
        "non_fiction_revenue = [600, 620, 580, 590, 610, 630,\n",
        "                       595, 605, 615, 625, 635, 590,\n",
        "                       625, 630, 640, 610, 620, 600,\n",
        "                       615, 630, 625, 635, 610, 590, 580]\n",
        "\n",
        "# Perform your chosen test.\n",
        "\n",
        "\n",
        "\n",
        "# Set the significance level (alpha) at 0.05.\n",
        "alpha = 0.05\n",
        "\n",
        "# Add the null and alternative hypotheses between the \"\".\n",
        "null_hypothesis = \"\"\n",
        "alternative_hypothesis = \"\"\n",
        "\n",
        "\n",
        "\n",
        "# Print the test results.\n",
        "\n",
        "\n",
        "# Interpret the results.\n"
      ]
    },
    {
      "cell_type": "markdown",
      "metadata": {
        "id": "SsrFGUfJcFvQ"
      },
      "source": [
        "### Reporting results\n",
        "> Select the pen in the cell menu to type into this text cell.\n",
        "\n",
        "Add a short report for the client, with a recommendation based on your findings. *This should be 2–3 sentences, and should not include the statistical test numbers*.\n",
        "\n"
      ]
    },
    {
      "cell_type": "markdown",
      "metadata": {
        "id": "bbGhz9xPQbRU"
      },
      "source": [
        "# Reflect\n",
        "\n",
        "Write a brief paragraph highlighting your process and the rationale to showcase critical thinking and problem-solving.\n",
        "\n",
        "> Select the pen from the toolbar to add your entry. When you have completed the activity, remember to update the link on your contents page to point to your completed Notebook."
      ]
    }
  ],
  "metadata": {
    "colab": {
      "include_colab_link": true,
      "provenance": []
    },
    "kernelspec": {
      "display_name": "Python 3",
      "name": "python3"
    },
    "language_info": {
      "codemirror_mode": {
        "name": "ipython",
        "version": 3
      },
      "file_extension": ".py",
      "mimetype": "text/x-python",
      "name": "python",
      "nbconvert_exporter": "python",
      "pygments_lexer": "ipython3",
      "version": "3.9.6"
    }
  },
  "nbformat": 4,
  "nbformat_minor": 0
}
