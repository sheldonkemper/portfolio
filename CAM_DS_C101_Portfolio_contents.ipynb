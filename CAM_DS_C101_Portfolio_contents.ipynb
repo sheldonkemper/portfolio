{
  "nbformat": 4,
  "nbformat_minor": 0,
  "metadata": {
    "colab": {
      "provenance": [],
      "collapsed_sections": [
        "vDPdtpFWNfoV",
        "LwR2eQZ8VszP",
        "vow84sVueCOp",
        "XXNjzj10eJFX",
        "MgR8VoTfeMhH"
      ],
      "include_colab_link": true
    },
    "kernelspec": {
      "name": "python3",
      "display_name": "Python 3"
    },
    "language_info": {
      "name": "python"
    }
  },
  "cells": [
    {
      "cell_type": "markdown",
      "metadata": {
        "id": "view-in-github",
        "colab_type": "text"
      },
      "source": [
        "<a href=\"https://colab.research.google.com/github/sheldonkemper/portfolio/blob/main/CAM_DS_C101_Portfolio_contents.ipynb\" target=\"_parent\"><img src=\"https://colab.research.google.com/assets/colab-badge.svg\" alt=\"Open In Colab\"/></a>"
      ]
    },
    {
      "cell_type": "markdown",
      "source": [
        "**First things first** - please go to 'File' and select 'Save a copy in Drive' so that you have your own version of this activity set up and ready to use.\n",
        "Remember to update the portfolio index link to your own work once completed!"
      ],
      "metadata": {
        "id": "kBoaExyJVCGe"
      }
    },
    {
      "cell_type": "markdown",
      "source": [
        "# Welcome to Course 101: Applying statistics and core data science techniques in business.\n",
        "\n",
        "Throughout the course, you will learn to:\n",
        "\n",
        "1. Systematically analyse complex organisational challenges to enhance problem-solving skills and propose strategic solutions.\n",
        "2. Develop advanced critical and statistical thinking skills by identifying meaningful patterns in complex data.\n",
        "3. Evaluate and select statistical techniques appropriate to a solutions design approach.\n",
        "4. Synthesise and systematically implement techniques to enhance data representation and improve model performance.\n",
        "5. Critically select, evaluate and implement effective unsupervised learning techniques to design innovative solutions.\n",
        "\n",
        "This will be the index page for your portfolio. For each activity in the Course, you will need to save a copy of the provided template, complete it, and update the link in this index to direct your tutors, peers, and potential employers to your own work.\n",
        "\n",
        "You will also complete reflections relating to each demonstration and activity throughout the course in this section of your portfolio.\n",
        "\n",
        "Here is a link to the [Orientation content](https://colab.research.google.com/drive/1bAE7vviDHiU1bQipsB5hFvF-IyCiPMdd?usp=sharing), if you need a recap on how to use Colab."
      ],
      "metadata": {
        "id": "3k2rPGoAHyqU"
      }
    },
    {
      "cell_type": "markdown",
      "source": [
        "# Week 1: Developing commercial awareness through statistical thinking\n",
        "\n",
        "**Throughout the week, you will learn to:**\n",
        "1. Systematically analyse a range of organisational scenarios to identify key strategic issues.\n",
        "2. Develop advanced problem-solving skills by applying statistical thinking.\n",
        "3. Design effective solution paths through systematic critical thinking and problem-solving techniques.\n",
        "4. Critically compare and evaluate a range of solutions to design effective outcomes.\n"
      ],
      "metadata": {
        "id": "vDPdtpFWNfoV"
      }
    },
    {
      "cell_type": "markdown",
      "source": [
        "[**Activity 1.1.5** Using statistical thinking to analyse and define a business problem from a given scenario.](https://colab.research.google.com/drive/15CFf6_Y-EF0vX1laBXqSbPUo_i_1P9K1?usp=sharing)"
      ],
      "metadata": {
        "id": "d_UVXWrCI2Tt"
      }
    },
    {
      "cell_type": "markdown",
      "source": [
        "[**Activity 1.2.3** Developing a hypothesis and presenting a proposed solution](https://colab.research.google.com/drive/1wW9PV2deTQWENKUmJUntZ-htIFQngcj8?usp=sharing)"
      ],
      "metadata": {
        "id": "1eAXGgnONVCT"
      }
    },
    {
      "cell_type": "markdown",
      "source": [
        "[**Activity 1.2.5** Using feature engineering as a problem-solving tool](https://colab.research.google.com/drive/1TtOiQ9GL6aid2dG5uzoepSFnV_lQc3Ub?usp=sharing)\n",
        "\n"
      ],
      "metadata": {
        "id": "0Na5Y2y3OFXS"
      }
    },
    {
      "cell_type": "markdown",
      "source": [
        "[**Demonstration 1.3.1** Normal and binomial distribution](https://colab.research.google.com/drive/1B9EGAMq0MKGth5kFWZ_QRLmAzzjx6WOQ)"
      ],
      "metadata": {
        "id": "0pDxIrbA06cc"
      }
    },
    {
      "cell_type": "markdown",
      "source": [
        "## Week 1 Reflection\n",
        "Now that you've completed Week 1, it's time to reflect on your learning.\n",
        "\n",
        "**Reflection prompts:**\n",
        "1. What was the most interesting part of this week's learning? Why?\n",
        "2. What did you find the most challenging? Why?\n",
        "3. What, so far, will be the most applicable to your current or future career? Why?\n",
        "\n",
        "> Type your reflection here:"
      ],
      "metadata": {
        "id": "HZB2RGibUe2h"
      }
    },
    {
      "cell_type": "markdown",
      "source": [
        "# Week 2: Applying advanced statistical techniques for data science\n",
        "\n",
        "**Throughout the week, you will learn to:**\n",
        "1. Develop proficiency in hypothesis testing using Python for data-driven decision-making.\n",
        "2. Investigate data systematically to identify causal links, account for biases, and assess confounding variables.\n",
        "3. Interpret statistical test results rigorously, identifying and addressing assumptions and limitations.\n",
        "4. Critically analyse outputs to evaluate predictive models, accurately interpreting relevant metrics to ensure generalisability.\n"
      ],
      "metadata": {
        "id": "LwR2eQZ8VszP"
      }
    },
    {
      "cell_type": "markdown",
      "source": [
        "[**Demonstration 2.1.2**\n",
        "Testing hypotheses with t-tests, ANOVA, and Chi-square](https://colab.research.google.com/drive/1799HucGrx9j34euT6x2_geidPoWG4iZV?usp=sharing)"
      ],
      "metadata": {
        "id": "1_Aanj7MCfIp"
      }
    },
    {
      "cell_type": "markdown",
      "source": [
        "[**Activity 2.1.3** Applying hypothesis testing to organisational scenarios](https://colab.research.google.com/drive/1ZjLnX-xZIGwLACbkY8KQLpNjTQps42Cw?usp=sharing)"
      ],
      "metadata": {
        "id": "y8oyCTZVFILd"
      }
    },
    {
      "cell_type": "markdown",
      "source": [
        "[**Demonstration 2.2.1** Measuring correlation](https://colab.research.google.com/drive/1lcmoAs3pgIu9zKuaIjitL8ozo0DArf8j?usp=sharing)"
      ],
      "metadata": {
        "id": "XjVndb_zD0Sp"
      }
    },
    {
      "cell_type": "markdown",
      "source": [
        "[**Demonstration 2.2.2**  Pitfalls and best practices in interpreting correlation](https://colab.research.google.com/drive/1-kVWVgpGS6vTCSP7eCfa5tv0kdxhHyKf?usp=sharing)"
      ],
      "metadata": {
        "id": "1iW2TqxGyHOk"
      }
    },
    {
      "cell_type": "markdown",
      "source": [
        "[**Activity 2.2.3** Interpreting correlation and causation](https://colab.research.google.com/drive/1HGFV2fj5CkGTM-qd3qJpoRYFyv1xqKUy?usp=sharing)"
      ],
      "metadata": {
        "id": "KyTazMk5yF2x"
      }
    },
    {
      "cell_type": "markdown",
      "source": [
        "[**Demonstration 2.3.3** Predicting with regression](https://colab.research.google.com/drive/11NqBkUdHuo-1a2gdz1qXMaRxQQL-DKu6?usp=sharing)\n"
      ],
      "metadata": {
        "id": "KsiWivKpyGsO"
      }
    },
    {
      "cell_type": "markdown",
      "source": [
        "[**Demonstration 2.3.4** Making predictions with linear and multiple regression models](https://colab.research.google.com/drive/1ov06Z-xfAZTWp1NRPzE3VELYf6-c1ZLb?usp=sharing)"
      ],
      "metadata": {
        "id": "5TkWR7hvB-Oo"
      }
    },
    {
      "cell_type": "markdown",
      "source": [
        "[**Activity 2.3.5:** Building models, interpreting results](https://colab.research.google.com/drive/1twW9tW-MS-iOpc5GWHZZBARkIAPQ4zug?usp=sharing)"
      ],
      "metadata": {
        "id": "YFlZYaioafov"
      }
    },
    {
      "cell_type": "markdown",
      "source": [
        "## Week 2 Reflection\n",
        "Now that you have completed Week 2, it's time to reflect on your learning.\n",
        "\n",
        "**Reflection prompts:**\n",
        "1. What was the most interesting part of this week's learning? Why?\n",
        "2. What did you find the most challenging? Why?\n",
        "3. What, so far, will be the most applicable to your current or future career? Why?\n",
        "\n",
        "> Type your reflection here:"
      ],
      "metadata": {
        "id": "bzFa0EdG95e5"
      }
    },
    {
      "cell_type": "markdown",
      "source": [
        "# Week 3: Taking a critical approach to selecting statistical techniques\n",
        "\n",
        "**Throughout the week, you will learn to:**\n",
        "1. Analyse ethical issues in data science environments to advocate for appropriate solutions.\n",
        "2. Analyse diverse data characteristics to accurately apply parametric and non-parametric methods\n",
        "3. Critically compare and select appropriate statistical tests, ensuring robustness and accuracy in analysis"
      ],
      "metadata": {
        "id": "vow84sVueCOp"
      }
    },
    {
      "cell_type": "markdown",
      "source": [
        "[**Demonstration 3.2.2** Recognising data that violates normality assumptions](https://colab.research.google.com/drive/16rpUGtul2iFFPKmydPFyNFcwKCpvLScS)"
      ],
      "metadata": {
        "id": "LLlytVjsa_uY"
      }
    },
    {
      "cell_type": "markdown",
      "source": [
        "[**Demonstration 3.2.3** Conducting Mann-Whitney U test and the Wilcoxon signed-rank test using Python](https://colab.research.google.com/drive/1bfqVamQe2vLBS5RIJdu1_ZaBDg83vzbX#scrollTo=pEnPzdHAJUfN)"
      ],
      "metadata": {
        "id": "63KmRDnya_pN"
      }
    },
    {
      "cell_type": "markdown",
      "source": [
        "[**Activity 3.2.4** Applying non-parametric tests to a data set](https://colab.research.google.com/drive/1oSi6oDBZkkCcSEENX9aoIp4-p0rrLZfM#scrollTo=t9BGqPnG_IdF)"
      ],
      "metadata": {
        "id": "zaQSgTNa-sFh"
      }
    },
    {
      "cell_type": "markdown",
      "source": [
        "## Week 3 Reflection\n",
        "Now that you have completed Week 3, it's time to reflect on your learning.\n",
        "\n",
        "**Reflection prompts:**\n",
        "1. What was the most interesting part of this week's learning? Why?\n",
        "2. What did you find the most challenging? Why?\n",
        "3. What, so far, will be the most applicable to your current or future career? Why?\n",
        "\n",
        "> Type your reflection here:"
      ],
      "metadata": {
        "id": "-lMWIw2yrEr9"
      }
    },
    {
      "cell_type": "markdown",
      "source": [
        "# Week 4: Engineering features and reducing dimensions\n",
        "\n",
        "**Throughout the week, you will learn to:**\n",
        "1. Systematically apply specialist methodological approaches to extract relevant features from diverse data sets.\n",
        "2. Tailor feature engineering methods to address specific data challenges, optimising feature representation for accurate analysis of complex problems.\n",
        "3. Synthesise and perform dimensionality reduction to effectively reduce data dimensions while retaining meaningful patterns.\n",
        "4. Critically identify and define the strengths and limitations of applying principal component analysis and t-SNE."
      ],
      "metadata": {
        "id": "XXNjzj10eJFX"
      }
    },
    {
      "cell_type": "markdown",
      "source": [
        "[**Demonstration 4.1.2** Identifying types of data and features](https://colab.research.google.com/drive/1Bh01gCy1uncrJPHXyrzifaryWTsIbkNY)"
      ],
      "metadata": {
        "id": "6FVuXIcgg6xH"
      }
    },
    {
      "cell_type": "markdown",
      "source": [
        "[**Demonstration 4.1.3** Handling missing values](https://colab.research.google.com/drive/1FPx6kTK5lUCzcLKOCAYbYv63qfECc-Au?usp=drive_link)"
      ],
      "metadata": {
        "id": "PTG9j8r9yHZt"
      }
    },
    {
      "cell_type": "markdown",
      "source": [
        "[**Demonstration 4.1.4** Handling outliers](https://colab.research.google.com/drive/1zGwm8DC_wFKoRf2AJ7PiuQapI2MTuEjV?usp=drive_link)"
      ],
      "metadata": {
        "id": "00KBIz6UzgP2"
      }
    },
    {
      "cell_type": "markdown",
      "source": [
        "[**Demonstration 4.1.5** Dealing with categorical data](https://colab.research.google.com/drive/1C5pL6pAEcDGplVVuZbqIa45ckZYFFWvG?usp=sharing)"
      ],
      "metadata": {
        "id": "kmJSYiUvApnD"
      }
    },
    {
      "cell_type": "markdown",
      "source": [
        "[**Demonstration 4.1.6** Feature scaling](https://colab.research.google.com/drive/1G6_RrJW9RUsuWntUk9pLETO0OZs4WinD?usp=sharing)"
      ],
      "metadata": {
        "id": "Utzbj0W9m1fZ"
      }
    },
    {
      "cell_type": "markdown",
      "source": [
        "[**Demonstration 4.1.7** Feature selection and extraction](https://colab.research.google.com/drive/1I-ihXhw4U3r54MgKdpooexceW-sl5ZMA?usp=sharing)\n",
        "\n"
      ],
      "metadata": {
        "id": "J7DqX6u3A2Dz"
      }
    },
    {
      "cell_type": "markdown",
      "source": [
        "[**Activity 4.1.8** Selecting features](https://colab.research.google.com/drive/1HPMePzE3zAOELWb9z_eBTxWmCD9KoiNg?usp=sharing)"
      ],
      "metadata": {
        "id": "DT0T0XxeyVVd"
      }
    },
    {
      "cell_type": "markdown",
      "source": [
        "[**Demonstration 4.2.2** Exploring PCA](https://colab.research.google.com/drive/1bN6hr9ey9YQPCXWJUfl-mjB9DMN6KlG4?usp=sharing)"
      ],
      "metadata": {
        "id": "r_hjWD7hHZP9"
      }
    },
    {
      "cell_type": "markdown",
      "source": [
        "[**Demonstration 4.2.3** Exploring t-SNE](https://colab.research.google.com/drive/1L2NhM9Mge6rt_10fzEWN4rT-n9KarqD9?usp=sharing)"
      ],
      "metadata": {
        "id": "OjryiTWrHy99"
      }
    },
    {
      "cell_type": "markdown",
      "source": [
        "[**Activity 4.2.4** Implementing PCA and t-SNE](https://colab.research.google.com/drive/14FjN4KI1zDtaVSJppUmMaYSroj3bn-6Q?usp=sharing)"
      ],
      "metadata": {
        "id": "_IlxJjzAAkG4"
      }
    },
    {
      "cell_type": "markdown",
      "source": [
        "## Week 4 Reflection\n",
        "Now that you've completed Week 4, it's time to reflect on your learning.\n",
        "\n",
        "**Reflection prompts:**\n",
        "1. What was the most interesting part of this week's learning? Why?\n",
        "2. What did you find the most challenging? Why?\n",
        "3. What, so far, will be the most applicable to your current or future career? Why?\n",
        "\n",
        "> Type your reflection here:"
      ],
      "metadata": {
        "id": "4SjDBYe6aZ5T"
      }
    },
    {
      "cell_type": "markdown",
      "source": [
        "# Week 5: Detecting anomalies with unsupervised learning\n",
        "\n",
        "**Throughout the week, you will learn to:**\n",
        "1. Synthesise the concept of anomaly detection and define its importance in data science and organisational applications.\n",
        "2. Systematically select and apply statistical methods such as z-score and IQR to detect anomalies in complex data sets.\n",
        "3. Critically evaluate the effectiveness of ML methods to detect anomalies in complex data sets.\n",
        "4. Critically select and apply advanced anomaly detection principles, concepts, and approaches to create innovative solutions to a real-world organisational scenario."
      ],
      "metadata": {
        "id": "MgR8VoTfeMhH"
      }
    },
    {
      "cell_type": "markdown",
      "source": [
        "[**Demonstration 5.1.2** Identifying anomalies using z-score](https://colab.research.google.com/drive/1vDmyPLrOX1RrSJIen1ebe8tMGOI4TTor)"
      ],
      "metadata": {
        "id": "VhWwgF5-rRGk"
      }
    },
    {
      "cell_type": "markdown",
      "source": [
        "[**Demonstration 5.1.3** Detecting anomalies with IQR](https://colab.research.google.com/drive/1tHMRq6G3iUpnuR6xHf1QBBytpi-LFxUX)"
      ],
      "metadata": {
        "id": "O_QiBLls-zud"
      }
    },
    {
      "cell_type": "markdown",
      "source": [
        "[**Demonstration 5.2.2** Using ML algorithms for anomaly detection](https://colab.research.google.com/drive/1oNCtYs9eHiTcVysJ316-WzDvS-YcV67k)"
      ],
      "metadata": {
        "id": "RUbRFsgo-zWp"
      }
    },
    {
      "cell_type": "markdown",
      "source": [
        "[**Demonstration 5.2.3** Applying one-class support vector machine](https://colab.research.google.com/drive/1t5p7Fme8FVENhmEDQKh9IhWZLUYWaXRa)"
      ],
      "metadata": {
        "id": "NmEQSxty-yid"
      }
    },
    {
      "cell_type": "markdown",
      "source": [
        "[**Mini-project 5.3.1 Mini-project:** Detecting the anomalous activity of a ship's engine](https://colab.research.google.com/drive/1VCcq2_mgQ6aK_QhjxMBwo5oRMfnUkv6c)"
      ],
      "metadata": {
        "id": "s-sxbcECrRB-"
      }
    },
    {
      "cell_type": "markdown",
      "source": [
        "## Week 5 Reflection\n",
        "Now that you have completed Week 5, it's time to reflect on your learning.\n",
        "\n",
        "**Reflection prompts:**\n",
        "1. What was the most interesting part of this week's learning? Why?\n",
        "2. What did you find the most challenging? Why?\n",
        "3. What, so far, will be the most applicable to your current or future career? Why?\n",
        "\n",
        "> Type your reflection here:"
      ],
      "metadata": {
        "id": "_Ow0m9YOrQ95"
      }
    },
    {
      "cell_type": "markdown",
      "source": [
        "# Week 6: Performing clustering with unsupervised learning\n",
        "\n",
        "**Throughout the week, you will learn to:**\n",
        "1. Synthesise and apply K-means clustering, including logic, partitioning methods, and the optimal number of clusters.\n",
        "2. Synthesise and apply the principles of Hierarchical Clustering, including agglomerative approaches, distance metrics, and cluster evaluation.\n",
        "3. Critically select and apply advanced clustering principles, concepts, and approaches to create innovative solutions to a real-world organisational scenario.\n"
      ],
      "metadata": {
        "id": "7Qn6X31DeQk3"
      }
    },
    {
      "cell_type": "markdown",
      "source": [
        "[**Demonstration 6.1.3** Applying k-means logic](https://colab.research.google.com/drive/1TSgR2gO_Sb3q9KjVq7ipfi2XQmtaRF5p)"
      ],
      "metadata": {
        "id": "_XwAWeEUI3vz"
      }
    },
    {
      "cell_type": "markdown",
      "source": [
        "[**Demonstration 6.1.4** Choosing the appropriate number of clusters](https://colab.research.google.com/drive/1W25V-Ndf0mmkVTmJ1JVe--QwPyzz54yC)"
      ],
      "metadata": {
        "id": "9p5qqboorU6W"
      }
    },
    {
      "cell_type": "markdown",
      "source": [
        "[**Demonstration 6.2.2** Implementing agglomerative hierarchical clustering](https://colab.research.google.com/drive/19-gxi7IvJWdvNEfqaDbdCjSq97KOg8g1?ouid=114789688943848953561&usp=drive_link)"
      ],
      "metadata": {
        "id": "-rAOAXpjrUyG"
      }
    },
    {
      "cell_type": "markdown",
      "source": [
        "[**Demonstration 6.2.3** Utilising distance metrics](https://colab.research.google.com/drive/178HN9rMbeGd8sNA_Urtv3xhT0-pdxfoA?usp=drive_link)"
      ],
      "metadata": {
        "id": "9uEYjBUwrU30"
      }
    },
    {
      "cell_type": "markdown",
      "source": [
        "[**Mini-project 6.3.1 Mini-project:** Customer segmentation with clustering ](https://colab.research.google.com/drive/1OsuM3zhfuD-izvXAFBQMGdNTNA2Wotn8)"
      ],
      "metadata": {
        "id": "92P2atma48-N"
      }
    },
    {
      "cell_type": "markdown",
      "source": [
        "## Week 6 Reflection\n",
        "Now that you have completed Week 6, it's time to reflect on your learning.\n",
        "\n",
        "**Reflection prompts:**\n",
        "1. What was the most interesting part of this week's learning? Why?\n",
        "2. What did you find the most challenging? Why?\n",
        "3. What, so far, will be the most applicable to your current or future career? Why?\n",
        "\n",
        "> Type your reflection here:"
      ],
      "metadata": {
        "id": "dDUN96chrUtF"
      }
    },
    {
      "cell_type": "markdown",
      "source": [
        "# Course 101: Reflection\n",
        "Now that you have completed Course 101, it's time to reflect on your learning.\n",
        "\n",
        "**Reflection prompts:**\n",
        "1. What are the key concepts and skills you have learned in this course? Why?\n",
        "2. How do you foresee applying the concepts and skills you acquired in real-world situations or future endeavors? Why?\n",
        "3. Can you identify any challenges you faced during this course and explain how you overcame them?\n",
        "4. How has this course influenced your perspective or understanding of applying statistics and core data science techniques in business? Why?\n",
        "\n",
        "> Type your reflection here:\n",
        "\n",
        "\n"
      ],
      "metadata": {
        "id": "UHxwST0S6UcQ"
      }
    }
  ]
}