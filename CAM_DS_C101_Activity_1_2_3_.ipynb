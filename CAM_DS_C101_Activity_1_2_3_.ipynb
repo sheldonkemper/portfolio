{
  "nbformat": 4,
  "nbformat_minor": 0,
  "metadata": {
    "colab": {
      "provenance": [],
      "collapsed_sections": [
        "ZF9lY4QhLufL"
      ],
      "include_colab_link": true
    },
    "kernelspec": {
      "name": "python3",
      "display_name": "Python 3"
    },
    "language_info": {
      "name": "python"
    }
  },
  "cells": [
    {
      "cell_type": "markdown",
      "metadata": {
        "id": "view-in-github",
        "colab_type": "text"
      },
      "source": [
        "<a href=\"https://colab.research.google.com/github/sheldonkemper/portfolio/blob/main/CAM_DS_C101_Activity_1_2_3_.ipynb\" target=\"_parent\"><img src=\"https://colab.research.google.com/assets/colab-badge.svg\" alt=\"Open In Colab\"/></a>"
      ]
    },
    {
      "cell_type": "markdown",
      "source": [
        "**First things first** - please go to 'File' and select 'Save a copy in Drive' so that you have your own version of this activity set up and ready to use.\n",
        "\n",
        "Remember to update the portfolio index link to your own work once completed!"
      ],
      "metadata": {
        "id": "QXcaLNTZYOhZ"
      }
    },
    {
      "cell_type": "markdown",
      "source": [
        "# Activity 1.2.3: Developing a hypothesis and presenting a proposed solution\n",
        "\n",
        "## Scenario\n",
        "Developing and testing hypotheses help to address organisational challenges and problems not only with data but also in broader organisational contexts. Building on the problem statement from the previous activity in Week 1, define a hypothesis and propose a solution related to customer satisfaction factors and their impact on business performance.\n",
        "\n",
        "The hypothesis must clearly state the relationship between variables and be framed in a way that allows for data collection and analysis. The hypothesis should be specific and testable. For example, the hypothesis that ‘an increase in dropped calls and network disruptions leads to higher customer churn rates (reduced customer retention)’ is specific and can be tested by correlating network performance data with churn rates over time.\n",
        "\n",
        "\n",
        "## Objective\n",
        "The goal is to work formulate a hypothesis, identify cause-and-effect relationship, and create an if–then statement with a possible solution approach.\n",
        "\n",
        "\n",
        "## Assessment criteria\n",
        "By completing this activity, you will be able to provide evidence that you can:\n",
        "- Formulate your own hypothesis.\n",
        "- Identify a cause-and-effect relationship between variables.\n",
        "- Create an if–then statement.\n",
        "- Provide possible solutions and an approach.\n",
        "\n",
        "\n",
        "## Activity guide\n",
        "1. Revisit your problem statement from Activity 1.1.5.\n",
        "2. Based on the potential factors identified in the previous activity, create a testable hypothesis statement that proposes a cause-and-effect relationship between variables. The hypothesis must clearly state the relationship between variables and be framed in a way that allows for data collection and analysis. The hypothesis should be specific and testable. For example, the hypothesis that ‘an increase in dropped calls and network disruptions leads to higher customer churn rates (reduced customer retention)’ is specific and can be tested by correlating network performance data with churn rates over time.\n",
        "3. Create an if-then statement to suggest a possible solution approach. For example, **if** the analysis confirms a significant correlation between increased wait times for customer service calls and higher customer churn rates, **then** the company should focus on improving efficiency and responsiveness in its customer service operations.\n",
        "4. Complete a reflection on key learning from this activity in your portfolio.\n"
      ],
      "metadata": {
        "id": "ZF9lY4QhLufL"
      }
    },
    {
      "cell_type": "markdown",
      "source": [
        "> Start your activity here. Select the pen from the toolbar to add your entry."
      ],
      "metadata": {
        "id": "qE2gU4Q1an1j"
      }
    },
    {
      "cell_type": "markdown",
      "source": [
        "# Reflect\n",
        "\n",
        "Write a brief paragraph highlighting your process and the rationale to showcase critical thinking and problem-solving.\n",
        "\n",
        "> Select the pen from the toolbar to add your entry. When you have completed the activity, remember to update the link on your contents page to point to your completed Notebook."
      ],
      "metadata": {
        "id": "Nq8IMofGbiMU"
      }
    }
  ]
}