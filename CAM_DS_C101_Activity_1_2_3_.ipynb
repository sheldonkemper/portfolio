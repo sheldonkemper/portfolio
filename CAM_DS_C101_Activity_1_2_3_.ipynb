{
  "nbformat": 4,
  "nbformat_minor": 0,
  "metadata": {
    "colab": {
      "provenance": [],
      "collapsed_sections": [
        "ZF9lY4QhLufL"
      ],
      "include_colab_link": true
    },
    "kernelspec": {
      "name": "python3",
      "display_name": "Python 3"
    },
    "language_info": {
      "name": "python"
    }
  },
  "cells": [
    {
      "cell_type": "markdown",
      "metadata": {
        "id": "view-in-github",
        "colab_type": "text"
      },
      "source": [
        "<a href=\"https://colab.research.google.com/github/sheldonkemper/portfolio/blob/main/CAM_DS_C101_Activity_1_2_3_.ipynb\" target=\"_parent\"><img src=\"https://colab.research.google.com/assets/colab-badge.svg\" alt=\"Open In Colab\"/></a>"
      ]
    },
    {
      "cell_type": "markdown",
      "source": [
        "# Activity 1.2.3: Developing a hypothesis and presenting a proposed solution\n",
        "\n",
        "## Scenario\n",
        "Developing and testing hypotheses help to address organisational challenges and problems not only with data but also in broader organisational contexts. Building on the problem statement from the previous activity in Week 1, define a hypothesis and propose a solution related to customer satisfaction factors and their impact on business performance.\n",
        "\n",
        "The hypothesis must clearly state the relationship between variables and be framed in a way that allows for data collection and analysis. The hypothesis should be specific and testable. For example, the hypothesis that ‘an increase in dropped calls and network disruptions leads to higher customer churn rates (reduced customer retention)’ is specific and can be tested by correlating network performance data with churn rates over time.\n",
        "\n",
        "\n",
        "## Objective\n",
        "The goal is to work formulate a hypothesis, identify cause-and-effect relationship, and create an if–then statement with a possible solution approach.\n",
        "\n",
        "\n",
        "## Assessment criteria\n",
        "By completing this activity, you will be able to provide evidence that you can:\n",
        "- Formulate your own hypothesis.\n",
        "- Identify a cause-and-effect relationship between variables.\n",
        "- Create an if–then statement.\n",
        "- Provide possible solutions and an approach.\n",
        "\n",
        "\n",
        "## Activity guide\n",
        "1. Revisit your problem statement from Activity 1.1.5.\n",
        "2. Based on the potential factors identified in the previous activity, create a testable hypothesis statement that proposes a cause-and-effect relationship between variables. The hypothesis must clearly state the relationship between variables and be framed in a way that allows for data collection and analysis. The hypothesis should be specific and testable. For example, the hypothesis that ‘an increase in dropped calls and network disruptions leads to higher customer churn rates (reduced customer retention)’ is specific and can be tested by correlating network performance data with churn rates over time.\n",
        "3. Create an if-then statement to suggest a possible solution approach. For example, **if** the analysis confirms a significant correlation between increased wait times for customer service calls and higher customer churn rates, **then** the company should focus on improving efficiency and responsiveness in its customer service operations.\n",
        "4. Complete a reflection on key learning from this activity in your portfolio.\n"
      ],
      "metadata": {
        "id": "ZF9lY4QhLufL"
      }
    },
    {
      "cell_type": "markdown",
      "source": [
        "<b>Hypothesis Statement:</b>\n",
        "\n",
        "Enhancing the reliability and performance of Communik8's website and expanding mobile coverage will lead to a significant decrease in technical complaints and an increase in overall customer satisfaction scores.\n",
        "\n",
        "This hypothesis statement is suitable because:\n",
        "\n",
        "1. It proposes a clear cause-and-effect relationship:\n",
        "   - Cause: Improving website reliability/performance and expanding mobile coverage\n",
        "   - Effect: Decrease in technical complaints and increase in customer satisfaction\n",
        "\n",
        "2. It involves variables that can be measured:\n",
        "   - Independent variables:\n",
        "     a) Website reliability and performance\n",
        "     b) Mobile coverage area and signal strength\n",
        "   - Dependent variables:\n",
        "     a) Number of technical complaints\n",
        "     b) Customer satisfaction scores\n",
        "\n",
        "3. It's specific and testable through various methods:\n",
        "   - Tracking website uptime and load times before and after improvements\n",
        "   - Measuring mobile coverage area and signal strength in different locations\n",
        "   - Counting technical complaints over time\n",
        "   - Conducting customer satisfaction surveys\n",
        "\n",
        "4. It addresses a key issue identified in the problem statement (technical issues being 25% of complaints)\n",
        "\n",
        "5. It's falsifiable, as the data collected could potentially disprove the proposed relationship\n",
        "\n",
        "6. It focuses on two critical aspects of Communik8's service (website and mobile coverage) that directly impact customer experience\n",
        "\n",
        "This hypothesis allows Communik8 to focus on specific technical improvements and measure their impact on customer complaints and satisfaction, potentially addressing a significant portion of their technical issues and improving overall service quality.\n",
        "\n",
        "<br>\n",
        "\n",
        "<b>An if-then statement suggesting a possible solution approach for Communik8's mobile coverage and website issues:</b>\n",
        "\n",
        "If the analysis confirms that poor mobile coverage in specific geographic areas and website performance issues (such as slow load times and frequent downtime) are significantly correlated with increased technical complaints and lower customer satisfaction ratings, then Communik8 should implement a two-pronged approach:\n",
        "\n",
        "1. Invest in expanding and strengthening its mobile network infrastructure in identified problem areas.\n",
        "2. Optimize its website architecture and hosting solution to improve speed, reliability, and user experience.\n",
        "\n",
        "This if-then statement:\n",
        "\n",
        "1. Addresses two key technical issues identified in the problem statement (mobile coverage and website performance).\n",
        "\n",
        "2. Proposes a clear cause-effect relationship:\n",
        "   - Cause: Poor mobile coverage and website performance issues\n",
        "   - Effect: Increased technical complaints and lower customer satisfaction\n",
        "\n",
        "3. Suggests specific, actionable solutions for both mobile coverage and website issues.\n",
        "\n",
        "4. Can be tested and measured:\n",
        "   - By analyzing the correlation between mobile coverage/website performance and technical complaints/customer satisfaction\n",
        "   - By measuring the impact of infrastructure improvements and website optimization on complaint rates and satisfaction scores\n",
        "\n",
        "5. Aligns with the overall goal of improving customer satisfaction and reducing technical complaints.\n",
        "\n",
        "6. Focuses on foundational aspects of the service that, if improved, could have wide-ranging benefits for both existing and potential customers.\n",
        "\n",
        "This approach allows Communik8 to target two specific, high-impact areas for improvement, potentially addressing a significant portion of their technical issues and enhancing overall service quality."
      ],
      "metadata": {
        "id": "qE2gU4Q1an1j"
      }
    },
    {
      "cell_type": "markdown",
      "source": [
        "# Reflect\n",
        "\n",
        "Write a brief paragraph highlighting your process and the rationale to showcase critical thinking and problem-solving.\n",
        "Certainly. Here's a reflection on key learning from this activity that you could include in your portfolio:\n",
        "\n",
        "<b>Reflection on Key Learning:</b>\n",
        "\n",
        "This activity has been instrumental in deepening my understanding of problem analysis and hypothesis formulation in a business context. Here are the key learnings I've gained:\n",
        "\n",
        "1. Data Interpretation:\n",
        "   I learned the importance of carefully analyzing even limited data sets to identify patterns and key issues. The exercise with Communik8's complaint categories taught me how to extract meaningful insights from basic numerical data.\n",
        "\n",
        "2. Problem Statement Formulation:\n",
        "   Crafting a comprehensive problem statement based on limited information was challenging but enlightening. It highlighted the importance of clearly articulating issues and their potential impacts on the business.\n",
        "\n",
        "3. Hypothesis Development:\n",
        "   I learned how to create testable hypothesis statements that propose cause-and-effect relationships between variables. This skill is crucial for data-driven decision making and problem-solving in business environments.\n",
        "\n",
        "4. If-Then Statement Creation:\n",
        "   Developing if-then statements to suggest solution approaches improved my ability to think strategically about addressing business challenges. It taught me to connect analysis results with actionable solutions.\n",
        "\n",
        "5. Focus on Specificity:\n",
        "   Throughout the exercise, I realized the importance of being specific in problem analysis, hypothesis formulation, and solution proposals. Vague statements are less useful for driving actionable insights.\n",
        "\n",
        "6. Interconnectedness of Business Issues:\n",
        "   The exercise demonstrated how various business aspects (customer service, technical infrastructure, etc.) are interconnected and how improvements in one area can positively impact others.\n",
        "\n",
        "7. Importance of Measurability:\n",
        "   I learned to focus on measurable variables when creating hypotheses and solution approaches, ensuring that proposed actions can be effectively evaluated.\n",
        "\n",
        "8. Adaptability in Analysis:\n",
        "   Working with limited information taught me to be adaptable in my analytical approach and to make the most of available data while acknowledging its limitations.\n",
        "\n",
        "9. Critical Thinking:\n",
        "   The activity honed my critical thinking skills, particularly in identifying key issues from a set of data and proposing logical solutions based on those insights.\n",
        "\n",
        "10. Business Communication:\n",
        "    Formulating clear problem statements, hypotheses, and if-then statements improved my ability to communicate complex business issues and potential solutions effectively.\n",
        "\n",
        "This exercise has significantly enhanced my analytical and problem-solving skills, preparing me to approach real-world business challenges with a more structured and data-driven mindset. It has reinforced the importance of clear communication, critical thinking, and strategic problem-solving in addressing business issues."
      ],
      "metadata": {
        "id": "Nq8IMofGbiMU"
      }
    }
  ]
}