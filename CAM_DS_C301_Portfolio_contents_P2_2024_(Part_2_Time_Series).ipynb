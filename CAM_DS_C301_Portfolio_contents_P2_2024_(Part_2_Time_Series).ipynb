{
  "nbformat": 4,
  "nbformat_minor": 0,
  "metadata": {
    "colab": {
      "provenance": [],
      "include_colab_link": true
    },
    "kernelspec": {
      "name": "python3",
      "display_name": "Python 3"
    },
    "language_info": {
      "name": "python"
    }
  },
  "cells": [
    {
      "cell_type": "markdown",
      "metadata": {
        "id": "view-in-github",
        "colab_type": "text"
      },
      "source": [
        "<a href=\"https://colab.research.google.com/github/sheldonkemper/portfolio/blob/main/CAM_DS_C301_Portfolio_contents_P2_2024_(Part_2_Time_Series).ipynb\" target=\"_parent\"><img src=\"https://colab.research.google.com/assets/colab-badge.svg\" alt=\"Open In Colab\"/></a>"
      ]
    },
    {
      "cell_type": "markdown",
      "source": [
        "**First things first** - please go to 'File' and select 'Save a copy in Drive' so that you have your own version of this activity set up and ready to use.\n",
        "Remember to update the portfolio index link to your own work once completed!"
      ],
      "metadata": {
        "id": "axIrbJi9dOZy"
      }
    },
    {
      "cell_type": "markdown",
      "source": [
        "# Welcome to Course 301: Applying advanced data science techniques\n",
        "\n",
        "Throughout this course, you will learn to:\n",
        "1. Critically evaluate the application of NLP in a range of organisational contexts.\n",
        "2. Leverage expertise in NLP modelling to create solutions to complex organisational challenges.\n",
        "3. Master a range of time series forecasting techniques in real-world contexts.\n",
        "4. Generate precise forecasts and extract valuable insights from temporal data, contributing to informed decision-making and enhanced operational efficiency in real-world applications.\n",
        "\n",
        "\n",
        "This will be the index page for your portfolio for Weeks 6 to 10. For each activity in these weeks, you will need to save a copy of the provided template, complete it, and update the link in this index to direct your tutors, peers, and potential employers to your own work.\n",
        "\n",
        "You will also complete reflections relating to each demonstration and activity throughout these weeks in this section of your portfolio.\n",
        "\n",
        "Here is a link to the [Orientation content](https://colab.research.google.com/drive/1bAE7vviDHiU1bQipsB5hFvF-IyCiPMdd?usp=sharing), if you need a recap on how to use Colab."
      ],
      "metadata": {
        "id": "lYMJ8-W6YqQn"
      }
    },
    {
      "cell_type": "markdown",
      "source": [
        "# Week 6: Performing time series analysis\n",
        "\n",
        "**Throughout the week, you will learn to:**\n",
        "1. Synthesise autocorrelation and stationarity concepts and define their importance in time series analysis.\n",
        "2. Recognise white noise, identify random walk behaviour processes in time series, and apply statistical tests for model diagnostics.\n",
        "3. Accurately perform time series decomposition, including seasonality, trend, and residual components, and apply transformations to make time series stationary.\n",
        "4. Critically evaluate the effectiveness of time series analysis to address real-world problems.\n"
      ],
      "metadata": {
        "id": "j2EA1trjZ4Kx"
      }
    },
    {
      "cell_type": "markdown",
      "source": [
        "[**Demonstration 6.1.4** Handling time series data in Python](https://colab.research.google.com/drive/1B3Az0YHmv6wkXab1gtrSog26xAjVl_cU)"
      ],
      "metadata": {
        "id": "Q_aF9Uj-Z4AT"
      }
    },
    {
      "cell_type": "markdown",
      "source": [
        "[**Demonstration 6.2.6** ACF, PACF, and random walk ](https://colab.research.google.com/drive/1M1nXHObm27DdM2INd0X7P_X-x6mqiErR)"
      ],
      "metadata": {
        "id": "tUKFXWOmomse"
      }
    },
    {
      "cell_type": "markdown",
      "source": [
        "[**Demonstration 6.3.3** Applying statistical tests to time series data](https://colab.research.google.com/drive/1LrIVwe60DxnMRPTORaCbQT6q89FyEzIp)"
      ],
      "metadata": {
        "id": "DWwyP03YEQib"
      }
    },
    {
      "cell_type": "markdown",
      "source": [
        "[**Demonstration 6.4.5** Make a time series stationary](https://colab.research.google.com/drive/10Q1fQouIqnQ0UMJqiAgRcO2UJGJQvTOU#scrollTo=OaNRERt_pTIj)"
      ],
      "metadata": {
        "id": "87Sfad4UEQgc"
      }
    },
    {
      "cell_type": "markdown",
      "source": [
        "[**Activity 6.5** Preparing for time series analysis in Python](CAM_DS_C301_W6_Activity.ipynb)"
      ],
      "metadata": {
        "id": "mRM6h4r6ZXmv"
      }
    },
    {
      "cell_type": "markdown",
      "source": [
        "## Week 6 reflection\n",
        "Now that you have completed Week 6, it is time to reflect on your learning.\n",
        "\n",
        "**Reflection prompts:**\n",
        "1. What was the most interesting part of this week's learning? Why?\n",
        "2. What did you find the most challenging? Why?\n",
        "3. What, so far, will be the most applicable to your current or future career? Why?\n",
        "\n",
        "> Type your reflection here:"
      ],
      "metadata": {
        "id": "kD85-5NWasFh"
      }
    },
    {
      "cell_type": "markdown",
      "source": [
        "# Week 7: Exploring time series forecasting models and methods\n",
        "\n",
        "**Throughout the week, you will learn to:**\n",
        "1. Master exponential smoothing techniques for precise time series forecasting, empowering data-driven decisions and resource optimisation in business.\n",
        "2. Explore ETS models and the Holt-Winters method for time series forecasting.\n",
        "3. Develop proficiency in models with seasonality handling for precise time series modelling and forecasting, enhancing decision-making and operational efficiency.\n",
        "4. Evaluate advanced techniques such as the ARIMA family to enhance time series forecasting, automate model selection and improve multivariate modelling capabilities.\n",
        "\n"
      ],
      "metadata": {
        "id": "uF-Kh4sH9ObY"
      }
    },
    {
      "cell_type": "markdown",
      "source": [
        "[**Demonstration 7.1.3** ETS models](https://colab.research.google.com/drive/1B66SWIKYyMzldQI2sNb_b9JvdS8vPV-t#scrollTo=E5vOR-_W6q17)"
      ],
      "metadata": {
        "id": "3fXFDllFTC_Y"
      }
    },
    {
      "cell_type": "markdown",
      "source": [
        "[**Demonstration 7.2.3** Implementing ARIMA models](https://colab.research.google.com/drive/1NTUYxOJZ3fMjdC2qku1jDa1mLiQx-wqU)"
      ],
      "metadata": {
        "id": "7LDF29VYDZTR"
      }
    },
    {
      "cell_type": "markdown",
      "source": [
        "[**Demonstration 7.3.1** Auto ARIMA](https://colab.research.google.com/drive/1KIaCOaa6d_ewIeIFaw7-2bpvSSrtxFMp)"
      ],
      "metadata": {
        "id": "PsLvz6rLGoqC"
      }
    },
    {
      "cell_type": "markdown",
      "source": [
        "[**Activity 7.3.3** Performing ARIMA modelling in Python](https://colab.research.google.com/drive/10qEprazwLU2XMyBu1I2lYDip4myfTDuM#scrollTo=oqf5o5kxXyjb)"
      ],
      "metadata": {
        "id": "2Rui-RixFGfP"
      }
    },
    {
      "cell_type": "markdown",
      "source": [
        "## Week 7 reflection\n",
        "Now that you have completed Week 7, it is time to reflect on your learning.\n",
        "\n",
        "**Reflection prompts:**\n",
        "1. What was the most interesting part of this week's learning? Why?\n",
        "2. What did you find the most challenging? Why?\n",
        "3. What, so far, will be the most applicable to your current or future career? Why?\n",
        "\n",
        "> Type your reflection here:"
      ],
      "metadata": {
        "id": "tYQWzgWJ9oFA"
      }
    },
    {
      "cell_type": "markdown",
      "source": [
        "# Week 8: Applying machine learning and deep learning techniques\n",
        "\n",
        "**Throughout the week, you will learn to:**\n",
        "1. Develop expertise in time series analysis using machine learning and deep learning techniques to make precise forecasts and enhance operational efficiency.\n",
        "2. Evaluate the effectiveness of hybrid models to further enhance the predictive power of time series models.\n",
        "3. Critically compare and contrast various models and implement appropriate metrics for optimal selection.\n"
      ],
      "metadata": {
        "id": "5FkVwP4A95LK"
      }
    },
    {
      "cell_type": "markdown",
      "source": [
        "[**Demonstration 8.1.1** LightGBM](https://colab.research.google.com/drive/1Pj7rtmx24HEK0uwIr4ZvVyHRXPATXAB7?usp=sharing)"
      ],
      "metadata": {
        "id": "jApCMBibLAHZ"
      }
    },
    {
      "cell_type": "markdown",
      "source": [
        "[**Demonstration 8.1.1** XGBoost](https://colab.research.google.com/drive/1BKO_mLQIyzNmv1JyLWFb9vy57D0svVht?usp=sharing)"
      ],
      "metadata": {
        "id": "93c8nfE8LDKZ"
      }
    },
    {
      "cell_type": "markdown",
      "source": [
        "[**Demonstration 8.1.2** LSTM](https://colab.research.google.com/drive/12ajIMaGJdTDBAnjs-1nBVZRthLTsO-uX?usp=sharing)"
      ],
      "metadata": {
        "id": "036HnsNJLHAv"
      }
    },
    {
      "cell_type": "markdown",
      "source": [
        "[**Demonstration 8.2.1** Hybrid techniques](https://colab.research.google.com/drive/1Q0dsAifeT6JH8eOdlJze24zRFlAg3BuE)"
      ],
      "metadata": {
        "id": "E2NqJIU0LJwR"
      }
    },
    {
      "cell_type": "markdown",
      "source": [
        "[**Activity 8.2.3** Performing time series forecasting with machine learning and deep learning](https://colab.research.google.com/drive/1LNTaVWvGd6r0lZZlhgmvGkaexb-7e4Cu#scrollTo=VUS8gAD0jtJ5)"
      ],
      "metadata": {
        "id": "fxq5oO8P3oNs"
      }
    },
    {
      "cell_type": "markdown",
      "source": [
        "## Week 8 reflection\n",
        "Now that you have completed Week 8, it is time to reflect on your learning.\n",
        "\n",
        "**Reflection prompts:**\n",
        "1. What was the most interesting part of this week's learning? Why?\n",
        "2. What did you find the most challenging? Why?\n",
        "3. What, so far, will be the most applicable to your current or future career? Why?\n",
        "\n",
        "> Type your reflection here:"
      ],
      "metadata": {
        "id": "09RMamNS95LL"
      }
    },
    {
      "cell_type": "markdown",
      "source": [
        "#Weeks 9 and 10: Topic project - Using time series analysis for sales and demand forecasting"
      ],
      "metadata": {
        "id": "rkroYHj21abs"
      }
    },
    {
      "cell_type": "markdown",
      "source": [
        "**Throughout the weeks, you will learn to:**\n",
        "1. Master a range of time series forecasting techniques in real-world contexts.\n",
        "2. Generate precise forecasts and extract valuable insights from temporal data, contributing to informed decision-making and enhanced operational efficiency in real-world applications."
      ],
      "metadata": {
        "id": "pjTr0-O71v9h"
      }
    },
    {
      "cell_type": "markdown",
      "source": [
        "[**Topic project 9.1:** Using time series analysis for sales and demand forecasting](https://colab.research.google.com/drive/1un7WzLppTTOk__eRoQQddaRh3QfmT7uQ#scrollTo=9j5Bse6izKKh)"
      ],
      "metadata": {
        "id": "1wkDohbX2XCm"
      }
    },
    {
      "cell_type": "markdown",
      "source": [
        "## Weeks 9 and 10 reflection\n",
        "Now that you have completed Weeks 9 and 10, it is time to reflect on your learning.\n",
        "\n",
        "**Reflection prompts:**\n",
        "1. What was the most interesting part of these weeks' learning? Why?\n",
        "2. What did you find the most challenging? Why?\n",
        "3. What, so far, will be the most applicable to your current or future career? Why?\n",
        "\n",
        "> Type your reflection here:"
      ],
      "metadata": {
        "id": "7qOyFhr62H8G"
      }
    },
    {
      "cell_type": "markdown",
      "source": [
        "# Course 301: Reflection\n",
        "Now that you have completed Course 301, it is time to reflect on your learning.\n",
        "\n",
        "**Reflection prompts:**\n",
        "1. What are the key concepts and skills you have learned in this course? Why?\n",
        "2. How do you foresee applying the concepts and skills you acquired in real-world situations or future endeavors? Why?\n",
        "3. Can you identify any challenges you faced during this course and explain how you overcame them?\n",
        "4. How has this course influenced your perspective or understanding on applying advanced data science techniques? Why?\n",
        "\n",
        "> Type your reflection here:"
      ],
      "metadata": {
        "id": "mJBIoULleDO9"
      }
    }
  ]
}