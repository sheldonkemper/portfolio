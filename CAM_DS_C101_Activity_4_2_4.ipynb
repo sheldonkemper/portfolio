{
  "nbformat": 4,
  "nbformat_minor": 0,
  "metadata": {
    "colab": {
      "provenance": [],
      "collapsed_sections": [
        "2m5S96xMh6Mf"
      ],
      "include_colab_link": true
    },
    "kernelspec": {
      "name": "python3",
      "display_name": "Python 3"
    },
    "language_info": {
      "name": "python"
    }
  },
  "cells": [
    {
      "cell_type": "markdown",
      "metadata": {
        "id": "view-in-github",
        "colab_type": "text"
      },
      "source": [
        "<a href=\"https://colab.research.google.com/github/sheldonkemper/portfolio/blob/main/CAM_DS_C101_Activity_4_2_4.ipynb\" target=\"_parent\"><img src=\"https://colab.research.google.com/assets/colab-badge.svg\" alt=\"Open In Colab\"/></a>"
      ]
    },
    {
      "cell_type": "markdown",
      "source": [
        "**First things first** - please go to 'File' and select 'Save a copy in Drive' so that you have your own version of this activity set up and ready to use.\n",
        "Remember to update the portfolio index link to your own work once completed!"
      ],
      "metadata": {
        "id": "oUogH156n3Ps"
      }
    },
    {
      "cell_type": "markdown",
      "source": [
        "## 4.2.4 Activity: Implementing PCA and t-SNE\n",
        "\n",
        "## Scenario\n",
        "As an independent data professional, you have been contracted to evaluate the selling price of automobiles. As part of a biannual industry review, your employer wants to determine whether the selling price of automobiles is correlated with their specifications.\n",
        "\n",
        "You have been provided with a data set, **automobiles.csv**, containing the current selling prices and specifications from randomly selected manufacturers. The data set contains 205 rows and 26 features. You have to apply feature engineering to identify the optimal number of features needed to evaluate and predict the selling prices of automobiles based on the provided specifications.\n",
        "\n",
        "## Objective\n",
        "Apply dimension reduction with PCA and t-SNE to make predictions in a real-world context.\n",
        "\n",
        "## Assessment criteria:\n",
        "By completing this activity, you will be able to provide evidence that you can:\n",
        "1. Implement PCA and t-SNE for dimensionality reduction.\n",
        "2. Apply PCA and t-SNE to real-world data for improved analysis and visualisation.\n",
        "3. Choose the right number of principal components to balance dimensionality reduction and information retention.\n",
        "4. Evaluate the limitations of PCA and t-SNE.\n",
        "5. Apply critical thinking skills to assessing dimensionality reduction techniques.\n",
        "6. Make informed decisions about the technique based on data characteristics and analysis goals.\n",
        "\n",
        "\n",
        "## Activity guidance:\n",
        "1. Import the relevant libraries for dimension reduction.\n",
        "2. Normalise the data.\n",
        "3. Transform and visualise the data with PCA and t-SNE.\n",
        "4. Visualise the perplexity of the data.\n",
        "5. Combine PCA and t-SNE and create a final visualisation.\n",
        "6. Jot down your thoughts on the accuracy of predicting selling price based on the specifications of automobiles."
      ],
      "metadata": {
        "id": "2m5S96xMh6Mf"
      }
    },
    {
      "cell_type": "code",
      "source": [
        "# Start your activity here:\n",
        "\n",
        "# Step 1: Import the required libraries.\n",
        "import pandas as pd\n",
        "import numpy as np\n",
        "import seaborn as sns\n",
        "import matplotlib.pyplot as plt\n",
        "\n",
        "# Step 2: Import the automobiles.csv file (data set) from GitHub with a url.\n",
        "url = \"https://raw.githubusercontent.com/fourthrevlxd/cam_dsb/main/automobiles.csv\"\n",
        "\n"
      ],
      "metadata": {
        "id": "RJzHmjpyCROK"
      },
      "execution_count": null,
      "outputs": []
    },
    {
      "cell_type": "markdown",
      "source": [
        "## Reflect\n",
        "Write a brief paragraph highlighting your process and the rationale to showcase critical thinking and problem-solving. Specify the limitations of PCA and t-SNE.\n",
        "\n",
        "> Select the pen from the toolbar to add your entry."
      ],
      "metadata": {
        "id": "ZAvsL6jXhtUy"
      }
    }
  ]
}