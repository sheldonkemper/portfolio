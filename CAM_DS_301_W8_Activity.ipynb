{
  "nbformat": 4,
  "nbformat_minor": 0,
  "metadata": {
    "colab": {
      "provenance": [],
      "include_colab_link": true
    },
    "kernelspec": {
      "name": "python3",
      "display_name": "Python 3"
    },
    "language_info": {
      "name": "python"
    }
  },
  "cells": [
    {
      "cell_type": "markdown",
      "metadata": {
        "id": "view-in-github",
        "colab_type": "text"
      },
      "source": [
        "<a href=\"https://colab.research.google.com/github/sheldonkemper/portfolio/blob/main/CAM_DS_301_W8_Activity.ipynb\" target=\"_parent\"><img src=\"https://colab.research.google.com/assets/colab-badge.svg\" alt=\"Open In Colab\"/></a>"
      ]
    },
    {
      "cell_type": "markdown",
      "metadata": {
        "id": "VUS8gAD0jtJ5"
      },
      "source": [
        "# Activity 8.2.3 Performing time series forecasting with machine learning and deep learning\n",
        "\n",
        "## Scenario\n",
        "The Baltimore Police Department (BPD), situated in Baltimore, USA, created a data set containing crime records from 1 January 2011 to 18 June 2016. Although the data set is preliminary and subject to change, it contains 264,496 rows and 11 columns (BPD, 2024).\n",
        "\n",
        "For this activity, the data set was adapted to indicate the number of daily crime incidents from 1 January 2011 to 31 December 2015. Therefore, the data set contains 2,143 rows and two columns. You are tasked to analyse the provided data set to determine visible crime trends. You must also provide a clear and precise rationale for your analysis and findings.\n",
        "\n",
        "\n",
        "## Objective\n",
        "In this portfolio activity, you will analyse a time series data set to gain insights into crime trends.\n",
        "\n",
        "You will complete the activity in your Notebook, where you will:\n",
        "\n",
        "* Load the preprocessed time series data set.\n",
        "* Split the data set into training and testing sets.\n",
        "* Choose a suitable machine learning technique (e.g. LightGBM, XGBoost) and train a model on the training data.\n",
        "* Implement a deep learning model (e.g. LSTM) for time series forecasting and train it on the same data set.\n",
        "* Compare the performance of the deep learning model with the machine learning model.\n",
        "* Explore hybrid techniques by combining the results of classical and machine learning models.\n",
        "* Present the findings, model comparisons, and insights from the forecasting analysis.\n",
        "\n",
        "\n",
        "\n",
        "## Assessment criteria\n",
        "By completing this activity, you will be able to provide evidence that you can critically select appropriate strategies to demonstrate expertise in building and refining decision trees and ensemble techniques.\n",
        "\n",
        "\n",
        "## Activity guidance\n",
        "\n",
        "* Load the preprocessed time series data set.\n",
        "* Split the data set into training and testing sets.\n",
        "* Choose a suitable machine learning technique (e.g., LightGBM, XGBoost) and train a model on the training data.\n",
        "* Implement a deep learning model (e.g., LSTM) for time series forecasting and train it on the same data set.\n",
        "* Compare the performance of the deep learning model with the machine learning model.\n",
        "* Explore hybrid techniques by combining the results of classical and machine learning models.\n",
        "* Present the findings, model comparisons, and insights from the forecasting analysis."
      ]
    }
  ]
}