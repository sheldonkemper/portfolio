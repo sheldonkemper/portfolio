{
  "cells": [
    {
      "cell_type": "markdown",
      "metadata": {
        "id": "view-in-github",
        "colab_type": "text"
      },
      "source": [
        "<a href=\"https://colab.research.google.com/github/sheldonkemper/portfolio/blob/main/6_2_2_Activity_AdaBoost.ipynb\" target=\"_parent\"><img src=\"https://colab.research.google.com/assets/colab-badge.svg\" alt=\"Open In Colab\"/></a>"
      ]
    },
    {
      "cell_type": "markdown",
      "source": [
        "<br>\n",
        "\n",
        "**First things first** - please go to 'File' and select 'Save a copy in Drive' so that you have your own version of this activity set up and ready to use.\n",
        "Remember to update the portfolio index link to your own work once completed!"
      ],
      "metadata": {
        "id": "cbtFdN5VQsms"
      }
    },
    {
      "cell_type": "markdown",
      "metadata": {
        "id": "rXXUTFD7EtyU"
      },
      "source": [
        "# 6.2.2 Activity\n",
        "\n",
        "## Objective:\n",
        "\n",
        "Create a simple AdaBoost implementation and test it on the data set used in the demonstration video.\n",
        "\n",
        "## Activity guidance:\n",
        "\n",
        "* Create your own simple implementation of AdaBoost based on the steps provided in the lecture notes and demonstration video.\n",
        "* Use the provided data set, which is the same as the one used in the  demonstration.\n",
        "* Create a DataFrame that stores your predicted values at each iteration.\n",
        "* Compare your predictions against your training set to verify for overfitting.\n",
        "* Compare the results against the demonstration to verify the correct implementation.\n",
        "* (Optional) Implement your algorithm against the Iris data set.\n"
      ]
    },
    {
      "cell_type": "code",
      "execution_count": null,
      "metadata": {
        "id": "swMeGSH_EtyZ"
      },
      "outputs": [],
      "source": [
        "import numpy as np\n",
        "import pandas as pd\n",
        "import matplotlib.pyplot as plt\n",
        "from sklearn.metrics import accuracy_score"
      ]
    },
    {
      "cell_type": "markdown",
      "metadata": {
        "id": "Sh11hXiLEtya"
      },
      "source": [
        "# Data"
      ]
    },
    {
      "cell_type": "code",
      "execution_count": null,
      "metadata": {
        "id": "CkTh4_HbEtyb"
      },
      "outputs": [],
      "source": [
        "X = dict()\n",
        "X[\"a\"] = [2,3,5,6,7,9,10,12,13,14]\n",
        "X[\"b\"] = [5,1,8,7,2,12,6,11,3,10]\n",
        "X[\"target\"] = [1,1,1,0,0,1,0,1,0,0]\n",
        "\n",
        "df = pd.DataFrame(X, columns=X.keys())\n",
        "df[f\"weights_1\"] = 1 / len(df)  # Initialise equal weights\n",
        "\n",
        "x = df.drop(\"target\",axis=1)\n",
        "y = df[\"target\"]"
      ]
    },
    {
      "cell_type": "code",
      "execution_count": null,
      "metadata": {
        "id": "e-JBsPnXEtyb"
      },
      "outputs": [],
      "source": [
        "def AdaBoost():\n",
        "\n",
        "\n",
        "    return\n",
        "\n",
        "\n"
      ]
    },
    {
      "cell_type": "markdown",
      "metadata": {
        "id": "7_Zu65v-Etyc"
      },
      "source": [
        "# DataFrame with predictions"
      ]
    },
    {
      "cell_type": "code",
      "execution_count": null,
      "metadata": {
        "id": "eFvLunYwEtyc"
      },
      "outputs": [],
      "source": []
    },
    {
      "cell_type": "markdown",
      "metadata": {
        "id": "wH-OCa6kEtyc"
      },
      "source": [
        "# Check for overfitting"
      ]
    },
    {
      "cell_type": "code",
      "execution_count": null,
      "metadata": {
        "id": "w62IH3FuEtyd"
      },
      "outputs": [],
      "source": [
        "\n"
      ]
    },
    {
      "cell_type": "markdown",
      "metadata": {
        "id": "RVW33I8dEtyd"
      },
      "source": [
        "# (Optional) Run your algorithm against the Iris dataset\n",
        "\n",
        "Make sure to do the appropriate preprocessing of the data before  running it through your algorithm."
      ]
    },
    {
      "cell_type": "code",
      "execution_count": null,
      "metadata": {
        "id": "w_PTB7xtEtyd",
        "outputId": "8bcb1439-0086-4424-9afb-5913e2d3ec4e"
      },
      "outputs": [
        {
          "data": {
            "text/plain": [
              "0      0\n",
              "1      0\n",
              "2      0\n",
              "3      0\n",
              "4      0\n",
              "      ..\n",
              "145    2\n",
              "146    2\n",
              "147    2\n",
              "148    2\n",
              "149    2\n",
              "Name: target, Length: 150, dtype: int32"
            ]
          },
          "execution_count": 1,
          "metadata": {},
          "output_type": "execute_result"
        }
      ],
      "source": [
        "from sklearn.datasets import load_iris\n",
        "\n",
        "x, y = load_iris(return_X_y=True, as_frame=True)\n",
        "y"
      ]
    },
    {
      "cell_type": "code",
      "execution_count": null,
      "metadata": {
        "id": "5pHp3wodEtye"
      },
      "outputs": [],
      "source": []
    }
  ],
  "metadata": {
    "kernelspec": {
      "display_name": "base",
      "language": "python",
      "name": "python3"
    },
    "language_info": {
      "codemirror_mode": {
        "name": "ipython",
        "version": 3
      },
      "file_extension": ".py",
      "mimetype": "text/x-python",
      "name": "python",
      "nbconvert_exporter": "python",
      "pygments_lexer": "ipython3",
      "version": "3.10.13"
    },
    "colab": {
      "provenance": [],
      "collapsed_sections": [
        "rXXUTFD7EtyU",
        "7_Zu65v-Etyc"
      ],
      "include_colab_link": true
    }
  },
  "nbformat": 4,
  "nbformat_minor": 0
}