{
  "nbformat": 4,
  "nbformat_minor": 0,
  "metadata": {
    "colab": {
      "provenance": [],
      "include_colab_link": true
    },
    "kernelspec": {
      "name": "python3",
      "display_name": "Python 3"
    },
    "language_info": {
      "name": "python"
    }
  },
  "cells": [
    {
      "cell_type": "markdown",
      "metadata": {
        "id": "view-in-github",
        "colab_type": "text"
      },
      "source": [
        "<a href=\"https://colab.research.google.com/github/sheldonkemper/portfolio/blob/main/KEMPER_SHELDON_CAM_C301_Week_4and5_Topic_project.ipynb\" target=\"_parent\"><img src=\"https://colab.research.google.com/assets/colab-badge.svg\" alt=\"Open In Colab\"/></a>"
      ]
    },
    {
      "cell_type": "markdown",
      "source": [
        "# Topic project 4.1 Applying NLP for topic modelling in a real-life context\n",
        "\n",
        "**Welcome to your topic project: Applying NLP for topic modelling in a real-life context**\n",
        "\n",
        "In this project, you will bridge the gap between theory and practical application by developing automated topic modelling tools tailored to a specific industry context.\n",
        "\n",
        "\n",
        "Applying NLP for topic modelling is crucial for data analysis in business because it enables companies to identify and understand key themes and patterns within large volumes of text data. This efficiency allows businesses to extract essential insights and trends without manually sifting through extensive documents. Automated topic modelling helps businesses make informed decisions faster, which helps to improve productivity and gain a competitive edge. Additionally, it supports better information management by uncovering underlying topics in reports, emails, customer feedback, and market research, which enhances overall business intelligence and strategic planning.\n",
        "\n",
        "\n",
        "\n",
        "\n",
        "Please set aside approximately **19 hours** to complete the topic project by **Thursday, 22 August at 5 p.m. (UK Time)**.\n",
        "\n",
        "<br>\n",
        "\n",
        "## **Business context**\n",
        "\n",
        "The PureGym Group, founded in 2008, has approximately 2 million members and 600 gyms across the world (particularly in the UK, Denmark, and Switzerland). As one of the world’s largest value fitness operators, PureGym appeals to a broad range of customers by offering high-quality, low-cost, and flexible fitness facilities. The company’s customer-centric proposition – affordable membership fees, no fixed-term contracts, and 24/7 access to high-quality gyms – differentiates it from more traditional gyms and elevates it as a market leader within this space.\n",
        "\n",
        "This focus on the customer is centred on wanting to understand what motivates members to join and what factors influence their behaviours once they have joined. Understanding how to leverage innovative technology to influence, improve, and simplify their experience allows PureGym to foster an open, welcoming, and diverse environment for its members while maintaining the value proposition that PureGym is built upon.\n",
        "\n",
        "With the shift in focus to value-for-money memberships across the gym industry, PureGym seeks to achieve its mission of ‘inspiring a healthier world by providing members with affordable access to the benefits being healthy can offer’.\n",
        "\n",
        "\n",
        "<br></br>\n",
        "\n",
        "## **Objective**\n",
        "\n",
        "By the end of this topic project, you will have analysed PureGym's review data to uncover key drivers that provide actionable insights for enhancing customer experience.\n",
        "\n",
        "In the Notebook, you will:\n",
        "\n",
        "- Use two data sets containing customer reviews from Google and Trustpilot.\n",
        "- Perform basic level analysis by finding the frequently used words in both data sets.\n",
        "- Generate a wordcloud to visualise the most frequently used words in the reviews.\n",
        "- Apply BERTopic for topic modelling, keeping track of gym locations, to identify common topics and words in the negative reviews.\n",
        "- Identify the locations that have the most negative reviews.\n",
        "- Use the built-in visualisation functions in BERTopic to cluster and visually represent the topics and words in these reviews, thereby helping to identify specific themes from the reviews.\n",
        "- Conduct a comparison with Gensim’s LDA model to validate the topic modelling results.\n",
        "- Perform emotion analysis to identify the emotions associated with customer reviews.\n",
        "- Filter out angry reviews and apply BERTopic to discover prevalent topics and words being discussed these negative reviews.\n",
        "- Leverage the multi-purpose capability of the state-of-the-art Falcon-7b-instruct model, with the help of prompts, to identify top topics in each review.\n",
        "- Use a different prompt with the Falcon-7b-instruct model to further generate suggestions for improvements for PureGym, based on the top topics identified from the negative reviews.\n",
        "\n",
        "\n",
        "You will also write a report summarising the results of your findings and recommendations.\n",
        "\n",
        "\n",
        "<br></br>\n",
        "\n",
        "## **Assessment criteria**\n",
        "By completing this project, you will be able to provide evidence that you can:\n",
        "\n",
        "- Investigate real-world data to find potential trends for deeper investigation.\n",
        "-Preprocess and refine textual data for visualisations.\n",
        "-Apply topic modelling using various techniques.\n",
        "-Apply emotion analysis using BERT.\n",
        "-Evaluate the outcomes of your investigation.\n",
        "-Communicate actionable insights.\n",
        "\n",
        "\n",
        "\n",
        "<br></br>\n",
        "\n",
        "## **Project guidance**\n",
        "\n",
        "**Import packages and data:**\n",
        "1. 1. Import the data set with the provided URL:\n",
        "  - Data set's Drive link: https://drive.google.com/drive/folders/1azch13dtGeAkbnEjqeoyl3nU9jheojU4\n",
        "2. Import the data file **Google_12_months.xlsx** into a dataframe.\n",
        "3. Import the data file **Trustpilot_12_months.xslx** into a dataframe.\n",
        "4. Remove any rows with missing values in the Comment column (Google review) and Review Content column (Trustpilot).\n",
        "\n",
        "\n",
        "**Conducting initial data investigation:**\n",
        "\n",
        "1. - Find the number of unique locations in the Google data set.\n",
        "  \n",
        "  - Find the number of unique locations in the Trustpilot data set.\n",
        "  \n",
        "  - Use Club's Name for the Google data set.\n",
        "  \n",
        "  - Use Location Name for the Trustpilot data set.\n",
        "2. Find the number of common locations between the Google data set and the Trustpilot data set.\n",
        "3. Perform preprocessing of the data – change to lower case, remove stopwords using NLTK, and remove numbers.\n",
        "4. Tokenise the data using word_tokenize from NLTK.\n",
        "5. Find the frequency distribution of the words from each data set's reviews separately. You can use nltk.freqDist.\n",
        "6. Plot a histogram/bar plot showing the top 10 words from each data set.\n",
        "7. Use the wordcloud library on the cleaned data and plot the word cloud.\n",
        "8. Create a new dataframe by filtering out the data to extract only the negative reviews from both data sets.\n",
        "\n",
        "  • For Google reviews, overall scores < 3 can be considered negative scores.\n",
        "\n",
        "  • For Trustpilot reviews, stars < 3 can be considered negative scores.\n",
        "\n",
        "  Repeat the frequency distribution and wordcloud steps on the filtered data consisting of only negative reviews.\n",
        "\n",
        "\n",
        "**Conducting initial topic modelling:**\n",
        "\n",
        "1. With the data frame created in the previous step:\n",
        "\n",
        "  • Filter out the reviews that are from the locations common to both data sets.\n",
        "\n",
        "  • Merge the reviews to form a new list.\n",
        "\n",
        "2. Preprocess this data set. Use BERTopic on this cleaned data set.\n",
        "3. Output: List out the top topics along with their document frequencies.\n",
        "4. For the top 2 topics, list out the top words.\n",
        "5. Show an interactive visualisation of the topics to identify the cluster of topics and to understand the intertopic distance map.\n",
        "6. Show a barchart of the topics, displaying the top 5 words in each topic.\n",
        "7. Plot a heatmap, showcasing the similarity matrix.\n",
        "8. For 10 clusters, provide a brief description in the Notebook of the topics they comprise of along with the general theme of the cluster, evidenced by the top words within each cluster's topics.\n",
        "\n",
        "**Performing further data investigation:**\n",
        "\n",
        "1. List out the top 20 locations with the highest number of negative reviews. Do this separately for Google and Trustpilot's reviews, and comment on the result. Are the locations roughly similar in both data sets?\n",
        "2. Merge the 2 data sets using Location Name and Club's Name.\n",
        "\n",
        "  Now, list out the following:\n",
        "\n",
        "  • Locations\n",
        "\n",
        "  • Number of Trustpilot reviews for this location\n",
        "\n",
        "  • Number of Google reviews for this location\n",
        "\n",
        "  • Total number of reviews for this location (sum of Google reviews and Trustpilot reviews)\n",
        "\n",
        "  Sort based on the total number of reviews.\n",
        "3. For the top 30 locations, redo the word frequency and word cloud. Comment on the results, and highlight if the results are different from the first run.\n",
        "4. For the top 30 locations, combine the reviews from Google and Trustpilot and run them through BERTopic.\n",
        "\n",
        "  Comment on the following:\n",
        "\n",
        "  • Are the results any different from the first run of BERTopic?\n",
        "\n",
        "  • If so, what has changed?\n",
        "\n",
        "  • Are there any additional insights compared to the first run?\n",
        "\n",
        "**Conducting emotion analysis:**\n",
        "\n",
        "1. Import the BERT model bhadresh-savani/bert-base-uncased-emotion from Hugging Face, and set up a pipeline for text classification.\n",
        "2. With the help of an example sentence, run the model and display the different emotion classifications that the model outputs.\n",
        "3. Run this model on both data sets, and capture the top emotion for each review.\n",
        "4. Use a bar plot to show the top emotion distribution for all negative reviews in both data sets.\n",
        "5. Extract all the negative reviews (from both data sets) where anger is top emotion.\n",
        "6. Run BERTopic on the output of the previous step.\n",
        "7. Visualise the clusters from this run. Comment on whether it is any different from the previous runs, and whether it is possible to narrow down the primary issues that have led to an angry review.\n",
        "\n",
        "**Using a large language model from Hugging Face:**\n",
        "\n",
        "1. Load the following model: tiiuae/falcon-7b-instruct. Set the pipeline for text generation and a max length of 1,000 for each review.\n",
        "2. Add the following prompt to every review, before passing it on to the model: **In the following customer review, pick out the main 3 topics. Return them in a numbered list format, with each one on a new line.**\n",
        "\n",
        "  Run the model.\n",
        "\n",
        "  Note: If the execution time is too high, you can use a subset of the bad reviews (instead of the full set) to run this model.\n",
        "3. The output of the model will be the top 3 topics from each review. Append each of these topics from each review to create a comprehensive list.\n",
        "4. Use this list as input to run BERTopic again.\n",
        "5. Comment about the output of BERTopic. Highlight any changes, improvements, and if any further insights have been obtained.\n",
        "6. Use the comprehensive list from Step 3.\n",
        "\n",
        "  Pass it to the model as the input, but pre-fix the following to the prompt: **For the following text topics obtained from negative customer reviews, can you give some actionable insights that would help this gym company?**\n",
        "\n",
        "  Run the Falcon-7b-Instruct model.\n",
        "7. List the output, ideally in the form of suggestions, that the company can employ to address customer concerns.\n",
        "\n",
        "**Using Gensim:**\n",
        "1. Perform the preprocessing required to run the LDA model from Gensim. Use the list of negative reviews (combined Google and Trustpilot reviews).\n",
        "2. Using Gensim, perform LDA on the tokenised data. Specify the number of topics = 10.\n",
        "3. Show the visualisations of the topics, displaying the distance maps and the bar chart listing out the most salient terms.\n",
        "4. Comment on the output and whether it is similar to other techniques, or whether any extra insights were obtained.\n",
        "\n",
        "**Report:**\n",
        "1. Document your approach and major inferences from the data analysis.\n",
        "2. When you have completed the project:\n",
        "  - Download your completed Notebook as an IPYNB (Jupyter Notebook) or PY (Python) file. Save the file as follows: **LastName_FirstName_CAM_C301_Week_4and5_Topic_project.ipynb**.\n",
        "  - Prepare a detailed report (between 800–1,000 words) that includes:\n",
        "    - an overview of your approach\n",
        "    - a description of your analysis\n",
        "    - an explanation of the insights you identified\n",
        "    - a summary of the comments requested in earlier steps\n",
        "    - final insights, based on the output obtained from the various models employed\n",
        "  - Save the document as a PDF named according to the following convention: **LastName_FirstName_CAM_C301_Week_4and5_Topic_project.pdf**.\n",
        "  - Submit your Notebook and PDF document by **Thursday, 22 August at 5 p.m. (UK Time)**.\n",
        "\n",
        "\n",
        "<br></br>\n",
        "> **Declaration**\n",
        ">\n",
        "> By submitting your project, you indicate that the work is your own and has been created with academic integrity. Refer to the Cambridge plagiarism regulations."
      ],
      "metadata": {
        "id": "9j5Bse6izKKh"
      }
    },
    {
      "cell_type": "markdown",
      "source": [
        "# 1. Introduction"
      ],
      "metadata": {
        "id": "jFPK73L35SeQ"
      }
    },
    {
      "cell_type": "markdown",
      "source": [
        "## 1.1 Brief Project Description"
      ],
      "metadata": {
        "id": "8G4EAXhO6GKN"
      }
    },
    {
      "cell_type": "markdown",
      "source": [
        "\n",
        "This project focuses on applying Natural Language Processing (NLP) techniques to real-world data from PureGym to uncover actionable insights. Specifically, we will explore customer reviews from Google and Trustpilot to identify recurring themes, pinpoint areas of improvement, and enhance overall customer satisfaction.\n",
        "\n",
        "The primary goal is to bridge the gap between theoretical NLP methods and their practical applications in a business setting. By leveraging tools such as BERTopic, Gensim LDA, and BERT for emotion analysis, this project will demonstrate how automated topic modelling and sentiment analysis can help organisations like PureGym:\n",
        "\n",
        "- Identify key drivers behind customer feedback.\n",
        "- Understand the factors contributing to negative reviews.\n",
        "- Develop targeted strategies to address customer concerns.\n",
        "\n",
        "The insights gained will enable PureGym to maintain its competitive edge by continuously improving its customer experience, fulfilling its mission of providing affordable access to health and fitness benefits.\n",
        "\n"
      ],
      "metadata": {
        "id": "d3BtrUA16JFJ"
      }
    },
    {
      "cell_type": "markdown",
      "source": [
        "## 1.2 Import Necessary Libraries\n"
      ],
      "metadata": {
        "id": "aLqsazI35XVq"
      }
    },
    {
      "cell_type": "code",
      "source": [
        "# Data manipulation and numerical operations\n",
        "import pandas as pd\n",
        "import numpy as np\n",
        "\n",
        "# Data visualisation\n",
        "import matplotlib.pyplot as plt\n",
        "import seaborn as sns\n",
        "from wordcloud import WordCloud\n",
        "\n",
        "# Natural Language Processing\n",
        "import nltk\n",
        "from nltk.corpus import stopwords\n",
        "from nltk.tokenize import word_tokenize\n",
        "from gensim.models import LdaModel\n",
        "from gensim.corpora import Dictionary\n",
        "from gensim.models.coherencemodel import CoherenceModel\n",
        "\n",
        "# Install bertopic if not already installed\n",
        "!pip install bertopic\n",
        "\n",
        "# Topic Modelling\n",
        "from bertopic import BERTopic\n",
        "\n",
        "# Pretrained models and emotion analysis\n",
        "from transformers import pipeline\n",
        "\n",
        "# Saving and loading models\n",
        "import pickle\n",
        "\n",
        "# Setting up display options for DataFrames\n",
        "pd.set_option('display.max_columns', None)\n",
        "pd.set_option('display.max_rows', 50)\n",
        "pd.set_option('display.float_format', '{:.2f}'.format)\n",
        "\n",
        "# Ignore warnings to keep the notebook clean\n",
        "import warnings\n",
        "warnings.filterwarnings('ignore')\n",
        "\n",
        "# Download NLTK data (if not already installed)\n",
        "nltk.download('punkt')\n",
        "nltk.download('stopwords')"
      ],
      "metadata": {
        "colab": {
          "base_uri": "https://localhost:8080/"
        },
        "id": "sTJQqURB5kxn",
        "outputId": "7f488701-78e0-4973-e67d-7ea73f3e05eb"
      },
      "execution_count": 2,
      "outputs": [
        {
          "output_type": "stream",
          "name": "stdout",
          "text": [
            "Collecting bertopic\n",
            "  Downloading bertopic-0.16.4-py3-none-any.whl.metadata (23 kB)\n",
            "Collecting hdbscan>=0.8.29 (from bertopic)\n",
            "  Downloading hdbscan-0.8.39-cp310-cp310-manylinux_2_17_x86_64.manylinux2014_x86_64.whl.metadata (15 kB)\n",
            "Requirement already satisfied: numpy>=1.20.0 in /usr/local/lib/python3.10/dist-packages (from bertopic) (1.26.4)\n",
            "Requirement already satisfied: pandas>=1.1.5 in /usr/local/lib/python3.10/dist-packages (from bertopic) (2.2.2)\n",
            "Requirement already satisfied: plotly>=4.7.0 in /usr/local/lib/python3.10/dist-packages (from bertopic) (5.24.1)\n",
            "Requirement already satisfied: scikit-learn>=0.22.2.post1 in /usr/local/lib/python3.10/dist-packages (from bertopic) (1.5.2)\n",
            "Requirement already satisfied: sentence-transformers>=0.4.1 in /usr/local/lib/python3.10/dist-packages (from bertopic) (3.2.1)\n",
            "Requirement already satisfied: tqdm>=4.41.1 in /usr/local/lib/python3.10/dist-packages (from bertopic) (4.66.6)\n",
            "Collecting umap-learn>=0.5.0 (from bertopic)\n",
            "  Downloading umap_learn-0.5.7-py3-none-any.whl.metadata (21 kB)\n",
            "Requirement already satisfied: scipy>=1.0 in /usr/local/lib/python3.10/dist-packages (from hdbscan>=0.8.29->bertopic) (1.13.1)\n",
            "Requirement already satisfied: joblib>=1.0 in /usr/local/lib/python3.10/dist-packages (from hdbscan>=0.8.29->bertopic) (1.4.2)\n",
            "Requirement already satisfied: python-dateutil>=2.8.2 in /usr/local/lib/python3.10/dist-packages (from pandas>=1.1.5->bertopic) (2.8.2)\n",
            "Requirement already satisfied: pytz>=2020.1 in /usr/local/lib/python3.10/dist-packages (from pandas>=1.1.5->bertopic) (2024.2)\n",
            "Requirement already satisfied: tzdata>=2022.7 in /usr/local/lib/python3.10/dist-packages (from pandas>=1.1.5->bertopic) (2024.2)\n",
            "Requirement already satisfied: tenacity>=6.2.0 in /usr/local/lib/python3.10/dist-packages (from plotly>=4.7.0->bertopic) (9.0.0)\n",
            "Requirement already satisfied: packaging in /usr/local/lib/python3.10/dist-packages (from plotly>=4.7.0->bertopic) (24.1)\n",
            "Requirement already satisfied: threadpoolctl>=3.1.0 in /usr/local/lib/python3.10/dist-packages (from scikit-learn>=0.22.2.post1->bertopic) (3.5.0)\n",
            "Requirement already satisfied: transformers<5.0.0,>=4.41.0 in /usr/local/lib/python3.10/dist-packages (from sentence-transformers>=0.4.1->bertopic) (4.44.2)\n",
            "Requirement already satisfied: torch>=1.11.0 in /usr/local/lib/python3.10/dist-packages (from sentence-transformers>=0.4.1->bertopic) (2.5.0+cu121)\n",
            "Requirement already satisfied: huggingface-hub>=0.20.0 in /usr/local/lib/python3.10/dist-packages (from sentence-transformers>=0.4.1->bertopic) (0.24.7)\n",
            "Requirement already satisfied: Pillow in /usr/local/lib/python3.10/dist-packages (from sentence-transformers>=0.4.1->bertopic) (10.4.0)\n",
            "Requirement already satisfied: numba>=0.51.2 in /usr/local/lib/python3.10/dist-packages (from umap-learn>=0.5.0->bertopic) (0.60.0)\n",
            "Collecting pynndescent>=0.5 (from umap-learn>=0.5.0->bertopic)\n",
            "  Downloading pynndescent-0.5.13-py3-none-any.whl.metadata (6.8 kB)\n",
            "Requirement already satisfied: filelock in /usr/local/lib/python3.10/dist-packages (from huggingface-hub>=0.20.0->sentence-transformers>=0.4.1->bertopic) (3.16.1)\n",
            "Requirement already satisfied: fsspec>=2023.5.0 in /usr/local/lib/python3.10/dist-packages (from huggingface-hub>=0.20.0->sentence-transformers>=0.4.1->bertopic) (2024.10.0)\n",
            "Requirement already satisfied: pyyaml>=5.1 in /usr/local/lib/python3.10/dist-packages (from huggingface-hub>=0.20.0->sentence-transformers>=0.4.1->bertopic) (6.0.2)\n",
            "Requirement already satisfied: requests in /usr/local/lib/python3.10/dist-packages (from huggingface-hub>=0.20.0->sentence-transformers>=0.4.1->bertopic) (2.32.3)\n",
            "Requirement already satisfied: typing-extensions>=3.7.4.3 in /usr/local/lib/python3.10/dist-packages (from huggingface-hub>=0.20.0->sentence-transformers>=0.4.1->bertopic) (4.12.2)\n",
            "Requirement already satisfied: llvmlite<0.44,>=0.43.0dev0 in /usr/local/lib/python3.10/dist-packages (from numba>=0.51.2->umap-learn>=0.5.0->bertopic) (0.43.0)\n",
            "Requirement already satisfied: six>=1.5 in /usr/local/lib/python3.10/dist-packages (from python-dateutil>=2.8.2->pandas>=1.1.5->bertopic) (1.16.0)\n",
            "Requirement already satisfied: networkx in /usr/local/lib/python3.10/dist-packages (from torch>=1.11.0->sentence-transformers>=0.4.1->bertopic) (3.4.2)\n",
            "Requirement already satisfied: jinja2 in /usr/local/lib/python3.10/dist-packages (from torch>=1.11.0->sentence-transformers>=0.4.1->bertopic) (3.1.4)\n",
            "Requirement already satisfied: sympy==1.13.1 in /usr/local/lib/python3.10/dist-packages (from torch>=1.11.0->sentence-transformers>=0.4.1->bertopic) (1.13.1)\n",
            "Requirement already satisfied: mpmath<1.4,>=1.1.0 in /usr/local/lib/python3.10/dist-packages (from sympy==1.13.1->torch>=1.11.0->sentence-transformers>=0.4.1->bertopic) (1.3.0)\n",
            "Requirement already satisfied: regex!=2019.12.17 in /usr/local/lib/python3.10/dist-packages (from transformers<5.0.0,>=4.41.0->sentence-transformers>=0.4.1->bertopic) (2024.9.11)\n",
            "Requirement already satisfied: safetensors>=0.4.1 in /usr/local/lib/python3.10/dist-packages (from transformers<5.0.0,>=4.41.0->sentence-transformers>=0.4.1->bertopic) (0.4.5)\n",
            "Requirement already satisfied: tokenizers<0.20,>=0.19 in /usr/local/lib/python3.10/dist-packages (from transformers<5.0.0,>=4.41.0->sentence-transformers>=0.4.1->bertopic) (0.19.1)\n",
            "Requirement already satisfied: MarkupSafe>=2.0 in /usr/local/lib/python3.10/dist-packages (from jinja2->torch>=1.11.0->sentence-transformers>=0.4.1->bertopic) (3.0.2)\n",
            "Requirement already satisfied: charset-normalizer<4,>=2 in /usr/local/lib/python3.10/dist-packages (from requests->huggingface-hub>=0.20.0->sentence-transformers>=0.4.1->bertopic) (3.4.0)\n",
            "Requirement already satisfied: idna<4,>=2.5 in /usr/local/lib/python3.10/dist-packages (from requests->huggingface-hub>=0.20.0->sentence-transformers>=0.4.1->bertopic) (3.10)\n",
            "Requirement already satisfied: urllib3<3,>=1.21.1 in /usr/local/lib/python3.10/dist-packages (from requests->huggingface-hub>=0.20.0->sentence-transformers>=0.4.1->bertopic) (2.2.3)\n",
            "Requirement already satisfied: certifi>=2017.4.17 in /usr/local/lib/python3.10/dist-packages (from requests->huggingface-hub>=0.20.0->sentence-transformers>=0.4.1->bertopic) (2024.8.30)\n",
            "Downloading bertopic-0.16.4-py3-none-any.whl (143 kB)\n",
            "\u001b[2K   \u001b[90m━━━━━━━━━━━━━━━━━━━━━━━━━━━━━━━━━━━━━━━━\u001b[0m \u001b[32m143.7/143.7 kB\u001b[0m \u001b[31m11.9 MB/s\u001b[0m eta \u001b[36m0:00:00\u001b[0m\n",
            "\u001b[?25hDownloading hdbscan-0.8.39-cp310-cp310-manylinux_2_17_x86_64.manylinux2014_x86_64.whl (4.2 MB)\n",
            "\u001b[2K   \u001b[90m━━━━━━━━━━━━━━━━━━━━━━━━━━━━━━━━━━━━━━━━\u001b[0m \u001b[32m4.2/4.2 MB\u001b[0m \u001b[31m76.5 MB/s\u001b[0m eta \u001b[36m0:00:00\u001b[0m\n",
            "\u001b[?25hDownloading umap_learn-0.5.7-py3-none-any.whl (88 kB)\n",
            "\u001b[2K   \u001b[90m━━━━━━━━━━━━━━━━━━━━━━━━━━━━━━━━━━━━━━━━\u001b[0m \u001b[32m88.8/88.8 kB\u001b[0m \u001b[31m7.6 MB/s\u001b[0m eta \u001b[36m0:00:00\u001b[0m\n",
            "\u001b[?25hDownloading pynndescent-0.5.13-py3-none-any.whl (56 kB)\n",
            "\u001b[2K   \u001b[90m━━━━━━━━━━━━━━━━━━━━━━━━━━━━━━━━━━━━━━━━\u001b[0m \u001b[32m56.9/56.9 kB\u001b[0m \u001b[31m4.9 MB/s\u001b[0m eta \u001b[36m0:00:00\u001b[0m\n",
            "\u001b[?25hInstalling collected packages: pynndescent, hdbscan, umap-learn, bertopic\n",
            "Successfully installed bertopic-0.16.4 hdbscan-0.8.39 pynndescent-0.5.13 umap-learn-0.5.7\n"
          ]
        },
        {
          "output_type": "stream",
          "name": "stderr",
          "text": [
            "[nltk_data] Downloading package punkt to /root/nltk_data...\n",
            "[nltk_data]   Unzipping tokenizers/punkt.zip.\n",
            "[nltk_data] Downloading package stopwords to /root/nltk_data...\n",
            "[nltk_data]   Unzipping corpora/stopwords.zip.\n"
          ]
        },
        {
          "output_type": "execute_result",
          "data": {
            "text/plain": [
              "True"
            ]
          },
          "metadata": {},
          "execution_count": 2
        }
      ]
    },
    {
      "cell_type": "markdown",
      "source": [
        "## 1.3 Assessment Criteria Overview"
      ],
      "metadata": {
        "id": "3iGiwQ6L_ive"
      }
    },
    {
      "cell_type": "markdown",
      "source": [
        "The success of this project will be evaluated based on the following key criteria:\n",
        "\n",
        "1. **Data Investigation and Preprocessing**  \n",
        "   - Ability to explore and understand real-world data.\n",
        "   - Effective application of data cleaning, including handling missing values and outliers.\n",
        "   - Implementation of appropriate text preprocessing techniques, such as tokenisation, stopword removal, and handling special characters.\n",
        "\n",
        "2. **Visualisation and Exploratory Data Analysis (EDA)**  \n",
        "   - Creation of insightful visualisations, including word clouds and frequency distributions.\n",
        "   - Use of visual tools to effectively communicate patterns and trends within the data.\n",
        "\n",
        "3. **Topic Modelling**  \n",
        "   - Application of BERTopic and Gensim’s LDA to identify key themes within the reviews.\n",
        "   - Comparison of topic modelling results between different techniques, ensuring model validation.\n",
        "   - Documentation and evaluation of topic coherence and relevance to the business context.\n",
        "\n",
        "4. **Emotion Analysis**  \n",
        "   - Use of BERT-based models to perform emotion classification on customer reviews.\n",
        "   - Identification of emotion-driven insights, such as highlighting reviews containing anger or frustration.\n",
        "   - Effective integration of emotion analysis into the broader topic modelling pipeline.\n",
        "\n",
        "5. **Insight Generation and Actionable Recommendations**  \n",
        "   - Identification of key drivers behind negative reviews and their impact on customer experience.\n",
        "   - Generation of actionable insights using advanced models like Falcon-7b-instruct.\n",
        "   - Presentation of clear, data-driven recommendations for improving customer satisfaction and addressing issues raised in the reviews.\n",
        "\n",
        "6. **Reporting and Communication**  \n",
        "   - Compilation of a well-structured, concise report summarising findings, methodologies, and recommendations.\n",
        "   - Use of clear and professional language to communicate technical results to non-technical stakeholders.\n",
        "   - Visual and textual summaries to ensure accessibility of insights.\n",
        "\n",
        "### Key Outcomes:\n",
        "By meeting these criteria, I will demonstrate my ability to:\n",
        "- Handle real-world data effectively.\n",
        "- Apply advanced NLP techniques for topic modelling and sentiment analysis.\n",
        "- Deliver actionable insights that drive business value.\n",
        "- Communicate findings in a professional and accessible manner."
      ],
      "metadata": {
        "id": "2kv0TbuH_nib"
      }
    },
    {
      "cell_type": "markdown",
      "source": [
        "# 2. Data Import and Cleaning"
      ],
      "metadata": {
        "id": "dSo2-Iii6h-o"
      }
    },
    {
      "cell_type": "markdown",
      "source": [
        "## 2.1 Load the Datasets"
      ],
      "metadata": {
        "id": "gwd1GKQ_6pc2"
      }
    },
    {
      "cell_type": "code",
      "source": [
        "# Download the datasets using gdown\n",
        "!gdown --fuzzy 'https://docs.google.com/spreadsheets/d/13TeZTT6oqk3iPELBhFx9hComIfChKw4m/edit?usp=sharing'\n",
        "!gdown --fuzzy 'https://docs.google.com/spreadsheets/d/1V6Pr6xWrHSHaothB61MJbR7mPFHwQ1u6/edit?usp=sharing'\n"
      ],
      "metadata": {
        "id": "ne9zIkONPhiI",
        "outputId": "f95546b9-47be-45f1-d228-5b65dc2bf44c",
        "colab": {
          "base_uri": "https://localhost:8080/"
        }
      },
      "execution_count": 6,
      "outputs": [
        {
          "output_type": "stream",
          "name": "stdout",
          "text": [
            "Downloading...\n",
            "From: https://drive.google.com/uc?id=13TeZTT6oqk3iPELBhFx9hComIfChKw4m\n",
            "To: /content/Google_12_months.xlsx\n",
            "100% 2.08M/2.08M [00:00<00:00, 68.4MB/s]\n",
            "Downloading...\n",
            "From: https://drive.google.com/uc?id=1V6Pr6xWrHSHaothB61MJbR7mPFHwQ1u6\n",
            "To: /content/Trustpilot_12_months.xlsx\n",
            "100% 2.83M/2.83M [00:00<00:00, 83.5MB/s]\n"
          ]
        }
      ]
    },
    {
      "cell_type": "code",
      "source": [
        "# Load the datasets into pandas DataFrames\n",
        "google_df = pd.read_excel('Google_12_months.xlsx')\n",
        "trustpilot_df = pd.read_excel('Trustpilot_12_months.xlsx')\n",
        "\n",
        "# Display the first few rows of each dataset\n",
        "print(\"Google Reviews Dataset:\")\n",
        "google_df.head()"
      ],
      "metadata": {
        "colab": {
          "base_uri": "https://localhost:8080/",
          "height": 328
        },
        "id": "S4So93896sN5",
        "outputId": "a2a0b5fb-c620-4a58-f643-3ed5948f399a"
      },
      "execution_count": 8,
      "outputs": [
        {
          "output_type": "stream",
          "name": "stdout",
          "text": [
            "Google Reviews Dataset:\n"
          ]
        },
        {
          "output_type": "execute_result",
          "data": {
            "text/plain": [
              "  Customer Name SurveyID for external use (e.g. tech support)  \\\n",
              "0            **                      ekkt2vyxtkwrrrfyzc5hz6rk   \n",
              "1            **                      e9b62vyxtkwrrrfyzc5hz6rk   \n",
              "2            **                      e2dkxvyxtkwrrrfyzc5hz6rk   \n",
              "3            **                      e3tfxvyxtkwrrrfyzc5hz6rk   \n",
              "4            **                      edkrxvyxtkwrrrfyzc5hz6rk   \n",
              "\n",
              "                         Club's Name Social Media Source       Creation Date  \\\n",
              "0            Leeds City Centre North      Google Reviews 2024-05-09 23:49:18   \n",
              "1             Cambridge Leisure Park      Google Reviews 2024-05-09 22:48:39   \n",
              "2                     London Holborn      Google Reviews 2024-05-09 22:08:14   \n",
              "3  Cheshunt Brookfield Shopping Park      Google Reviews 2024-05-09 21:58:07   \n",
              "4                 Bristol Union Gate      Google Reviews 2024-05-09 21:48:00   \n",
              "\n",
              "                                             Comment  Overall Score  \n",
              "0                                                NaN              4  \n",
              "1  Too many students from two local colleges go h...              1  \n",
              "2  Best range of equipment, cheaper than regular ...              5  \n",
              "3  Good gym when it’s not busy, tend to get too b...              4  \n",
              "4  (current member)\\n\\nGym is quite dirty, more o...              1  "
            ],
            "text/html": [
              "\n",
              "  <div id=\"df-7a9babb0-db3f-49ec-b608-a97c86df3800\" class=\"colab-df-container\">\n",
              "    <div>\n",
              "<style scoped>\n",
              "    .dataframe tbody tr th:only-of-type {\n",
              "        vertical-align: middle;\n",
              "    }\n",
              "\n",
              "    .dataframe tbody tr th {\n",
              "        vertical-align: top;\n",
              "    }\n",
              "\n",
              "    .dataframe thead th {\n",
              "        text-align: right;\n",
              "    }\n",
              "</style>\n",
              "<table border=\"1\" class=\"dataframe\">\n",
              "  <thead>\n",
              "    <tr style=\"text-align: right;\">\n",
              "      <th></th>\n",
              "      <th>Customer Name</th>\n",
              "      <th>SurveyID for external use (e.g. tech support)</th>\n",
              "      <th>Club's Name</th>\n",
              "      <th>Social Media Source</th>\n",
              "      <th>Creation Date</th>\n",
              "      <th>Comment</th>\n",
              "      <th>Overall Score</th>\n",
              "    </tr>\n",
              "  </thead>\n",
              "  <tbody>\n",
              "    <tr>\n",
              "      <th>0</th>\n",
              "      <td>**</td>\n",
              "      <td>ekkt2vyxtkwrrrfyzc5hz6rk</td>\n",
              "      <td>Leeds City Centre North</td>\n",
              "      <td>Google Reviews</td>\n",
              "      <td>2024-05-09 23:49:18</td>\n",
              "      <td>NaN</td>\n",
              "      <td>4</td>\n",
              "    </tr>\n",
              "    <tr>\n",
              "      <th>1</th>\n",
              "      <td>**</td>\n",
              "      <td>e9b62vyxtkwrrrfyzc5hz6rk</td>\n",
              "      <td>Cambridge Leisure Park</td>\n",
              "      <td>Google Reviews</td>\n",
              "      <td>2024-05-09 22:48:39</td>\n",
              "      <td>Too many students from two local colleges go h...</td>\n",
              "      <td>1</td>\n",
              "    </tr>\n",
              "    <tr>\n",
              "      <th>2</th>\n",
              "      <td>**</td>\n",
              "      <td>e2dkxvyxtkwrrrfyzc5hz6rk</td>\n",
              "      <td>London Holborn</td>\n",
              "      <td>Google Reviews</td>\n",
              "      <td>2024-05-09 22:08:14</td>\n",
              "      <td>Best range of equipment, cheaper than regular ...</td>\n",
              "      <td>5</td>\n",
              "    </tr>\n",
              "    <tr>\n",
              "      <th>3</th>\n",
              "      <td>**</td>\n",
              "      <td>e3tfxvyxtkwrrrfyzc5hz6rk</td>\n",
              "      <td>Cheshunt Brookfield Shopping Park</td>\n",
              "      <td>Google Reviews</td>\n",
              "      <td>2024-05-09 21:58:07</td>\n",
              "      <td>Good gym when it’s not busy, tend to get too b...</td>\n",
              "      <td>4</td>\n",
              "    </tr>\n",
              "    <tr>\n",
              "      <th>4</th>\n",
              "      <td>**</td>\n",
              "      <td>edkrxvyxtkwrrrfyzc5hz6rk</td>\n",
              "      <td>Bristol Union Gate</td>\n",
              "      <td>Google Reviews</td>\n",
              "      <td>2024-05-09 21:48:00</td>\n",
              "      <td>(current member)\\n\\nGym is quite dirty, more o...</td>\n",
              "      <td>1</td>\n",
              "    </tr>\n",
              "  </tbody>\n",
              "</table>\n",
              "</div>\n",
              "    <div class=\"colab-df-buttons\">\n",
              "\n",
              "  <div class=\"colab-df-container\">\n",
              "    <button class=\"colab-df-convert\" onclick=\"convertToInteractive('df-7a9babb0-db3f-49ec-b608-a97c86df3800')\"\n",
              "            title=\"Convert this dataframe to an interactive table.\"\n",
              "            style=\"display:none;\">\n",
              "\n",
              "  <svg xmlns=\"http://www.w3.org/2000/svg\" height=\"24px\" viewBox=\"0 -960 960 960\">\n",
              "    <path d=\"M120-120v-720h720v720H120Zm60-500h600v-160H180v160Zm220 220h160v-160H400v160Zm0 220h160v-160H400v160ZM180-400h160v-160H180v160Zm440 0h160v-160H620v160ZM180-180h160v-160H180v160Zm440 0h160v-160H620v160Z\"/>\n",
              "  </svg>\n",
              "    </button>\n",
              "\n",
              "  <style>\n",
              "    .colab-df-container {\n",
              "      display:flex;\n",
              "      gap: 12px;\n",
              "    }\n",
              "\n",
              "    .colab-df-convert {\n",
              "      background-color: #E8F0FE;\n",
              "      border: none;\n",
              "      border-radius: 50%;\n",
              "      cursor: pointer;\n",
              "      display: none;\n",
              "      fill: #1967D2;\n",
              "      height: 32px;\n",
              "      padding: 0 0 0 0;\n",
              "      width: 32px;\n",
              "    }\n",
              "\n",
              "    .colab-df-convert:hover {\n",
              "      background-color: #E2EBFA;\n",
              "      box-shadow: 0px 1px 2px rgba(60, 64, 67, 0.3), 0px 1px 3px 1px rgba(60, 64, 67, 0.15);\n",
              "      fill: #174EA6;\n",
              "    }\n",
              "\n",
              "    .colab-df-buttons div {\n",
              "      margin-bottom: 4px;\n",
              "    }\n",
              "\n",
              "    [theme=dark] .colab-df-convert {\n",
              "      background-color: #3B4455;\n",
              "      fill: #D2E3FC;\n",
              "    }\n",
              "\n",
              "    [theme=dark] .colab-df-convert:hover {\n",
              "      background-color: #434B5C;\n",
              "      box-shadow: 0px 1px 3px 1px rgba(0, 0, 0, 0.15);\n",
              "      filter: drop-shadow(0px 1px 2px rgba(0, 0, 0, 0.3));\n",
              "      fill: #FFFFFF;\n",
              "    }\n",
              "  </style>\n",
              "\n",
              "    <script>\n",
              "      const buttonEl =\n",
              "        document.querySelector('#df-7a9babb0-db3f-49ec-b608-a97c86df3800 button.colab-df-convert');\n",
              "      buttonEl.style.display =\n",
              "        google.colab.kernel.accessAllowed ? 'block' : 'none';\n",
              "\n",
              "      async function convertToInteractive(key) {\n",
              "        const element = document.querySelector('#df-7a9babb0-db3f-49ec-b608-a97c86df3800');\n",
              "        const dataTable =\n",
              "          await google.colab.kernel.invokeFunction('convertToInteractive',\n",
              "                                                    [key], {});\n",
              "        if (!dataTable) return;\n",
              "\n",
              "        const docLinkHtml = 'Like what you see? Visit the ' +\n",
              "          '<a target=\"_blank\" href=https://colab.research.google.com/notebooks/data_table.ipynb>data table notebook</a>'\n",
              "          + ' to learn more about interactive tables.';\n",
              "        element.innerHTML = '';\n",
              "        dataTable['output_type'] = 'display_data';\n",
              "        await google.colab.output.renderOutput(dataTable, element);\n",
              "        const docLink = document.createElement('div');\n",
              "        docLink.innerHTML = docLinkHtml;\n",
              "        element.appendChild(docLink);\n",
              "      }\n",
              "    </script>\n",
              "  </div>\n",
              "\n",
              "\n",
              "<div id=\"df-0b47ff56-4f76-47a2-8527-5170d3916f57\">\n",
              "  <button class=\"colab-df-quickchart\" onclick=\"quickchart('df-0b47ff56-4f76-47a2-8527-5170d3916f57')\"\n",
              "            title=\"Suggest charts\"\n",
              "            style=\"display:none;\">\n",
              "\n",
              "<svg xmlns=\"http://www.w3.org/2000/svg\" height=\"24px\"viewBox=\"0 0 24 24\"\n",
              "     width=\"24px\">\n",
              "    <g>\n",
              "        <path d=\"M19 3H5c-1.1 0-2 .9-2 2v14c0 1.1.9 2 2 2h14c1.1 0 2-.9 2-2V5c0-1.1-.9-2-2-2zM9 17H7v-7h2v7zm4 0h-2V7h2v10zm4 0h-2v-4h2v4z\"/>\n",
              "    </g>\n",
              "</svg>\n",
              "  </button>\n",
              "\n",
              "<style>\n",
              "  .colab-df-quickchart {\n",
              "      --bg-color: #E8F0FE;\n",
              "      --fill-color: #1967D2;\n",
              "      --hover-bg-color: #E2EBFA;\n",
              "      --hover-fill-color: #174EA6;\n",
              "      --disabled-fill-color: #AAA;\n",
              "      --disabled-bg-color: #DDD;\n",
              "  }\n",
              "\n",
              "  [theme=dark] .colab-df-quickchart {\n",
              "      --bg-color: #3B4455;\n",
              "      --fill-color: #D2E3FC;\n",
              "      --hover-bg-color: #434B5C;\n",
              "      --hover-fill-color: #FFFFFF;\n",
              "      --disabled-bg-color: #3B4455;\n",
              "      --disabled-fill-color: #666;\n",
              "  }\n",
              "\n",
              "  .colab-df-quickchart {\n",
              "    background-color: var(--bg-color);\n",
              "    border: none;\n",
              "    border-radius: 50%;\n",
              "    cursor: pointer;\n",
              "    display: none;\n",
              "    fill: var(--fill-color);\n",
              "    height: 32px;\n",
              "    padding: 0;\n",
              "    width: 32px;\n",
              "  }\n",
              "\n",
              "  .colab-df-quickchart:hover {\n",
              "    background-color: var(--hover-bg-color);\n",
              "    box-shadow: 0 1px 2px rgba(60, 64, 67, 0.3), 0 1px 3px 1px rgba(60, 64, 67, 0.15);\n",
              "    fill: var(--button-hover-fill-color);\n",
              "  }\n",
              "\n",
              "  .colab-df-quickchart-complete:disabled,\n",
              "  .colab-df-quickchart-complete:disabled:hover {\n",
              "    background-color: var(--disabled-bg-color);\n",
              "    fill: var(--disabled-fill-color);\n",
              "    box-shadow: none;\n",
              "  }\n",
              "\n",
              "  .colab-df-spinner {\n",
              "    border: 2px solid var(--fill-color);\n",
              "    border-color: transparent;\n",
              "    border-bottom-color: var(--fill-color);\n",
              "    animation:\n",
              "      spin 1s steps(1) infinite;\n",
              "  }\n",
              "\n",
              "  @keyframes spin {\n",
              "    0% {\n",
              "      border-color: transparent;\n",
              "      border-bottom-color: var(--fill-color);\n",
              "      border-left-color: var(--fill-color);\n",
              "    }\n",
              "    20% {\n",
              "      border-color: transparent;\n",
              "      border-left-color: var(--fill-color);\n",
              "      border-top-color: var(--fill-color);\n",
              "    }\n",
              "    30% {\n",
              "      border-color: transparent;\n",
              "      border-left-color: var(--fill-color);\n",
              "      border-top-color: var(--fill-color);\n",
              "      border-right-color: var(--fill-color);\n",
              "    }\n",
              "    40% {\n",
              "      border-color: transparent;\n",
              "      border-right-color: var(--fill-color);\n",
              "      border-top-color: var(--fill-color);\n",
              "    }\n",
              "    60% {\n",
              "      border-color: transparent;\n",
              "      border-right-color: var(--fill-color);\n",
              "    }\n",
              "    80% {\n",
              "      border-color: transparent;\n",
              "      border-right-color: var(--fill-color);\n",
              "      border-bottom-color: var(--fill-color);\n",
              "    }\n",
              "    90% {\n",
              "      border-color: transparent;\n",
              "      border-bottom-color: var(--fill-color);\n",
              "    }\n",
              "  }\n",
              "</style>\n",
              "\n",
              "  <script>\n",
              "    async function quickchart(key) {\n",
              "      const quickchartButtonEl =\n",
              "        document.querySelector('#' + key + ' button');\n",
              "      quickchartButtonEl.disabled = true;  // To prevent multiple clicks.\n",
              "      quickchartButtonEl.classList.add('colab-df-spinner');\n",
              "      try {\n",
              "        const charts = await google.colab.kernel.invokeFunction(\n",
              "            'suggestCharts', [key], {});\n",
              "      } catch (error) {\n",
              "        console.error('Error during call to suggestCharts:', error);\n",
              "      }\n",
              "      quickchartButtonEl.classList.remove('colab-df-spinner');\n",
              "      quickchartButtonEl.classList.add('colab-df-quickchart-complete');\n",
              "    }\n",
              "    (() => {\n",
              "      let quickchartButtonEl =\n",
              "        document.querySelector('#df-0b47ff56-4f76-47a2-8527-5170d3916f57 button');\n",
              "      quickchartButtonEl.style.display =\n",
              "        google.colab.kernel.accessAllowed ? 'block' : 'none';\n",
              "    })();\n",
              "  </script>\n",
              "</div>\n",
              "\n",
              "    </div>\n",
              "  </div>\n"
            ],
            "application/vnd.google.colaboratory.intrinsic+json": {
              "type": "dataframe",
              "variable_name": "google_df",
              "summary": "{\n  \"name\": \"google_df\",\n  \"rows\": 23250,\n  \"fields\": [\n    {\n      \"column\": \"Customer Name\",\n      \"properties\": {\n        \"dtype\": \"category\",\n        \"num_unique_values\": 1,\n        \"samples\": [\n          \"**\"\n        ],\n        \"semantic_type\": \"\",\n        \"description\": \"\"\n      }\n    },\n    {\n      \"column\": \"SurveyID for external use (e.g. tech support)\",\n      \"properties\": {\n        \"dtype\": \"string\",\n        \"num_unique_values\": 23250,\n        \"samples\": [\n          \"eb8k9mffskwrrrfyzc5hz6rk\"\n        ],\n        \"semantic_type\": \"\",\n        \"description\": \"\"\n      }\n    },\n    {\n      \"column\": \"Club's Name\",\n      \"properties\": {\n        \"dtype\": \"category\",\n        \"num_unique_values\": 514,\n        \"samples\": [\n          \"Oxford Templars Shopping Park\"\n        ],\n        \"semantic_type\": \"\",\n        \"description\": \"\"\n      }\n    },\n    {\n      \"column\": \"Social Media Source\",\n      \"properties\": {\n        \"dtype\": \"category\",\n        \"num_unique_values\": 1,\n        \"samples\": [\n          \"Google Reviews\"\n        ],\n        \"semantic_type\": \"\",\n        \"description\": \"\"\n      }\n    },\n    {\n      \"column\": \"Creation Date\",\n      \"properties\": {\n        \"dtype\": \"date\",\n        \"min\": \"2022-03-07 20:36:21\",\n        \"max\": \"2024-05-09 23:49:18\",\n        \"num_unique_values\": 16309,\n        \"samples\": [\n          \"2023-07-20 19:13:38\"\n        ],\n        \"semantic_type\": \"\",\n        \"description\": \"\"\n      }\n    },\n    {\n      \"column\": \"Comment\",\n      \"properties\": {\n        \"dtype\": \"string\",\n        \"num_unique_values\": 13506,\n        \"samples\": [\n          \"Fantastic class, as always.\\nMiihai makes everyone smile while delivering an awesome session.\"\n        ],\n        \"semantic_type\": \"\",\n        \"description\": \"\"\n      }\n    },\n    {\n      \"column\": \"Overall Score\",\n      \"properties\": {\n        \"dtype\": \"number\",\n        \"std\": 1,\n        \"min\": 1,\n        \"max\": 5,\n        \"num_unique_values\": 5,\n        \"samples\": [\n          1\n        ],\n        \"semantic_type\": \"\",\n        \"description\": \"\"\n      }\n    }\n  ]\n}"
            }
          },
          "metadata": {},
          "execution_count": 8
        }
      ]
    },
    {
      "cell_type": "code",
      "source": [
        "# Display the first few rows of each dataset\n",
        "print(\"\\nTrustpilot Reviews Dataset:\")\n",
        "trustpilot_df.head()"
      ],
      "metadata": {
        "id": "yoTc-zMDQb2D",
        "outputId": "2546254a-bdec-490a-e344-2f5d5fefc07b",
        "colab": {
          "base_uri": "https://localhost:8080/",
          "height": 592
        }
      },
      "execution_count": 10,
      "outputs": [
        {
          "output_type": "stream",
          "name": "stdout",
          "text": [
            "\n",
            "Trustpilot Reviews Dataset:\n"
          ]
        },
        {
          "output_type": "execute_result",
          "data": {
            "text/plain": [
              "                  Review ID Review Created (UTC)   Review Consumer User ID  \\\n",
              "0  663d40378de0a14c26c2f63c  2024-05-09 23:29:00  663d4036d5fa24c223106005   \n",
              "1  663d3c101ccfcc36fb28eb8c  2024-05-09 23:11:00  5f5e3434d53200fa6ac57238   \n",
              "2  663d375859621080d08e6198  2024-05-09 22:51:00  57171ba90000ff000a18f905   \n",
              "3  663d4fa1f25670a3339ccf6d  2024-05-09 22:35:00  663d4fa0d5fa24251d1068e7   \n",
              "4  663d3251d8367b7b3c4ace64  2024-05-09 22:30:00  60c20598384d84001a4250de   \n",
              "\n",
              "                    Review Title  \\\n",
              "0        A very good environment   \n",
              "1  I love to be part of this gym   \n",
              "2                 Extremely busy   \n",
              "3                    Great vibes   \n",
              "4      Everything it needs to be   \n",
              "\n",
              "                                      Review Content  Review Stars  \\\n",
              "0                            A very good environment             5   \n",
              "1  I love to be part of this gym. Superb value fo...             5   \n",
              "2                      Extremely busy, no fresh air.             1   \n",
              "3                         Great vibes, fantastic gym             5   \n",
              "4             Clean, well managed, classes are good.             5   \n",
              "\n",
              "  Source Of Review Review Language              Domain URL Webshop Name  \\\n",
              "0            AFSv2              en  http://www.puregym.com   PureGym UK   \n",
              "1            AFSv2              en  http://www.puregym.com   PureGym UK   \n",
              "2            AFSv2              en  http://www.puregym.com   PureGym UK   \n",
              "3            AFSv2              en  http://www.puregym.com   PureGym UK   \n",
              "4            AFSv2              en  http://www.puregym.com   PureGym UK   \n",
              "\n",
              "           Business Unit ID  Tags Company Reply Date (UTC)  \\\n",
              "0  508df4ea00006400051dd7b1   NaN      2024-05-10 08:12:00   \n",
              "1  508df4ea00006400051dd7b1   NaN      2024-05-10 08:13:00   \n",
              "2  508df4ea00006400051dd7b1   NaN                      NaT   \n",
              "3  508df4ea00006400051dd7b1   NaN                      NaT   \n",
              "4  508df4ea00006400051dd7b1   NaN      2024-05-10 08:14:00   \n",
              "\n",
              "                Location Name                           Location ID  \n",
              "0  Solihull Sears Retail Park  7b03ccad-4a9d-4a33-9377-ea5bba442dfc  \n",
              "1                   Aylesbury  612d3f7e-18f9-492b-a36f-4a7b86fa5647  \n",
              "2         Sutton Times Square  0b78c808-f671-482b-8687-83468b7b5bc1  \n",
              "3             London Finchley  bc3a9a8c-defe-47b3-8ee6-f73a03b7447e  \n",
              "4                    Crayford  9ce470b7-57df-4533-af2f-c539422fed14  "
            ],
            "text/html": [
              "\n",
              "  <div id=\"df-b6aef1f9-6be2-4ce5-bfc0-945b07267c69\" class=\"colab-df-container\">\n",
              "    <div>\n",
              "<style scoped>\n",
              "    .dataframe tbody tr th:only-of-type {\n",
              "        vertical-align: middle;\n",
              "    }\n",
              "\n",
              "    .dataframe tbody tr th {\n",
              "        vertical-align: top;\n",
              "    }\n",
              "\n",
              "    .dataframe thead th {\n",
              "        text-align: right;\n",
              "    }\n",
              "</style>\n",
              "<table border=\"1\" class=\"dataframe\">\n",
              "  <thead>\n",
              "    <tr style=\"text-align: right;\">\n",
              "      <th></th>\n",
              "      <th>Review ID</th>\n",
              "      <th>Review Created (UTC)</th>\n",
              "      <th>Review Consumer User ID</th>\n",
              "      <th>Review Title</th>\n",
              "      <th>Review Content</th>\n",
              "      <th>Review Stars</th>\n",
              "      <th>Source Of Review</th>\n",
              "      <th>Review Language</th>\n",
              "      <th>Domain URL</th>\n",
              "      <th>Webshop Name</th>\n",
              "      <th>Business Unit ID</th>\n",
              "      <th>Tags</th>\n",
              "      <th>Company Reply Date (UTC)</th>\n",
              "      <th>Location Name</th>\n",
              "      <th>Location ID</th>\n",
              "    </tr>\n",
              "  </thead>\n",
              "  <tbody>\n",
              "    <tr>\n",
              "      <th>0</th>\n",
              "      <td>663d40378de0a14c26c2f63c</td>\n",
              "      <td>2024-05-09 23:29:00</td>\n",
              "      <td>663d4036d5fa24c223106005</td>\n",
              "      <td>A very good environment</td>\n",
              "      <td>A very good environment</td>\n",
              "      <td>5</td>\n",
              "      <td>AFSv2</td>\n",
              "      <td>en</td>\n",
              "      <td>http://www.puregym.com</td>\n",
              "      <td>PureGym UK</td>\n",
              "      <td>508df4ea00006400051dd7b1</td>\n",
              "      <td>NaN</td>\n",
              "      <td>2024-05-10 08:12:00</td>\n",
              "      <td>Solihull Sears Retail Park</td>\n",
              "      <td>7b03ccad-4a9d-4a33-9377-ea5bba442dfc</td>\n",
              "    </tr>\n",
              "    <tr>\n",
              "      <th>1</th>\n",
              "      <td>663d3c101ccfcc36fb28eb8c</td>\n",
              "      <td>2024-05-09 23:11:00</td>\n",
              "      <td>5f5e3434d53200fa6ac57238</td>\n",
              "      <td>I love to be part of this gym</td>\n",
              "      <td>I love to be part of this gym. Superb value fo...</td>\n",
              "      <td>5</td>\n",
              "      <td>AFSv2</td>\n",
              "      <td>en</td>\n",
              "      <td>http://www.puregym.com</td>\n",
              "      <td>PureGym UK</td>\n",
              "      <td>508df4ea00006400051dd7b1</td>\n",
              "      <td>NaN</td>\n",
              "      <td>2024-05-10 08:13:00</td>\n",
              "      <td>Aylesbury</td>\n",
              "      <td>612d3f7e-18f9-492b-a36f-4a7b86fa5647</td>\n",
              "    </tr>\n",
              "    <tr>\n",
              "      <th>2</th>\n",
              "      <td>663d375859621080d08e6198</td>\n",
              "      <td>2024-05-09 22:51:00</td>\n",
              "      <td>57171ba90000ff000a18f905</td>\n",
              "      <td>Extremely busy</td>\n",
              "      <td>Extremely busy, no fresh air.</td>\n",
              "      <td>1</td>\n",
              "      <td>AFSv2</td>\n",
              "      <td>en</td>\n",
              "      <td>http://www.puregym.com</td>\n",
              "      <td>PureGym UK</td>\n",
              "      <td>508df4ea00006400051dd7b1</td>\n",
              "      <td>NaN</td>\n",
              "      <td>NaT</td>\n",
              "      <td>Sutton Times Square</td>\n",
              "      <td>0b78c808-f671-482b-8687-83468b7b5bc1</td>\n",
              "    </tr>\n",
              "    <tr>\n",
              "      <th>3</th>\n",
              "      <td>663d4fa1f25670a3339ccf6d</td>\n",
              "      <td>2024-05-09 22:35:00</td>\n",
              "      <td>663d4fa0d5fa24251d1068e7</td>\n",
              "      <td>Great vibes</td>\n",
              "      <td>Great vibes, fantastic gym</td>\n",
              "      <td>5</td>\n",
              "      <td>AFSv2</td>\n",
              "      <td>en</td>\n",
              "      <td>http://www.puregym.com</td>\n",
              "      <td>PureGym UK</td>\n",
              "      <td>508df4ea00006400051dd7b1</td>\n",
              "      <td>NaN</td>\n",
              "      <td>NaT</td>\n",
              "      <td>London Finchley</td>\n",
              "      <td>bc3a9a8c-defe-47b3-8ee6-f73a03b7447e</td>\n",
              "    </tr>\n",
              "    <tr>\n",
              "      <th>4</th>\n",
              "      <td>663d3251d8367b7b3c4ace64</td>\n",
              "      <td>2024-05-09 22:30:00</td>\n",
              "      <td>60c20598384d84001a4250de</td>\n",
              "      <td>Everything it needs to be</td>\n",
              "      <td>Clean, well managed, classes are good.</td>\n",
              "      <td>5</td>\n",
              "      <td>AFSv2</td>\n",
              "      <td>en</td>\n",
              "      <td>http://www.puregym.com</td>\n",
              "      <td>PureGym UK</td>\n",
              "      <td>508df4ea00006400051dd7b1</td>\n",
              "      <td>NaN</td>\n",
              "      <td>2024-05-10 08:14:00</td>\n",
              "      <td>Crayford</td>\n",
              "      <td>9ce470b7-57df-4533-af2f-c539422fed14</td>\n",
              "    </tr>\n",
              "  </tbody>\n",
              "</table>\n",
              "</div>\n",
              "    <div class=\"colab-df-buttons\">\n",
              "\n",
              "  <div class=\"colab-df-container\">\n",
              "    <button class=\"colab-df-convert\" onclick=\"convertToInteractive('df-b6aef1f9-6be2-4ce5-bfc0-945b07267c69')\"\n",
              "            title=\"Convert this dataframe to an interactive table.\"\n",
              "            style=\"display:none;\">\n",
              "\n",
              "  <svg xmlns=\"http://www.w3.org/2000/svg\" height=\"24px\" viewBox=\"0 -960 960 960\">\n",
              "    <path d=\"M120-120v-720h720v720H120Zm60-500h600v-160H180v160Zm220 220h160v-160H400v160Zm0 220h160v-160H400v160ZM180-400h160v-160H180v160Zm440 0h160v-160H620v160ZM180-180h160v-160H180v160Zm440 0h160v-160H620v160Z\"/>\n",
              "  </svg>\n",
              "    </button>\n",
              "\n",
              "  <style>\n",
              "    .colab-df-container {\n",
              "      display:flex;\n",
              "      gap: 12px;\n",
              "    }\n",
              "\n",
              "    .colab-df-convert {\n",
              "      background-color: #E8F0FE;\n",
              "      border: none;\n",
              "      border-radius: 50%;\n",
              "      cursor: pointer;\n",
              "      display: none;\n",
              "      fill: #1967D2;\n",
              "      height: 32px;\n",
              "      padding: 0 0 0 0;\n",
              "      width: 32px;\n",
              "    }\n",
              "\n",
              "    .colab-df-convert:hover {\n",
              "      background-color: #E2EBFA;\n",
              "      box-shadow: 0px 1px 2px rgba(60, 64, 67, 0.3), 0px 1px 3px 1px rgba(60, 64, 67, 0.15);\n",
              "      fill: #174EA6;\n",
              "    }\n",
              "\n",
              "    .colab-df-buttons div {\n",
              "      margin-bottom: 4px;\n",
              "    }\n",
              "\n",
              "    [theme=dark] .colab-df-convert {\n",
              "      background-color: #3B4455;\n",
              "      fill: #D2E3FC;\n",
              "    }\n",
              "\n",
              "    [theme=dark] .colab-df-convert:hover {\n",
              "      background-color: #434B5C;\n",
              "      box-shadow: 0px 1px 3px 1px rgba(0, 0, 0, 0.15);\n",
              "      filter: drop-shadow(0px 1px 2px rgba(0, 0, 0, 0.3));\n",
              "      fill: #FFFFFF;\n",
              "    }\n",
              "  </style>\n",
              "\n",
              "    <script>\n",
              "      const buttonEl =\n",
              "        document.querySelector('#df-b6aef1f9-6be2-4ce5-bfc0-945b07267c69 button.colab-df-convert');\n",
              "      buttonEl.style.display =\n",
              "        google.colab.kernel.accessAllowed ? 'block' : 'none';\n",
              "\n",
              "      async function convertToInteractive(key) {\n",
              "        const element = document.querySelector('#df-b6aef1f9-6be2-4ce5-bfc0-945b07267c69');\n",
              "        const dataTable =\n",
              "          await google.colab.kernel.invokeFunction('convertToInteractive',\n",
              "                                                    [key], {});\n",
              "        if (!dataTable) return;\n",
              "\n",
              "        const docLinkHtml = 'Like what you see? Visit the ' +\n",
              "          '<a target=\"_blank\" href=https://colab.research.google.com/notebooks/data_table.ipynb>data table notebook</a>'\n",
              "          + ' to learn more about interactive tables.';\n",
              "        element.innerHTML = '';\n",
              "        dataTable['output_type'] = 'display_data';\n",
              "        await google.colab.output.renderOutput(dataTable, element);\n",
              "        const docLink = document.createElement('div');\n",
              "        docLink.innerHTML = docLinkHtml;\n",
              "        element.appendChild(docLink);\n",
              "      }\n",
              "    </script>\n",
              "  </div>\n",
              "\n",
              "\n",
              "<div id=\"df-1897039b-eb83-4bda-bad2-49ca3873540b\">\n",
              "  <button class=\"colab-df-quickchart\" onclick=\"quickchart('df-1897039b-eb83-4bda-bad2-49ca3873540b')\"\n",
              "            title=\"Suggest charts\"\n",
              "            style=\"display:none;\">\n",
              "\n",
              "<svg xmlns=\"http://www.w3.org/2000/svg\" height=\"24px\"viewBox=\"0 0 24 24\"\n",
              "     width=\"24px\">\n",
              "    <g>\n",
              "        <path d=\"M19 3H5c-1.1 0-2 .9-2 2v14c0 1.1.9 2 2 2h14c1.1 0 2-.9 2-2V5c0-1.1-.9-2-2-2zM9 17H7v-7h2v7zm4 0h-2V7h2v10zm4 0h-2v-4h2v4z\"/>\n",
              "    </g>\n",
              "</svg>\n",
              "  </button>\n",
              "\n",
              "<style>\n",
              "  .colab-df-quickchart {\n",
              "      --bg-color: #E8F0FE;\n",
              "      --fill-color: #1967D2;\n",
              "      --hover-bg-color: #E2EBFA;\n",
              "      --hover-fill-color: #174EA6;\n",
              "      --disabled-fill-color: #AAA;\n",
              "      --disabled-bg-color: #DDD;\n",
              "  }\n",
              "\n",
              "  [theme=dark] .colab-df-quickchart {\n",
              "      --bg-color: #3B4455;\n",
              "      --fill-color: #D2E3FC;\n",
              "      --hover-bg-color: #434B5C;\n",
              "      --hover-fill-color: #FFFFFF;\n",
              "      --disabled-bg-color: #3B4455;\n",
              "      --disabled-fill-color: #666;\n",
              "  }\n",
              "\n",
              "  .colab-df-quickchart {\n",
              "    background-color: var(--bg-color);\n",
              "    border: none;\n",
              "    border-radius: 50%;\n",
              "    cursor: pointer;\n",
              "    display: none;\n",
              "    fill: var(--fill-color);\n",
              "    height: 32px;\n",
              "    padding: 0;\n",
              "    width: 32px;\n",
              "  }\n",
              "\n",
              "  .colab-df-quickchart:hover {\n",
              "    background-color: var(--hover-bg-color);\n",
              "    box-shadow: 0 1px 2px rgba(60, 64, 67, 0.3), 0 1px 3px 1px rgba(60, 64, 67, 0.15);\n",
              "    fill: var(--button-hover-fill-color);\n",
              "  }\n",
              "\n",
              "  .colab-df-quickchart-complete:disabled,\n",
              "  .colab-df-quickchart-complete:disabled:hover {\n",
              "    background-color: var(--disabled-bg-color);\n",
              "    fill: var(--disabled-fill-color);\n",
              "    box-shadow: none;\n",
              "  }\n",
              "\n",
              "  .colab-df-spinner {\n",
              "    border: 2px solid var(--fill-color);\n",
              "    border-color: transparent;\n",
              "    border-bottom-color: var(--fill-color);\n",
              "    animation:\n",
              "      spin 1s steps(1) infinite;\n",
              "  }\n",
              "\n",
              "  @keyframes spin {\n",
              "    0% {\n",
              "      border-color: transparent;\n",
              "      border-bottom-color: var(--fill-color);\n",
              "      border-left-color: var(--fill-color);\n",
              "    }\n",
              "    20% {\n",
              "      border-color: transparent;\n",
              "      border-left-color: var(--fill-color);\n",
              "      border-top-color: var(--fill-color);\n",
              "    }\n",
              "    30% {\n",
              "      border-color: transparent;\n",
              "      border-left-color: var(--fill-color);\n",
              "      border-top-color: var(--fill-color);\n",
              "      border-right-color: var(--fill-color);\n",
              "    }\n",
              "    40% {\n",
              "      border-color: transparent;\n",
              "      border-right-color: var(--fill-color);\n",
              "      border-top-color: var(--fill-color);\n",
              "    }\n",
              "    60% {\n",
              "      border-color: transparent;\n",
              "      border-right-color: var(--fill-color);\n",
              "    }\n",
              "    80% {\n",
              "      border-color: transparent;\n",
              "      border-right-color: var(--fill-color);\n",
              "      border-bottom-color: var(--fill-color);\n",
              "    }\n",
              "    90% {\n",
              "      border-color: transparent;\n",
              "      border-bottom-color: var(--fill-color);\n",
              "    }\n",
              "  }\n",
              "</style>\n",
              "\n",
              "  <script>\n",
              "    async function quickchart(key) {\n",
              "      const quickchartButtonEl =\n",
              "        document.querySelector('#' + key + ' button');\n",
              "      quickchartButtonEl.disabled = true;  // To prevent multiple clicks.\n",
              "      quickchartButtonEl.classList.add('colab-df-spinner');\n",
              "      try {\n",
              "        const charts = await google.colab.kernel.invokeFunction(\n",
              "            'suggestCharts', [key], {});\n",
              "      } catch (error) {\n",
              "        console.error('Error during call to suggestCharts:', error);\n",
              "      }\n",
              "      quickchartButtonEl.classList.remove('colab-df-spinner');\n",
              "      quickchartButtonEl.classList.add('colab-df-quickchart-complete');\n",
              "    }\n",
              "    (() => {\n",
              "      let quickchartButtonEl =\n",
              "        document.querySelector('#df-1897039b-eb83-4bda-bad2-49ca3873540b button');\n",
              "      quickchartButtonEl.style.display =\n",
              "        google.colab.kernel.accessAllowed ? 'block' : 'none';\n",
              "    })();\n",
              "  </script>\n",
              "</div>\n",
              "\n",
              "    </div>\n",
              "  </div>\n"
            ],
            "application/vnd.google.colaboratory.intrinsic+json": {
              "type": "dataframe",
              "variable_name": "trustpilot_df",
              "summary": "{\n  \"name\": \"trustpilot_df\",\n  \"rows\": 16673,\n  \"fields\": [\n    {\n      \"column\": \"Review ID\",\n      \"properties\": {\n        \"dtype\": \"string\",\n        \"num_unique_values\": 16666,\n        \"samples\": [\n          \"662282d396e27e73e20e6680\",\n          \"65c5331e570298d5fcd7bc6d\",\n          \"6616e8431e8dcde7ea3bdb20\"\n        ],\n        \"semantic_type\": \"\",\n        \"description\": \"\"\n      }\n    },\n    {\n      \"column\": \"Review Created (UTC)\",\n      \"properties\": {\n        \"dtype\": \"date\",\n        \"min\": \"2023-05-16 23:05:00\",\n        \"max\": \"2024-05-09 23:29:00\",\n        \"num_unique_values\": 15332,\n        \"samples\": [\n          \"2023-12-25 16:34:00\",\n          \"2024-01-16 09:32:00\",\n          \"2023-06-01 14:08:00\"\n        ],\n        \"semantic_type\": \"\",\n        \"description\": \"\"\n      }\n    },\n    {\n      \"column\": \"Review Consumer User ID\",\n      \"properties\": {\n        \"dtype\": \"string\",\n        \"num_unique_values\": 16008,\n        \"samples\": [\n          \"60277bc7457b5300192f5a6f\",\n          \"60c0a8fa9217e1001a64f0cc\",\n          \"64a9c69a3bb7780012417297\"\n        ],\n        \"semantic_type\": \"\",\n        \"description\": \"\"\n      }\n    },\n    {\n      \"column\": \"Review Title\",\n      \"properties\": {\n        \"dtype\": \"string\",\n        \"num_unique_values\": 14229,\n        \"samples\": [\n          \"Welcoming, so friendly\",\n          \"Boss gym\",\n          \"Good gym , good prices\"\n        ],\n        \"semantic_type\": \"\",\n        \"description\": \"\"\n      }\n    },\n    {\n      \"column\": \"Review Content\",\n      \"properties\": {\n        \"dtype\": \"string\",\n        \"num_unique_values\": 16366,\n        \"samples\": [\n          \"I particularly enjoy the great classes\",\n          \"Love being a member of this gym ( Pure Gym Livingston)  Amazing atmosphere and friendly staff. Great place to relax and build the confidence \\ud83d\\udc4f\\ud83c\\udffb\\ud83d\\udc4f\\ud83c\\udffb\\ud83d\\udc4f\\ud83c\\udffb\",\n          \"Userfriendly App\"\n        ],\n        \"semantic_type\": \"\",\n        \"description\": \"\"\n      }\n    },\n    {\n      \"column\": \"Review Stars\",\n      \"properties\": {\n        \"dtype\": \"number\",\n        \"std\": 1,\n        \"min\": 1,\n        \"max\": 5,\n        \"num_unique_values\": 5,\n        \"samples\": [\n          1,\n          2,\n          4\n        ],\n        \"semantic_type\": \"\",\n        \"description\": \"\"\n      }\n    },\n    {\n      \"column\": \"Source Of Review\",\n      \"properties\": {\n        \"dtype\": \"category\",\n        \"num_unique_values\": 3,\n        \"samples\": [\n          \"AFSv2\",\n          \"BasicLink\",\n          \"Organic\"\n        ],\n        \"semantic_type\": \"\",\n        \"description\": \"\"\n      }\n    },\n    {\n      \"column\": \"Review Language\",\n      \"properties\": {\n        \"dtype\": \"category\",\n        \"num_unique_values\": 20,\n        \"samples\": [\n          \"en\",\n          \"ru\",\n          \"sv\"\n        ],\n        \"semantic_type\": \"\",\n        \"description\": \"\"\n      }\n    },\n    {\n      \"column\": \"Domain URL\",\n      \"properties\": {\n        \"dtype\": \"category\",\n        \"num_unique_values\": 1,\n        \"samples\": [\n          \"http://www.puregym.com\"\n        ],\n        \"semantic_type\": \"\",\n        \"description\": \"\"\n      }\n    },\n    {\n      \"column\": \"Webshop Name\",\n      \"properties\": {\n        \"dtype\": \"category\",\n        \"num_unique_values\": 1,\n        \"samples\": [\n          \"PureGym UK\"\n        ],\n        \"semantic_type\": \"\",\n        \"description\": \"\"\n      }\n    },\n    {\n      \"column\": \"Business Unit ID\",\n      \"properties\": {\n        \"dtype\": \"category\",\n        \"num_unique_values\": 1,\n        \"samples\": [\n          \"508df4ea00006400051dd7b1\"\n        ],\n        \"semantic_type\": \"\",\n        \"description\": \"\"\n      }\n    },\n    {\n      \"column\": \"Tags\",\n      \"properties\": {\n        \"dtype\": \"number\",\n        \"std\": null,\n        \"min\": null,\n        \"max\": null,\n        \"num_unique_values\": 0,\n        \"samples\": [],\n        \"semantic_type\": \"\",\n        \"description\": \"\"\n      }\n    },\n    {\n      \"column\": \"Company Reply Date (UTC)\",\n      \"properties\": {\n        \"dtype\": \"date\",\n        \"min\": \"2023-05-18 09:12:00\",\n        \"max\": \"2024-05-11 20:49:00\",\n        \"num_unique_values\": 8965,\n        \"samples\": [],\n        \"semantic_type\": \"\",\n        \"description\": \"\"\n      }\n    },\n    {\n      \"column\": \"Location Name\",\n      \"properties\": {\n        \"dtype\": \"category\",\n        \"num_unique_values\": 376,\n        \"samples\": [],\n        \"semantic_type\": \"\",\n        \"description\": \"\"\n      }\n    },\n    {\n      \"column\": \"Location ID\",\n      \"properties\": {\n        \"dtype\": \"category\",\n        \"num_unique_values\": 376,\n        \"samples\": [],\n        \"semantic_type\": \"\",\n        \"description\": \"\"\n      }\n    }\n  ]\n}"
            }
          },
          "metadata": {},
          "execution_count": 10
        }
      ]
    },
    {
      "cell_type": "markdown",
      "source": [
        "\n",
        "### Key Observations:\n",
        "- **Google Reviews Dataset**:\n",
        "  - Contains relevant columns: `Club's Name`, `Creation Date`, `Comment`, `Overall Score`.\n",
        "  - Missing values in the `Comment` column (e.g., NaN).\n",
        "  - Anonymised user details (`Customer Name` and `SurveyID`).\n",
        "\n",
        "- **Trustpilot Reviews Dataset**:\n",
        "  - Contains `Review Content`, `Review Stars`, and `Location Name`.\n",
        "  - Additional metadata like `Review Title`, `Company Reply Date (UTC)`, and `Tags`, which can be ignored.\n",
        "  - Some null values, particularly in `Company Reply Date` and possibly in review content."
      ],
      "metadata": {
        "id": "fB6ppGNVQ71R"
      }
    },
    {
      "cell_type": "markdown",
      "source": [
        "## 2.2 Drop Irrelevant Columns and Handle Missing Values"
      ],
      "metadata": {
        "id": "hsSWJM6r6weE"
      }
    },
    {
      "cell_type": "code",
      "source": [
        "# Drop irrelevant columns for Google Reviews dataset\n",
        "google_df = google_df.drop(\n",
        "    columns=[\n",
        "        \"Customer Name\",\n",
        "        \"SurveyID for external use (e.g. tech support)\",\n",
        "        \"Social Media Source\"\n",
        "    ]\n",
        ")\n",
        "\n",
        "# Drop irrelevant columns for Trustpilot Reviews dataset\n",
        "trustpilot_df = trustpilot_df.drop(\n",
        "    columns=[\n",
        "        \"Review ID\",\n",
        "        \"Review Consumer User ID\",\n",
        "        \"Source Of Review\",\n",
        "        \"Review Language\",\n",
        "        \"Domain URL\",\n",
        "        \"Webshop Name\",\n",
        "        \"Business Unit ID\",\n",
        "        \"Tags\",\n",
        "        \"Company Reply Date (UTC)\",\n",
        "        \"Location ID\"\n",
        "    ]\n",
        ")\n",
        "\n",
        "# Drop rows with missing values in critical columns\n",
        "google_df_cleaned = google_df.dropna(subset=[\"Comment\"])\n",
        "trustpilot_df_cleaned = trustpilot_df.dropna(subset=[\"Review Content\"])\n",
        "\n",
        "# Display the shape of the cleaned datasets to verify the changes\n",
        "print(f\"Google Reviews dataset shape after cleaning: {google_df_cleaned.shape}\")\n",
        "print(f\"Trustpilot Reviews dataset shape after cleaning: {trustpilot_df_cleaned.shape}\")\n"
      ],
      "metadata": {
        "colab": {
          "base_uri": "https://localhost:8080/"
        },
        "id": "XST4rY_n6zeY",
        "outputId": "3204ba55-ae95-444a-b769-e001cf9ccb4d"
      },
      "execution_count": 11,
      "outputs": [
        {
          "output_type": "stream",
          "name": "stdout",
          "text": [
            "Google Reviews dataset shape after cleaning: (13898, 4)\n",
            "Trustpilot Reviews dataset shape after cleaning: (16673, 5)\n"
          ]
        }
      ]
    },
    {
      "cell_type": "markdown",
      "source": [
        "### 2.2.1 Checkpoint Save"
      ],
      "metadata": {
        "id": "cLPTpiHxEOZo"
      }
    },
    {
      "cell_type": "code",
      "source": [
        "# Save cleaned datasets as Google_cleaned.csv and Trustpilot_cleaned.csv\n",
        "google_df.to_csv('Google_cleaned.csv', index=False)\n",
        "trustpilot_df.to_csv('Trustpilot_cleaned.csv', index=False)\n",
        "\n",
        "print(\"Checkpoint Save: Cleaned datasets saved as 'Google_cleaned.csv' and 'Trustpilot_cleaned.csv'\")\n"
      ],
      "metadata": {
        "colab": {
          "base_uri": "https://localhost:8080/"
        },
        "id": "q56tM5XxER0H",
        "outputId": "6135f4cf-88ba-47f0-cc7e-7e69da2ebdbd"
      },
      "execution_count": 12,
      "outputs": [
        {
          "output_type": "stream",
          "name": "stdout",
          "text": [
            "Checkpoint Save: Cleaned datasets saved as 'Google_cleaned.csv' and 'Trustpilot_cleaned.csv'\n"
          ]
        }
      ]
    },
    {
      "cell_type": "markdown",
      "source": [
        "## 2.3 Data Summary Statistics"
      ],
      "metadata": {
        "id": "GGqb_wOOBO1w"
      }
    },
    {
      "cell_type": "code",
      "source": [
        "# Include a section that provides summary statistics of the numerical fields and\n",
        "# a quick glance at data distributions (e.g., Overall Score for Google and Review Stars for Trustpilot).\n",
        "# This ensures you have an overview of the data quality and distribution.\n",
        "\n",
        "# Summary statistics for numerical fields\n",
        "print(\"Summary statistics for Google Reviews:\")\n",
        "print(google_df[['Overall Score']].describe())\n",
        "\n",
        "print(\"\\nSummary statistics for Trustpilot Reviews:\")\n",
        "print(trustpilot_df[['Review Stars']].describe())\n",
        "\n",
        "# Distribution plot for Google Reviews Overall Score\n",
        "plt.figure(figsize=(10, 5))\n",
        "sns.histplot(google_df['Overall Score'], bins=5, kde=True, color='blue')\n",
        "plt.title('Distribution of Overall Score (Google Reviews)')\n",
        "plt.xlabel('Overall Score')\n",
        "plt.ylabel('Frequency')\n",
        "plt.show()\n",
        "\n",
        "# Distribution plot for Trustpilot Reviews Review Stars\n",
        "plt.figure(figsize=(10, 5))\n",
        "sns.histplot(trustpilot_df['Review Stars'], bins=5, kde=True, color='green')\n",
        "plt.title('Distribution of Review Stars (Trustpilot Reviews)')\n",
        "plt.xlabel('Review Stars')\n",
        "plt.ylabel('Frequency')\n",
        "plt.show()\n"
      ],
      "metadata": {
        "colab": {
          "base_uri": "https://localhost:8080/",
          "height": 1000
        },
        "id": "rv7jSMAJBRZ3",
        "outputId": "357f2d5a-3bcd-410e-d9e2-7b4a3d7893b6"
      },
      "execution_count": 13,
      "outputs": [
        {
          "output_type": "stream",
          "name": "stdout",
          "text": [
            "Summary statistics for Google Reviews:\n",
            "       Overall Score\n",
            "count       23250.00\n",
            "mean            4.15\n",
            "std             1.30\n",
            "min             1.00\n",
            "25%             4.00\n",
            "50%             5.00\n",
            "75%             5.00\n",
            "max             5.00\n",
            "\n",
            "Summary statistics for Trustpilot Reviews:\n",
            "       Review Stars\n",
            "count      16673.00\n",
            "mean           3.86\n",
            "std            1.49\n",
            "min            1.00\n",
            "25%            3.00\n",
            "50%            5.00\n",
            "75%            5.00\n",
            "max            5.00\n"
          ]
        },
        {
          "output_type": "display_data",
          "data": {
            "text/plain": [
              "<Figure size 1000x500 with 1 Axes>"
            ],
            "image/png": "[encoded data removed]"
          },
          "metadata": {}
        },
        {
          "output_type": "display_data",
          "data": {
            "text/plain": [
              "<Figure size 1000x500 with 1 Axes>"
            ],
            "image/png": "[encoded data removed]"
          },
          "metadata": {}
        }
      ]
    },
    {
      "cell_type": "markdown",
      "source": [
        "In this section, I reviewed the distribution and summary statistics of the key numerical fields: **Overall Score** for Google Reviews and **Review Stars** for Trustpilot Reviews. The visualisations confirm that most reviews lean towards higher ratings, with the majority of scores being 4 or 5. The histograms and density plots reveal that both datasets exhibit positive skewness, highlighting overall customer satisfaction. However, there is a noticeable proportion of low scores, which will be critical for identifying areas of improvement. The summary statistics provide a useful snapshot of the data, showing a slightly higher average score for Google Reviews compared to Trustpilot Reviews."
      ],
      "metadata": {
        "id": "6qxfQpH2Srhz"
      }
    },
    {
      "cell_type": "markdown",
      "source": [
        "## 2.4 Missing Data Analysis"
      ],
      "metadata": {
        "id": "dcConBcxBU8c"
      }
    },
    {
      "cell_type": "code",
      "source": [
        "# While you are dropping rows with missing Comment or Review Content,\n",
        "# add a brief analysis showing the extent of missing data before the drop.\n",
        "# This can provide context for any biases introduced.\n",
        "\n",
        "# Check for missing values in both datasets before dropping rows\n",
        "google_missing = google_df.isnull().sum()\n",
        "trustpilot_missing = trustpilot_df.isnull().sum()\n",
        "\n",
        "print(\"Missing Data in Google Reviews Dataset:\")\n",
        "print(google_missing[google_missing > 0])\n",
        "\n",
        "print(\"\\nMissing Data in Trustpilot Reviews Dataset:\")\n",
        "print(trustpilot_missing[trustpilot_missing > 0])\n",
        "\n",
        "# Calculate the percentage of missing data for the Comment and Review Content columns\n",
        "google_missing_percentage = google_df['Comment'].isnull().mean() * 100\n",
        "trustpilot_missing_percentage = trustpilot_df['Review Content'].isnull().mean() * 100\n",
        "\n",
        "print(f\"\\nPercentage of missing 'Comment' in Google Reviews: {google_missing_percentage:.2f}%\")\n",
        "print(f\"Percentage of missing 'Review Content' in Trustpilot Reviews: {trustpilot_missing_percentage:.2f}%\")\n",
        "\n",
        "# Visualising missing data for context\n",
        "plt.figure(figsize=(10, 5))\n",
        "sns.barplot(x=['Google Reviews', 'Trustpilot Reviews'], y=[google_missing_percentage, trustpilot_missing_percentage], palette='viridis')\n",
        "plt.title('Percentage of Missing Textual Data in Both Datasets')\n",
        "plt.ylabel('Percentage of Missing Data')\n",
        "plt.show()\n"
      ],
      "metadata": {
        "colab": {
          "base_uri": "https://localhost:8080/",
          "height": 647
        },
        "id": "mu4QIlzBBXC7",
        "outputId": "f5286b02-ed71-4460-a9e8-04767f610b17"
      },
      "execution_count": 14,
      "outputs": [
        {
          "output_type": "stream",
          "name": "stdout",
          "text": [
            "Missing Data in Google Reviews Dataset:\n",
            "Comment    9352\n",
            "dtype: int64\n",
            "\n",
            "Missing Data in Trustpilot Reviews Dataset:\n",
            "Location Name    5350\n",
            "dtype: int64\n",
            "\n",
            "Percentage of missing 'Comment' in Google Reviews: 40.22%\n",
            "Percentage of missing 'Review Content' in Trustpilot Reviews: 0.00%\n"
          ]
        },
        {
          "output_type": "display_data",
          "data": {
            "text/plain": [
              "<Figure size 1000x500 with 1 Axes>"
            ],
            "image/png": "[encoded data removed]"
          },
          "metadata": {}
        }
      ]
    },
    {
      "cell_type": "markdown",
      "source": [
        "The high percentage of missing textual data in Google Reviews introduces a potential bias, as the analysis will primarily rely on the remaining reviews, which may not fully represent the customer experience. In contrast, Trustpilot’s missing Location Name will affect the granularity of location-specific insights but won't impact general textual analysis."
      ],
      "metadata": {
        "id": "0MfSyiWETKa7"
      }
    },
    {
      "cell_type": "markdown",
      "source": [
        "## 2.5 Data Validation"
      ],
      "metadata": {
        "id": "07PUa63cIVXu"
      }
    },
    {
      "cell_type": "code",
      "source": [
        "# Check for duplicate entries in Google Reviews\n",
        "google_duplicates = google_df.duplicated().sum()\n",
        "print(f\"Number of duplicate entries in Google Reviews: {google_duplicates}\")\n",
        "\n",
        "# Check for duplicate entries in Trustpilot Reviews\n",
        "trustpilot_duplicates = trustpilot_df.duplicated().sum()\n",
        "print(f\"Number of duplicate entries in Trustpilot Reviews: {trustpilot_duplicates}\")\n",
        "\n",
        "# If duplicates exist, drop them\n",
        "if google_duplicates > 0:\n",
        "    google_df = google_df.drop_duplicates()\n",
        "    print(f\"Duplicates removed from Google Reviews. New shape: {google_df.shape}\")\n",
        "\n",
        "if trustpilot_duplicates > 0:\n",
        "    trustpilot_df = trustpilot_df.drop_duplicates()\n",
        "    print(f\"Duplicates removed from Trustpilot Reviews. New shape: {trustpilot_df.shape}\")\n"
      ],
      "metadata": {
        "colab": {
          "base_uri": "https://localhost:8080/"
        },
        "id": "K9qB29rBIYgL",
        "outputId": "18243b25-9eae-4209-942f-8cb2ab82943b"
      },
      "execution_count": 15,
      "outputs": [
        {
          "output_type": "stream",
          "name": "stdout",
          "text": [
            "Number of duplicate entries in Google Reviews: 746\n",
            "Number of duplicate entries in Trustpilot Reviews: 7\n",
            "Duplicates removed from Google Reviews. New shape: (22504, 4)\n",
            "Duplicates removed from Trustpilot Reviews. New shape: (16666, 5)\n"
          ]
        }
      ]
    },
    {
      "cell_type": "markdown",
      "source": [
        "\n",
        "### Data Validation Summary:\n",
        "- **Google Reviews**:  \n",
        "  - Initially contained **746** duplicate entries.\n",
        "  - After removal, the dataset now has **22,504 rows** and **4 columns**.\n",
        "\n",
        "- **Trustpilot Reviews**:  \n",
        "  - Initially contained **7** duplicate entries.\n",
        "  - After removal, the dataset now has **16,666 rows** and **5 columns**.\n",
        "\n",
        "By eliminating duplicates, I've ensured the integrity of my analysis and avoided potential biases caused by redundant data."
      ],
      "metadata": {
        "id": "jaZOwk-YT6jk"
      }
    },
    {
      "cell_type": "code",
      "source": [
        "# Validate column names and data types for Google Reviews\n",
        "print(\"Google Reviews Dataset Column Names and Data Types:\")\n",
        "print(google_df.dtypes)\n",
        "print(\"\\n\")\n",
        "\n",
        "# Validate column names and data types for Trustpilot Reviews\n",
        "print(\"Trustpilot Reviews Dataset Column Names and Data Types:\")\n",
        "print(trustpilot_df.dtypes)\n"
      ],
      "metadata": {
        "colab": {
          "base_uri": "https://localhost:8080/"
        },
        "id": "rTL_WzTyIgB-",
        "outputId": "21108d15-6ddb-4372-d1bb-353567b51d2e"
      },
      "execution_count": 16,
      "outputs": [
        {
          "output_type": "stream",
          "name": "stdout",
          "text": [
            "Google Reviews Dataset Column Names and Data Types:\n",
            "Club's Name              object\n",
            "Creation Date    datetime64[ns]\n",
            "Comment                  object\n",
            "Overall Score             int64\n",
            "dtype: object\n",
            "\n",
            "\n",
            "Trustpilot Reviews Dataset Column Names and Data Types:\n",
            "Review Created (UTC)    datetime64[ns]\n",
            "Review Title                    object\n",
            "Review Content                  object\n",
            "Review Stars                     int64\n",
            "Location Name                   object\n",
            "dtype: object\n"
          ]
        }
      ]
    },
    {
      "cell_type": "markdown",
      "source": [
        "The data validation process confirmed that all column names and data types in both datasets were correctly formatted. For the Google Reviews dataset, I verified that textual fields like \"Club's Name\" and \"Comment\" were of type `object`, while the date-time field \"Creation Date\" and numerical \"Overall Score\" were correctly typed. Similarly, in the Trustpilot Reviews dataset, fields like \"Review Content\" and \"Location Name\" were also correctly identified as `object`, while the \"Review Created (UTC)\" and \"Review Stars\" fields were properly formatted as `datetime64` and `int64`, respectively. With everything in order, I’m now confident to proceed with further analysis without worrying about data type inconsistencies."
      ],
      "metadata": {
        "id": "f3VtU0bCUZ_H"
      }
    },
    {
      "cell_type": "markdown",
      "source": [
        "## 2.6 Outlier Detection\n"
      ],
      "metadata": {
        "id": "C9qwryD7KcXe"
      }
    },
    {
      "cell_type": "code",
      "source": [
        "# Identify potential outliers in numerical fields (e.g., Overall Score, Review Length).\n",
        "\n",
        "# Calculate review lengths\n",
        "google_df['Review Length'] = google_df['Comment'].apply(lambda x: len(str(x)))\n",
        "trustpilot_df['Review Length'] = trustpilot_df['Review Content'].apply(lambda x: len(str(x)))\n",
        "\n",
        "# Boxplot for Overall Score in Google Reviews\n",
        "plt.figure(figsize=(8, 4))\n",
        "sns.boxplot(x=google_df['Overall Score'])\n",
        "plt.title('Boxplot for Overall Score (Google Reviews)')\n",
        "plt.show()\n",
        "\n",
        "# Boxplot for Review Length in Google Reviews\n",
        "plt.figure(figsize=(8, 4))\n",
        "sns.boxplot(x=google_df['Review Length'])\n",
        "plt.title('Boxplot for Review Length (Google Reviews)')\n",
        "plt.show()\n",
        "\n",
        "# Boxplot for Review Stars in Trustpilot Reviews\n",
        "plt.figure(figsize=(8, 4))\n",
        "sns.boxplot(x=trustpilot_df['Review Stars'])\n",
        "plt.title('Boxplot for Review Stars (Trustpilot Reviews)')\n",
        "plt.show()\n",
        "\n",
        "# Boxplot for Review Length in Trustpilot Reviews\n",
        "plt.figure(figsize=(8, 4))\n",
        "sns.boxplot(x=trustpilot_df['Review Length'])\n",
        "plt.title('Boxplot for Review Length (Trustpilot Reviews)')\n",
        "plt.show()\n"
      ],
      "metadata": {
        "colab": {
          "base_uri": "https://localhost:8080/",
          "height": 1000
        },
        "id": "heMbMLHoKhKt",
        "outputId": "b804fae2-00d9-4ea4-ac6e-2c06779b393c"
      },
      "execution_count": 17,
      "outputs": [
        {
          "output_type": "display_data",
          "data": {
            "text/plain": [
              "<Figure size 800x400 with 1 Axes>"
            ],
            "image/png": "[encoded data removed]"
          },
          "metadata": {}
        },
        {
          "output_type": "display_data",
          "data": {
            "text/plain": [
              "<Figure size 800x400 with 1 Axes>"
            ],
            "image/png": "[encoded data removed]"
          },
          "metadata": {}
        },
        {
          "output_type": "display_data",
          "data": {
            "text/plain": [
              "<Figure size 800x400 with 1 Axes>"
            ],
            "image/png": "[encoded data removed]"
          },
          "metadata": {}
        },
        {
          "output_type": "display_data",
          "data": {
            "text/plain": [
              "<Figure size 800x400 with 1 Axes>"
            ],
            "image/png": "[encoded data removed]"
          },
          "metadata": {}
        }
      ]
    },
    {
      "cell_type": "markdown",
      "source": [
        "In my analysis, I focused on identifying outliers in both the Google and Trustpilot reviews datasets. For Google Reviews, I noticed that most overall scores were high, but there were distinct outliers at the lower end (scores of 1 and 2), indicating a cluster of dissatisfied customers. Similarly, in Trustpilot, most ratings were concentrated around higher scores, with a few low ratings standing out as potential areas of concern.\n",
        "\n",
        "When examining review length, I observed that while most reviews were relatively short, a small subset of both Google and Trustpilot reviews were significantly longer. These longer reviews likely contain detailed feedback or specific complaints, making them valuable for further analysis. By identifying these patterns, I can refine my focus on key customer segments and ensure the subsequent analysis, like topic modelling and sentiment analysis, targets the most impactful areas."
      ],
      "metadata": {
        "id": "U6RmmfRlVICl"
      }
    },
    {
      "cell_type": "markdown",
      "source": [
        "## 2.7 Data Balance Check"
      ],
      "metadata": {
        "id": "W4NzwRPdKoGA"
      }
    },
    {
      "cell_type": "code",
      "source": [
        "# Define thresholds for positive and negative reviews\n",
        "google_positive = google_df[google_df['Overall Score'] >= 4]\n",
        "google_negative = google_df[google_df['Overall Score'] < 3]\n",
        "\n",
        "trustpilot_positive = trustpilot_df[trustpilot_df['Review Stars'] >= 4]\n",
        "trustpilot_negative = trustpilot_df[trustpilot_df['Review Stars'] < 3]\n",
        "\n",
        "# Calculate the balance\n",
        "google_positive_count = len(google_positive)\n",
        "google_negative_count = len(google_negative)\n",
        "\n",
        "trustpilot_positive_count = len(trustpilot_positive)\n",
        "trustpilot_negative_count = len(trustpilot_negative)\n",
        "\n",
        "# Print the balance for each dataset\n",
        "print(\"Google Reviews - Positive Reviews:\", google_positive_count)\n",
        "print(\"Google Reviews - Negative Reviews:\", google_negative_count)\n",
        "print(\"Positive to Negative Ratio (Google): {:.2f}\".format(google_positive_count / google_negative_count))\n",
        "\n",
        "print(\"\\nTrustpilot Reviews - Positive Reviews:\", trustpilot_positive_count)\n",
        "print(\"Trustpilot Reviews - Negative Reviews:\", trustpilot_negative_count)\n",
        "print(\"Positive to Negative Ratio (Trustpilot): {:.2f}\".format(trustpilot_positive_count / trustpilot_negative_count))\n",
        "\n",
        "# Visualise the balance\n",
        "\n",
        "# Plot for Google Reviews\n",
        "plt.figure(figsize=(12, 5))\n",
        "plt.subplot(1, 2, 1)\n",
        "plt.bar(['Positive', 'Negative'], [google_positive_count, google_negative_count], color=['green', 'red'])\n",
        "plt.title('Review Balance - Google Reviews')\n",
        "plt.ylabel('Number of Reviews')\n",
        "\n",
        "# Plot for Trustpilot Reviews\n",
        "plt.subplot(1, 2, 2)\n",
        "plt.bar(['Positive', 'Negative'], [trustpilot_positive_count, trustpilot_negative_count], color=['green', 'red'])\n",
        "plt.title('Review Balance - Trustpilot Reviews')\n",
        "plt.ylabel('Number of Reviews')\n",
        "\n",
        "plt.tight_layout()\n",
        "plt.show()\n"
      ],
      "metadata": {
        "colab": {
          "base_uri": "https://localhost:8080/",
          "height": 632
        },
        "id": "mrAX1Pe3Krfl",
        "outputId": "0d211076-a180-4331-c7c4-234cfcd7236f"
      },
      "execution_count": 19,
      "outputs": [
        {
          "output_type": "stream",
          "name": "stdout",
          "text": [
            "Google Reviews - Positive Reviews: 17467\n",
            "Google Reviews - Negative Reviews: 3204\n",
            "Positive to Negative Ratio (Google): 5.45\n",
            "\n",
            "Trustpilot Reviews - Positive Reviews: 11414\n",
            "Trustpilot Reviews - Negative Reviews: 3541\n",
            "Positive to Negative Ratio (Trustpilot): 3.22\n"
          ]
        },
        {
          "output_type": "display_data",
          "data": {
            "text/plain": [
              "<Figure size 1200x500 with 2 Axes>"
            ],
            "image/png": "[encoded data removed]"
          },
          "metadata": {}
        }
      ]
    },
    {
      "cell_type": "markdown",
      "source": [
        "Based on my analysis, I found that the Google Reviews dataset contains 17,467 positive reviews and 3,204 negative reviews, giving a positive-to-negative ratio of 5.45. This means that for every negative review, there are about 5.45 positive ones, showing a strong lean toward positive sentiment on Google.\n",
        "\n",
        "In contrast, the Trustpilot dataset has 11,414 positive reviews and 3,541 negative reviews, with a positive-to-negative ratio of 3.22. While Trustpilot also shows a predominance of positive feedback, the ratio suggests a higher proportion of negative reviews compared to Google.\n",
        "\n",
        "These results indicate that Google reviewers tend to be more favorable in their feedback, while Trustpilot reviewers are slightly more critical. This could reflect differences in user demographics, expectations, or the way feedback is solicited on each platform. Moving forward, I’ll explore the specific factors driving negative reviews, which will help identify areas for improvement and provide actionable insights for PureGym."
      ],
      "metadata": {
        "id": "zX6HI8tgWGEG"
      }
    },
    {
      "cell_type": "markdown",
      "source": [
        "# 3. Initial Data Investigation"
      ],
      "metadata": {
        "id": "8FGvuu2165bA"
      }
    },
    {
      "cell_type": "markdown",
      "source": [
        "## 3.1 Count Unique Locations"
      ],
      "metadata": {
        "id": "t0t3qP2x7CEb"
      }
    },
    {
      "cell_type": "code",
      "source": [
        "# Count unique locations in Google Reviews dataset\n",
        "unique_google_locations = google_df[\"Club's Name\"].nunique()\n",
        "print(f\"Number of unique locations in Google Reviews: {unique_google_locations}\")\n",
        "\n",
        "# Count unique locations in Trustpilot Reviews dataset\n",
        "unique_trustpilot_locations = trustpilot_df[\"Location Name\"].nunique()\n",
        "print(f\"Number of unique locations in Trustpilot Reviews: {unique_trustpilot_locations}\")\n",
        "\n",
        "# Identify common locations between the two datasets\n",
        "common_locations = set(google_df[\"Club's Name\"]).intersection(set(trustpilot_df[\"Location Name\"]))\n",
        "print(f\"Number of common locations between the two datasets: {len(common_locations)}\")\n"
      ],
      "metadata": {
        "colab": {
          "base_uri": "https://localhost:8080/"
        },
        "id": "dlvKhvWh693-",
        "outputId": "048787d2-1f50-4145-8651-2b8c028fcf0c"
      },
      "execution_count": 20,
      "outputs": [
        {
          "output_type": "stream",
          "name": "stdout",
          "text": [
            "Number of unique locations in Google Reviews: 514\n",
            "Number of unique locations in Trustpilot Reviews: 376\n",
            "Number of common locations between the two datasets: 310\n"
          ]
        }
      ]
    },
    {
      "cell_type": "markdown",
      "source": [
        "\n",
        "I counted the number of unique gym locations in both datasets to gain an understanding of their coverage. The Google Reviews dataset contains 514 unique locations, while the Trustpilot dataset has 376 unique locations. Interestingly, 310 locations appear in both datasets, highlighting a significant overlap. This common set of locations provides a strong basis for cross-referencing customer feedback and identifying trends or issues that may be location-specific."
      ],
      "metadata": {
        "id": "Fc5fYswZWc16"
      }
    },
    {
      "cell_type": "markdown",
      "source": [
        "## 3.2 Identify Common Locations"
      ],
      "metadata": {
        "id": "B7e1yW047LQc"
      }
    },
    {
      "cell_type": "code",
      "source": [
        "# Extract unique location names from both datasets\n",
        "google_locations = set(google_df[\"Club's Name\"].unique())\n",
        "trustpilot_locations = set(trustpilot_df[\"Location Name\"].unique())\n",
        "\n",
        "# Identify common locations\n",
        "common_locations = google_locations.intersection(trustpilot_locations)\n",
        "print(f\"Number of common locations between the two datasets: {len(common_locations)}\")\n",
        "\n",
        "# Display a sample of common locations\n",
        "print(\"\\nSample of common locations:\")\n",
        "print(list(common_locations)[:10])  # Displaying first 10 common locations\n"
      ],
      "metadata": {
        "colab": {
          "base_uri": "https://localhost:8080/"
        },
        "id": "MyPgz_hA7Njy",
        "outputId": "2f50b09d-da9b-4be5-88e9-34edc51a0bea"
      },
      "execution_count": 22,
      "outputs": [
        {
          "output_type": "stream",
          "name": "stdout",
          "text": [
            "Number of common locations between the two datasets: 310\n",
            "\n",
            "Sample of common locations:\n",
            "['London Muswell Hill', 'Sutton Coldfield', 'Witney', 'Gloucester Retail Park', 'Coventry Bishop Street', 'Didcot', 'Sevenoaks', 'Bangor Wales', 'Exeter Bishops Court', 'Merthyr Tydfil']\n"
          ]
        }
      ]
    },
    {
      "cell_type": "markdown",
      "source": [
        "\n",
        "I identified a total of 310 common locations between the Google and Trustpilot reviews datasets. This overlap provides a significant opportunity to conduct comparative analyses across the two platforms. Some of the common locations include 'London Muswell Hill,' 'Sutton Coldfield,' 'Gloucester Retail Park,' and 'Merthyr Tydfil.' By focusing on these shared locations, I can gain deeper insights into customer sentiment and experiences from both review sources."
      ],
      "metadata": {
        "id": "Z3lQrwTvXGuO"
      }
    },
    {
      "cell_type": "markdown",
      "source": [
        "## 3.3 Text Preprocessing"
      ],
      "metadata": {
        "id": "HSKplfxJ7ROJ"
      }
    },
    {
      "cell_type": "code",
      "source": [
        "from collections import Counter\n",
        "from nltk.corpus import stopwords\n",
        "\n",
        "# Get English stopwords\n",
        "default_stopwords = set(stopwords.words('english'))\n",
        "\n",
        "# Define critical sentiment words to preserve\n",
        "critical_positive_words = {'good', 'well', 'nice', 'great', 'excellent', 'fantastic'}\n",
        "critical_negative_words = {'bad', 'poor', 'terrible', 'worst', 'disappointing', 'dirty', 'broken', 'crowded'}\n",
        "negation_words = {'not', 'never', 'don', 'don’t', 'isn’t', 'wasn’t', 'couldn’t', 'didn’t'}\n",
        "\n",
        "# Combine all critical words to preserve\n",
        "critical_words = critical_positive_words | critical_negative_words | negation_words\n",
        "\n",
        "# Modify stopword list to preserve critical words\n",
        "custom_stopwords = default_stopwords - critical_words\n",
        "\n",
        "# Identify most common words after stopwords removal\n",
        "google_word_counts = Counter(\" \".join(google_df['Processed_Comment']).split())\n",
        "trustpilot_word_counts = Counter(\" \".join(trustpilot_df['Processed_Review_Content']).split())\n",
        "\n",
        "# Display top 20 words\n",
        "print(\"Top 20 words in Google Reviews:\", google_word_counts.most_common(20))\n",
        "print(\"Top 20 words in Trustpilot Reviews:\", trustpilot_word_counts.most_common(20))\n"
      ],
      "metadata": {
        "id": "xqIjev43YBi1",
        "outputId": "aaf66ded-29ac-42a2-fdb6-c24f1ed8aa7b",
        "colab": {
          "base_uri": "https://localhost:8080/"
        }
      },
      "execution_count": 25,
      "outputs": [
        {
          "output_type": "stream",
          "name": "stdout",
          "text": [
            "Top 20 words in Google Reviews: [('equipment', 3608), ('great', 3555), ('good', 3451), ('staff', 2737), ('classes', 2311), ('clean', 1833), ('friendly', 1730), ('machines', 1704), ('always', 1691), ('really', 1525), ('people', 1477), ('get', 1453), ('one', 1415), ('class', 1364), ('place', 1358), ('time', 1304), ('like', 1259), ('busy', 1176), ('nice', 1119), ('would', 1041)]\n",
            "Top 20 words in Trustpilot Reviews: [('equipment', 4395), ('good', 4080), ('great', 3788), ('staff', 3569), ('clean', 2488), ('friendly', 2488), ('classes', 2258), ('easy', 2187), ('machines', 1754), ('really', 1749), ('use', 1676), ('get', 1665), ('always', 1582), ('time', 1522), ('one', 1489), ('like', 1387), ('would', 1378), ('people', 1345), ('pure', 1226), ('well', 1224)]\n"
          ]
        }
      ]
    },
    {
      "cell_type": "code",
      "source": [
        "# Download NLTK stopwords\n",
        "nltk.download('stopwords')\n",
        "nltk.download('punkt')\n",
        "\n",
        "# Define base stopwords and custom stopwords\n",
        "stop_words = set(stopwords.words('english'))\n",
        "\n",
        "# Define sentiment-specific stopwords to preserve\n",
        "negation_words = {'not', 'never', 'don', 'don’t', 'isn’t', 'wasn’t', 'couldn’t', 'didn’t'}\n",
        "negative_words = {'bad', 'poor', 'worst', 'terrible', 'disappointing', 'dirty', 'broken', 'crowded'}\n",
        "positive_words = {'good', 'great', 'excellent', 'amazing', 'fantastic', 'clean', 'friendly'}\n",
        "\n",
        "# Combine to preserve both positive and negative sentiment carriers\n",
        "preserve_words = negation_words | negative_words | positive_words\n",
        "\n",
        "# Custom domain-specific stopwords to remove\n",
        "custom_stopwords = {'gym', 'puregym', 'puregym.','PureGym'}\n",
        "\n",
        "# Final stopwords set: removing preserved sentiment words and adding custom stopwords\n",
        "final_stopwords = (stop_words - preserve_words) | custom_stopwords\n",
        "\n",
        "# Function for text preprocessing\n",
        "def preprocess_text(text):\n",
        "    if pd.isna(text):\n",
        "        return ''\n",
        "    # Lowercase the text\n",
        "    text = text.lower()\n",
        "    # Remove numbers\n",
        "    text = re.sub(r'\\d+', '', text)\n",
        "    # Remove punctuation and special characters\n",
        "    text = re.sub(r'[^\\w\\s]', '', text)\n",
        "    # Tokenize the text\n",
        "    tokens = word_tokenize(text)\n",
        "    # Remove stopwords\n",
        "    filtered_tokens = [word for word in tokens if word not in final_stopwords]\n",
        "    return ' '.join(filtered_tokens)\n",
        "\n",
        "# Apply preprocessing to Google and Trustpilot review texts\n",
        "google_df['Processed_Comment'] = google_df['Comment'].apply(preprocess_text)\n",
        "trustpilot_df['Processed_Review_Content'] = trustpilot_df['Review Content'].apply(preprocess_text)\n",
        "\n",
        "# Display sample of preprocessed data\n",
        "print(\"Sample preprocessed Google reviews:\")\n",
        "print(google_df[['Comment', 'Processed_Comment']].head(5))\n",
        "\n",
        "print(\"\\nSample preprocessed Trustpilot reviews:\")\n",
        "print(trustpilot_df[['Review Content', 'Processed_Review_Content']].head(5))\n"
      ],
      "metadata": {
        "colab": {
          "base_uri": "https://localhost:8080/"
        },
        "id": "D1HVbR2B7Tsf",
        "outputId": "e51356fe-db7e-4154-d848-c3675ffa4476"
      },
      "execution_count": 27,
      "outputs": [
        {
          "output_type": "stream",
          "name": "stderr",
          "text": [
            "[nltk_data] Downloading package stopwords to /root/nltk_data...\n",
            "[nltk_data]   Package stopwords is already up-to-date!\n",
            "[nltk_data] Downloading package punkt to /root/nltk_data...\n",
            "[nltk_data]   Package punkt is already up-to-date!\n"
          ]
        },
        {
          "output_type": "stream",
          "name": "stdout",
          "text": [
            "Sample preprocessed Google reviews:\n",
            "                                             Comment  \\\n",
            "0                                                NaN   \n",
            "1  Too many students from two local colleges go h...   \n",
            "2  Best range of equipment, cheaper than regular ...   \n",
            "3  Good gym when it’s not busy, tend to get too b...   \n",
            "4  (current member)\\n\\nGym is quite dirty, more o...   \n",
            "\n",
            "                                   Processed_Comment  \n",
            "0                                                     \n",
            "1  many students two local colleges go leave rubb...  \n",
            "2  best range equipment cheaper regular gyms prof...  \n",
            "3  good not busy tend get busy late afternoon har...  \n",
            "4  current member quite dirty often not theres so...  \n",
            "\n",
            "Sample preprocessed Trustpilot reviews:\n",
            "                                      Review Content  \\\n",
            "0                            A very good environment   \n",
            "1  I love to be part of this gym. Superb value fo...   \n",
            "2                      Extremely busy, no fresh air.   \n",
            "3                         Great vibes, fantastic gym   \n",
            "4             Clean, well managed, classes are good.   \n",
            "\n",
            "                            Processed_Review_Content  \n",
            "0                                   good environment  \n",
            "1  love part superb value money time day love app...  \n",
            "2                           extremely busy fresh air  \n",
            "3                              great vibes fantastic  \n",
            "4                    clean well managed classes good  \n"
          ]
        }
      ]
    },
    {
      "cell_type": "markdown",
      "source": [
        "The preprocessed reviews retain important sentiment-bearing words, such as “not” and “good,” which will be crucial for the sentiment analysis and topic modelling phases. Additionally, I’ve successfully removed domain-specific terms like “gym” and “PureGym” to ensure the data focuses on the core content of the reviews.\n",
        "\n",
        "Handling missing values has worked well, with empty reviews converted to blank strings, allowing the preprocessing pipeline to run smoothly. The retained tokens in both datasets reflect meaningful aspects of customer feedback, providing a good balance between preserving sentiment and reducing noise.\n"
      ],
      "metadata": {
        "id": "r8FmVy03aCzv"
      }
    },
    {
      "cell_type": "markdown",
      "source": [
        "### 3.3.1 Checkpoint Save"
      ],
      "metadata": {
        "id": "_bqKVIAhEaJX"
      }
    },
    {
      "cell_type": "code",
      "source": [
        "# Save preprocessed datasets as checkpoint files\n",
        "google_df[['Club\\'s Name', 'Creation Date', 'Processed_Comment']].to_csv('Google_preprocessed.csv', index=False)\n",
        "trustpilot_df[['Location Name', 'Review Created (UTC)', 'Processed_Review_Content']].to_csv('Trustpilot_preprocessed.csv', index=False)\n",
        "\n",
        "print(\"Checkpoint Save: Preprocessed datasets saved as 'Google_preprocessed.csv' and 'Trustpilot_preprocessed.csv'\")\n"
      ],
      "metadata": {
        "colab": {
          "base_uri": "https://localhost:8080/"
        },
        "id": "EYKkBlQPEc0w",
        "outputId": "ece63413-69c7-4c44-903b-a4b88ee2fe93"
      },
      "execution_count": 29,
      "outputs": [
        {
          "output_type": "stream",
          "name": "stdout",
          "text": [
            "Checkpoint Save: Preprocessed datasets saved as 'Google_preprocessed.csv' and 'Trustpilot_preprocessed.csv'\n"
          ]
        }
      ]
    },
    {
      "cell_type": "code",
      "source": [
        "# Load preprocessed datasets\n",
        "google_preprocessed = pd.read_csv('Google_preprocessed.csv')\n",
        "trustpilot_preprocessed = pd.read_csv('Trustpilot_preprocessed.csv')\n",
        "\n",
        "# Verify data\n",
        "print(google_preprocessed.head())\n",
        "print(trustpilot_preprocessed.head())\n"
      ],
      "metadata": {
        "id": "kMQKHgkJasdd",
        "outputId": "d0a2167b-bf1e-471a-8379-059e60ac5308",
        "colab": {
          "base_uri": "https://localhost:8080/"
        }
      },
      "execution_count": 30,
      "outputs": [
        {
          "output_type": "stream",
          "name": "stdout",
          "text": [
            "                         Club's Name        Creation Date  \\\n",
            "0            Leeds City Centre North  2024-05-09 23:49:18   \n",
            "1             Cambridge Leisure Park  2024-05-09 22:48:39   \n",
            "2                     London Holborn  2024-05-09 22:08:14   \n",
            "3  Cheshunt Brookfield Shopping Park  2024-05-09 21:58:07   \n",
            "4                 Bristol Union Gate  2024-05-09 21:48:00   \n",
            "\n",
            "                                   Processed_Comment  \n",
            "0                                                NaN  \n",
            "1  many students two local colleges go leave rubb...  \n",
            "2  best range equipment cheaper regular gyms prof...  \n",
            "3  good not busy tend get busy late afternoon har...  \n",
            "4  current member quite dirty often not theres so...  \n",
            "                Location Name Review Created (UTC)  \\\n",
            "0  Solihull Sears Retail Park  2024-05-09 23:29:00   \n",
            "1                   Aylesbury  2024-05-09 23:11:00   \n",
            "2         Sutton Times Square  2024-05-09 22:51:00   \n",
            "3             London Finchley  2024-05-09 22:35:00   \n",
            "4                    Crayford  2024-05-09 22:30:00   \n",
            "\n",
            "                            Processed_Review_Content  \n",
            "0                                   good environment  \n",
            "1  love part superb value money time day love app...  \n",
            "2                           extremely busy fresh air  \n",
            "3                              great vibes fantastic  \n",
            "4                    clean well managed classes good  \n"
          ]
        }
      ]
    },
    {
      "cell_type": "markdown",
      "source": [
        "## 3.4 Word Frequency Analysis"
      ],
      "metadata": {
        "id": "-Fb9YLKS7XKM"
      }
    },
    {
      "cell_type": "code",
      "source": [],
      "metadata": {
        "id": "zUk1Fxg77Zqy"
      },
      "execution_count": null,
      "outputs": []
    },
    {
      "cell_type": "markdown",
      "source": [
        "## 3.5 Visualise Top Words"
      ],
      "metadata": {
        "id": "FcvZaMKl7ei4"
      }
    },
    {
      "cell_type": "code",
      "source": [],
      "metadata": {
        "id": "PjK8jqKp7hIx"
      },
      "execution_count": null,
      "outputs": []
    },
    {
      "cell_type": "markdown",
      "source": [
        "## 3.6 Generate Word Clouds"
      ],
      "metadata": {
        "id": "dW9rOXTM7llo"
      }
    },
    {
      "cell_type": "code",
      "source": [],
      "metadata": {
        "id": "ITG8tcyg7omV"
      },
      "execution_count": null,
      "outputs": []
    },
    {
      "cell_type": "markdown",
      "source": [
        "### 3.6.1 Checkpoint Save"
      ],
      "metadata": {
        "id": "_8z6Mp3EEhDS"
      }
    },
    {
      "cell_type": "code",
      "source": [
        "# Save word frequency distributions as word_frequencies.pkl\n",
        "# and word cloud images as wordcloud_google.png, wordcloud_trustpilot.png"
      ],
      "metadata": {
        "id": "OBSZ2pKaEj81"
      },
      "execution_count": null,
      "outputs": []
    },
    {
      "cell_type": "markdown",
      "source": [
        "## 3.7 Handling Special Characters and Emojis"
      ],
      "metadata": {
        "id": "_oxnC_reBe1K"
      }
    },
    {
      "cell_type": "code",
      "source": [
        "# Many reviews might contain emojis or special characters.\n",
        "# Ensure they are either properly handled (e.g., converted to text) or\n",
        "# removed, depending on their significance."
      ],
      "metadata": {
        "id": "CrGBzGQNBhpC"
      },
      "execution_count": null,
      "outputs": []
    },
    {
      "cell_type": "markdown",
      "source": [
        "# 4. Filter Negative Reviews"
      ],
      "metadata": {
        "id": "AsSIh5gH7sNj"
      }
    },
    {
      "cell_type": "markdown",
      "source": [
        "## 4.1 Define Negative Reviews"
      ],
      "metadata": {
        "id": "zu--YPtq7xWI"
      }
    },
    {
      "cell_type": "code",
      "source": [],
      "metadata": {
        "id": "Y39ac-Dx7z8B"
      },
      "execution_count": null,
      "outputs": []
    },
    {
      "cell_type": "markdown",
      "source": [
        "### 4.1.1 Checkpoint Save\n",
        "\n"
      ],
      "metadata": {
        "id": "u3SlOkDiEohZ"
      }
    },
    {
      "cell_type": "code",
      "source": [
        "# Save negative reviews as Google_negative.csv and Trustpilot_negative.csv"
      ],
      "metadata": {
        "id": "A-CEBdMZEq_4"
      },
      "execution_count": null,
      "outputs": []
    },
    {
      "cell_type": "markdown",
      "source": [
        "## 4.2 Repeat Word Frequency and Word Cloud Analysis for Negative Reviews"
      ],
      "metadata": {
        "id": "mI3u2AIu78VH"
      }
    },
    {
      "cell_type": "code",
      "source": [],
      "metadata": {
        "id": "nTuMJpl28Ag5"
      },
      "execution_count": null,
      "outputs": []
    },
    {
      "cell_type": "markdown",
      "source": [
        "# 5. Initial Topic Modelling with BERTopic"
      ],
      "metadata": {
        "id": "VmF3z46h8Ex9"
      }
    },
    {
      "cell_type": "markdown",
      "source": [
        "## 5.1 Prepare Data from Common Locations"
      ],
      "metadata": {
        "id": "b16OVl4d8KUo"
      }
    },
    {
      "cell_type": "code",
      "source": [],
      "metadata": {
        "id": "8lEkF-KS8NHR"
      },
      "execution_count": null,
      "outputs": []
    },
    {
      "cell_type": "markdown",
      "source": [
        "## 5.2 Apply BERTopic"
      ],
      "metadata": {
        "id": "W70zgwdt8RgO"
      }
    },
    {
      "cell_type": "code",
      "source": [],
      "metadata": {
        "id": "YIbvZNkc8UCo"
      },
      "execution_count": null,
      "outputs": []
    },
    {
      "cell_type": "markdown",
      "source": [
        "### 5.2.1 Checkpoint Save"
      ],
      "metadata": {
        "id": "LFNNlEY8FB9G"
      }
    },
    {
      "cell_type": "code",
      "source": [
        "# Save BERTopic model as BERTopic_model_google.pkl and topic data as BERTopic_topics_google.csv"
      ],
      "metadata": {
        "id": "jWqGnxG_FEGl"
      },
      "execution_count": null,
      "outputs": []
    },
    {
      "cell_type": "markdown",
      "source": [
        "## 5.3 Visualise Topics and Clusters"
      ],
      "metadata": {
        "id": "fLvDzkTM8X7q"
      }
    },
    {
      "cell_type": "code",
      "source": [],
      "metadata": {
        "id": "wjaJvFiA_2F2"
      },
      "execution_count": null,
      "outputs": []
    },
    {
      "cell_type": "markdown",
      "source": [
        "### 5.3.1 Checkpoint Save:"
      ],
      "metadata": {
        "id": "pmZ_Ok9YFJch"
      }
    },
    {
      "cell_type": "code",
      "source": [
        "# Save interactive visualisation as bertopic_interactive_google.html"
      ],
      "metadata": {
        "id": "cr1dVWT1FLpw"
      },
      "execution_count": null,
      "outputs": []
    },
    {
      "cell_type": "markdown",
      "source": [
        "## 5.4 Topic Description Documentation"
      ],
      "metadata": {
        "id": "bUdbtIyj_2w-"
      }
    },
    {
      "cell_type": "markdown",
      "source": [
        "todo"
      ],
      "metadata": {
        "id": "e0lLnKixCLrJ"
      }
    },
    {
      "cell_type": "markdown",
      "source": [
        "## 5.5 Topic Coherence Score for BERTopic"
      ],
      "metadata": {
        "id": "FWbZiJchCEoI"
      }
    },
    {
      "cell_type": "code",
      "source": [
        "# Calculate coherence metrics (e.g., C_v, UCI) for BERTopic topics."
      ],
      "metadata": {
        "id": "KBBtRGyWCHyi"
      },
      "execution_count": null,
      "outputs": []
    },
    {
      "cell_type": "markdown",
      "source": [
        "todo"
      ],
      "metadata": {
        "id": "HxUTnzgZ_6XY"
      }
    },
    {
      "cell_type": "markdown",
      "source": [
        "# 6. Further Investigation"
      ],
      "metadata": {
        "id": "dkL3y2F_8fnc"
      }
    },
    {
      "cell_type": "markdown",
      "source": [
        "## 6.1 Identify Top 20 Locations with Negative Reviews\n"
      ],
      "metadata": {
        "id": "_NnWJE7B8lvu"
      }
    },
    {
      "cell_type": "code",
      "source": [],
      "metadata": {
        "id": "oIfqVUtN8omr"
      },
      "execution_count": null,
      "outputs": []
    },
    {
      "cell_type": "markdown",
      "source": [
        "## 6.2 Merge Datasets by Location and Summarise"
      ],
      "metadata": {
        "id": "RzzDxBxI8tN9"
      }
    },
    {
      "cell_type": "code",
      "source": [],
      "metadata": {
        "id": "abAVZmh_9AMc"
      },
      "execution_count": null,
      "outputs": []
    },
    {
      "cell_type": "markdown",
      "source": [
        "### 6.2.1 Checkpoint Save"
      ],
      "metadata": {
        "id": "Ltblk31aFSer"
      }
    },
    {
      "cell_type": "code",
      "source": [
        "# Save merged dataset as Merged_reviews.csv"
      ],
      "metadata": {
        "id": "PpFwFgNZFVGc"
      },
      "execution_count": null,
      "outputs": []
    },
    {
      "cell_type": "markdown",
      "source": [
        "## 6.3 Analyse Top 30 Locations"
      ],
      "metadata": {
        "id": "0MlVXaz-9Gbh"
      }
    },
    {
      "cell_type": "code",
      "source": [
        "# Redo word frequency, word clouds, and BERTopic for combined reviews.\n"
      ],
      "metadata": {
        "id": "3ZdeXqsc9NIx"
      },
      "execution_count": null,
      "outputs": []
    },
    {
      "cell_type": "markdown",
      "source": [
        "### 6.3.1 Checkpoint Save"
      ],
      "metadata": {
        "id": "IQUfesfFFdFP"
      }
    },
    {
      "cell_type": "code",
      "source": [
        "# Save word frequencies for top 30 locations as Top30_word_frequencies.pkl"
      ],
      "metadata": {
        "id": "6XEeo4HTFfd8"
      },
      "execution_count": null,
      "outputs": []
    },
    {
      "cell_type": "markdown",
      "source": [
        "## 6.4 Location-Specific Insights"
      ],
      "metadata": {
        "id": "YOHQ2_q6ABZl"
      }
    },
    {
      "cell_type": "code",
      "source": [
        "# For the top 5 locations with the highest negative reviews,\n",
        "# consider providing a more detailed breakdown of customer complaints or concerns."
      ],
      "metadata": {
        "id": "cg_tNfO4AGR2"
      },
      "execution_count": null,
      "outputs": []
    },
    {
      "cell_type": "markdown",
      "source": [
        "## 6.5 Sentiment Analysis by Location"
      ],
      "metadata": {
        "id": "iirC3njdCTRk"
      }
    },
    {
      "cell_type": "code",
      "source": [
        "# Add an aggregated sentiment score for each location to see how sentiment varies geographically.\n",
        "# This could complement your analysis of locations with the highest negative reviews."
      ],
      "metadata": {
        "id": "vFefIUhCCX_R"
      },
      "execution_count": null,
      "outputs": []
    },
    {
      "cell_type": "markdown",
      "source": [
        "# 7. Emotion Analysis with BERT"
      ],
      "metadata": {
        "id": "bnWQN48v9VJW"
      }
    },
    {
      "cell_type": "markdown",
      "source": [
        "## 7.1 Set Up Emotion Classifier"
      ],
      "metadata": {
        "id": "z0YTk4cp9bu1"
      }
    },
    {
      "cell_type": "code",
      "source": [],
      "metadata": {
        "id": "pWjmXCX69ecx"
      },
      "execution_count": null,
      "outputs": []
    },
    {
      "cell_type": "markdown",
      "source": [
        "## 7.2 Classify Emotions in Reviews"
      ],
      "metadata": {
        "id": "V_jlvJaS9jUZ"
      }
    },
    {
      "cell_type": "code",
      "source": [],
      "metadata": {
        "id": "L-tdjANg9m3g"
      },
      "execution_count": null,
      "outputs": []
    },
    {
      "cell_type": "markdown",
      "source": [
        "### 7.2.1 Checkpoint Save"
      ],
      "metadata": {
        "id": "_YaMm7nzFkaC"
      }
    },
    {
      "cell_type": "code",
      "source": [
        "# Save emotion-labelled data as Emotion_analysis.csv"
      ],
      "metadata": {
        "id": "XB1MbXFhFmpi"
      },
      "execution_count": null,
      "outputs": []
    },
    {
      "cell_type": "markdown",
      "source": [
        "## 7.3 Visualise Emotion Distribution"
      ],
      "metadata": {
        "id": "UinKBYLA9qSo"
      }
    },
    {
      "cell_type": "code",
      "source": [],
      "metadata": {
        "id": "uPgjEF4m9wAQ"
      },
      "execution_count": null,
      "outputs": []
    },
    {
      "cell_type": "markdown",
      "source": [
        "## 7.4 Filter Angry Reviews and Apply BERTopic"
      ],
      "metadata": {
        "id": "Iiomrbdm9wjr"
      }
    },
    {
      "cell_type": "code",
      "source": [],
      "metadata": {
        "id": "rPHpq87e9155"
      },
      "execution_count": null,
      "outputs": []
    },
    {
      "cell_type": "markdown",
      "source": [
        "### 7.4.1 Checkpoint Save"
      ],
      "metadata": {
        "id": "807WkVj6FsQP"
      }
    },
    {
      "cell_type": "code",
      "source": [
        "# Save filtered angry reviews as Angry_reviews.csv and BERTopic output as BERTopic_angry.pkl."
      ],
      "metadata": {
        "id": "xCj9GT1GFu96"
      },
      "execution_count": null,
      "outputs": []
    },
    {
      "cell_type": "markdown",
      "source": [
        "# 8. Advanced Topic Modelling with Falcon-7b-Instruct"
      ],
      "metadata": {
        "id": "gPgZAQj892X7"
      }
    },
    {
      "cell_type": "markdown",
      "source": [
        "## 8.1 Set Up Falcon-7b-Instruct for Topic Extraction"
      ],
      "metadata": {
        "id": "PsmNR2oC98xz"
      }
    },
    {
      "cell_type": "code",
      "source": [],
      "metadata": {
        "id": "-Lbv0Xby95St"
      },
      "execution_count": null,
      "outputs": []
    },
    {
      "cell_type": "markdown",
      "source": [
        "## 8.2 Extract Topics with Prompt"
      ],
      "metadata": {
        "id": "9Nzk0oI7-DtX"
      }
    },
    {
      "cell_type": "code",
      "source": [],
      "metadata": {
        "id": "3Wyu_P0u-GH0"
      },
      "execution_count": null,
      "outputs": []
    },
    {
      "cell_type": "markdown",
      "source": [
        "### 8.2.1 Checkpoint Save"
      ],
      "metadata": {
        "id": "CHlvJfTfF2Rh"
      }
    },
    {
      "cell_type": "code",
      "source": [
        "# Save extracted topics as Falcon_topics.csv"
      ],
      "metadata": {
        "id": "235IJ-hAF4_N"
      },
      "execution_count": null,
      "outputs": []
    },
    {
      "cell_type": "markdown",
      "source": [
        "## 8.3 Generate Actionable Insights"
      ],
      "metadata": {
        "id": "ldZK5xrt-JAy"
      }
    },
    {
      "cell_type": "code",
      "source": [],
      "metadata": {
        "id": "oCUSqRrq-OF3"
      },
      "execution_count": null,
      "outputs": []
    },
    {
      "cell_type": "markdown",
      "source": [
        "### 8.3.1 Checkpoint Save"
      ],
      "metadata": {
        "id": "cCCgbMpDF9oH"
      }
    },
    {
      "cell_type": "code",
      "source": [
        "# Save actionable insights as Actionable_insights.csv"
      ],
      "metadata": {
        "id": "uoG5knIUGA70"
      },
      "execution_count": null,
      "outputs": []
    },
    {
      "cell_type": "markdown",
      "source": [
        "## 8.4 Compare Falcon-7b-Instruct Insights to Previous Analysis"
      ],
      "metadata": {
        "id": "vS4BoZReATL3"
      }
    },
    {
      "cell_type": "code",
      "source": [
        "# After generating actionable insights using Falcon-7b-Instruct,\n",
        "# compare these insights with earlier results from BERTopic and emotion analysis.\n",
        "# Highlight any new or refined suggestions.\n"
      ],
      "metadata": {
        "id": "1C1jgRiAAWDy"
      },
      "execution_count": null,
      "outputs": []
    },
    {
      "cell_type": "markdown",
      "source": [
        "## 8.5 Efficiency and Execution Time"
      ],
      "metadata": {
        "id": "ep4RSgxjCkL7"
      }
    },
    {
      "cell_type": "code",
      "source": [
        "# Document execution times for running Falcon-7b-Instruct, especially\n",
        "# if you use a subset of reviews. This demonstrates awareness of computational costs and efficiency considerations."
      ],
      "metadata": {
        "id": "UEWwuwcNCmhw"
      },
      "execution_count": null,
      "outputs": []
    },
    {
      "cell_type": "markdown",
      "source": [
        "# 9. Topic Modelling with Gensim LDA"
      ],
      "metadata": {
        "id": "mhkkLOXu-O9l"
      }
    },
    {
      "cell_type": "markdown",
      "source": [
        "## 9.1 Preprocess Data for LDA"
      ],
      "metadata": {
        "id": "aWWj_lso-WcO"
      }
    },
    {
      "cell_type": "code",
      "source": [],
      "metadata": {
        "id": "AQJGyg2P-SKp"
      },
      "execution_count": null,
      "outputs": []
    },
    {
      "cell_type": "markdown",
      "source": [
        "## 9.2 Apply LDA and Visualise Topics"
      ],
      "metadata": {
        "id": "yHnlQqc_-fL-"
      }
    },
    {
      "cell_type": "code",
      "source": [],
      "metadata": {
        "id": "KeLXA-QY-iTn"
      },
      "execution_count": null,
      "outputs": []
    },
    {
      "cell_type": "markdown",
      "source": [
        "### 9.2.1 Checkpoint Save"
      ],
      "metadata": {
        "id": "o6gbFB6WGInG"
      }
    },
    {
      "cell_type": "code",
      "source": [
        "# Save LDA model as LDA_model.pkl and topic data as LDA_topics.csv"
      ],
      "metadata": {
        "id": "G_sMpRpnGMAn"
      },
      "execution_count": null,
      "outputs": []
    },
    {
      "cell_type": "markdown",
      "source": [
        "## 9.3 Compare LDA Results with BERTopic"
      ],
      "metadata": {
        "id": "cVzFkYe0Ahad"
      }
    },
    {
      "cell_type": "code",
      "source": [
        "# Explicitly mention how the LDA results compare to BERTopic,\n",
        "# particularly if they highlight different or similar themes."
      ],
      "metadata": {
        "id": "uccc9BnRAjss"
      },
      "execution_count": null,
      "outputs": []
    },
    {
      "cell_type": "markdown",
      "source": [
        "## 9.4 Hyperparameter Tuning for LDA"
      ],
      "metadata": {
        "id": "63tckwJhCyTO"
      }
    },
    {
      "cell_type": "code",
      "source": [
        "# Briefly experiment with different numbers of topics and evaluate their coherence scores.\n",
        "# This ensures the optimal number of topics for comparison with BERTopic.\n"
      ],
      "metadata": {
        "id": "33ZffELFC0b1"
      },
      "execution_count": null,
      "outputs": []
    },
    {
      "cell_type": "markdown",
      "source": [
        "# 10. Conclusion"
      ],
      "metadata": {
        "id": "RS_G-QLV-mEK"
      }
    },
    {
      "cell_type": "markdown",
      "source": [
        "## 10.1 Summarise Insights"
      ],
      "metadata": {
        "id": "A2bleDIN-qW8"
      }
    },
    {
      "cell_type": "markdown",
      "source": [
        "todo"
      ],
      "metadata": {
        "id": "Ctst6HKD-s0H"
      }
    },
    {
      "cell_type": "markdown",
      "source": [
        "## 10.2 Highlight Recommendations"
      ],
      "metadata": {
        "id": "Q_Znvwx3-xGt"
      }
    },
    {
      "cell_type": "markdown",
      "source": [
        "todo"
      ],
      "metadata": {
        "id": "L89yGKiz-1pk"
      }
    },
    {
      "cell_type": "markdown",
      "source": [
        "## 10.3 Reflection on NLP Techniques"
      ],
      "metadata": {
        "id": "PFhmnbyBAu2y"
      }
    },
    {
      "cell_type": "markdown",
      "source": [
        "Briefly reflect on the strengths and limitations of the NLP techniques (BERTopic, Gensim LDA, BERT, Falcon-7b) used in the project. This will showcase your ability to critically evaluate the methods."
      ],
      "metadata": {
        "id": "VTwe2FXiAz4L"
      }
    },
    {
      "cell_type": "markdown",
      "source": [
        "## 10.4 Actionable Recommendations Summary"
      ],
      "metadata": {
        "id": "vk55eQ1FC_wV"
      }
    },
    {
      "cell_type": "markdown",
      "source": [
        "Summarise actionable insights in bullet points or a table, making it easier for stakeholders to grasp key takeaways at a glance."
      ],
      "metadata": {
        "id": "qGgvO6TBDEMO"
      }
    }
  ]
}