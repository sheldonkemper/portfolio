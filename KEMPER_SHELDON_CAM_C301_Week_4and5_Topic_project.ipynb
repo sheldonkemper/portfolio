{
  "nbformat": 4,
  "nbformat_minor": 0,
  "metadata": {
    "colab": {
      "provenance": [],
      "include_colab_link": true
    },
    "kernelspec": {
      "name": "python3",
      "display_name": "Python 3"
    },
    "language_info": {
      "name": "python"
    }
  },
  "cells": [
    {
      "cell_type": "markdown",
      "metadata": {
        "id": "view-in-github",
        "colab_type": "text"
      },
      "source": [
        "<a href=\"https://colab.research.google.com/github/sheldonkemper/portfolio/blob/main/KEMPER_SHELDON_CAM_C301_Week_4and5_Topic_project.ipynb\" target=\"_parent\"><img src=\"https://colab.research.google.com/assets/colab-badge.svg\" alt=\"Open In Colab\"/></a>"
      ]
    },
    {
      "cell_type": "markdown",
      "source": [
        "# Topic project 4.1 Applying NLP for topic modelling in a real-life context\n",
        "\n",
        "**Welcome to your topic project: Applying NLP for topic modelling in a real-life context**\n",
        "\n",
        "In this project, you will bridge the gap between theory and practical application by developing automated topic modelling tools tailored to a specific industry context.\n",
        "\n",
        "\n",
        "Applying NLP for topic modelling is crucial for data analysis in business because it enables companies to identify and understand key themes and patterns within large volumes of text data. This efficiency allows businesses to extract essential insights and trends without manually sifting through extensive documents. Automated topic modelling helps businesses make informed decisions faster, which helps to improve productivity and gain a competitive edge. Additionally, it supports better information management by uncovering underlying topics in reports, emails, customer feedback, and market research, which enhances overall business intelligence and strategic planning.\n",
        "\n",
        "\n",
        "\n",
        "\n",
        "Please set aside approximately **19 hours** to complete the topic project by **Thursday, 22 August at 5 p.m. (UK Time)**.\n",
        "\n",
        "<br>\n",
        "\n",
        "## **Business context**\n",
        "\n",
        "The PureGym Group, founded in 2008, has approximately 2 million members and 600 gyms across the world (particularly in the UK, Denmark, and Switzerland). As one of the world’s largest value fitness operators, PureGym appeals to a broad range of customers by offering high-quality, low-cost, and flexible fitness facilities. The company’s customer-centric proposition – affordable membership fees, no fixed-term contracts, and 24/7 access to high-quality gyms – differentiates it from more traditional gyms and elevates it as a market leader within this space.\n",
        "\n",
        "This focus on the customer is centred on wanting to understand what motivates members to join and what factors influence their behaviours once they have joined. Understanding how to leverage innovative technology to influence, improve, and simplify their experience allows PureGym to foster an open, welcoming, and diverse environment for its members while maintaining the value proposition that PureGym is built upon.\n",
        "\n",
        "With the shift in focus to value-for-money memberships across the gym industry, PureGym seeks to achieve its mission of ‘inspiring a healthier world by providing members with affordable access to the benefits being healthy can offer’.\n",
        "\n",
        "\n",
        "<br></br>\n",
        "\n",
        "## **Objective**\n",
        "\n",
        "By the end of this topic project, you will have analysed PureGym's review data to uncover key drivers that provide actionable insights for enhancing customer experience.\n",
        "\n",
        "In the Notebook, you will:\n",
        "\n",
        "- Use two data sets containing customer reviews from Google and Trustpilot.\n",
        "- Perform basic level analysis by finding the frequently used words in both data sets.\n",
        "- Generate a wordcloud to visualise the most frequently used words in the reviews.\n",
        "- Apply BERTopic for topic modelling, keeping track of gym locations, to identify common topics and words in the negative reviews.\n",
        "- Identify the locations that have the most negative reviews.\n",
        "- Use the built-in visualisation functions in BERTopic to cluster and visually represent the topics and words in these reviews, thereby helping to identify specific themes from the reviews.\n",
        "- Conduct a comparison with Gensim’s LDA model to validate the topic modelling results.\n",
        "- Perform emotion analysis to identify the emotions associated with customer reviews.\n",
        "- Filter out angry reviews and apply BERTopic to discover prevalent topics and words being discussed these negative reviews.\n",
        "- Leverage the multi-purpose capability of the state-of-the-art Falcon-7b-instruct model, with the help of prompts, to identify top topics in each review.\n",
        "- Use a different prompt with the Falcon-7b-instruct model to further generate suggestions for improvements for PureGym, based on the top topics identified from the negative reviews.\n",
        "\n",
        "\n",
        "You will also write a report summarising the results of your findings and recommendations.\n",
        "\n",
        "\n",
        "<br></br>\n",
        "\n",
        "## **Assessment criteria**\n",
        "By completing this project, you will be able to provide evidence that you can:\n",
        "\n",
        "- Investigate real-world data to find potential trends for deeper investigation.\n",
        "-Preprocess and refine textual data for visualisations.\n",
        "-Apply topic modelling using various techniques.\n",
        "-Apply emotion analysis using BERT.\n",
        "-Evaluate the outcomes of your investigation.\n",
        "-Communicate actionable insights.\n",
        "\n",
        "\n",
        "\n",
        "<br></br>\n",
        "\n",
        "## **Project guidance**\n",
        "\n",
        "**Import packages and data:**\n",
        "1. 1. Import the data set with the provided URL:\n",
        "  - Data set's Drive link: https://drive.google.com/drive/folders/1azch13dtGeAkbnEjqeoyl3nU9jheojU4\n",
        "2. Import the data file **Google_12_months.xlsx** into a dataframe.\n",
        "3. Import the data file **Trustpilot_12_months.xslx** into a dataframe.\n",
        "4. Remove any rows with missing values in the Comment column (Google review) and Review Content column (Trustpilot).\n",
        "\n",
        "\n",
        "**Conducting initial data investigation:**\n",
        "\n",
        "1. - Find the number of unique locations in the Google data set.\n",
        "  \n",
        "  - Find the number of unique locations in the Trustpilot data set.\n",
        "  \n",
        "  - Use Club's Name for the Google data set.\n",
        "  \n",
        "  - Use Location Name for the Trustpilot data set.\n",
        "2. Find the number of common locations between the Google data set and the Trustpilot data set.\n",
        "3. Perform preprocessing of the data – change to lower case, remove stopwords using NLTK, and remove numbers.\n",
        "4. Tokenise the data using word_tokenize from NLTK.\n",
        "5. Find the frequency distribution of the words from each data set's reviews separately. You can use nltk.freqDist.\n",
        "6. Plot a histogram/bar plot showing the top 10 words from each data set.\n",
        "7. Use the wordcloud library on the cleaned data and plot the word cloud.\n",
        "8. Create a new dataframe by filtering out the data to extract only the negative reviews from both data sets.\n",
        "\n",
        "  • For Google reviews, overall scores < 3 can be considered negative scores.\n",
        "\n",
        "  • For Trustpilot reviews, stars < 3 can be considered negative scores.\n",
        "\n",
        "  Repeat the frequency distribution and wordcloud steps on the filtered data consisting of only negative reviews.\n",
        "\n",
        "\n",
        "**Conducting initial topic modelling:**\n",
        "\n",
        "1. With the data frame created in the previous step:\n",
        "\n",
        "  • Filter out the reviews that are from the locations common to both data sets.\n",
        "\n",
        "  • Merge the reviews to form a new list.\n",
        "\n",
        "2. Preprocess this data set. Use BERTopic on this cleaned data set.\n",
        "3. Output: List out the top topics along with their document frequencies.\n",
        "4. For the top 2 topics, list out the top words.\n",
        "5. Show an interactive visualisation of the topics to identify the cluster of topics and to understand the intertopic distance map.\n",
        "6. Show a barchart of the topics, displaying the top 5 words in each topic.\n",
        "7. Plot a heatmap, showcasing the similarity matrix.\n",
        "8. For 10 clusters, provide a brief description in the Notebook of the topics they comprise of along with the general theme of the cluster, evidenced by the top words within each cluster's topics.\n",
        "\n",
        "**Performing further data investigation:**\n",
        "\n",
        "1. List out the top 20 locations with the highest number of negative reviews. Do this separately for Google and Trustpilot's reviews, and comment on the result. Are the locations roughly similar in both data sets?\n",
        "2. Merge the 2 data sets using Location Name and Club's Name.\n",
        "\n",
        "  Now, list out the following:\n",
        "\n",
        "  • Locations\n",
        "\n",
        "  • Number of Trustpilot reviews for this location\n",
        "\n",
        "  • Number of Google reviews for this location\n",
        "\n",
        "  • Total number of reviews for this location (sum of Google reviews and Trustpilot reviews)\n",
        "\n",
        "  Sort based on the total number of reviews.\n",
        "3. For the top 30 locations, redo the word frequency and word cloud. Comment on the results, and highlight if the results are different from the first run.\n",
        "4. For the top 30 locations, combine the reviews from Google and Trustpilot and run them through BERTopic.\n",
        "\n",
        "  Comment on the following:\n",
        "\n",
        "  • Are the results any different from the first run of BERTopic?\n",
        "\n",
        "  • If so, what has changed?\n",
        "\n",
        "  • Are there any additional insights compared to the first run?\n",
        "\n",
        "**Conducting emotion analysis:**\n",
        "\n",
        "1. Import the BERT model bhadresh-savani/bert-base-uncased-emotion from Hugging Face, and set up a pipeline for text classification.\n",
        "2. With the help of an example sentence, run the model and display the different emotion classifications that the model outputs.\n",
        "3. Run this model on both data sets, and capture the top emotion for each review.\n",
        "4. Use a bar plot to show the top emotion distribution for all negative reviews in both data sets.\n",
        "5. Extract all the negative reviews (from both data sets) where anger is top emotion.\n",
        "6. Run BERTopic on the output of the previous step.\n",
        "7. Visualise the clusters from this run. Comment on whether it is any different from the previous runs, and whether it is possible to narrow down the primary issues that have led to an angry review.\n",
        "\n",
        "**Using a large language model from Hugging Face:**\n",
        "\n",
        "1. Load the following model: tiiuae/falcon-7b-instruct. Set the pipeline for text generation and a max length of 1,000 for each review.\n",
        "2. Add the following prompt to every review, before passing it on to the model: **In the following customer review, pick out the main 3 topics. Return them in a numbered list format, with each one on a new line.**\n",
        "\n",
        "  Run the model.\n",
        "\n",
        "  Note: If the execution time is too high, you can use a subset of the bad reviews (instead of the full set) to run this model.\n",
        "3. The output of the model will be the top 3 topics from each review. Append each of these topics from each review to create a comprehensive list.\n",
        "4. Use this list as input to run BERTopic again.\n",
        "5. Comment about the output of BERTopic. Highlight any changes, improvements, and if any further insights have been obtained.\n",
        "6. Use the comprehensive list from Step 3.\n",
        "\n",
        "  Pass it to the model as the input, but pre-fix the following to the prompt: **For the following text topics obtained from negative customer reviews, can you give some actionable insights that would help this gym company?**\n",
        "\n",
        "  Run the Falcon-7b-Instruct model.\n",
        "7. List the output, ideally in the form of suggestions, that the company can employ to address customer concerns.\n",
        "\n",
        "**Using Gensim:**\n",
        "1. Perform the preprocessing required to run the LDA model from Gensim. Use the list of negative reviews (combined Google and Trustpilot reviews).\n",
        "2. Using Gensim, perform LDA on the tokenised data. Specify the number of topics = 10.\n",
        "3. Show the visualisations of the topics, displaying the distance maps and the bar chart listing out the most salient terms.\n",
        "4. Comment on the output and whether it is similar to other techniques, or whether any extra insights were obtained.\n",
        "\n",
        "**Report:**\n",
        "1. Document your approach and major inferences from the data analysis.\n",
        "2. When you have completed the project:\n",
        "  - Download your completed Notebook as an IPYNB (Jupyter Notebook) or PY (Python) file. Save the file as follows: **LastName_FirstName_CAM_C301_Week_4and5_Topic_project.ipynb**.\n",
        "  - Prepare a detailed report (between 800–1,000 words) that includes:\n",
        "    - an overview of your approach\n",
        "    - a description of your analysis\n",
        "    - an explanation of the insights you identified\n",
        "    - a summary of the comments requested in earlier steps\n",
        "    - final insights, based on the output obtained from the various models employed\n",
        "  - Save the document as a PDF named according to the following convention: **LastName_FirstName_CAM_C301_Week_4and5_Topic_project.pdf**.\n",
        "  - Submit your Notebook and PDF document by **Thursday, 22 August at 5 p.m. (UK Time)**.\n",
        "\n",
        "\n",
        "<br></br>\n",
        "> **Declaration**\n",
        ">\n",
        "> By submitting your project, you indicate that the work is your own and has been created with academic integrity. Refer to the Cambridge plagiarism regulations."
      ],
      "metadata": {
        "id": "9j5Bse6izKKh"
      }
    },
    {
      "cell_type": "markdown",
      "source": [
        "# 1. Introduction"
      ],
      "metadata": {
        "id": "jFPK73L35SeQ"
      }
    },
    {
      "cell_type": "markdown",
      "source": [
        "## 1.1 Brief Project Description"
      ],
      "metadata": {
        "id": "8G4EAXhO6GKN"
      }
    },
    {
      "cell_type": "markdown",
      "source": [
        "todo"
      ],
      "metadata": {
        "id": "d3BtrUA16JFJ"
      }
    },
    {
      "cell_type": "markdown",
      "source": [
        "## 1.2 Import Necessary Libraries\n"
      ],
      "metadata": {
        "id": "aLqsazI35XVq"
      }
    },
    {
      "cell_type": "code",
      "source": [],
      "metadata": {
        "id": "sTJQqURB5kxn"
      },
      "execution_count": null,
      "outputs": []
    },
    {
      "cell_type": "markdown",
      "source": [
        "## 1.3 Assessment Criteria Overview"
      ],
      "metadata": {
        "id": "3iGiwQ6L_ive"
      }
    },
    {
      "cell_type": "markdown",
      "source": [
        "todo"
      ],
      "metadata": {
        "id": "2kv0TbuH_nib"
      }
    },
    {
      "cell_type": "markdown",
      "source": [
        "# 2. Data Import and Cleaning"
      ],
      "metadata": {
        "id": "dSo2-Iii6h-o"
      }
    },
    {
      "cell_type": "code",
      "source": [],
      "metadata": {
        "id": "Xq8mliRM6o6Q"
      },
      "execution_count": null,
      "outputs": []
    },
    {
      "cell_type": "markdown",
      "source": [
        "## 2.1 Load the Datasets"
      ],
      "metadata": {
        "id": "gwd1GKQ_6pc2"
      }
    },
    {
      "cell_type": "code",
      "source": [],
      "metadata": {
        "id": "S4So93896sN5"
      },
      "execution_count": null,
      "outputs": []
    },
    {
      "cell_type": "markdown",
      "source": [
        "## 2.2 Drop Irrelevant Columns and Handle Missing Values"
      ],
      "metadata": {
        "id": "hsSWJM6r6weE"
      }
    },
    {
      "cell_type": "code",
      "source": [],
      "metadata": {
        "id": "XST4rY_n6zeY"
      },
      "execution_count": null,
      "outputs": []
    },
    {
      "cell_type": "markdown",
      "source": [
        "# 3. Initial Data Investigation"
      ],
      "metadata": {
        "id": "8FGvuu2165bA"
      }
    },
    {
      "cell_type": "markdown",
      "source": [
        "## 3.1 Count Unique Locations"
      ],
      "metadata": {
        "id": "t0t3qP2x7CEb"
      }
    },
    {
      "cell_type": "code",
      "source": [],
      "metadata": {
        "id": "dlvKhvWh693-"
      },
      "execution_count": null,
      "outputs": []
    },
    {
      "cell_type": "markdown",
      "source": [
        "## 3.2 Identify Common Locations"
      ],
      "metadata": {
        "id": "B7e1yW047LQc"
      }
    },
    {
      "cell_type": "code",
      "source": [],
      "metadata": {
        "id": "MyPgz_hA7Njy"
      },
      "execution_count": null,
      "outputs": []
    },
    {
      "cell_type": "markdown",
      "source": [
        "## 3.3 Text Preprocessing"
      ],
      "metadata": {
        "id": "HSKplfxJ7ROJ"
      }
    },
    {
      "cell_type": "code",
      "source": [],
      "metadata": {
        "id": "D1HVbR2B7Tsf"
      },
      "execution_count": null,
      "outputs": []
    },
    {
      "cell_type": "markdown",
      "source": [
        "## 3.4 Word Frequency Analysis"
      ],
      "metadata": {
        "id": "-Fb9YLKS7XKM"
      }
    },
    {
      "cell_type": "code",
      "source": [],
      "metadata": {
        "id": "zUk1Fxg77Zqy"
      },
      "execution_count": null,
      "outputs": []
    },
    {
      "cell_type": "markdown",
      "source": [
        "## 3.5 Visualise Top Words"
      ],
      "metadata": {
        "id": "FcvZaMKl7ei4"
      }
    },
    {
      "cell_type": "code",
      "source": [],
      "metadata": {
        "id": "PjK8jqKp7hIx"
      },
      "execution_count": null,
      "outputs": []
    },
    {
      "cell_type": "markdown",
      "source": [
        "## 3.6 Generate Word Clouds"
      ],
      "metadata": {
        "id": "dW9rOXTM7llo"
      }
    },
    {
      "cell_type": "code",
      "source": [],
      "metadata": {
        "id": "ITG8tcyg7omV"
      },
      "execution_count": null,
      "outputs": []
    },
    {
      "cell_type": "markdown",
      "source": [
        "# 4. Filter Negative Reviews"
      ],
      "metadata": {
        "id": "AsSIh5gH7sNj"
      }
    },
    {
      "cell_type": "markdown",
      "source": [
        "## 4.1 Define Negative Reviews"
      ],
      "metadata": {
        "id": "zu--YPtq7xWI"
      }
    },
    {
      "cell_type": "code",
      "source": [],
      "metadata": {
        "id": "Y39ac-Dx7z8B"
      },
      "execution_count": null,
      "outputs": []
    },
    {
      "cell_type": "markdown",
      "source": [
        "## 4.2 Repeat Word Frequency and Word Cloud Analysis for Negative Reviews"
      ],
      "metadata": {
        "id": "mI3u2AIu78VH"
      }
    },
    {
      "cell_type": "code",
      "source": [],
      "metadata": {
        "id": "nTuMJpl28Ag5"
      },
      "execution_count": null,
      "outputs": []
    },
    {
      "cell_type": "markdown",
      "source": [
        "# 5. Initial Topic Modelling with BERTopic"
      ],
      "metadata": {
        "id": "VmF3z46h8Ex9"
      }
    },
    {
      "cell_type": "markdown",
      "source": [
        "## 5.1 Prepare Data from Common Locations"
      ],
      "metadata": {
        "id": "b16OVl4d8KUo"
      }
    },
    {
      "cell_type": "code",
      "source": [],
      "metadata": {
        "id": "8lEkF-KS8NHR"
      },
      "execution_count": null,
      "outputs": []
    },
    {
      "cell_type": "markdown",
      "source": [
        "## 5.2 Apply BERTopic"
      ],
      "metadata": {
        "id": "W70zgwdt8RgO"
      }
    },
    {
      "cell_type": "code",
      "source": [],
      "metadata": {
        "id": "YIbvZNkc8UCo"
      },
      "execution_count": null,
      "outputs": []
    },
    {
      "cell_type": "markdown",
      "source": [
        "## 5.3 Visualise Topics and Clusters"
      ],
      "metadata": {
        "id": "fLvDzkTM8X7q"
      }
    },
    {
      "cell_type": "code",
      "source": [],
      "metadata": {
        "id": "wjaJvFiA_2F2"
      },
      "execution_count": null,
      "outputs": []
    },
    {
      "cell_type": "markdown",
      "source": [
        "## 5.4 Topic Description Documentation"
      ],
      "metadata": {
        "id": "bUdbtIyj_2w-"
      }
    },
    {
      "cell_type": "markdown",
      "source": [
        "todo"
      ],
      "metadata": {
        "id": "HxUTnzgZ_6XY"
      }
    },
    {
      "cell_type": "markdown",
      "source": [
        "# 6. Further Investigation"
      ],
      "metadata": {
        "id": "dkL3y2F_8fnc"
      }
    },
    {
      "cell_type": "markdown",
      "source": [
        "## 6.1 Identify Top 20 Locations with Negative Reviews\n"
      ],
      "metadata": {
        "id": "_NnWJE7B8lvu"
      }
    },
    {
      "cell_type": "code",
      "source": [],
      "metadata": {
        "id": "oIfqVUtN8omr"
      },
      "execution_count": null,
      "outputs": []
    },
    {
      "cell_type": "markdown",
      "source": [
        "## 6.2 Merge Datasets by Location and Summarise"
      ],
      "metadata": {
        "id": "RzzDxBxI8tN9"
      }
    },
    {
      "cell_type": "code",
      "source": [],
      "metadata": {
        "id": "abAVZmh_9AMc"
      },
      "execution_count": null,
      "outputs": []
    },
    {
      "cell_type": "markdown",
      "source": [
        "## 6.3 Analyse Top 30 Locations"
      ],
      "metadata": {
        "id": "0MlVXaz-9Gbh"
      }
    },
    {
      "cell_type": "code",
      "source": [
        "# Redo word frequency, word clouds, and BERTopic for combined reviews.\n"
      ],
      "metadata": {
        "id": "3ZdeXqsc9NIx"
      },
      "execution_count": null,
      "outputs": []
    },
    {
      "cell_type": "markdown",
      "source": [
        "## 6.4 Location-Specific Insights"
      ],
      "metadata": {
        "id": "YOHQ2_q6ABZl"
      }
    },
    {
      "cell_type": "code",
      "source": [
        "# For the top 5 locations with the highest negative reviews,\n",
        "# consider providing a more detailed breakdown of customer complaints or concerns."
      ],
      "metadata": {
        "id": "cg_tNfO4AGR2"
      },
      "execution_count": null,
      "outputs": []
    },
    {
      "cell_type": "markdown",
      "source": [
        "# 7. Emotion Analysis with BERT"
      ],
      "metadata": {
        "id": "bnWQN48v9VJW"
      }
    },
    {
      "cell_type": "markdown",
      "source": [
        "## 7.1 Set Up Emotion Classifier"
      ],
      "metadata": {
        "id": "z0YTk4cp9bu1"
      }
    },
    {
      "cell_type": "code",
      "source": [],
      "metadata": {
        "id": "pWjmXCX69ecx"
      },
      "execution_count": null,
      "outputs": []
    },
    {
      "cell_type": "markdown",
      "source": [
        "## 7.2 Classify Emotions in Reviews"
      ],
      "metadata": {
        "id": "V_jlvJaS9jUZ"
      }
    },
    {
      "cell_type": "code",
      "source": [],
      "metadata": {
        "id": "L-tdjANg9m3g"
      },
      "execution_count": null,
      "outputs": []
    },
    {
      "cell_type": "markdown",
      "source": [
        "## 7.3 Visualise Emotion Distribution"
      ],
      "metadata": {
        "id": "UinKBYLA9qSo"
      }
    },
    {
      "cell_type": "code",
      "source": [],
      "metadata": {
        "id": "uPgjEF4m9wAQ"
      },
      "execution_count": null,
      "outputs": []
    },
    {
      "cell_type": "markdown",
      "source": [
        "## 7.4 Filter Angry Reviews and Apply BERTopic"
      ],
      "metadata": {
        "id": "Iiomrbdm9wjr"
      }
    },
    {
      "cell_type": "code",
      "source": [],
      "metadata": {
        "id": "rPHpq87e9155"
      },
      "execution_count": null,
      "outputs": []
    },
    {
      "cell_type": "markdown",
      "source": [
        "# 8. Advanced Topic Modelling with Falcon-7b-Instruct"
      ],
      "metadata": {
        "id": "gPgZAQj892X7"
      }
    },
    {
      "cell_type": "markdown",
      "source": [
        "## 8.1 Set Up Falcon-7b-Instruct for Topic Extraction"
      ],
      "metadata": {
        "id": "PsmNR2oC98xz"
      }
    },
    {
      "cell_type": "code",
      "source": [],
      "metadata": {
        "id": "-Lbv0Xby95St"
      },
      "execution_count": null,
      "outputs": []
    },
    {
      "cell_type": "markdown",
      "source": [
        "## 8.2 Extract Topics with Prompt"
      ],
      "metadata": {
        "id": "9Nzk0oI7-DtX"
      }
    },
    {
      "cell_type": "code",
      "source": [],
      "metadata": {
        "id": "3Wyu_P0u-GH0"
      },
      "execution_count": null,
      "outputs": []
    },
    {
      "cell_type": "markdown",
      "source": [
        "## 8.3 Generate Actionable Insights"
      ],
      "metadata": {
        "id": "ldZK5xrt-JAy"
      }
    },
    {
      "cell_type": "code",
      "source": [],
      "metadata": {
        "id": "oCUSqRrq-OF3"
      },
      "execution_count": null,
      "outputs": []
    },
    {
      "cell_type": "markdown",
      "source": [
        "## 8.4 Compare Falcon-7b-Instruct Insights to Previous Analysis"
      ],
      "metadata": {
        "id": "vS4BoZReATL3"
      }
    },
    {
      "cell_type": "code",
      "source": [
        "# After generating actionable insights using Falcon-7b-Instruct,\n",
        "# compare these insights with earlier results from BERTopic and emotion analysis.\n",
        "# Highlight any new or refined suggestions.\n"
      ],
      "metadata": {
        "id": "1C1jgRiAAWDy"
      },
      "execution_count": null,
      "outputs": []
    },
    {
      "cell_type": "markdown",
      "source": [
        "# 9. Topic Modelling with Gensim LDA"
      ],
      "metadata": {
        "id": "mhkkLOXu-O9l"
      }
    },
    {
      "cell_type": "markdown",
      "source": [
        "## 9.1 Preprocess Data for LDA"
      ],
      "metadata": {
        "id": "aWWj_lso-WcO"
      }
    },
    {
      "cell_type": "code",
      "source": [],
      "metadata": {
        "id": "AQJGyg2P-SKp"
      },
      "execution_count": null,
      "outputs": []
    },
    {
      "cell_type": "markdown",
      "source": [
        "## 9.2 Apply LDA and Visualise Topics"
      ],
      "metadata": {
        "id": "yHnlQqc_-fL-"
      }
    },
    {
      "cell_type": "code",
      "source": [],
      "metadata": {
        "id": "KeLXA-QY-iTn"
      },
      "execution_count": null,
      "outputs": []
    },
    {
      "cell_type": "markdown",
      "source": [
        "## 9.3 Compare LDA Results with BERTopic"
      ],
      "metadata": {
        "id": "cVzFkYe0Ahad"
      }
    },
    {
      "cell_type": "code",
      "source": [
        "# Explicitly mention how the LDA results compare to BERTopic,\n",
        "# particularly if they highlight different or similar themes."
      ],
      "metadata": {
        "id": "uccc9BnRAjss"
      },
      "execution_count": null,
      "outputs": []
    },
    {
      "cell_type": "markdown",
      "source": [
        "# 10. Conclusion"
      ],
      "metadata": {
        "id": "RS_G-QLV-mEK"
      }
    },
    {
      "cell_type": "markdown",
      "source": [
        "## 10.1 Summarise Insights"
      ],
      "metadata": {
        "id": "A2bleDIN-qW8"
      }
    },
    {
      "cell_type": "markdown",
      "source": [
        "todo"
      ],
      "metadata": {
        "id": "Ctst6HKD-s0H"
      }
    },
    {
      "cell_type": "markdown",
      "source": [
        "## 10.2 Highlight Recommendations"
      ],
      "metadata": {
        "id": "Q_Znvwx3-xGt"
      }
    },
    {
      "cell_type": "markdown",
      "source": [
        "todo"
      ],
      "metadata": {
        "id": "L89yGKiz-1pk"
      }
    },
    {
      "cell_type": "markdown",
      "source": [
        "## 10.3 Reflection on NLP Techniques"
      ],
      "metadata": {
        "id": "PFhmnbyBAu2y"
      }
    },
    {
      "cell_type": "markdown",
      "source": [
        "Briefly reflect on the strengths and limitations of the NLP techniques (BERTopic, Gensim LDA, BERT, Falcon-7b) used in the project. This will showcase your ability to critically evaluate the methods."
      ],
      "metadata": {
        "id": "VTwe2FXiAz4L"
      }
    }
  ]
}