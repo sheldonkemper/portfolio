{
  "cells": [
    {
      "cell_type": "markdown",
      "metadata": {
        "id": "view-in-github",
        "colab_type": "text"
      },
      "source": [
        "<a href=\"https://colab.research.google.com/github/sheldonkemper/portfolio/blob/main/Activity_6_2_4_Gradient_Boosting.ipynb\" target=\"_parent\"><img src=\"https://colab.research.google.com/assets/colab-badge.svg\" alt=\"Open In Colab\"/></a>"
      ]
    },
    {
      "cell_type": "markdown",
      "source": [
        "<br>\n",
        "\n",
        "**First things first** - please go to 'File' and select 'Save a copy in Drive' so that you have your own version of this activity set up and ready to use.\n",
        "Remember to update the portfolio index link to your own work once completed!"
      ],
      "metadata": {
        "id": "cbtFdN5VQsms"
      }
    },
    {
      "cell_type": "markdown",
      "metadata": {
        "id": "A_MWRksKrP3O"
      },
      "source": [
        "# Activity 6.2.4 Gradient boosting\n",
        "\n",
        "## Objective\n",
        "\n",
        "Build a simple implementation of gradient boosting, and then test it on a simulated data set and optionally on the Shopping and Iris data sets.\n",
        "\n",
        "## Activity\n",
        "\n",
        "* Create your own simple implementation of gradient boosting based on the steps provided in the demonstration video.\n",
        "* Used the provided data set, which is the same as the one used in the demonstration.\n",
        "* Create a DataFrame that stores your predicted values at each iteration.\n",
        "* Compare your predictions against your training set to verify for overfitting.\n",
        "* Compare the results against the demonstration to verify the correct implementation.\n",
        "* (Optional) Implement your algorithm against the Shopping data set.\n",
        "* (Optional) Implement your algorithm for classification."
      ]
    },
    {
      "cell_type": "code",
      "execution_count": null,
      "metadata": {
        "id": "le8g5ANkrP3T"
      },
      "outputs": [],
      "source": [
        "import numpy as np\n",
        "import pandas as pd\n",
        "import matplotlib.pyplot as plt\n",
        "from sklearn.tree import DecisionTreeRegressor\n",
        "from sklearn.metrics import mean_squared_error, r2_score"
      ]
    },
    {
      "cell_type": "markdown",
      "metadata": {
        "id": "tyQcEw1jrP3W"
      },
      "source": [
        "# Data"
      ]
    },
    {
      "cell_type": "code",
      "execution_count": null,
      "metadata": {
        "id": "GMzZkjoSrP3X"
      },
      "outputs": [],
      "source": [
        "data = dict()\n",
        "data[\"a\"] = [1,2,3,4,1,2]\n",
        "data[\"b\"] = [5,6,7,8,9,10]\n",
        "data[\"target\"] = [20,40,54,70,42,62]\n",
        "\n",
        "df = pd.DataFrame(data, columns=data.keys())\n",
        "\n",
        "x = df.drop(\"target\",axis=1)\n",
        "y = df[\"target\"]"
      ]
    },
    {
      "cell_type": "markdown",
      "metadata": {
        "id": "mXra7q0hrP3X"
      },
      "source": [
        "# Gradient boosting"
      ]
    },
    {
      "cell_type": "code",
      "execution_count": null,
      "metadata": {
        "id": "tYWs46sVrP3Y"
      },
      "outputs": [],
      "source": [
        "\n",
        "def GradientBoosting():\n",
        "\n",
        "\n",
        "    return\n",
        "\n"
      ]
    },
    {
      "cell_type": "markdown",
      "metadata": {
        "id": "yZrU7OZerP3Z"
      },
      "source": [
        "# (Optional) Run your algorithm against the Shopping data set\n",
        "\n",
        "Make sure to do the appropriate preprocessing of the data before  running it through your algorithm."
      ]
    },
    {
      "cell_type": "code",
      "execution_count": null,
      "metadata": {
        "id": "z8iwfEx3rP3Z"
      },
      "outputs": [],
      "source": [
        "df = pd.read_csv(\"Shopping_data.csv\")\n",
        "df.reset_index(drop=True)\n",
        "df.dropna(inplace=True)\n",
        "x = df[[\"Age\", \"Annual Income (k$)\"]]\n",
        "y = df[\"Spending Score (1-100)\"]"
      ]
    },
    {
      "cell_type": "markdown",
      "metadata": {
        "id": "qZd9L4glrP3a"
      },
      "source": [
        "# (Optional) Run your algorithm against the Iris data set\n",
        "\n",
        "Make sure to do the appropriate preprocessing of the data before  running it through your algorithm."
      ]
    },
    {
      "cell_type": "code",
      "execution_count": null,
      "metadata": {
        "id": "rwwrl9LrrP3b"
      },
      "outputs": [],
      "source": [
        "from sklearn.datasets import load_iris\n",
        "\n",
        "x, y = load_iris(return_X_y=True, as_frame=True)"
      ]
    },
    {
      "cell_type": "code",
      "execution_count": null,
      "metadata": {
        "id": "11-R-ZFYrP3c"
      },
      "outputs": [],
      "source": []
    }
  ],
  "metadata": {
    "kernelspec": {
      "display_name": "base",
      "language": "python",
      "name": "python3"
    },
    "language_info": {
      "codemirror_mode": {
        "name": "ipython",
        "version": 3
      },
      "file_extension": ".py",
      "mimetype": "text/x-python",
      "name": "python",
      "nbconvert_exporter": "python",
      "pygments_lexer": "ipython3",
      "version": "3.10.13"
    },
    "colab": {
      "provenance": [],
      "include_colab_link": true
    }
  },
  "nbformat": 4,
  "nbformat_minor": 0
}