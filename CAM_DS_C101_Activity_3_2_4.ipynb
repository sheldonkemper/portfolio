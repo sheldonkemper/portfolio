{
  "nbformat": 4,
  "nbformat_minor": 0,
  "metadata": {
    "colab": {
      "provenance": [],
      "include_colab_link": true
    },
    "kernelspec": {
      "name": "python3",
      "display_name": "Python 3"
    },
    "language_info": {
      "name": "python"
    }
  },
  "cells": [
    {
      "cell_type": "markdown",
      "metadata": {
        "id": "view-in-github",
        "colab_type": "text"
      },
      "source": [
        "<a href=\"https://colab.research.google.com/github/sheldonkemper/portfolio/blob/main/CAM_DS_C101_Activity_3_2_4.ipynb\" target=\"_parent\"><img src=\"https://colab.research.google.com/assets/colab-badge.svg\" alt=\"Open In Colab\"/></a>"
      ]
    },
    {
      "cell_type": "markdown",
      "source": [
        "# Activity 3.2.4 Applying non-parametric tests to a data set\n",
        "\n",
        "## Scenario\n",
        "As a data scientist working for an online retail brand, you have been tasked with comparing the customer engagement levels of two new marketing campaigns: Campaign A and Campaign B. To accomplish this, the brand has provided a data set containing engagement scores for each campaign. Your goal is to determine which campaign was more effective in engaging customers.\n",
        "\n",
        "\n",
        "## Objective\n",
        "The goal is to compare the effectiveness of two distinct marketing campaigns. The key metric for comparison is the 'Engagement Score', which reflects customer engagement levels with each campaign.\n",
        "\n",
        "## Assignment criterion\n",
        "By completing this activity, you will be able to provide evidence that you can demonstrate how to accurately apply parametric and non-parametric methods to analyse diverse data sets.\n",
        "\n",
        "## Activity guidance\n",
        "1. Import the necessary libraries and load the data set.\n",
        "2. Perform an exploratory data analysis to get insights into the data's distribution and potential outliers.\n",
        "3. Check the distribution of the data using a Shapiro-Wilk test.\n",
        "4. Formulate a hypothesis to test.\n",
        "5. Select an appropriate non-parametric test and apply it to the data set to determine if there's a significant difference in engagement between the campaigns.\n",
        "6. Summarise and interpret your findings. What do the results reveal about the data set and your hypothesis?\n",
        "6. Reflect critically about the implications of your findings.\n"
      ],
      "metadata": {
        "id": "t9BGqPnG_IdF"
      }
    },
    {
      "cell_type": "markdown",
      "source": [
        "> Start your activity here. Select the pen from the toolbar to add your entry."
      ],
      "metadata": {
        "id": "FuSDDfgihbu5"
      }
    },
    {
      "cell_type": "code",
      "source": [
        "# Import the necessary libraries.\n",
        "import pandas as pd\n",
        "import numpy as np\n",
        "import matplotlib.pyplot as plt\n",
        "import seaborn as sns\n",
        "from scipy.stats import mannwhitneyu, shapiro\n",
        "\n",
        "# Load the dataset.\n",
        "data = pd.read_csv('https://raw.githubusercontent.com/fourthrevlxd/cam_dsb/main/marketing_campaign_data.csv')\n",
        "data.head()"
      ],
      "metadata": {
        "id": "R1wUSPm-Fhlo"
      },
      "execution_count": null,
      "outputs": []
    },
    {
      "cell_type": "code",
      "source": [],
      "metadata": {
        "id": "MbIG5-KUhgDp"
      },
      "execution_count": null,
      "outputs": []
    },
    {
      "cell_type": "markdown",
      "source": [
        "# Reflect\n",
        "\n",
        "Write a brief paragraph highlighting your process and the rationale to showcase critical thinking and problem-solving.\n",
        "\n",
        "> Select the pen from the toolbar to add your entry. When you have completed the activity, remember to update the link on your contents page to point to your completed Notebook."
      ],
      "metadata": {
        "id": "OJKJxLpxhgdZ"
      }
    }
  ]
}