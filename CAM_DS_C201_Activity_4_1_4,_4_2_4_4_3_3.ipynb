{
  "nbformat": 4,
  "nbformat_minor": 0,
  "metadata": {
    "colab": {
      "provenance": [],
      "include_colab_link": true
    },
    "kernelspec": {
      "name": "python3",
      "display_name": "Python 3"
    },
    "language_info": {
      "name": "python"
    }
  },
  "cells": [
    {
      "cell_type": "markdown",
      "metadata": {
        "id": "view-in-github",
        "colab_type": "text"
      },
      "source": [
        "<a href=\"https://colab.research.google.com/github/sheldonkemper/portfolio/blob/main/CAM_DS_C201_Activity_4_1_4%2C_4_2_4_4_3_3.ipynb\" target=\"_parent\"><img src=\"https://colab.research.google.com/assets/colab-badge.svg\" alt=\"Open In Colab\"/></a>"
      ]
    },
    {
      "cell_type": "markdown",
      "source": [
        "# Activity 4.1.4 Comparing optimisers\n",
        "\n",
        "## Objective\n",
        "Build a neural network model that predicts survivors of the Titanic voyage using data from the Titanic data set. Create and train the model with Adam and then RMSProp, and evaluate it to see which optimiser was most effective.\n",
        "\n",
        "## Assessment criteria\n",
        "By completing this activity, you'll be able to provide evidence that you can:\n",
        "- load a data set for training a neural network model\n",
        "- perform relevant preprocessing steps and split the data\n",
        "- define a function to create and train a neural network model\n",
        "- interpret model output and explain your conclusions\n",
        "- select the appropriate model and justify your choice.\n",
        "\n",
        "## Activity guidance\n",
        "1. Import the relevant libraries and load the Titanic data set.\n",
        "2. Complete data pre-processing, including dropping irrelevant columns and converting categorical data to binary values.\n",
        "3. Fill in any missing values in the remaining columns.\n",
        "4. Define features and a target variable.\n",
        "5. Split the data into training and test sets.\n",
        "5. Standardise features.\n",
        "7. Define a function to create and train a neural network with:\n",
        "  - One input layer of a number of neurons equal to the number of input features\n",
        "  - One hidden layer\n",
        "  - ReLU activations in every layer except the output layer, where you will use Sigmoid\n",
        "  - Binary cross entropy as loss\n",
        "  - Optimiser as the parameter of the function\n",
        "8. Create and train models with Adam.\n",
        "9. Create and train models with RMSProp.\n",
        "10. Evaluate the models.\n"
      ],
      "metadata": {
        "id": "1T82EfzkqsuE"
      }
    },
    {
      "cell_type": "markdown",
      "source": [
        "## Recording your method\n",
        "As you prepare the data and build your models, make notes about the decisions you make. You may wish to record these comments in your Notebook, either beside the code, or in your reflection space at the end.\n",
        "\n",
        "> Start your activity here. Select the pen from the toolbar to add your entry."
      ],
      "metadata": {
        "id": "LqWP3DqDq1Er"
      }
    },
    {
      "cell_type": "code",
      "source": [
        "# Import the relevant libraries.\n",
        "import numpy as np\n",
        "import pandas as pd\n",
        "from sklearn.model_selection import train_test_split\n",
        "from sklearn.preprocessing import StandardScaler\n",
        "from keras.models import Sequential\n",
        "from keras.layers import Dense\n",
        "from keras.optimizers import Adam, RMSprop\n",
        "import matplotlib.pyplot as plt"
      ],
      "metadata": {
        "id": "yEFcdB7F2E7H"
      },
      "execution_count": null,
      "outputs": []
    },
    {
      "cell_type": "code",
      "source": [
        "# Load the Titanic data set.\n",
        "url = \"https://raw.githubusercontent.com/datasciencedojo/datasets/master/titanic.csv\"\n",
        "titanic_df = pd.read_csv(url)"
      ],
      "metadata": {
        "id": "56H77Tyc5qCM"
      },
      "execution_count": null,
      "outputs": []
    },
    {
      "cell_type": "code",
      "source": [
        "# Continue the activity here."
      ],
      "metadata": {
        "id": "lhNRfAe4SGPt"
      },
      "execution_count": null,
      "outputs": []
    },
    {
      "cell_type": "markdown",
      "source": [
        "# Reflect\n",
        "\n",
        "Summarise the decisions you made when preparing the data and building the models.\n",
        "\n",
        "Interpret the model output, and state your conclusions comparing the performance of Adam and RMSProp.\n",
        "\n",
        "What makes this experiment a valid comparison of the two optimisers? Explain why the observed effects can be attributed to the optimisers. If you perform the experiment repeatedly, what kind of variation would you expect in your results?\n",
        "\n",
        "Write a brief paragraph highlighting your process and the rationale to showcase critical thinking and problem-solving.\n",
        "\n",
        "> Select the pen from the toolbar to add your entry."
      ],
      "metadata": {
        "id": "10hq-Fzsq5UV"
      }
    },
    {
      "cell_type": "markdown",
      "source": [],
      "metadata": {
        "id": "GIM95oKLT9p-"
      }
    },
    {
      "cell_type": "markdown",
      "source": [
        "# Activity 4.2.4 Implementing regularisation techniques\n",
        "\n",
        "## Objective\n",
        "Using the neural network model you built above, modify the ‘create_model’ function to include dropout and L2 regularisation.\n",
        "\n",
        "## Assessment criteria\n",
        "By completing this activity, you will be able to provide evidence that you can:\n",
        "- define a function to create and train a neural network model\n",
        "- interpret model output and explain your conclusions\n",
        "- select the appropriate model and justify your choice.\n",
        "\n",
        "## Activity steps\n",
        "1. Import the L2 regulariser and dropout.\n",
        "3. Run a model function with dropout and regularisation included.\n",
        "4. Create and train a model with Adam optimisation, l2 regularisation and dropout.\n",
        "5. Create and train a model with RMSProp optimisation, l2 regularisation and dropout.\n",
        "6. Plot model accuracy and loss.\n",
        "7. Evaluate the models.\n"
      ],
      "metadata": {
        "id": "BIx3ZNRnSKU0"
      }
    },
    {
      "cell_type": "code",
      "source": [
        "# Import the regulariser and dropout.\n",
        "from keras.regularizers import l2\n",
        "from keras.layers import Dense, Dropout"
      ],
      "metadata": {
        "id": "SWZYY0hkSvtU"
      },
      "execution_count": null,
      "outputs": []
    },
    {
      "cell_type": "code",
      "source": [
        "# Continue the activity here."
      ],
      "metadata": {
        "id": "sl5nOa6GS8c5"
      },
      "execution_count": null,
      "outputs": []
    },
    {
      "cell_type": "markdown",
      "source": [
        "# Reflect\n",
        "\n",
        "Interpret the model output, and state your conclusions on model performance using Adam, RMSProp, L2 regularisation, and dropout.\n",
        "\n",
        "What makes this experiment a valid comparison of the two regularisation approaches? Explain why the observed effects can be attributed to the regularisation techniques. If you perform the experiment repeatedly, what kind of variation would you expect in your results?\n",
        "\n",
        "Write a brief paragraph highlighting your process and the rationale to showcase critical thinking and problem-solving.\n",
        "\n",
        "> Select the pen from the toolbar to add your entry."
      ],
      "metadata": {
        "id": "tscFW0N2T_qp"
      }
    },
    {
      "cell_type": "markdown",
      "source": [],
      "metadata": {
        "id": "dlSHiyRPUZ9z"
      }
    },
    {
      "cell_type": "markdown",
      "source": [
        "# Activity 4.3.3 Implementing early stopping\n",
        "\n",
        "## Objective\n",
        "Building on the neural network model, add early stopping callbacks on models trained with Adam and RMSProp.\n",
        "\n",
        "## Assessment criteria\n",
        "By completing this activity, you will be able to provide evidence that you can:\n",
        "- define a function to create and train a neural network model\n",
        "- interpret model output and explain your conclusions\n",
        "- select the appropriate model and justify your choice.\n",
        "\n",
        "## Activity steps\n",
        "1. Import early stopping from Keras.\n",
        "3. Add early stopping to a model trained with Adam optimisation that includes the following parameters:\n",
        "- patience = 1\n",
        "- lr=0.001\n",
        "- L2 regularisation of 0.01.\n",
        "4. Add early stopping to a model trained with RMSProp optimisation that includes the same parameters.\n",
        "5. Plot model accuracy and loss.\n",
        "6. Evaluate the models."
      ],
      "metadata": {
        "id": "ODgB6_siS-di"
      }
    },
    {
      "cell_type": "code",
      "source": [
        "# Import early stopping\n",
        "from keras.callbacks import EarlyStopping"
      ],
      "metadata": {
        "id": "2p7Y4XQ9LVRE"
      },
      "execution_count": null,
      "outputs": []
    },
    {
      "cell_type": "code",
      "source": [
        "# Continue the activity here."
      ],
      "metadata": {
        "id": "FRp5oijELe2P"
      },
      "execution_count": null,
      "outputs": []
    },
    {
      "cell_type": "markdown",
      "source": [
        "# Reflect\n",
        "\n",
        "Interpret the model output, and state your conclusions on model performance using Adam, RMSProp,and dropout callbacks.\n",
        "\n",
        "Explain why the observed effects can be attributed to the dropout callback. If you perform the experiment repeatedly, what kind of variation would you expect in your results?\n",
        "\n",
        "Write a brief paragraph highlighting your process and the rationale to showcase critical thinking and problem-solving.\n",
        "\n",
        "> Select the pen from the toolbar to add your entry."
      ],
      "metadata": {
        "id": "Q9US7R_YUPQP"
      }
    },
    {
      "cell_type": "markdown",
      "source": [],
      "metadata": {
        "id": "xhBcOHupUYbS"
      }
    }
  ]
}