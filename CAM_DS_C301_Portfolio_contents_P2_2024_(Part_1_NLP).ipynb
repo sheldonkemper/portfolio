{
  "nbformat": 4,
  "nbformat_minor": 0,
  "metadata": {
    "colab": {
      "provenance": [],
      "collapsed_sections": [
        "rAPm4UtcZXEv",
        "5mt7ZWO9ZjXc"
      ],
      "include_colab_link": true
    },
    "kernelspec": {
      "name": "python3",
      "display_name": "Python 3"
    },
    "language_info": {
      "name": "python"
    }
  },
  "cells": [
    {
      "cell_type": "markdown",
      "metadata": {
        "id": "view-in-github",
        "colab_type": "text"
      },
      "source": [
        "<a href=\"https://colab.research.google.com/github/sheldonkemper/portfolio/blob/main/CAM_DS_C301_Portfolio_contents_P2_2024_(Part_1_NLP).ipynb\" target=\"_parent\"><img src=\"https://colab.research.google.com/assets/colab-badge.svg\" alt=\"Open In Colab\"/></a>"
      ]
    },
    {
      "cell_type": "markdown",
      "source": [
        "# Welcome to Course 301: Applying advanced data science techniques\n",
        "\n",
        "Throughout this course, you will learn to:\n",
        "1. Critically evaluate the application of NLP in a range of organisational contexts.\n",
        "2. Leverage expertise in NLP modelling to create solutions to complex organisational challenges.\n",
        "3. Master a range of time series forecasting techniques in real-world contexts.\n",
        "4. Generate precise forecasts and extract valuable insights from temporal data, contributing to informed decision-making and enhanced operational efficiency in real-world applications.\n",
        "\n",
        "\n",
        "This will be the index page for your portfolio for Weeks 1 to 5. For each activity in these weeks, you will need to save a copy of the provided template, complete it, and update the link in this index to direct your tutors, peers, and potential employers to your own work.\n",
        "\n",
        "You will also complete reflections relating to each demonstration and activity throughout these weeks in this section of your portfolio.\n",
        "\n",
        "Here is a link to the [Orientation content](https://colab.research.google.com/drive/1bAE7vviDHiU1bQipsB5hFvF-IyCiPMdd?usp=sharing), if you need a recap on how to use Colab."
      ],
      "metadata": {
        "id": "lYMJ8-W6YqQn"
      }
    },
    {
      "cell_type": "markdown",
      "source": [
        "# Week 1: Preprocessing for natural language processing (NLP)\n",
        "\n",
        "**Throughout the week, you will learn to:**\n",
        "1. Synthesise and apply essential NLP preprocessing techniques.\n",
        "2. Implement NLP pipelines using spaCy and NLTK.\n",
        "3. Calculate cosine similarity between text documents.\n",
        "4. Create and use word embeddings like Word2Vec and Glove.\n",
        "\n"
      ],
      "metadata": {
        "id": "rAPm4UtcZXEv"
      }
    },
    {
      "cell_type": "markdown",
      "source": [
        "[**Demonstration 1.1.1** Removing HTML tags and punctuation ](https://colab.research.google.com/drive/1s2Oe0UA0zwG0Xg4RNwMPMZpSt4iSbkBv?usp=drive_link)"
      ],
      "metadata": {
        "id": "JwSFL9kNekqX"
      }
    },
    {
      "cell_type": "markdown",
      "source": [
        "[**Demonstration 1.2.1** Bag of Words ](https://colab.research.google.com/drive/139ccR08PzJcC2Uw7suQmUYm-aQfK-d8S?usp=sharing)"
      ],
      "metadata": {
        "id": "fFuxyLrsgV6o"
      }
    },
    {
      "cell_type": "markdown",
      "source": [
        "[**Demonstration 1.2.2** TF-IDF](https://colab.research.google.com/drive/139ccR08PzJcC2Uw7suQmUYm-aQfK-d8S)"
      ],
      "metadata": {
        "id": "DNKRRe59gVvY"
      }
    },
    {
      "cell_type": "markdown",
      "source": [
        "[**Demonstration 1.2.3** Preprocessing pipeline](https://colab.research.google.com/drive/1sDlbysaEtIqIONA9etvH-4FUBmRDbRab?usp=drive_link)"
      ],
      "metadata": {
        "id": "efWHLIXtNL-P"
      }
    },
    {
      "cell_type": "markdown",
      "source": [
        "[**Demonstration 1.2.3** Preprocessing with NLTK ](https://colab.research.google.com/drive/1tq_H5h4XgK5SkwyVlxaBvQ423Ae0m0ai?usp=sharing)"
      ],
      "metadata": {
        "id": "nZ0W9WQxNUGG"
      }
    },
    {
      "cell_type": "markdown",
      "source": [
        "[**Demonstration 1.3.1** Hugging Face Datasets  ](https://colab.research.google.com/drive/15UZoVw9GqQ0XgrBQaUim2S8kWD7S67-l?usp=drive_link)"
      ],
      "metadata": {
        "id": "Dm4EVe5INecc"
      }
    },
    {
      "cell_type": "markdown",
      "source": [
        "[**Demonstration 1.3.1** Performing sentiment analysis](https://colab.research.google.com/drive/1_3fQv11sSrXFhDPQxyIqJVVa29weK-cM?usp=sharing)"
      ],
      "metadata": {
        "id": "Ok4LPBSANeUP"
      }
    },
    {
      "cell_type": "markdown",
      "source": [
        "[**Demonstration 1.3.3a** Pre-trained word embeddings with Word2Vec](https://colab.research.google.com/drive/1K8ueVCZGm9W711-mnuPN8QG7YtLFqGuS?usp=sharing)"
      ],
      "metadata": {
        "id": "rZjPiQQcNeMe"
      }
    },
    {
      "cell_type": "markdown",
      "source": [
        "[**Demonstration 1.3.3b** Create your own word embeddings](https://colab.research.google.com/drive/14jKEVYJkzX8JUFhBRfyzs5rDO5MlmUFM?usp=sharing)"
      ],
      "metadata": {
        "id": "w_rTfRSqNeCw"
      }
    },
    {
      "cell_type": "markdown",
      "source": [
        "[**Activity 1.3.4** Sentiment analysis of movie reviews](https://colab.research.google.com/drive/108d-UzqyqTp-hG9Qy1FOGJppcR7uDf6F?usp=sharing#scrollTo=3evNuEt42PM0)"
      ],
      "metadata": {
        "id": "dMYsGkIANdwQ"
      }
    },
    {
      "cell_type": "markdown",
      "source": [
        "## Week 1 Reflection\n",
        "Now that you've completed Week 1, it's time to reflect on your learning.\n",
        "\n",
        "**Reflection prompts:**\n",
        "1. What was the most interesting part of this week's learning? Why?\n",
        "2. What did you find the most challenging? Why?\n",
        "3. What, so far, will be the most applicable to your current or future career? Why?\n",
        "\n",
        "> Type your reflection here:"
      ],
      "metadata": {
        "id": "gOjzVuhMZjal"
      }
    },
    {
      "cell_type": "markdown",
      "source": [
        "# Week 2: Building a basic NLP model\n",
        "\n",
        "**Throughout the week, you will learn to:**\n",
        "1. Apply various text preprocessing techniques and representation methods to preprocess and analyse textual data.\n",
        "2. Comprehend and implement different types of recurrent neural networks (RNNs)  and understand their applications in NLP.\n",
        "3. Build and fine-tune advanced NLP models for specific natural language processing tasks.\n"
      ],
      "metadata": {
        "id": "5mt7ZWO9ZjXc"
      }
    },
    {
      "cell_type": "markdown",
      "source": [
        "[**Demonstration 2.1.1** Implementation of n-grams](https://colab.research.google.com/drive/17ERQYWxWqv9zKEW3eYwlfrCoUiIJ3ZNZ?usp=drive_copy)"
      ],
      "metadata": {
        "id": "ToaHrtCtep2d"
      }
    },
    {
      "cell_type": "markdown",
      "source": [
        "[**Demonstration 2.1.2** Implementing a simple RNN](https://colab.research.google.com/drive/1Uru77KyVLokVTA_I3th5JQfaQvct765E?usp=drive_link)"
      ],
      "metadata": {
        "id": "QUATEQcnaZbs"
      }
    },
    {
      "cell_type": "markdown",
      "source": [
        "[**Demonstration 2.1.4** Implementing advanced RNNs](https://colab.research.google.com/drive/1pCOOelWZgH8P0FRDTPYkqjOULIijctnF)"
      ],
      "metadata": {
        "id": "ezr6L0KoaZY1"
      }
    },
    {
      "cell_type": "markdown",
      "source": [
        "[**Demonstration 2.2.1** Implementing bidirectional RNNs](https://colab.research.google.com/drive/1agr45_0S_sKmr1BRAHJ6xTcPnDS5h3BJ?usp=drive_link)"
      ],
      "metadata": {
        "id": "4LbO3eYcRwIK"
      }
    },
    {
      "cell_type": "markdown",
      "source": [
        "[**Demonstration 2.2.2** Implementing stacked RNNs](https://colab.research.google.com/drive/1DR_-dByfTh5nSN_xYIZZVEW1QXIHn_3V)"
      ],
      "metadata": {
        "id": "l-UH7_gsS84T"
      }
    },
    {
      "cell_type": "markdown",
      "source": [
        "[**Demonstration 2.2.3** Hyperparameter tuning Part 1](https://colab.research.google.com/drive/1eheYgfxvMR1CDakSAUTSP317jTczOU92)\n"
      ],
      "metadata": {
        "id": "rXhvBsbpTPmt"
      }
    },
    {
      "cell_type": "markdown",
      "source": [
        "[**Demonstration 2.2.3** Hyperparameter tuning Part 2](https://colab.research.google.com/drive/1y3hSOvI23b-3RNqgUg71Dv3Hu4U57FUS)"
      ],
      "metadata": {
        "id": "sFwSQIYYQIEJ"
      }
    },
    {
      "cell_type": "markdown",
      "source": [
        "[ **Demonstration 2.2.5** BLEU evaluation ](https://colab.research.google.com/drive/1OuxstFwtQlSHxjpDFyFsMB4Lt3holLhP)"
      ],
      "metadata": {
        "id": "XTuoxf8qVSh-"
      }
    },
    {
      "cell_type": "markdown",
      "source": [
        "[**Activity 2.2.6** Sentiment analysis and text classification](https://colab.research.google.com/drive/1lMIj04dx9wC-mhHJG1kRfidwzUqVjdCK?usp=sharing)"
      ],
      "metadata": {
        "id": "HuiXAKSKVmwk"
      }
    },
    {
      "cell_type": "markdown",
      "source": [
        "## Week 2 Reflection\n",
        "Now that you've completed Week 2, it's time to reflect on your learning.\n",
        "\n",
        "**Reflection prompts:**\n",
        "1. What was the most interesting part of this week's learning? Why?\n",
        "2. What did you find the most challenging? Why?\n",
        "3. What, so far, will be the most applicable to your current or future career? Why?\n",
        "\n",
        "> Type your reflection here:"
      ],
      "metadata": {
        "id": "4SjDBYe6aZ5T"
      }
    },
    {
      "cell_type": "markdown",
      "source": [
        "# Week 3: Working with transformer models\n",
        "\n",
        "**Throughout the week, you will learn to:**\n",
        "1. Synthesise key concepts of transformer architecture.\n",
        "2. Apply advanced transformer models for various NLP tasks, including text classification, text generation and topic modelling.\n",
        "3. Analyse how NLP can be applied to develop chatbots with natural language understanding and generation capabilities.\n",
        "4. Critically select relevant NLP techniques to solve real-world problems.\n"
      ],
      "metadata": {
        "id": "iCf85TyjZZzT"
      }
    },
    {
      "cell_type": "markdown",
      "source": [
        "[**Demonstration 3.1.1** Hugging Face pre-trained pipelines ](https://colab.research.google.com/drive/105PdTnMaJaanBX3hg0PvOrL3qrTHm4GO)"
      ],
      "metadata": {
        "id": "UTpARFglerei"
      }
    },
    {
      "cell_type": "markdown",
      "source": [
        "[**Demonstration 3.1.1** Hugging Face prompts](https://colab.research.google.com/drive/1hwBDEUaGjiDLsT8N3nNsGhyfHFnhgABI)"
      ],
      "metadata": {
        "id": "Po5p8jgsZZtu"
      }
    },
    {
      "cell_type": "markdown",
      "source": [
        "[**Demonstration 3.2.1** DistilBERT text classification](https://colab.research.google.com/drive/1HaHLSB2yk6DWz1AaX-o0rAs6xibspeL1#scrollTo=cbtFdN5VQsms)"
      ],
      "metadata": {
        "id": "cwqwqyPAahhz"
      }
    },
    {
      "cell_type": "markdown",
      "source": [
        "[**Demonstration 3.2.2** T5 machine translation.](https://colab.research.google.com/drive/1RLKC1NQH2LhJuv3lTAPjsXw7SW-_Am4S#scrollTo=cbtFdN5VQsms)"
      ],
      "metadata": {
        "id": "w8sC_cI-XEoD"
      }
    },
    {
      "cell_type": "markdown",
      "source": [
        "[**Demonstration 3.3.2** Summarisation fine-tuning](https://colab.research.google.com/drive/1gFAIZOlfFVYCArEqAUzUvs-CsiDcaiJ6)"
      ],
      "metadata": {
        "id": "XKWJJBKzXx7D"
      }
    },
    {
      "cell_type": "markdown",
      "source": [
        "[**Demonstration 3.3.3** LDA](https://colab.research.google.com/drive/1-YPFVUPMlFnXwF2iNtifuba4aQ2LjAZl)"
      ],
      "metadata": {
        "id": "Ar1CcizqX_m0"
      }
    },
    {
      "cell_type": "markdown",
      "source": [
        "## Week 3 Reflection\n",
        "Now that you've completed Week 3, it's time to reflect on your learning.\n",
        "\n",
        "**Reflection prompts:**\n",
        "1. What was the most interesting part of this week's learning? Why?\n",
        "2. What did you find the most challenging? Why?\n",
        "3. What, so far, will be the most applicable to your current or future career? Why?\n",
        "\n",
        "> Type your reflection here:"
      ],
      "metadata": {
        "id": "soiZFePlahqw"
      }
    },
    {
      "cell_type": "markdown",
      "source": [
        "# Weeks 4 & 5: Topic project: Applying NLP for topic modelling in a  real-life context\n",
        "\n",
        "**Throughout these weeks, you will learn to:**\n",
        "1. Critically evaluate the application of NLP in a range of organisational contexts.\n",
        "2. Leverage expertise in NLP modelling to create solutions to complex organisational challenges.\n"
      ],
      "metadata": {
        "id": "XYcPGSGxZZlS"
      }
    },
    {
      "cell_type": "markdown",
      "source": [
        "[**Topic project 4.1:** Applying NLP for topic modelling in a  real-life context](https://colab.research.google.com/drive/1rwnNnduXRghHplyunqWVcyJQW5pz3nOy#scrollTo=X8IqRn5Ly-dA)"
      ],
      "metadata": {
        "id": "IEL9_JzNZZhY"
      }
    },
    {
      "cell_type": "markdown",
      "source": [
        "## Weeks 4 & 5 Reflection\n",
        "Now that you've completed Weeks 4 and 5, it's time to reflect on your learning.\n",
        "\n",
        "**Reflection prompts:**\n",
        "1. What was the most interesting part of these weeks' learning? Why?\n",
        "2. What did you find the most challenging? Why?\n",
        "3. What, so far, will be the most applicable to your current or future career? Why?\n",
        "\n",
        "> Type your reflection here:"
      ],
      "metadata": {
        "id": "FjpEwMSbapRz"
      }
    }
  ]
}