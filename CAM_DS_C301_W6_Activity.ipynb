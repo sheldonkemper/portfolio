{
  "nbformat": 4,
  "nbformat_minor": 0,
  "metadata": {
    "colab": {
      "provenance": [],
      "collapsed_sections": [
        "LIrag9UBW4Gx",
        "qjSjrsKPXtOr"
      ],
      "include_colab_link": true
    },
    "kernelspec": {
      "name": "python3",
      "display_name": "Python 3"
    },
    "language_info": {
      "name": "python"
    }
  },
  "cells": [
    {
      "cell_type": "markdown",
      "metadata": {
        "id": "view-in-github",
        "colab_type": "text"
      },
      "source": [
        "<a href=\"https://colab.research.google.com/github/sheldonkemper/portfolio/blob/main/CAM_DS_C301_W6_Activity.ipynb\" target=\"_parent\"><img src=\"https://colab.research.google.com/assets/colab-badge.svg\" alt=\"Open In Colab\"/></a>"
      ]
    },
    {
      "cell_type": "markdown",
      "source": [
        "# Activity 6.5 Preparing for time series analysis in Python\n",
        "\n",
        "## Scenario\n",
        "The Baltimore Police Department (BPD), situated in Baltimore, USA, created a data set containing crime records from 1 January 2011 to 18 June 2016. Although the data set is considered preliminary and subject to change, it contains 264,496 rows and 11 columns (BPD, 2024).\n",
        "\n",
        "For this activity, the data set was adapted to indicate the number of daily crime incidents from 1 January 2011 to 31 December 2015. Therefore, the data set contains 2,143 rows and 2 columns. You are tasked to analyse the provided data set to determine visible crime trends. You must also provide a clear and precise rationale for your analysis and findings.\n",
        "\n",
        "\n",
        "## Objective\n",
        "In this portfolio activity, you will analyse a time series data set to gain insights into crime trends.\n",
        "\n",
        "You will complete the activity in your Notebook, where you will:\n",
        "- preprocess the data\n",
        "- visualise the data\n",
        "- calculate and compare ACF and PACF\n",
        "- transform and decompose the data\n",
        "- perform statistical analysis\n",
        "- present your insights based on statistical tests and visualisations.\n",
        "\n",
        "\n",
        "## Assessment criteria\n",
        "By completing this activity, you will be able to provide evidence that you can:\n",
        "- Synthesise autocorrelation and stationarity concepts and define their importance in time series analysis.\n",
        "- Recognise white noise, identify random walk behaviour processes in time series, and apply statistical tests for model diagnostics.\n",
        "- Accurately perform time series decomposition, including seasonality, trend, and residual components, and apply transformations to make time series stationary.\n",
        "- Critically evaluate the effectiveness of time series analysis to address real-world problems.\n",
        "\n",
        "\n",
        "\n",
        "## Activity guidance\n",
        "1. Import the relevant libraries for data analysis and visualisation.\n",
        "2. Explore and preprocess the data set.\n",
        "3. Preprocess the data, handling missing values and encoding categorical variables as needed.\n",
        "4. Handle missing values and compare results.\n",
        "5. Create a new DataFrame with weekly-grouped daily-average and visualise the data.\n",
        "6.  Calculate the ACF and PACF with 1% insignificance region around zero of monthly data. Thereafter, interpret the output.\n",
        "7. Determine if data should be transformed.\n",
        "8. Decompose the data and determine the STL residuals. Store the residuals as `stl_object.resid`.\n",
        "9. Apply Ljung-Box and ADF tests on the data.\n",
        "10. Provide a clear and precise rationale for your data analysis and interpretation."
      ],
      "metadata": {
        "id": "LIrag9UBW4Gx"
      }
    },
    {
      "cell_type": "code",
      "source": [
        "# Import data set from GitHub repository:\n",
        "# url = 'https://raw.githubusercontent.com/fourthrevlxd/cam_dsb/main/crime_incidents.csv'"
      ],
      "metadata": {
        "id": "vMJ1yDGGzVjp"
      },
      "execution_count": null,
      "outputs": []
    },
    {
      "cell_type": "markdown",
      "source": [
        "# Reflect\n",
        "\n",
        "Write a brief paragraph highlighting your process and the rationale to showcase critical thinking and problem-solving.\n",
        "\n",
        "> Select the pen from the toolbar to add your entry."
      ],
      "metadata": {
        "id": "qjSjrsKPXtOr"
      }
    },
    {
      "cell_type": "markdown",
      "source": [
        "### Reference\n",
        "BPD, 2024. Baltimore Crime Data. [online]. Available at: <https://data.world/baltimore/baltimore-crime-data>. [Accessed 5 March 2024].  "
      ],
      "metadata": {
        "id": "JAIbl5A_X7yA"
      }
    }
  ]
}